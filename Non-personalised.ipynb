{
 "cells": [
  {
   "cell_type": "markdown",
   "id": "b332ecf6",
   "metadata": {},
   "source": [
    "### Imports"
   ]
  },
  {
   "cell_type": "code",
   "execution_count": 1,
   "id": "7ba0aef2",
   "metadata": {},
   "outputs": [],
   "source": [
    "import pandas as pd\n",
    "import matplotlib.pyplot as plt\n",
    "import seaborn as sns\n",
    "import numpy as np\n",
    "from datetime import datetime\n",
    "import os\n",
    "from PIL import Image\n",
    "\n",
    "%matplotlib inline"
   ]
  },
  {
   "cell_type": "markdown",
   "id": "e19a9c85",
   "metadata": {},
   "source": [
    "### Loading Articles Dataset"
   ]
  },
  {
   "cell_type": "code",
   "execution_count": 2,
   "id": "bf7ce290",
   "metadata": {},
   "outputs": [
    {
     "data": {
      "text/html": [
       "<div>\n",
       "<style scoped>\n",
       "    .dataframe tbody tr th:only-of-type {\n",
       "        vertical-align: middle;\n",
       "    }\n",
       "\n",
       "    .dataframe tbody tr th {\n",
       "        vertical-align: top;\n",
       "    }\n",
       "\n",
       "    .dataframe thead th {\n",
       "        text-align: right;\n",
       "    }\n",
       "</style>\n",
       "<table border=\"1\" class=\"dataframe\">\n",
       "  <thead>\n",
       "    <tr style=\"text-align: right;\">\n",
       "      <th></th>\n",
       "      <th>article_id</th>\n",
       "      <th>product_code</th>\n",
       "      <th>prod_name</th>\n",
       "      <th>product_type_no</th>\n",
       "      <th>product_type_name</th>\n",
       "      <th>product_group_name</th>\n",
       "      <th>graphical_appearance_no</th>\n",
       "      <th>graphical_appearance_name</th>\n",
       "      <th>colour_group_code</th>\n",
       "      <th>colour_group_name</th>\n",
       "      <th>...</th>\n",
       "      <th>department_name</th>\n",
       "      <th>index_code</th>\n",
       "      <th>index_name</th>\n",
       "      <th>index_group_no</th>\n",
       "      <th>index_group_name</th>\n",
       "      <th>section_no</th>\n",
       "      <th>section_name</th>\n",
       "      <th>garment_group_no</th>\n",
       "      <th>garment_group_name</th>\n",
       "      <th>detail_desc</th>\n",
       "    </tr>\n",
       "  </thead>\n",
       "  <tbody>\n",
       "    <tr>\n",
       "      <th>0</th>\n",
       "      <td>108775015</td>\n",
       "      <td>108775</td>\n",
       "      <td>Strap top</td>\n",
       "      <td>253</td>\n",
       "      <td>Vest top</td>\n",
       "      <td>Garment Upper body</td>\n",
       "      <td>1010016</td>\n",
       "      <td>Solid</td>\n",
       "      <td>9</td>\n",
       "      <td>Black</td>\n",
       "      <td>...</td>\n",
       "      <td>Jersey Basic</td>\n",
       "      <td>A</td>\n",
       "      <td>Ladieswear</td>\n",
       "      <td>1</td>\n",
       "      <td>Ladieswear</td>\n",
       "      <td>16</td>\n",
       "      <td>Womens Everyday Basics</td>\n",
       "      <td>1002</td>\n",
       "      <td>Jersey Basic</td>\n",
       "      <td>Jersey top with narrow shoulder straps.</td>\n",
       "    </tr>\n",
       "    <tr>\n",
       "      <th>1</th>\n",
       "      <td>108775044</td>\n",
       "      <td>108775</td>\n",
       "      <td>Strap top</td>\n",
       "      <td>253</td>\n",
       "      <td>Vest top</td>\n",
       "      <td>Garment Upper body</td>\n",
       "      <td>1010016</td>\n",
       "      <td>Solid</td>\n",
       "      <td>10</td>\n",
       "      <td>White</td>\n",
       "      <td>...</td>\n",
       "      <td>Jersey Basic</td>\n",
       "      <td>A</td>\n",
       "      <td>Ladieswear</td>\n",
       "      <td>1</td>\n",
       "      <td>Ladieswear</td>\n",
       "      <td>16</td>\n",
       "      <td>Womens Everyday Basics</td>\n",
       "      <td>1002</td>\n",
       "      <td>Jersey Basic</td>\n",
       "      <td>Jersey top with narrow shoulder straps.</td>\n",
       "    </tr>\n",
       "    <tr>\n",
       "      <th>2</th>\n",
       "      <td>108775051</td>\n",
       "      <td>108775</td>\n",
       "      <td>Strap top (1)</td>\n",
       "      <td>253</td>\n",
       "      <td>Vest top</td>\n",
       "      <td>Garment Upper body</td>\n",
       "      <td>1010017</td>\n",
       "      <td>Stripe</td>\n",
       "      <td>11</td>\n",
       "      <td>Off White</td>\n",
       "      <td>...</td>\n",
       "      <td>Jersey Basic</td>\n",
       "      <td>A</td>\n",
       "      <td>Ladieswear</td>\n",
       "      <td>1</td>\n",
       "      <td>Ladieswear</td>\n",
       "      <td>16</td>\n",
       "      <td>Womens Everyday Basics</td>\n",
       "      <td>1002</td>\n",
       "      <td>Jersey Basic</td>\n",
       "      <td>Jersey top with narrow shoulder straps.</td>\n",
       "    </tr>\n",
       "    <tr>\n",
       "      <th>3</th>\n",
       "      <td>110065001</td>\n",
       "      <td>110065</td>\n",
       "      <td>OP T-shirt (Idro)</td>\n",
       "      <td>306</td>\n",
       "      <td>Bra</td>\n",
       "      <td>Underwear</td>\n",
       "      <td>1010016</td>\n",
       "      <td>Solid</td>\n",
       "      <td>9</td>\n",
       "      <td>Black</td>\n",
       "      <td>...</td>\n",
       "      <td>Clean Lingerie</td>\n",
       "      <td>B</td>\n",
       "      <td>Lingeries/Tights</td>\n",
       "      <td>1</td>\n",
       "      <td>Ladieswear</td>\n",
       "      <td>61</td>\n",
       "      <td>Womens Lingerie</td>\n",
       "      <td>1017</td>\n",
       "      <td>Under-, Nightwear</td>\n",
       "      <td>Microfibre T-shirt bra with underwired, moulde...</td>\n",
       "    </tr>\n",
       "    <tr>\n",
       "      <th>4</th>\n",
       "      <td>110065002</td>\n",
       "      <td>110065</td>\n",
       "      <td>OP T-shirt (Idro)</td>\n",
       "      <td>306</td>\n",
       "      <td>Bra</td>\n",
       "      <td>Underwear</td>\n",
       "      <td>1010016</td>\n",
       "      <td>Solid</td>\n",
       "      <td>10</td>\n",
       "      <td>White</td>\n",
       "      <td>...</td>\n",
       "      <td>Clean Lingerie</td>\n",
       "      <td>B</td>\n",
       "      <td>Lingeries/Tights</td>\n",
       "      <td>1</td>\n",
       "      <td>Ladieswear</td>\n",
       "      <td>61</td>\n",
       "      <td>Womens Lingerie</td>\n",
       "      <td>1017</td>\n",
       "      <td>Under-, Nightwear</td>\n",
       "      <td>Microfibre T-shirt bra with underwired, moulde...</td>\n",
       "    </tr>\n",
       "    <tr>\n",
       "      <th>...</th>\n",
       "      <td>...</td>\n",
       "      <td>...</td>\n",
       "      <td>...</td>\n",
       "      <td>...</td>\n",
       "      <td>...</td>\n",
       "      <td>...</td>\n",
       "      <td>...</td>\n",
       "      <td>...</td>\n",
       "      <td>...</td>\n",
       "      <td>...</td>\n",
       "      <td>...</td>\n",
       "      <td>...</td>\n",
       "      <td>...</td>\n",
       "      <td>...</td>\n",
       "      <td>...</td>\n",
       "      <td>...</td>\n",
       "      <td>...</td>\n",
       "      <td>...</td>\n",
       "      <td>...</td>\n",
       "      <td>...</td>\n",
       "      <td>...</td>\n",
       "    </tr>\n",
       "    <tr>\n",
       "      <th>105537</th>\n",
       "      <td>953450001</td>\n",
       "      <td>953450</td>\n",
       "      <td>5pk regular Placement1</td>\n",
       "      <td>302</td>\n",
       "      <td>Socks</td>\n",
       "      <td>Socks &amp; Tights</td>\n",
       "      <td>1010014</td>\n",
       "      <td>Placement print</td>\n",
       "      <td>9</td>\n",
       "      <td>Black</td>\n",
       "      <td>...</td>\n",
       "      <td>Socks Bin</td>\n",
       "      <td>F</td>\n",
       "      <td>Menswear</td>\n",
       "      <td>3</td>\n",
       "      <td>Menswear</td>\n",
       "      <td>26</td>\n",
       "      <td>Men Underwear</td>\n",
       "      <td>1021</td>\n",
       "      <td>Socks and Tights</td>\n",
       "      <td>Socks in a fine-knit cotton blend with a small...</td>\n",
       "    </tr>\n",
       "    <tr>\n",
       "      <th>105538</th>\n",
       "      <td>953763001</td>\n",
       "      <td>953763</td>\n",
       "      <td>SPORT Malaga tank</td>\n",
       "      <td>253</td>\n",
       "      <td>Vest top</td>\n",
       "      <td>Garment Upper body</td>\n",
       "      <td>1010016</td>\n",
       "      <td>Solid</td>\n",
       "      <td>9</td>\n",
       "      <td>Black</td>\n",
       "      <td>...</td>\n",
       "      <td>Jersey</td>\n",
       "      <td>A</td>\n",
       "      <td>Ladieswear</td>\n",
       "      <td>1</td>\n",
       "      <td>Ladieswear</td>\n",
       "      <td>2</td>\n",
       "      <td>H&amp;M+</td>\n",
       "      <td>1005</td>\n",
       "      <td>Jersey Fancy</td>\n",
       "      <td>Loose-fitting sports vest top in ribbed fast-d...</td>\n",
       "    </tr>\n",
       "    <tr>\n",
       "      <th>105539</th>\n",
       "      <td>956217002</td>\n",
       "      <td>956217</td>\n",
       "      <td>Cartwheel dress</td>\n",
       "      <td>265</td>\n",
       "      <td>Dress</td>\n",
       "      <td>Garment Full body</td>\n",
       "      <td>1010016</td>\n",
       "      <td>Solid</td>\n",
       "      <td>9</td>\n",
       "      <td>Black</td>\n",
       "      <td>...</td>\n",
       "      <td>Jersey</td>\n",
       "      <td>A</td>\n",
       "      <td>Ladieswear</td>\n",
       "      <td>1</td>\n",
       "      <td>Ladieswear</td>\n",
       "      <td>18</td>\n",
       "      <td>Womens Trend</td>\n",
       "      <td>1005</td>\n",
       "      <td>Jersey Fancy</td>\n",
       "      <td>Short, A-line dress in jersey with a round nec...</td>\n",
       "    </tr>\n",
       "    <tr>\n",
       "      <th>105540</th>\n",
       "      <td>957375001</td>\n",
       "      <td>957375</td>\n",
       "      <td>CLAIRE HAIR CLAW</td>\n",
       "      <td>72</td>\n",
       "      <td>Hair clip</td>\n",
       "      <td>Accessories</td>\n",
       "      <td>1010016</td>\n",
       "      <td>Solid</td>\n",
       "      <td>9</td>\n",
       "      <td>Black</td>\n",
       "      <td>...</td>\n",
       "      <td>Small Accessories</td>\n",
       "      <td>D</td>\n",
       "      <td>Divided</td>\n",
       "      <td>2</td>\n",
       "      <td>Divided</td>\n",
       "      <td>52</td>\n",
       "      <td>Divided Accessories</td>\n",
       "      <td>1019</td>\n",
       "      <td>Accessories</td>\n",
       "      <td>Large plastic hair claw.</td>\n",
       "    </tr>\n",
       "    <tr>\n",
       "      <th>105541</th>\n",
       "      <td>959461001</td>\n",
       "      <td>959461</td>\n",
       "      <td>Lounge dress</td>\n",
       "      <td>265</td>\n",
       "      <td>Dress</td>\n",
       "      <td>Garment Full body</td>\n",
       "      <td>1010016</td>\n",
       "      <td>Solid</td>\n",
       "      <td>11</td>\n",
       "      <td>Off White</td>\n",
       "      <td>...</td>\n",
       "      <td>Jersey</td>\n",
       "      <td>A</td>\n",
       "      <td>Ladieswear</td>\n",
       "      <td>1</td>\n",
       "      <td>Ladieswear</td>\n",
       "      <td>18</td>\n",
       "      <td>Womens Trend</td>\n",
       "      <td>1005</td>\n",
       "      <td>Jersey Fancy</td>\n",
       "      <td>Calf-length dress in ribbed jersey made from a...</td>\n",
       "    </tr>\n",
       "  </tbody>\n",
       "</table>\n",
       "<p>105542 rows × 25 columns</p>\n",
       "</div>"
      ],
      "text/plain": [
       "        article_id  product_code               prod_name  product_type_no  \\\n",
       "0        108775015        108775               Strap top              253   \n",
       "1        108775044        108775               Strap top              253   \n",
       "2        108775051        108775           Strap top (1)              253   \n",
       "3        110065001        110065       OP T-shirt (Idro)              306   \n",
       "4        110065002        110065       OP T-shirt (Idro)              306   \n",
       "...            ...           ...                     ...              ...   \n",
       "105537   953450001        953450  5pk regular Placement1              302   \n",
       "105538   953763001        953763       SPORT Malaga tank              253   \n",
       "105539   956217002        956217         Cartwheel dress              265   \n",
       "105540   957375001        957375        CLAIRE HAIR CLAW               72   \n",
       "105541   959461001        959461            Lounge dress              265   \n",
       "\n",
       "       product_type_name  product_group_name  graphical_appearance_no  \\\n",
       "0               Vest top  Garment Upper body                  1010016   \n",
       "1               Vest top  Garment Upper body                  1010016   \n",
       "2               Vest top  Garment Upper body                  1010017   \n",
       "3                    Bra           Underwear                  1010016   \n",
       "4                    Bra           Underwear                  1010016   \n",
       "...                  ...                 ...                      ...   \n",
       "105537             Socks      Socks & Tights                  1010014   \n",
       "105538          Vest top  Garment Upper body                  1010016   \n",
       "105539             Dress   Garment Full body                  1010016   \n",
       "105540         Hair clip         Accessories                  1010016   \n",
       "105541             Dress   Garment Full body                  1010016   \n",
       "\n",
       "       graphical_appearance_name  colour_group_code colour_group_name  ...  \\\n",
       "0                          Solid                  9             Black  ...   \n",
       "1                          Solid                 10             White  ...   \n",
       "2                         Stripe                 11         Off White  ...   \n",
       "3                          Solid                  9             Black  ...   \n",
       "4                          Solid                 10             White  ...   \n",
       "...                          ...                ...               ...  ...   \n",
       "105537           Placement print                  9             Black  ...   \n",
       "105538                     Solid                  9             Black  ...   \n",
       "105539                     Solid                  9             Black  ...   \n",
       "105540                     Solid                  9             Black  ...   \n",
       "105541                     Solid                 11         Off White  ...   \n",
       "\n",
       "          department_name index_code        index_name index_group_no  \\\n",
       "0            Jersey Basic          A        Ladieswear              1   \n",
       "1            Jersey Basic          A        Ladieswear              1   \n",
       "2            Jersey Basic          A        Ladieswear              1   \n",
       "3          Clean Lingerie          B  Lingeries/Tights              1   \n",
       "4          Clean Lingerie          B  Lingeries/Tights              1   \n",
       "...                   ...        ...               ...            ...   \n",
       "105537          Socks Bin          F          Menswear              3   \n",
       "105538             Jersey          A        Ladieswear              1   \n",
       "105539             Jersey          A        Ladieswear              1   \n",
       "105540  Small Accessories          D           Divided              2   \n",
       "105541             Jersey          A        Ladieswear              1   \n",
       "\n",
       "        index_group_name section_no            section_name garment_group_no  \\\n",
       "0             Ladieswear         16  Womens Everyday Basics             1002   \n",
       "1             Ladieswear         16  Womens Everyday Basics             1002   \n",
       "2             Ladieswear         16  Womens Everyday Basics             1002   \n",
       "3             Ladieswear         61         Womens Lingerie             1017   \n",
       "4             Ladieswear         61         Womens Lingerie             1017   \n",
       "...                  ...        ...                     ...              ...   \n",
       "105537          Menswear         26           Men Underwear             1021   \n",
       "105538        Ladieswear          2                    H&M+             1005   \n",
       "105539        Ladieswear         18            Womens Trend             1005   \n",
       "105540           Divided         52     Divided Accessories             1019   \n",
       "105541        Ladieswear         18            Womens Trend             1005   \n",
       "\n",
       "        garment_group_name                                        detail_desc  \n",
       "0             Jersey Basic            Jersey top with narrow shoulder straps.  \n",
       "1             Jersey Basic            Jersey top with narrow shoulder straps.  \n",
       "2             Jersey Basic            Jersey top with narrow shoulder straps.  \n",
       "3        Under-, Nightwear  Microfibre T-shirt bra with underwired, moulde...  \n",
       "4        Under-, Nightwear  Microfibre T-shirt bra with underwired, moulde...  \n",
       "...                    ...                                                ...  \n",
       "105537    Socks and Tights  Socks in a fine-knit cotton blend with a small...  \n",
       "105538        Jersey Fancy  Loose-fitting sports vest top in ribbed fast-d...  \n",
       "105539        Jersey Fancy  Short, A-line dress in jersey with a round nec...  \n",
       "105540         Accessories                           Large plastic hair claw.  \n",
       "105541        Jersey Fancy  Calf-length dress in ribbed jersey made from a...  \n",
       "\n",
       "[105542 rows x 25 columns]"
      ]
     },
     "execution_count": 2,
     "metadata": {},
     "output_type": "execute_result"
    }
   ],
   "source": [
    "articles = pd.read_csv('articles.csv')\n",
    "articles"
   ]
  },
  {
   "cell_type": "markdown",
   "id": "1b4ec70e",
   "metadata": {},
   "source": [
    "### Loading Customers Dataset"
   ]
  },
  {
   "cell_type": "code",
   "execution_count": 3,
   "id": "7e307ccf",
   "metadata": {},
   "outputs": [
    {
     "data": {
      "text/html": [
       "<div>\n",
       "<style scoped>\n",
       "    .dataframe tbody tr th:only-of-type {\n",
       "        vertical-align: middle;\n",
       "    }\n",
       "\n",
       "    .dataframe tbody tr th {\n",
       "        vertical-align: top;\n",
       "    }\n",
       "\n",
       "    .dataframe thead th {\n",
       "        text-align: right;\n",
       "    }\n",
       "</style>\n",
       "<table border=\"1\" class=\"dataframe\">\n",
       "  <thead>\n",
       "    <tr style=\"text-align: right;\">\n",
       "      <th></th>\n",
       "      <th>customer_id</th>\n",
       "      <th>FN</th>\n",
       "      <th>Active</th>\n",
       "      <th>club_member_status</th>\n",
       "      <th>fashion_news_frequency</th>\n",
       "      <th>age</th>\n",
       "      <th>postal_code</th>\n",
       "    </tr>\n",
       "  </thead>\n",
       "  <tbody>\n",
       "    <tr>\n",
       "      <th>0</th>\n",
       "      <td>00000dbacae5abe5e23885899a1fa44253a17956c6d1c3...</td>\n",
       "      <td>NaN</td>\n",
       "      <td>NaN</td>\n",
       "      <td>ACTIVE</td>\n",
       "      <td>NONE</td>\n",
       "      <td>49.0</td>\n",
       "      <td>52043ee2162cf5aa7ee79974281641c6f11a68d276429a...</td>\n",
       "    </tr>\n",
       "    <tr>\n",
       "      <th>1</th>\n",
       "      <td>0000423b00ade91418cceaf3b26c6af3dd342b51fd051e...</td>\n",
       "      <td>NaN</td>\n",
       "      <td>NaN</td>\n",
       "      <td>ACTIVE</td>\n",
       "      <td>NONE</td>\n",
       "      <td>25.0</td>\n",
       "      <td>2973abc54daa8a5f8ccfe9362140c63247c5eee03f1d93...</td>\n",
       "    </tr>\n",
       "    <tr>\n",
       "      <th>2</th>\n",
       "      <td>000058a12d5b43e67d225668fa1f8d618c13dc232df0ca...</td>\n",
       "      <td>NaN</td>\n",
       "      <td>NaN</td>\n",
       "      <td>ACTIVE</td>\n",
       "      <td>NONE</td>\n",
       "      <td>24.0</td>\n",
       "      <td>64f17e6a330a85798e4998f62d0930d14db8db1c054af6...</td>\n",
       "    </tr>\n",
       "    <tr>\n",
       "      <th>3</th>\n",
       "      <td>00005ca1c9ed5f5146b52ac8639a40ca9d57aeff4d1bd2...</td>\n",
       "      <td>NaN</td>\n",
       "      <td>NaN</td>\n",
       "      <td>ACTIVE</td>\n",
       "      <td>NONE</td>\n",
       "      <td>54.0</td>\n",
       "      <td>5d36574f52495e81f019b680c843c443bd343d5ca5b1c2...</td>\n",
       "    </tr>\n",
       "    <tr>\n",
       "      <th>4</th>\n",
       "      <td>00006413d8573cd20ed7128e53b7b13819fe5cfc2d801f...</td>\n",
       "      <td>1.0</td>\n",
       "      <td>1.0</td>\n",
       "      <td>ACTIVE</td>\n",
       "      <td>Regularly</td>\n",
       "      <td>52.0</td>\n",
       "      <td>25fa5ddee9aac01b35208d01736e57942317d756b32ddd...</td>\n",
       "    </tr>\n",
       "    <tr>\n",
       "      <th>...</th>\n",
       "      <td>...</td>\n",
       "      <td>...</td>\n",
       "      <td>...</td>\n",
       "      <td>...</td>\n",
       "      <td>...</td>\n",
       "      <td>...</td>\n",
       "      <td>...</td>\n",
       "    </tr>\n",
       "    <tr>\n",
       "      <th>1371975</th>\n",
       "      <td>ffffbbf78b6eaac697a8a5dfbfd2bfa8113ee5b403e474...</td>\n",
       "      <td>NaN</td>\n",
       "      <td>NaN</td>\n",
       "      <td>ACTIVE</td>\n",
       "      <td>NONE</td>\n",
       "      <td>24.0</td>\n",
       "      <td>7aa399f7e669990daba2d92c577b52237380662f36480b...</td>\n",
       "    </tr>\n",
       "    <tr>\n",
       "      <th>1371976</th>\n",
       "      <td>ffffcd5046a6143d29a04fb8c424ce494a76e5cdf4fab5...</td>\n",
       "      <td>NaN</td>\n",
       "      <td>NaN</td>\n",
       "      <td>ACTIVE</td>\n",
       "      <td>NONE</td>\n",
       "      <td>21.0</td>\n",
       "      <td>3f47f1279beb72215f4de557d950e0bfa73789d24acb5e...</td>\n",
       "    </tr>\n",
       "    <tr>\n",
       "      <th>1371977</th>\n",
       "      <td>ffffcf35913a0bee60e8741cb2b4e78b8a98ee5ff2e6a1...</td>\n",
       "      <td>1.0</td>\n",
       "      <td>1.0</td>\n",
       "      <td>ACTIVE</td>\n",
       "      <td>Regularly</td>\n",
       "      <td>21.0</td>\n",
       "      <td>4563fc79215672cd6a863f2b4bf56b8f898f2d96ed590e...</td>\n",
       "    </tr>\n",
       "    <tr>\n",
       "      <th>1371978</th>\n",
       "      <td>ffffd7744cebcf3aca44ae7049d2a94b87074c3d4ffe38...</td>\n",
       "      <td>1.0</td>\n",
       "      <td>1.0</td>\n",
       "      <td>ACTIVE</td>\n",
       "      <td>Regularly</td>\n",
       "      <td>18.0</td>\n",
       "      <td>8892c18e9bc3dca6aa4000cb8094fc4b51ee8db2ed14d7...</td>\n",
       "    </tr>\n",
       "    <tr>\n",
       "      <th>1371979</th>\n",
       "      <td>ffffd9ac14e89946416d80e791d064701994755c3ab686...</td>\n",
       "      <td>NaN</td>\n",
       "      <td>NaN</td>\n",
       "      <td>PRE-CREATE</td>\n",
       "      <td>NONE</td>\n",
       "      <td>65.0</td>\n",
       "      <td>0a1a03306fb2f62164c2a439b38c0caa64b40deaae8687...</td>\n",
       "    </tr>\n",
       "  </tbody>\n",
       "</table>\n",
       "<p>1371980 rows × 7 columns</p>\n",
       "</div>"
      ],
      "text/plain": [
       "                                               customer_id   FN  Active  \\\n",
       "0        00000dbacae5abe5e23885899a1fa44253a17956c6d1c3...  NaN     NaN   \n",
       "1        0000423b00ade91418cceaf3b26c6af3dd342b51fd051e...  NaN     NaN   \n",
       "2        000058a12d5b43e67d225668fa1f8d618c13dc232df0ca...  NaN     NaN   \n",
       "3        00005ca1c9ed5f5146b52ac8639a40ca9d57aeff4d1bd2...  NaN     NaN   \n",
       "4        00006413d8573cd20ed7128e53b7b13819fe5cfc2d801f...  1.0     1.0   \n",
       "...                                                    ...  ...     ...   \n",
       "1371975  ffffbbf78b6eaac697a8a5dfbfd2bfa8113ee5b403e474...  NaN     NaN   \n",
       "1371976  ffffcd5046a6143d29a04fb8c424ce494a76e5cdf4fab5...  NaN     NaN   \n",
       "1371977  ffffcf35913a0bee60e8741cb2b4e78b8a98ee5ff2e6a1...  1.0     1.0   \n",
       "1371978  ffffd7744cebcf3aca44ae7049d2a94b87074c3d4ffe38...  1.0     1.0   \n",
       "1371979  ffffd9ac14e89946416d80e791d064701994755c3ab686...  NaN     NaN   \n",
       "\n",
       "        club_member_status fashion_news_frequency   age  \\\n",
       "0                   ACTIVE                   NONE  49.0   \n",
       "1                   ACTIVE                   NONE  25.0   \n",
       "2                   ACTIVE                   NONE  24.0   \n",
       "3                   ACTIVE                   NONE  54.0   \n",
       "4                   ACTIVE              Regularly  52.0   \n",
       "...                    ...                    ...   ...   \n",
       "1371975             ACTIVE                   NONE  24.0   \n",
       "1371976             ACTIVE                   NONE  21.0   \n",
       "1371977             ACTIVE              Regularly  21.0   \n",
       "1371978             ACTIVE              Regularly  18.0   \n",
       "1371979         PRE-CREATE                   NONE  65.0   \n",
       "\n",
       "                                               postal_code  \n",
       "0        52043ee2162cf5aa7ee79974281641c6f11a68d276429a...  \n",
       "1        2973abc54daa8a5f8ccfe9362140c63247c5eee03f1d93...  \n",
       "2        64f17e6a330a85798e4998f62d0930d14db8db1c054af6...  \n",
       "3        5d36574f52495e81f019b680c843c443bd343d5ca5b1c2...  \n",
       "4        25fa5ddee9aac01b35208d01736e57942317d756b32ddd...  \n",
       "...                                                    ...  \n",
       "1371975  7aa399f7e669990daba2d92c577b52237380662f36480b...  \n",
       "1371976  3f47f1279beb72215f4de557d950e0bfa73789d24acb5e...  \n",
       "1371977  4563fc79215672cd6a863f2b4bf56b8f898f2d96ed590e...  \n",
       "1371978  8892c18e9bc3dca6aa4000cb8094fc4b51ee8db2ed14d7...  \n",
       "1371979  0a1a03306fb2f62164c2a439b38c0caa64b40deaae8687...  \n",
       "\n",
       "[1371980 rows x 7 columns]"
      ]
     },
     "execution_count": 3,
     "metadata": {},
     "output_type": "execute_result"
    }
   ],
   "source": [
    "customers = pd.read_csv('customers.csv')\n",
    "customers"
   ]
  },
  {
   "cell_type": "markdown",
   "id": "9b73fd6d",
   "metadata": {},
   "source": [
    "### Loading Transactions Dataset"
   ]
  },
  {
   "cell_type": "code",
   "execution_count": 4,
   "id": "7f938513",
   "metadata": {},
   "outputs": [
    {
     "name": "stdout",
     "output_type": "stream",
     "text": [
      "<class 'pandas.core.frame.DataFrame'>\n",
      "RangeIndex: 31788324 entries, 0 to 31788323\n",
      "Data columns (total 5 columns):\n",
      " #   Column            Dtype         \n",
      "---  ------            -----         \n",
      " 0   t_dat             datetime64[ns]\n",
      " 1   customer_id       object        \n",
      " 2   article_id        int64         \n",
      " 3   price             float64       \n",
      " 4   sales_channel_id  int64         \n",
      "dtypes: datetime64[ns](1), float64(1), int64(2), object(1)\n",
      "memory usage: 1.2+ GB\n"
     ]
    }
   ],
   "source": [
    "transactions = pd.read_csv('transactions_train.csv', parse_dates=['t_dat'])\n",
    "transactions.info()"
   ]
  },
  {
   "cell_type": "markdown",
   "id": "1d1a1c90",
   "metadata": {},
   "source": [
    "### Loading Images"
   ]
  },
  {
   "cell_type": "code",
   "execution_count": 5,
   "id": "3c59d33b",
   "metadata": {},
   "outputs": [],
   "source": [
    "total_folders = total_files = 0\n",
    "folder_info = []\n",
    "images_names = []\n",
    "for base, dirs, files in (os.walk('C:/Users/baind/Dissertation/')):\n",
    "    for directories in dirs:\n",
    "        folder_info.append((directories, len(os.listdir(os.path.join(base, directories)))))\n",
    "        total_folders += 1\n",
    "    for _files in files:\n",
    "        total_files += 1\n",
    "        if len(_files.split(\".jpg\"))==2:\n",
    "            images_names.append(_files.split(\".jpg\")[0])"
   ]
  },
  {
   "cell_type": "code",
   "execution_count": 6,
   "id": "58347102",
   "metadata": {},
   "outputs": [],
   "source": [
    "image_name_df = pd.DataFrame(images_names, columns = [\"image_name\"])\n",
    "image_name_df[\"article_id\"] = image_name_df[\"image_name\"].apply(lambda x: int(x[1:]))"
   ]
  },
  {
   "cell_type": "code",
   "execution_count": 7,
   "id": "3486e577",
   "metadata": {},
   "outputs": [
    {
     "name": "stdout",
     "output_type": "stream",
     "text": [
      "(105542, 5)\n"
     ]
    },
    {
     "data": {
      "text/html": [
       "<div>\n",
       "<style scoped>\n",
       "    .dataframe tbody tr th:only-of-type {\n",
       "        vertical-align: middle;\n",
       "    }\n",
       "\n",
       "    .dataframe tbody tr th {\n",
       "        vertical-align: top;\n",
       "    }\n",
       "\n",
       "    .dataframe thead th {\n",
       "        text-align: right;\n",
       "    }\n",
       "</style>\n",
       "<table border=\"1\" class=\"dataframe\">\n",
       "  <thead>\n",
       "    <tr style=\"text-align: right;\">\n",
       "      <th></th>\n",
       "      <th>article_id</th>\n",
       "      <th>product_code</th>\n",
       "      <th>product_group_name</th>\n",
       "      <th>product_type_name</th>\n",
       "      <th>image_name</th>\n",
       "    </tr>\n",
       "  </thead>\n",
       "  <tbody>\n",
       "    <tr>\n",
       "      <th>0</th>\n",
       "      <td>108775015</td>\n",
       "      <td>108775</td>\n",
       "      <td>Garment Upper body</td>\n",
       "      <td>Vest top</td>\n",
       "      <td>0108775015</td>\n",
       "    </tr>\n",
       "    <tr>\n",
       "      <th>1</th>\n",
       "      <td>108775044</td>\n",
       "      <td>108775</td>\n",
       "      <td>Garment Upper body</td>\n",
       "      <td>Vest top</td>\n",
       "      <td>0108775044</td>\n",
       "    </tr>\n",
       "    <tr>\n",
       "      <th>2</th>\n",
       "      <td>108775051</td>\n",
       "      <td>108775</td>\n",
       "      <td>Garment Upper body</td>\n",
       "      <td>Vest top</td>\n",
       "      <td>0108775051</td>\n",
       "    </tr>\n",
       "    <tr>\n",
       "      <th>3</th>\n",
       "      <td>110065001</td>\n",
       "      <td>110065</td>\n",
       "      <td>Underwear</td>\n",
       "      <td>Bra</td>\n",
       "      <td>0110065001</td>\n",
       "    </tr>\n",
       "    <tr>\n",
       "      <th>4</th>\n",
       "      <td>110065002</td>\n",
       "      <td>110065</td>\n",
       "      <td>Underwear</td>\n",
       "      <td>Bra</td>\n",
       "      <td>0110065002</td>\n",
       "    </tr>\n",
       "  </tbody>\n",
       "</table>\n",
       "</div>"
      ],
      "text/plain": [
       "   article_id  product_code  product_group_name product_type_name  image_name\n",
       "0   108775015        108775  Garment Upper body          Vest top  0108775015\n",
       "1   108775044        108775  Garment Upper body          Vest top  0108775044\n",
       "2   108775051        108775  Garment Upper body          Vest top  0108775051\n",
       "3   110065001        110065           Underwear               Bra  0110065001\n",
       "4   110065002        110065           Underwear               Bra  0110065002"
      ]
     },
     "execution_count": 7,
     "metadata": {},
     "output_type": "execute_result"
    }
   ],
   "source": [
    "image_article_df = articles[[\"article_id\", \"product_code\", \"product_group_name\", \n",
    "\"product_type_name\"]].merge(image_name_df, on=[\"article_id\"], how=\"left\")\n",
    "print(image_article_df.shape)\n",
    "image_article_df.head()"
   ]
  },
  {
   "cell_type": "markdown",
   "id": "ce425698",
   "metadata": {},
   "source": [
    "### Non-personalised function"
   ]
  },
  {
   "cell_type": "code",
   "execution_count": 5,
   "id": "a6bb395e",
   "metadata": {},
   "outputs": [],
   "source": [
    "from datetime import timedelta\n",
    "\n",
    "def non_personalised(k, n, data):\n",
    "    transactions = data.copy()\n",
    "    df = transactions[transactions.t_dat > transactions.t_dat.max()-timedelta(days=n)]\n",
    "    df = df.groupby('article_id')['t_dat'].count().reset_index()\n",
    "    df.columns = ['article_id', 'no_of_times_sold']\n",
    "    df = df.sort_values('no_of_times_sold', ascending = False)\n",
    "    df_topk = df[:k].reset_index(drop = True)\n",
    "    \n",
    "    return df_topk"
   ]
  },
  {
   "cell_type": "markdown",
   "id": "9db8742e",
   "metadata": {},
   "source": [
    "### Displaying Images"
   ]
  },
  {
   "cell_type": "code",
   "execution_count": 9,
   "id": "b53391cb",
   "metadata": {},
   "outputs": [],
   "source": [
    "def show_images(df_topk):\n",
    "    df_topk_img = df_topk.join(image_article_df[['article_id', 'product_type_name', 'image_name']].set_index(\n",
    "            'article_id'), on='article_id', how='left')\n",
    "\n",
    "    for i in df_topk_img['image_name']:\n",
    "        fig, ax = plt.subplots(1, 1, figsize=(20,6))\n",
    "        img = Image.open('images/'+str(i)[:3]+'/'+str(i)+'.jpg')\n",
    "        plt.axis('off')\n",
    "        plt.title(str(i)+' - '+ df_topk_img.loc[df_topk_img.image_name == i, 'product_type_name'].values[0])\n",
    "        plt.imshow(img)"
   ]
  },
  {
   "cell_type": "code",
   "execution_count": null,
   "id": "3f501414",
   "metadata": {},
   "outputs": [],
   "source": []
  },
  {
   "cell_type": "markdown",
   "id": "41ac2ea5",
   "metadata": {},
   "source": [
    "### Splitting Data into Training and Testing data"
   ]
  },
  {
   "cell_type": "code",
   "execution_count": 6,
   "id": "efd244aa",
   "metadata": {},
   "outputs": [],
   "source": [
    "from datetime import timedelta\n",
    "\n",
    "def split_train_test(n, data):\n",
    "    trans = data.copy()\n",
    "    transactions_ndays = data[data.t_dat > data.t_dat.max()-timedelta(days=n)]\n",
    "    test_data = transactions_ndays\n",
    "    trans.drop(trans.tail(len(transactions_ndays)).index, inplace = True)\n",
    "    train_data = trans\n",
    "    return train_data, test_data"
   ]
  },
  {
   "cell_type": "markdown",
   "id": "157538dd",
   "metadata": {},
   "source": [
    "#### Removing new customers from test data"
   ]
  },
  {
   "cell_type": "code",
   "execution_count": 7,
   "id": "9086798d",
   "metadata": {},
   "outputs": [],
   "source": [
    "def remove_new_customers(data1, data2):\n",
    "    cust_list1 = list(data1['customer_id'].unique())\n",
    "    cust_list2 = list(data2['customer_id'].unique())\n",
    "    for customer in cust_list1:\n",
    "        if customer not in cust_list2:\n",
    "            data1 = data1.drop(labels=data1[data1['customer_id'] == customer].index)\n",
    "    return data1"
   ]
  },
  {
   "cell_type": "markdown",
   "id": "203e0915",
   "metadata": {},
   "source": [
    "#### Downsizing the test data"
   ]
  },
  {
   "cell_type": "code",
   "execution_count": 8,
   "id": "6cebcf49",
   "metadata": {},
   "outputs": [],
   "source": [
    "import random\n",
    "\n",
    "random.seed(42)\n",
    "\n",
    "def downsize(data, n):\n",
    "    unique_cust_ids = list(data['customer_id'].unique())\n",
    "    sample_cust_ids = random.sample(unique_cust_ids, n)\n",
    "    downsized_data = data[data['customer_id'].isin(sample_cust_ids)]\n",
    "    return downsized_data"
   ]
  },
  {
   "cell_type": "code",
   "execution_count": 9,
   "id": "6668b5a6",
   "metadata": {},
   "outputs": [],
   "source": [
    "train, test = split_train_test(7, transactions)"
   ]
  },
  {
   "cell_type": "code",
   "execution_count": 13,
   "id": "7bb4dadd",
   "metadata": {},
   "outputs": [
    {
     "data": {
      "text/html": [
       "<div>\n",
       "<style scoped>\n",
       "    .dataframe tbody tr th:only-of-type {\n",
       "        vertical-align: middle;\n",
       "    }\n",
       "\n",
       "    .dataframe tbody tr th {\n",
       "        vertical-align: top;\n",
       "    }\n",
       "\n",
       "    .dataframe thead th {\n",
       "        text-align: right;\n",
       "    }\n",
       "</style>\n",
       "<table border=\"1\" class=\"dataframe\">\n",
       "  <thead>\n",
       "    <tr style=\"text-align: right;\">\n",
       "      <th></th>\n",
       "      <th>t_dat</th>\n",
       "      <th>customer_id</th>\n",
       "      <th>article_id</th>\n",
       "      <th>price</th>\n",
       "      <th>sales_channel_id</th>\n",
       "    </tr>\n",
       "  </thead>\n",
       "  <tbody>\n",
       "    <tr>\n",
       "      <th>0</th>\n",
       "      <td>2018-09-20</td>\n",
       "      <td>000058a12d5b43e67d225668fa1f8d618c13dc232df0ca...</td>\n",
       "      <td>663713001</td>\n",
       "      <td>0.050831</td>\n",
       "      <td>2</td>\n",
       "    </tr>\n",
       "    <tr>\n",
       "      <th>1</th>\n",
       "      <td>2018-09-20</td>\n",
       "      <td>000058a12d5b43e67d225668fa1f8d618c13dc232df0ca...</td>\n",
       "      <td>541518023</td>\n",
       "      <td>0.030492</td>\n",
       "      <td>2</td>\n",
       "    </tr>\n",
       "    <tr>\n",
       "      <th>2</th>\n",
       "      <td>2018-09-20</td>\n",
       "      <td>00007d2de826758b65a93dd24ce629ed66842531df6699...</td>\n",
       "      <td>505221004</td>\n",
       "      <td>0.015237</td>\n",
       "      <td>2</td>\n",
       "    </tr>\n",
       "    <tr>\n",
       "      <th>3</th>\n",
       "      <td>2018-09-20</td>\n",
       "      <td>00007d2de826758b65a93dd24ce629ed66842531df6699...</td>\n",
       "      <td>685687003</td>\n",
       "      <td>0.016932</td>\n",
       "      <td>2</td>\n",
       "    </tr>\n",
       "    <tr>\n",
       "      <th>4</th>\n",
       "      <td>2018-09-20</td>\n",
       "      <td>00007d2de826758b65a93dd24ce629ed66842531df6699...</td>\n",
       "      <td>685687004</td>\n",
       "      <td>0.016932</td>\n",
       "      <td>2</td>\n",
       "    </tr>\n",
       "    <tr>\n",
       "      <th>...</th>\n",
       "      <td>...</td>\n",
       "      <td>...</td>\n",
       "      <td>...</td>\n",
       "      <td>...</td>\n",
       "      <td>...</td>\n",
       "    </tr>\n",
       "    <tr>\n",
       "      <th>31548008</th>\n",
       "      <td>2020-09-15</td>\n",
       "      <td>ffe41634ff990908faacbb465063e027e7c39499f8dfc1...</td>\n",
       "      <td>850917001</td>\n",
       "      <td>0.025407</td>\n",
       "      <td>1</td>\n",
       "    </tr>\n",
       "    <tr>\n",
       "      <th>31548009</th>\n",
       "      <td>2020-09-15</td>\n",
       "      <td>ffef8aec5cf011fa1393b40337a5993ce0b7b81af6b322...</td>\n",
       "      <td>853316001</td>\n",
       "      <td>0.008458</td>\n",
       "      <td>1</td>\n",
       "    </tr>\n",
       "    <tr>\n",
       "      <th>31548010</th>\n",
       "      <td>2020-09-15</td>\n",
       "      <td>ffef8aec5cf011fa1393b40337a5993ce0b7b81af6b322...</td>\n",
       "      <td>296366006</td>\n",
       "      <td>0.000847</td>\n",
       "      <td>1</td>\n",
       "    </tr>\n",
       "    <tr>\n",
       "      <th>31548011</th>\n",
       "      <td>2020-09-15</td>\n",
       "      <td>ffef8aec5cf011fa1393b40337a5993ce0b7b81af6b322...</td>\n",
       "      <td>789769001</td>\n",
       "      <td>0.013542</td>\n",
       "      <td>1</td>\n",
       "    </tr>\n",
       "    <tr>\n",
       "      <th>31548012</th>\n",
       "      <td>2020-09-15</td>\n",
       "      <td>fff5bd112051feb2367276df143f79bc69126814c73e21...</td>\n",
       "      <td>728156001</td>\n",
       "      <td>0.043203</td>\n",
       "      <td>1</td>\n",
       "    </tr>\n",
       "  </tbody>\n",
       "</table>\n",
       "<p>31548013 rows × 5 columns</p>\n",
       "</div>"
      ],
      "text/plain": [
       "              t_dat                                        customer_id  \\\n",
       "0        2018-09-20  000058a12d5b43e67d225668fa1f8d618c13dc232df0ca...   \n",
       "1        2018-09-20  000058a12d5b43e67d225668fa1f8d618c13dc232df0ca...   \n",
       "2        2018-09-20  00007d2de826758b65a93dd24ce629ed66842531df6699...   \n",
       "3        2018-09-20  00007d2de826758b65a93dd24ce629ed66842531df6699...   \n",
       "4        2018-09-20  00007d2de826758b65a93dd24ce629ed66842531df6699...   \n",
       "...             ...                                                ...   \n",
       "31548008 2020-09-15  ffe41634ff990908faacbb465063e027e7c39499f8dfc1...   \n",
       "31548009 2020-09-15  ffef8aec5cf011fa1393b40337a5993ce0b7b81af6b322...   \n",
       "31548010 2020-09-15  ffef8aec5cf011fa1393b40337a5993ce0b7b81af6b322...   \n",
       "31548011 2020-09-15  ffef8aec5cf011fa1393b40337a5993ce0b7b81af6b322...   \n",
       "31548012 2020-09-15  fff5bd112051feb2367276df143f79bc69126814c73e21...   \n",
       "\n",
       "          article_id     price  sales_channel_id  \n",
       "0          663713001  0.050831                 2  \n",
       "1          541518023  0.030492                 2  \n",
       "2          505221004  0.015237                 2  \n",
       "3          685687003  0.016932                 2  \n",
       "4          685687004  0.016932                 2  \n",
       "...              ...       ...               ...  \n",
       "31548008   850917001  0.025407                 1  \n",
       "31548009   853316001  0.008458                 1  \n",
       "31548010   296366006  0.000847                 1  \n",
       "31548011   789769001  0.013542                 1  \n",
       "31548012   728156001  0.043203                 1  \n",
       "\n",
       "[31548013 rows x 5 columns]"
      ]
     },
     "execution_count": 13,
     "metadata": {},
     "output_type": "execute_result"
    }
   ],
   "source": [
    "train"
   ]
  },
  {
   "cell_type": "code",
   "execution_count": 9,
   "id": "ef447328",
   "metadata": {},
   "outputs": [
    {
     "data": {
      "text/html": [
       "<div>\n",
       "<style scoped>\n",
       "    .dataframe tbody tr th:only-of-type {\n",
       "        vertical-align: middle;\n",
       "    }\n",
       "\n",
       "    .dataframe tbody tr th {\n",
       "        vertical-align: top;\n",
       "    }\n",
       "\n",
       "    .dataframe thead th {\n",
       "        text-align: right;\n",
       "    }\n",
       "</style>\n",
       "<table border=\"1\" class=\"dataframe\">\n",
       "  <thead>\n",
       "    <tr style=\"text-align: right;\">\n",
       "      <th></th>\n",
       "      <th>t_dat</th>\n",
       "      <th>customer_id</th>\n",
       "      <th>article_id</th>\n",
       "      <th>price</th>\n",
       "      <th>sales_channel_id</th>\n",
       "    </tr>\n",
       "  </thead>\n",
       "  <tbody>\n",
       "    <tr>\n",
       "      <th>31548013</th>\n",
       "      <td>2020-09-16</td>\n",
       "      <td>000fb6e772c5d0023892065e659963da90b1866035558e...</td>\n",
       "      <td>786022008</td>\n",
       "      <td>0.048441</td>\n",
       "      <td>2</td>\n",
       "    </tr>\n",
       "    <tr>\n",
       "      <th>31548014</th>\n",
       "      <td>2020-09-16</td>\n",
       "      <td>000fb6e772c5d0023892065e659963da90b1866035558e...</td>\n",
       "      <td>913272003</td>\n",
       "      <td>0.032288</td>\n",
       "      <td>2</td>\n",
       "    </tr>\n",
       "    <tr>\n",
       "      <th>31548015</th>\n",
       "      <td>2020-09-16</td>\n",
       "      <td>000fb6e772c5d0023892065e659963da90b1866035558e...</td>\n",
       "      <td>889669006</td>\n",
       "      <td>0.056508</td>\n",
       "      <td>2</td>\n",
       "    </tr>\n",
       "    <tr>\n",
       "      <th>31548016</th>\n",
       "      <td>2020-09-16</td>\n",
       "      <td>0010e8eb18f131e724d6997909af0808adbba057529edb...</td>\n",
       "      <td>237347060</td>\n",
       "      <td>0.033881</td>\n",
       "      <td>1</td>\n",
       "    </tr>\n",
       "    <tr>\n",
       "      <th>31548017</th>\n",
       "      <td>2020-09-16</td>\n",
       "      <td>0010e8eb18f131e724d6997909af0808adbba057529edb...</td>\n",
       "      <td>562245001</td>\n",
       "      <td>0.013542</td>\n",
       "      <td>1</td>\n",
       "    </tr>\n",
       "    <tr>\n",
       "      <th>...</th>\n",
       "      <td>...</td>\n",
       "      <td>...</td>\n",
       "      <td>...</td>\n",
       "      <td>...</td>\n",
       "      <td>...</td>\n",
       "    </tr>\n",
       "    <tr>\n",
       "      <th>31788319</th>\n",
       "      <td>2020-09-22</td>\n",
       "      <td>fff2282977442e327b45d8c89afde25617d00124d0f999...</td>\n",
       "      <td>929511001</td>\n",
       "      <td>0.059305</td>\n",
       "      <td>2</td>\n",
       "    </tr>\n",
       "    <tr>\n",
       "      <th>31788320</th>\n",
       "      <td>2020-09-22</td>\n",
       "      <td>fff2282977442e327b45d8c89afde25617d00124d0f999...</td>\n",
       "      <td>891322004</td>\n",
       "      <td>0.042356</td>\n",
       "      <td>2</td>\n",
       "    </tr>\n",
       "    <tr>\n",
       "      <th>31788321</th>\n",
       "      <td>2020-09-22</td>\n",
       "      <td>fff380805474b287b05cb2a7507b9a013482f7dd0bce0e...</td>\n",
       "      <td>918325001</td>\n",
       "      <td>0.043203</td>\n",
       "      <td>1</td>\n",
       "    </tr>\n",
       "    <tr>\n",
       "      <th>31788322</th>\n",
       "      <td>2020-09-22</td>\n",
       "      <td>fff4d3a8b1f3b60af93e78c30a7cb4cf75edaf2590d3e5...</td>\n",
       "      <td>833459002</td>\n",
       "      <td>0.006763</td>\n",
       "      <td>1</td>\n",
       "    </tr>\n",
       "    <tr>\n",
       "      <th>31788323</th>\n",
       "      <td>2020-09-22</td>\n",
       "      <td>fffef3b6b73545df065b521e19f64bf6fe93bfd450ab20...</td>\n",
       "      <td>898573003</td>\n",
       "      <td>0.033881</td>\n",
       "      <td>2</td>\n",
       "    </tr>\n",
       "  </tbody>\n",
       "</table>\n",
       "<p>240311 rows × 5 columns</p>\n",
       "</div>"
      ],
      "text/plain": [
       "              t_dat                                        customer_id  \\\n",
       "31548013 2020-09-16  000fb6e772c5d0023892065e659963da90b1866035558e...   \n",
       "31548014 2020-09-16  000fb6e772c5d0023892065e659963da90b1866035558e...   \n",
       "31548015 2020-09-16  000fb6e772c5d0023892065e659963da90b1866035558e...   \n",
       "31548016 2020-09-16  0010e8eb18f131e724d6997909af0808adbba057529edb...   \n",
       "31548017 2020-09-16  0010e8eb18f131e724d6997909af0808adbba057529edb...   \n",
       "...             ...                                                ...   \n",
       "31788319 2020-09-22  fff2282977442e327b45d8c89afde25617d00124d0f999...   \n",
       "31788320 2020-09-22  fff2282977442e327b45d8c89afde25617d00124d0f999...   \n",
       "31788321 2020-09-22  fff380805474b287b05cb2a7507b9a013482f7dd0bce0e...   \n",
       "31788322 2020-09-22  fff4d3a8b1f3b60af93e78c30a7cb4cf75edaf2590d3e5...   \n",
       "31788323 2020-09-22  fffef3b6b73545df065b521e19f64bf6fe93bfd450ab20...   \n",
       "\n",
       "          article_id     price  sales_channel_id  \n",
       "31548013   786022008  0.048441                 2  \n",
       "31548014   913272003  0.032288                 2  \n",
       "31548015   889669006  0.056508                 2  \n",
       "31548016   237347060  0.033881                 1  \n",
       "31548017   562245001  0.013542                 1  \n",
       "...              ...       ...               ...  \n",
       "31788319   929511001  0.059305                 2  \n",
       "31788320   891322004  0.042356                 2  \n",
       "31788321   918325001  0.043203                 1  \n",
       "31788322   833459002  0.006763                 1  \n",
       "31788323   898573003  0.033881                 2  \n",
       "\n",
       "[240311 rows x 5 columns]"
      ]
     },
     "execution_count": 9,
     "metadata": {},
     "output_type": "execute_result"
    }
   ],
   "source": [
    "test"
   ]
  },
  {
   "cell_type": "code",
   "execution_count": 10,
   "metadata": {},
   "outputs": [],
   "source": [
    "new_test_data = downsize(test, 1000)"
   ]
  },
  {
   "cell_type": "code",
   "execution_count": 11,
   "id": "5944e8f2",
   "metadata": {},
   "outputs": [
    {
     "data": {
      "text/html": [
       "<div>\n",
       "<style scoped>\n",
       "    .dataframe tbody tr th:only-of-type {\n",
       "        vertical-align: middle;\n",
       "    }\n",
       "\n",
       "    .dataframe tbody tr th {\n",
       "        vertical-align: top;\n",
       "    }\n",
       "\n",
       "    .dataframe thead th {\n",
       "        text-align: right;\n",
       "    }\n",
       "</style>\n",
       "<table border=\"1\" class=\"dataframe\">\n",
       "  <thead>\n",
       "    <tr style=\"text-align: right;\">\n",
       "      <th></th>\n",
       "      <th>t_dat</th>\n",
       "      <th>customer_id</th>\n",
       "      <th>article_id</th>\n",
       "      <th>price</th>\n",
       "      <th>sales_channel_id</th>\n",
       "    </tr>\n",
       "  </thead>\n",
       "  <tbody>\n",
       "    <tr>\n",
       "      <th>31548155</th>\n",
       "      <td>2020-09-16</td>\n",
       "      <td>012b7cc3c5080e46dac622a12e99d23510a4d67a4037d1...</td>\n",
       "      <td>923340001</td>\n",
       "      <td>0.016932</td>\n",
       "      <td>1</td>\n",
       "    </tr>\n",
       "    <tr>\n",
       "      <th>31548156</th>\n",
       "      <td>2020-09-16</td>\n",
       "      <td>012b7cc3c5080e46dac622a12e99d23510a4d67a4037d1...</td>\n",
       "      <td>923340001</td>\n",
       "      <td>0.016932</td>\n",
       "      <td>1</td>\n",
       "    </tr>\n",
       "    <tr>\n",
       "      <th>31548218</th>\n",
       "      <td>2020-09-16</td>\n",
       "      <td>01bd99ffb52a7ede83ef062e65b3959f7317a4fd225506...</td>\n",
       "      <td>664074001</td>\n",
       "      <td>0.010153</td>\n",
       "      <td>1</td>\n",
       "    </tr>\n",
       "    <tr>\n",
       "      <th>31548450</th>\n",
       "      <td>2020-09-16</td>\n",
       "      <td>03d708693a2dec4cc72d12e568383c356a0ad201d651f7...</td>\n",
       "      <td>803757005</td>\n",
       "      <td>0.016932</td>\n",
       "      <td>2</td>\n",
       "    </tr>\n",
       "    <tr>\n",
       "      <th>31548451</th>\n",
       "      <td>2020-09-16</td>\n",
       "      <td>03d708693a2dec4cc72d12e568383c356a0ad201d651f7...</td>\n",
       "      <td>904567001</td>\n",
       "      <td>0.025407</td>\n",
       "      <td>2</td>\n",
       "    </tr>\n",
       "    <tr>\n",
       "      <th>...</th>\n",
       "      <td>...</td>\n",
       "      <td>...</td>\n",
       "      <td>...</td>\n",
       "      <td>...</td>\n",
       "      <td>...</td>\n",
       "    </tr>\n",
       "    <tr>\n",
       "      <th>31787493</th>\n",
       "      <td>2020-09-22</td>\n",
       "      <td>f8dea2bb1152f6ea01635f130f914454d5ddfa5bfda99e...</td>\n",
       "      <td>685813037</td>\n",
       "      <td>0.016932</td>\n",
       "      <td>2</td>\n",
       "    </tr>\n",
       "    <tr>\n",
       "      <th>31787494</th>\n",
       "      <td>2020-09-22</td>\n",
       "      <td>f8dea2bb1152f6ea01635f130f914454d5ddfa5bfda99e...</td>\n",
       "      <td>922625003</td>\n",
       "      <td>0.025407</td>\n",
       "      <td>2</td>\n",
       "    </tr>\n",
       "    <tr>\n",
       "      <th>31787882</th>\n",
       "      <td>2020-09-22</td>\n",
       "      <td>fc453ef5d7f22f05ff890b39b018d353b3464c42fc8167...</td>\n",
       "      <td>865929007</td>\n",
       "      <td>0.016932</td>\n",
       "      <td>2</td>\n",
       "    </tr>\n",
       "    <tr>\n",
       "      <th>31787883</th>\n",
       "      <td>2020-09-22</td>\n",
       "      <td>fc453ef5d7f22f05ff890b39b018d353b3464c42fc8167...</td>\n",
       "      <td>574109042</td>\n",
       "      <td>0.025407</td>\n",
       "      <td>2</td>\n",
       "    </tr>\n",
       "    <tr>\n",
       "      <th>31788162</th>\n",
       "      <td>2020-09-22</td>\n",
       "      <td>fe8f97e64a752766fff7d9517e70c09d0e32a8a029ea5b...</td>\n",
       "      <td>935840001</td>\n",
       "      <td>0.050831</td>\n",
       "      <td>2</td>\n",
       "    </tr>\n",
       "  </tbody>\n",
       "</table>\n",
       "<p>3586 rows × 5 columns</p>\n",
       "</div>"
      ],
      "text/plain": [
       "              t_dat                                        customer_id  \\\n",
       "31548155 2020-09-16  012b7cc3c5080e46dac622a12e99d23510a4d67a4037d1...   \n",
       "31548156 2020-09-16  012b7cc3c5080e46dac622a12e99d23510a4d67a4037d1...   \n",
       "31548218 2020-09-16  01bd99ffb52a7ede83ef062e65b3959f7317a4fd225506...   \n",
       "31548450 2020-09-16  03d708693a2dec4cc72d12e568383c356a0ad201d651f7...   \n",
       "31548451 2020-09-16  03d708693a2dec4cc72d12e568383c356a0ad201d651f7...   \n",
       "...             ...                                                ...   \n",
       "31787493 2020-09-22  f8dea2bb1152f6ea01635f130f914454d5ddfa5bfda99e...   \n",
       "31787494 2020-09-22  f8dea2bb1152f6ea01635f130f914454d5ddfa5bfda99e...   \n",
       "31787882 2020-09-22  fc453ef5d7f22f05ff890b39b018d353b3464c42fc8167...   \n",
       "31787883 2020-09-22  fc453ef5d7f22f05ff890b39b018d353b3464c42fc8167...   \n",
       "31788162 2020-09-22  fe8f97e64a752766fff7d9517e70c09d0e32a8a029ea5b...   \n",
       "\n",
       "          article_id     price  sales_channel_id  \n",
       "31548155   923340001  0.016932                 1  \n",
       "31548156   923340001  0.016932                 1  \n",
       "31548218   664074001  0.010153                 1  \n",
       "31548450   803757005  0.016932                 2  \n",
       "31548451   904567001  0.025407                 2  \n",
       "...              ...       ...               ...  \n",
       "31787493   685813037  0.016932                 2  \n",
       "31787494   922625003  0.025407                 2  \n",
       "31787882   865929007  0.016932                 2  \n",
       "31787883   574109042  0.025407                 2  \n",
       "31788162   935840001  0.050831                 2  \n",
       "\n",
       "[3586 rows x 5 columns]"
      ]
     },
     "execution_count": 11,
     "metadata": {},
     "output_type": "execute_result"
    }
   ],
   "source": [
    "new_test_data"
   ]
  },
  {
   "cell_type": "code",
   "execution_count": 12,
   "id": "2bcd849e",
   "metadata": {},
   "outputs": [
    {
     "data": {
      "text/plain": [
       "1000"
      ]
     },
     "execution_count": 12,
     "metadata": {},
     "output_type": "execute_result"
    }
   ],
   "source": [
    "len(new_test_data['customer_id'].unique())"
   ]
  },
  {
   "cell_type": "code",
   "execution_count": 13,
   "id": "baa5be01",
   "metadata": {},
   "outputs": [],
   "source": [
    "test_data_without_new_cust = remove_new_customers(test, train)"
   ]
  },
  {
   "cell_type": "code",
   "execution_count": 14,
   "id": "c3df2bc5",
   "metadata": {},
   "outputs": [
    {
     "data": {
      "text/html": [
       "<div>\n",
       "<style scoped>\n",
       "    .dataframe tbody tr th:only-of-type {\n",
       "        vertical-align: middle;\n",
       "    }\n",
       "\n",
       "    .dataframe tbody tr th {\n",
       "        vertical-align: top;\n",
       "    }\n",
       "\n",
       "    .dataframe thead th {\n",
       "        text-align: right;\n",
       "    }\n",
       "</style>\n",
       "<table border=\"1\" class=\"dataframe\">\n",
       "  <thead>\n",
       "    <tr style=\"text-align: right;\">\n",
       "      <th></th>\n",
       "      <th>t_dat</th>\n",
       "      <th>customer_id</th>\n",
       "      <th>article_id</th>\n",
       "      <th>price</th>\n",
       "      <th>sales_channel_id</th>\n",
       "    </tr>\n",
       "  </thead>\n",
       "  <tbody>\n",
       "    <tr>\n",
       "      <th>31548013</th>\n",
       "      <td>2020-09-16</td>\n",
       "      <td>000fb6e772c5d0023892065e659963da90b1866035558e...</td>\n",
       "      <td>786022008</td>\n",
       "      <td>0.048441</td>\n",
       "      <td>2</td>\n",
       "    </tr>\n",
       "    <tr>\n",
       "      <th>31548014</th>\n",
       "      <td>2020-09-16</td>\n",
       "      <td>000fb6e772c5d0023892065e659963da90b1866035558e...</td>\n",
       "      <td>913272003</td>\n",
       "      <td>0.032288</td>\n",
       "      <td>2</td>\n",
       "    </tr>\n",
       "    <tr>\n",
       "      <th>31548015</th>\n",
       "      <td>2020-09-16</td>\n",
       "      <td>000fb6e772c5d0023892065e659963da90b1866035558e...</td>\n",
       "      <td>889669006</td>\n",
       "      <td>0.056508</td>\n",
       "      <td>2</td>\n",
       "    </tr>\n",
       "    <tr>\n",
       "      <th>31548016</th>\n",
       "      <td>2020-09-16</td>\n",
       "      <td>0010e8eb18f131e724d6997909af0808adbba057529edb...</td>\n",
       "      <td>237347060</td>\n",
       "      <td>0.033881</td>\n",
       "      <td>1</td>\n",
       "    </tr>\n",
       "    <tr>\n",
       "      <th>31548017</th>\n",
       "      <td>2020-09-16</td>\n",
       "      <td>0010e8eb18f131e724d6997909af0808adbba057529edb...</td>\n",
       "      <td>562245001</td>\n",
       "      <td>0.013542</td>\n",
       "      <td>1</td>\n",
       "    </tr>\n",
       "    <tr>\n",
       "      <th>...</th>\n",
       "      <td>...</td>\n",
       "      <td>...</td>\n",
       "      <td>...</td>\n",
       "      <td>...</td>\n",
       "      <td>...</td>\n",
       "    </tr>\n",
       "    <tr>\n",
       "      <th>31788319</th>\n",
       "      <td>2020-09-22</td>\n",
       "      <td>fff2282977442e327b45d8c89afde25617d00124d0f999...</td>\n",
       "      <td>929511001</td>\n",
       "      <td>0.059305</td>\n",
       "      <td>2</td>\n",
       "    </tr>\n",
       "    <tr>\n",
       "      <th>31788320</th>\n",
       "      <td>2020-09-22</td>\n",
       "      <td>fff2282977442e327b45d8c89afde25617d00124d0f999...</td>\n",
       "      <td>891322004</td>\n",
       "      <td>0.042356</td>\n",
       "      <td>2</td>\n",
       "    </tr>\n",
       "    <tr>\n",
       "      <th>31788321</th>\n",
       "      <td>2020-09-22</td>\n",
       "      <td>fff380805474b287b05cb2a7507b9a013482f7dd0bce0e...</td>\n",
       "      <td>918325001</td>\n",
       "      <td>0.043203</td>\n",
       "      <td>1</td>\n",
       "    </tr>\n",
       "    <tr>\n",
       "      <th>31788322</th>\n",
       "      <td>2020-09-22</td>\n",
       "      <td>fff4d3a8b1f3b60af93e78c30a7cb4cf75edaf2590d3e5...</td>\n",
       "      <td>833459002</td>\n",
       "      <td>0.006763</td>\n",
       "      <td>1</td>\n",
       "    </tr>\n",
       "    <tr>\n",
       "      <th>31788323</th>\n",
       "      <td>2020-09-22</td>\n",
       "      <td>fffef3b6b73545df065b521e19f64bf6fe93bfd450ab20...</td>\n",
       "      <td>898573003</td>\n",
       "      <td>0.033881</td>\n",
       "      <td>2</td>\n",
       "    </tr>\n",
       "  </tbody>\n",
       "</table>\n",
       "<p>222168 rows × 5 columns</p>\n",
       "</div>"
      ],
      "text/plain": [
       "              t_dat                                        customer_id  \\\n",
       "31548013 2020-09-16  000fb6e772c5d0023892065e659963da90b1866035558e...   \n",
       "31548014 2020-09-16  000fb6e772c5d0023892065e659963da90b1866035558e...   \n",
       "31548015 2020-09-16  000fb6e772c5d0023892065e659963da90b1866035558e...   \n",
       "31548016 2020-09-16  0010e8eb18f131e724d6997909af0808adbba057529edb...   \n",
       "31548017 2020-09-16  0010e8eb18f131e724d6997909af0808adbba057529edb...   \n",
       "...             ...                                                ...   \n",
       "31788319 2020-09-22  fff2282977442e327b45d8c89afde25617d00124d0f999...   \n",
       "31788320 2020-09-22  fff2282977442e327b45d8c89afde25617d00124d0f999...   \n",
       "31788321 2020-09-22  fff380805474b287b05cb2a7507b9a013482f7dd0bce0e...   \n",
       "31788322 2020-09-22  fff4d3a8b1f3b60af93e78c30a7cb4cf75edaf2590d3e5...   \n",
       "31788323 2020-09-22  fffef3b6b73545df065b521e19f64bf6fe93bfd450ab20...   \n",
       "\n",
       "          article_id     price  sales_channel_id  \n",
       "31548013   786022008  0.048441                 2  \n",
       "31548014   913272003  0.032288                 2  \n",
       "31548015   889669006  0.056508                 2  \n",
       "31548016   237347060  0.033881                 1  \n",
       "31548017   562245001  0.013542                 1  \n",
       "...              ...       ...               ...  \n",
       "31788319   929511001  0.059305                 2  \n",
       "31788320   891322004  0.042356                 2  \n",
       "31788321   918325001  0.043203                 1  \n",
       "31788322   833459002  0.006763                 1  \n",
       "31788323   898573003  0.033881                 2  \n",
       "\n",
       "[222168 rows x 5 columns]"
      ]
     },
     "execution_count": 14,
     "metadata": {},
     "output_type": "execute_result"
    }
   ],
   "source": [
    "test_data_without_new_cust"
   ]
  },
  {
   "cell_type": "code",
   "execution_count": 15,
   "id": "f3b03529",
   "metadata": {},
   "outputs": [],
   "source": [
    "new_test_data_without_new_cust = downsize(test_data_without_new_cust, 1000)"
   ]
  },
  {
   "cell_type": "code",
   "execution_count": 16,
   "id": "951548a4",
   "metadata": {},
   "outputs": [
    {
     "data": {
      "text/html": [
       "<div>\n",
       "<style scoped>\n",
       "    .dataframe tbody tr th:only-of-type {\n",
       "        vertical-align: middle;\n",
       "    }\n",
       "\n",
       "    .dataframe tbody tr th {\n",
       "        vertical-align: top;\n",
       "    }\n",
       "\n",
       "    .dataframe thead th {\n",
       "        text-align: right;\n",
       "    }\n",
       "</style>\n",
       "<table border=\"1\" class=\"dataframe\">\n",
       "  <thead>\n",
       "    <tr style=\"text-align: right;\">\n",
       "      <th></th>\n",
       "      <th>t_dat</th>\n",
       "      <th>customer_id</th>\n",
       "      <th>article_id</th>\n",
       "      <th>price</th>\n",
       "      <th>sales_channel_id</th>\n",
       "    </tr>\n",
       "  </thead>\n",
       "  <tbody>\n",
       "    <tr>\n",
       "      <th>31548335</th>\n",
       "      <td>2020-09-16</td>\n",
       "      <td>02f1f3fb12a7625ab43b3ac2d33a6d5ffe41f5a884db5b...</td>\n",
       "      <td>309864016</td>\n",
       "      <td>0.013542</td>\n",
       "      <td>2</td>\n",
       "    </tr>\n",
       "    <tr>\n",
       "      <th>31548336</th>\n",
       "      <td>2020-09-16</td>\n",
       "      <td>02f1f3fb12a7625ab43b3ac2d33a6d5ffe41f5a884db5b...</td>\n",
       "      <td>309864013</td>\n",
       "      <td>0.013542</td>\n",
       "      <td>2</td>\n",
       "    </tr>\n",
       "    <tr>\n",
       "      <th>31548583</th>\n",
       "      <td>2020-09-16</td>\n",
       "      <td>056ad546370ce46645d712404fbd5b75d672099aa9e5ab...</td>\n",
       "      <td>905518001</td>\n",
       "      <td>0.015237</td>\n",
       "      <td>1</td>\n",
       "    </tr>\n",
       "    <tr>\n",
       "      <th>31548584</th>\n",
       "      <td>2020-09-16</td>\n",
       "      <td>056ad546370ce46645d712404fbd5b75d672099aa9e5ab...</td>\n",
       "      <td>905518001</td>\n",
       "      <td>0.015237</td>\n",
       "      <td>1</td>\n",
       "    </tr>\n",
       "    <tr>\n",
       "      <th>31548585</th>\n",
       "      <td>2020-09-16</td>\n",
       "      <td>056ad546370ce46645d712404fbd5b75d672099aa9e5ab...</td>\n",
       "      <td>905518001</td>\n",
       "      <td>0.015237</td>\n",
       "      <td>1</td>\n",
       "    </tr>\n",
       "    <tr>\n",
       "      <th>...</th>\n",
       "      <td>...</td>\n",
       "      <td>...</td>\n",
       "      <td>...</td>\n",
       "      <td>...</td>\n",
       "      <td>...</td>\n",
       "    </tr>\n",
       "    <tr>\n",
       "      <th>31787958</th>\n",
       "      <td>2020-09-22</td>\n",
       "      <td>fce13d13c76cef6fde2e0609c91ac11f2787ab9b0d1387...</td>\n",
       "      <td>777892001</td>\n",
       "      <td>0.033881</td>\n",
       "      <td>2</td>\n",
       "    </tr>\n",
       "    <tr>\n",
       "      <th>31787959</th>\n",
       "      <td>2020-09-22</td>\n",
       "      <td>fce13d13c76cef6fde2e0609c91ac11f2787ab9b0d1387...</td>\n",
       "      <td>673396002</td>\n",
       "      <td>0.013542</td>\n",
       "      <td>2</td>\n",
       "    </tr>\n",
       "    <tr>\n",
       "      <th>31787960</th>\n",
       "      <td>2020-09-22</td>\n",
       "      <td>fce13d13c76cef6fde2e0609c91ac11f2787ab9b0d1387...</td>\n",
       "      <td>674052015</td>\n",
       "      <td>0.033881</td>\n",
       "      <td>2</td>\n",
       "    </tr>\n",
       "    <tr>\n",
       "      <th>31787961</th>\n",
       "      <td>2020-09-22</td>\n",
       "      <td>fce13d13c76cef6fde2e0609c91ac11f2787ab9b0d1387...</td>\n",
       "      <td>674606068</td>\n",
       "      <td>0.033881</td>\n",
       "      <td>2</td>\n",
       "    </tr>\n",
       "    <tr>\n",
       "      <th>31787962</th>\n",
       "      <td>2020-09-22</td>\n",
       "      <td>fce13d13c76cef6fde2e0609c91ac11f2787ab9b0d1387...</td>\n",
       "      <td>902286001</td>\n",
       "      <td>0.018627</td>\n",
       "      <td>2</td>\n",
       "    </tr>\n",
       "  </tbody>\n",
       "</table>\n",
       "<p>3484 rows × 5 columns</p>\n",
       "</div>"
      ],
      "text/plain": [
       "              t_dat                                        customer_id  \\\n",
       "31548335 2020-09-16  02f1f3fb12a7625ab43b3ac2d33a6d5ffe41f5a884db5b...   \n",
       "31548336 2020-09-16  02f1f3fb12a7625ab43b3ac2d33a6d5ffe41f5a884db5b...   \n",
       "31548583 2020-09-16  056ad546370ce46645d712404fbd5b75d672099aa9e5ab...   \n",
       "31548584 2020-09-16  056ad546370ce46645d712404fbd5b75d672099aa9e5ab...   \n",
       "31548585 2020-09-16  056ad546370ce46645d712404fbd5b75d672099aa9e5ab...   \n",
       "...             ...                                                ...   \n",
       "31787958 2020-09-22  fce13d13c76cef6fde2e0609c91ac11f2787ab9b0d1387...   \n",
       "31787959 2020-09-22  fce13d13c76cef6fde2e0609c91ac11f2787ab9b0d1387...   \n",
       "31787960 2020-09-22  fce13d13c76cef6fde2e0609c91ac11f2787ab9b0d1387...   \n",
       "31787961 2020-09-22  fce13d13c76cef6fde2e0609c91ac11f2787ab9b0d1387...   \n",
       "31787962 2020-09-22  fce13d13c76cef6fde2e0609c91ac11f2787ab9b0d1387...   \n",
       "\n",
       "          article_id     price  sales_channel_id  \n",
       "31548335   309864016  0.013542                 2  \n",
       "31548336   309864013  0.013542                 2  \n",
       "31548583   905518001  0.015237                 1  \n",
       "31548584   905518001  0.015237                 1  \n",
       "31548585   905518001  0.015237                 1  \n",
       "...              ...       ...               ...  \n",
       "31787958   777892001  0.033881                 2  \n",
       "31787959   673396002  0.013542                 2  \n",
       "31787960   674052015  0.033881                 2  \n",
       "31787961   674606068  0.033881                 2  \n",
       "31787962   902286001  0.018627                 2  \n",
       "\n",
       "[3484 rows x 5 columns]"
      ]
     },
     "execution_count": 16,
     "metadata": {},
     "output_type": "execute_result"
    }
   ],
   "source": [
    "new_test_data_without_new_cust"
   ]
  },
  {
   "cell_type": "code",
   "execution_count": null,
   "id": "ed26bbeb",
   "metadata": {},
   "outputs": [],
   "source": []
  },
  {
   "cell_type": "markdown",
   "id": "2531fb37",
   "metadata": {},
   "source": [
    "### Converting test data into dictionary of customers and articles"
   ]
  },
  {
   "cell_type": "code",
   "execution_count": 17,
   "id": "efa0c96b",
   "metadata": {
    "scrolled": false
   },
   "outputs": [],
   "source": [
    "test_df = new_test_data.copy()\n",
    "test_df['article_id'] = test_df['article_id'].astype(str) + ' '\n",
    "test_df = pd.DataFrame(test_df.groupby('customer_id').article_id.sum())"
   ]
  },
  {
   "cell_type": "code",
   "execution_count": 18,
   "id": "949c1dcb",
   "metadata": {},
   "outputs": [],
   "source": [
    "test_df = test_df.reset_index()"
   ]
  },
  {
   "cell_type": "code",
   "execution_count": 19,
   "id": "a0784c61",
   "metadata": {},
   "outputs": [
    {
     "data": {
      "text/html": [
       "<div>\n",
       "<style scoped>\n",
       "    .dataframe tbody tr th:only-of-type {\n",
       "        vertical-align: middle;\n",
       "    }\n",
       "\n",
       "    .dataframe tbody tr th {\n",
       "        vertical-align: top;\n",
       "    }\n",
       "\n",
       "    .dataframe thead th {\n",
       "        text-align: right;\n",
       "    }\n",
       "</style>\n",
       "<table border=\"1\" class=\"dataframe\">\n",
       "  <thead>\n",
       "    <tr style=\"text-align: right;\">\n",
       "      <th></th>\n",
       "      <th>customer_id</th>\n",
       "      <th>article_id</th>\n",
       "    </tr>\n",
       "  </thead>\n",
       "  <tbody>\n",
       "    <tr>\n",
       "      <th>0</th>\n",
       "      <td>00d50aaf75f46e2975bd23a9283d098b34a087e9281255...</td>\n",
       "      <td>754362020 572998013</td>\n",
       "    </tr>\n",
       "    <tr>\n",
       "      <th>1</th>\n",
       "      <td>00e80d504a6043b8b588f118b9bf97d73daeed6d3f68b1...</td>\n",
       "      <td>785018003 821152002</td>\n",
       "    </tr>\n",
       "    <tr>\n",
       "      <th>2</th>\n",
       "      <td>00f0157f63bfd27503a760c86b610d9e3ea63e67351aa0...</td>\n",
       "      <td>456163086 715624001 456163085</td>\n",
       "    </tr>\n",
       "    <tr>\n",
       "      <th>3</th>\n",
       "      <td>00fb1d75af5bdbea71936c004adaef008c5dd8820c8353...</td>\n",
       "      <td>909371001 877961005 877961006 807244017</td>\n",
       "    </tr>\n",
       "    <tr>\n",
       "      <th>4</th>\n",
       "      <td>012b7cc3c5080e46dac622a12e99d23510a4d67a4037d1...</td>\n",
       "      <td>923340001 923340001</td>\n",
       "    </tr>\n",
       "    <tr>\n",
       "      <th>...</th>\n",
       "      <td>...</td>\n",
       "      <td>...</td>\n",
       "    </tr>\n",
       "    <tr>\n",
       "      <th>995</th>\n",
       "      <td>fe8f97e64a752766fff7d9517e70c09d0e32a8a029ea5b...</td>\n",
       "      <td>935840001</td>\n",
       "    </tr>\n",
       "    <tr>\n",
       "      <th>996</th>\n",
       "      <td>fe9399f3273bc90d2f571b6a2e7f3b0f8876736a93c550...</td>\n",
       "      <td>874826001 738713029 783346016 865917002 716670...</td>\n",
       "    </tr>\n",
       "    <tr>\n",
       "      <th>997</th>\n",
       "      <td>ffa4cff2802e80ea99a47655ae784c93560f72ca16b6ac...</td>\n",
       "      <td>873679001</td>\n",
       "    </tr>\n",
       "    <tr>\n",
       "      <th>998</th>\n",
       "      <td>ffa5a7175bc5200c22de5080edc254c81729114e200dd4...</td>\n",
       "      <td>570003001</td>\n",
       "    </tr>\n",
       "    <tr>\n",
       "      <th>999</th>\n",
       "      <td>ffbb6732a42cfff781f8d519bb0b7f1f107ad1aad6c4fa...</td>\n",
       "      <td>810170016 810170018 754792004 826492001 717773...</td>\n",
       "    </tr>\n",
       "  </tbody>\n",
       "</table>\n",
       "<p>1000 rows × 2 columns</p>\n",
       "</div>"
      ],
      "text/plain": [
       "                                           customer_id  \\\n",
       "0    00d50aaf75f46e2975bd23a9283d098b34a087e9281255...   \n",
       "1    00e80d504a6043b8b588f118b9bf97d73daeed6d3f68b1...   \n",
       "2    00f0157f63bfd27503a760c86b610d9e3ea63e67351aa0...   \n",
       "3    00fb1d75af5bdbea71936c004adaef008c5dd8820c8353...   \n",
       "4    012b7cc3c5080e46dac622a12e99d23510a4d67a4037d1...   \n",
       "..                                                 ...   \n",
       "995  fe8f97e64a752766fff7d9517e70c09d0e32a8a029ea5b...   \n",
       "996  fe9399f3273bc90d2f571b6a2e7f3b0f8876736a93c550...   \n",
       "997  ffa4cff2802e80ea99a47655ae784c93560f72ca16b6ac...   \n",
       "998  ffa5a7175bc5200c22de5080edc254c81729114e200dd4...   \n",
       "999  ffbb6732a42cfff781f8d519bb0b7f1f107ad1aad6c4fa...   \n",
       "\n",
       "                                            article_id  \n",
       "0                                 754362020 572998013   \n",
       "1                                 785018003 821152002   \n",
       "2                       456163086 715624001 456163085   \n",
       "3             909371001 877961005 877961006 807244017   \n",
       "4                                 923340001 923340001   \n",
       "..                                                 ...  \n",
       "995                                         935840001   \n",
       "996  874826001 738713029 783346016 865917002 716670...  \n",
       "997                                         873679001   \n",
       "998                                         570003001   \n",
       "999  810170016 810170018 754792004 826492001 717773...  \n",
       "\n",
       "[1000 rows x 2 columns]"
      ]
     },
     "execution_count": 19,
     "metadata": {},
     "output_type": "execute_result"
    }
   ],
   "source": [
    "test_df"
   ]
  },
  {
   "cell_type": "code",
   "execution_count": 20,
   "id": "6793e03b",
   "metadata": {},
   "outputs": [],
   "source": [
    "test_df_without_new_cust = new_test_data_without_new_cust.copy()\n",
    "test_df_without_new_cust['article_id'] = test_df_without_new_cust['article_id'].astype(str) + ' '\n",
    "test_df_without_new_cust = pd.DataFrame(test_df_without_new_cust.groupby('customer_id').article_id.sum()).reset_index()"
   ]
  },
  {
   "cell_type": "code",
   "execution_count": 21,
   "id": "abdc88f9",
   "metadata": {},
   "outputs": [
    {
     "data": {
      "text/html": [
       "<div>\n",
       "<style scoped>\n",
       "    .dataframe tbody tr th:only-of-type {\n",
       "        vertical-align: middle;\n",
       "    }\n",
       "\n",
       "    .dataframe tbody tr th {\n",
       "        vertical-align: top;\n",
       "    }\n",
       "\n",
       "    .dataframe thead th {\n",
       "        text-align: right;\n",
       "    }\n",
       "</style>\n",
       "<table border=\"1\" class=\"dataframe\">\n",
       "  <thead>\n",
       "    <tr style=\"text-align: right;\">\n",
       "      <th></th>\n",
       "      <th>customer_id</th>\n",
       "      <th>article_id</th>\n",
       "    </tr>\n",
       "  </thead>\n",
       "  <tbody>\n",
       "    <tr>\n",
       "      <th>0</th>\n",
       "      <td>0117bbca975fd76ffd2cb29c0c909254ffb7a5ad2ef77c...</td>\n",
       "      <td>881942001 573085052</td>\n",
       "    </tr>\n",
       "    <tr>\n",
       "      <th>1</th>\n",
       "      <td>011e7eae7008ea3d2360327ffc755716c146ee709c2626...</td>\n",
       "      <td>934312001 456163060 730683054 754238024 902802...</td>\n",
       "    </tr>\n",
       "    <tr>\n",
       "      <th>2</th>\n",
       "      <td>01763b89f4db88313e4a0833d654845fc39354f640ec4b...</td>\n",
       "      <td>911981001 882902001 892896001</td>\n",
       "    </tr>\n",
       "    <tr>\n",
       "      <th>3</th>\n",
       "      <td>01c832ff34c16a019eea2fde43ce7d6fd3c024c7a0a22b...</td>\n",
       "      <td>685814003</td>\n",
       "    </tr>\n",
       "    <tr>\n",
       "      <th>4</th>\n",
       "      <td>027854a88735e35c3e76a899213d3c957c5a321efd1f3e...</td>\n",
       "      <td>751471043</td>\n",
       "    </tr>\n",
       "    <tr>\n",
       "      <th>...</th>\n",
       "      <td>...</td>\n",
       "      <td>...</td>\n",
       "    </tr>\n",
       "    <tr>\n",
       "      <th>995</th>\n",
       "      <td>fdba75a5a8ba5aa98de911954a40871f1a2cef5796bc40...</td>\n",
       "      <td>907696004 853881001</td>\n",
       "    </tr>\n",
       "    <tr>\n",
       "      <th>996</th>\n",
       "      <td>fef82b675eb50f721d08aa6ee91ca153333880d0dce916...</td>\n",
       "      <td>372860001 873678003 908584001 673677004 372860...</td>\n",
       "    </tr>\n",
       "    <tr>\n",
       "      <th>997</th>\n",
       "      <td>ff05ae6e56395fe81a69192c23f054ffda5e69c1ec28b5...</td>\n",
       "      <td>837249002 719957017</td>\n",
       "    </tr>\n",
       "    <tr>\n",
       "      <th>998</th>\n",
       "      <td>ff373f594a21de2c41d12907014cea09e7fe3ccf485d1f...</td>\n",
       "      <td>664074007 849886001</td>\n",
       "    </tr>\n",
       "    <tr>\n",
       "      <th>999</th>\n",
       "      <td>ffa4cff2802e80ea99a47655ae784c93560f72ca16b6ac...</td>\n",
       "      <td>873679001</td>\n",
       "    </tr>\n",
       "  </tbody>\n",
       "</table>\n",
       "<p>1000 rows × 2 columns</p>\n",
       "</div>"
      ],
      "text/plain": [
       "                                           customer_id  \\\n",
       "0    0117bbca975fd76ffd2cb29c0c909254ffb7a5ad2ef77c...   \n",
       "1    011e7eae7008ea3d2360327ffc755716c146ee709c2626...   \n",
       "2    01763b89f4db88313e4a0833d654845fc39354f640ec4b...   \n",
       "3    01c832ff34c16a019eea2fde43ce7d6fd3c024c7a0a22b...   \n",
       "4    027854a88735e35c3e76a899213d3c957c5a321efd1f3e...   \n",
       "..                                                 ...   \n",
       "995  fdba75a5a8ba5aa98de911954a40871f1a2cef5796bc40...   \n",
       "996  fef82b675eb50f721d08aa6ee91ca153333880d0dce916...   \n",
       "997  ff05ae6e56395fe81a69192c23f054ffda5e69c1ec28b5...   \n",
       "998  ff373f594a21de2c41d12907014cea09e7fe3ccf485d1f...   \n",
       "999  ffa4cff2802e80ea99a47655ae784c93560f72ca16b6ac...   \n",
       "\n",
       "                                            article_id  \n",
       "0                                 881942001 573085052   \n",
       "1    934312001 456163060 730683054 754238024 902802...  \n",
       "2                       911981001 882902001 892896001   \n",
       "3                                           685814003   \n",
       "4                                           751471043   \n",
       "..                                                 ...  \n",
       "995                               907696004 853881001   \n",
       "996  372860001 873678003 908584001 673677004 372860...  \n",
       "997                               837249002 719957017   \n",
       "998                               664074007 849886001   \n",
       "999                                         873679001   \n",
       "\n",
       "[1000 rows x 2 columns]"
      ]
     },
     "execution_count": 21,
     "metadata": {},
     "output_type": "execute_result"
    }
   ],
   "source": [
    "test_df_without_new_cust"
   ]
  },
  {
   "cell_type": "code",
   "execution_count": null,
   "id": "4b289bc1",
   "metadata": {},
   "outputs": [],
   "source": []
  },
  {
   "cell_type": "code",
   "execution_count": null,
   "id": "875b8472",
   "metadata": {},
   "outputs": [],
   "source": []
  },
  {
   "cell_type": "markdown",
   "id": "f5be6229",
   "metadata": {},
   "source": [
    "### Creating content-based function"
   ]
  },
  {
   "cell_type": "code",
   "execution_count": 22,
   "id": "4274db94",
   "metadata": {},
   "outputs": [],
   "source": [
    "train_df = train.copy()\n",
    "train_df['article_id'] = train_df['article_id'].astype(str) + ' '\n",
    "train_df = pd.DataFrame(train_df.groupby('customer_id').article_id.sum())"
   ]
  },
  {
   "cell_type": "code",
   "execution_count": 23,
   "id": "df179171",
   "metadata": {},
   "outputs": [],
   "source": [
    "train_df = train_df.reset_index()"
   ]
  },
  {
   "cell_type": "code",
   "execution_count": 24,
   "id": "d4fec276",
   "metadata": {},
   "outputs": [],
   "source": [
    "articles_product_code_df = articles.copy()\n",
    "articles_product_code_df['article_id'] = articles_product_code_df['article_id'].astype(str) + ' '\n",
    "articles_product_code_df = pd.DataFrame(articles_product_code_df.groupby(\n",
    "    'product_code').article_id.sum()).reset_index()"
   ]
  },
  {
   "cell_type": "code",
   "execution_count": 25,
   "id": "7f0a8513",
   "metadata": {},
   "outputs": [],
   "source": [
    "articles_product_type_df = articles.copy()\n",
    "articles_product_type_df['article_id'] = articles_product_type_df['article_id'].astype(str) + ' '\n",
    "articles_product_type_df = pd.DataFrame(articles_product_type_df.groupby(\n",
    "    'product_type_no').article_id.sum()).reset_index()"
   ]
  },
  {
   "cell_type": "code",
   "execution_count": null,
   "id": "d7d63935",
   "metadata": {},
   "outputs": [],
   "source": []
  },
  {
   "cell_type": "code",
   "execution_count": 26,
   "id": "7b2511e2",
   "metadata": {},
   "outputs": [],
   "source": [
    "def content_based(n, k, data, articles_product_code_df, articles_product_type_df):\n",
    "    recommendations = {}\n",
    "    for cust in data:\n",
    "        if (cust in list(train_df['customer_id'])):\n",
    "            article_ids = train_df[train_df['customer_id']==cust]['article_id'].array[0][:-1].split(' ')\n",
    "            \n",
    "            if len(article_ids) >= n:\n",
    "                article_ids = article_ids[:n]\n",
    "            \n",
    "            no_recs_each_item = k//len(article_ids)\n",
    "            no_extra_rec = k%len(article_ids)\n",
    "            rec_articles = []\n",
    "            for a in article_ids:\n",
    "                p_code = articles[articles['article_id']==int(a)]['product_code'].array[0]\n",
    "                p_type = articles[articles['article_id']==int(a)]['product_type_no'].array[0]\n",
    "        \n",
    "                rec_article_ids = articles_product_code_df[articles_product_code_df['product_code']==p_code]['article_id'].array[0][:-1].split(' ')\n",
    "            \n",
    "                rec_article_ids.remove(str(a))\n",
    "                if(len(rec_article_ids) < no_recs_each_item):\n",
    "                    more_rec_article_ids = articles_product_type_df[articles_product_type_df['product_type_no']==p_type]['article_id'].array[0][:-1].split(' ')\n",
    "                \n",
    "                    for i in more_rec_article_ids:\n",
    "                        if i not in rec_article_ids:\n",
    "                            rec_article_ids.append(i)\n",
    "                    rec_article_ids.remove(str(a))\n",
    "                rec_list = rec_article_ids[:no_recs_each_item]\n",
    "                \n",
    "                if(no_extra_rec !=0):\n",
    "                    rec_list = rec_article_ids[no_recs_each_item:no_extra_rec]\n",
    "\n",
    "                rec_articles.extend(rec_list)\n",
    "            if(len(rec_articles) < k):\n",
    "                sub = k-len((rec_articles))\n",
    "                for i in range(sub):\n",
    "                    rec_articles.append(0)\n",
    "\n",
    "            recommendations[cust]=rec_articles\n",
    "        else:\n",
    "            recommendations[cust]=[0]*k\n",
    "    \n",
    "    return recommendations"
   ]
  },
  {
   "cell_type": "code",
   "execution_count": 99,
   "id": "c4b26518",
   "metadata": {},
   "outputs": [],
   "source": []
  },
  {
   "cell_type": "markdown",
   "id": "ba2600da",
   "metadata": {},
   "source": [
    "### User-Item Matrix"
   ]
  },
  {
   "cell_type": "code",
   "execution_count": 27,
   "id": "d0887def",
   "metadata": {},
   "outputs": [],
   "source": [
    "trans_df = transactions.copy()"
   ]
  },
  {
   "cell_type": "code",
   "execution_count": 28,
   "metadata": {},
   "outputs": [],
   "source": [
    "ALL_USERS = trans_df['customer_id'].unique().tolist()\n",
    "ALL_ITEMS = trans_df['article_id'].unique().tolist()\n",
    "user_ids = dict(list(enumerate(ALL_USERS)))\n",
    "item_ids = dict(list(enumerate(ALL_ITEMS)))\n",
    "user_map = {u: uidx for uidx, u in user_ids.items()}\n",
    "item_map = {i: iidx for iidx, i in item_ids.items()}\n",
    "trans_df['user_id'] = trans_df['customer_id'].map(user_map)\n",
    "trans_df['item_id'] = trans_df['article_id'].map(item_map)"
   ]
  },
  {
   "cell_type": "code",
   "execution_count": 29,
   "id": "36cb534d",
   "metadata": {},
   "outputs": [],
   "source": [
    "train, test = split_train_test(7, trans_df)"
   ]
  },
  {
   "cell_type": "code",
   "execution_count": 30,
   "metadata": {},
   "outputs": [],
   "source": [
    "user_item_df = train.groupby(['user_id', 'item_id'])['t_dat'].count().reset_index()\n",
    "user_item_df = user_item_df.rename(columns = {'t_dat': 'purchase_count'})"
   ]
  },
  {
   "cell_type": "code",
   "execution_count": 31,
   "id": "6a84ab8f",
   "metadata": {},
   "outputs": [],
   "source": [
    "values = user_item_df.purchase_count.values\n",
    "row = user_item_df.user_id.values\n",
    "column = user_item_df.item_id.values"
   ]
  },
  {
   "cell_type": "code",
   "execution_count": 32,
   "metadata": {},
   "outputs": [],
   "source": [
    "#importing sparse matrix module\n",
    "from scipy.sparse import csr_matrix"
   ]
  },
  {
   "cell_type": "code",
   "execution_count": 33,
   "metadata": {},
   "outputs": [],
   "source": [
    "sparse_user_item_matrix = csr_matrix((values, (row, column)), shape=(len(ALL_USERS), len(ALL_ITEMS)))"
   ]
  },
  {
   "cell_type": "markdown",
   "id": "b0a61dfe",
   "metadata": {},
   "source": [
    "### Using ALS from Implicit Library"
   ]
  },
  {
   "cell_type": "code",
   "execution_count": 34,
   "metadata": {},
   "outputs": [],
   "source": [
    "from implicit.als import AlternatingLeastSquares"
   ]
  },
  {
   "cell_type": "code",
   "execution_count": 35,
   "metadata": {},
   "outputs": [
    {
     "name": "stderr",
     "output_type": "stream",
     "text": [
      "c:\\Users\\baind\\anaconda3\\lib\\site-packages\\implicit\\utils.py:33: UserWarning: Intel MKL BLAS detected. Its highly recommend to set the environment variable 'export MKL_NUM_THREADS=1' to disable its internal multithreading\n",
      "  warnings.warn(\n",
      "100%|██████████| 10/10 [01:53<00:00, 11.37s/it]\n"
     ]
    }
   ],
   "source": [
    "model = AlternatingLeastSquares(factors=40, iterations=10, random_state=42)\n",
    "model.fit(sparse_user_item_matrix)"
   ]
  },
  {
   "cell_type": "code",
   "execution_count": null,
   "id": "21481b6d",
   "metadata": {},
   "outputs": [],
   "source": []
  },
  {
   "cell_type": "markdown",
   "id": "e5281939",
   "metadata": {},
   "source": [
    "### Defining ALS Recommendation function"
   ]
  },
  {
   "cell_type": "code",
   "execution_count": 36,
   "id": "559317d8",
   "metadata": {},
   "outputs": [],
   "source": [
    "def als_recommend(n: int, cust_id_list: list, data: pd.DataFrame, sparse_matrix: object)->list:\n",
    "    '''\n",
    "    Uses ALS to generate recommendations for customers\n",
    "    ---------------\n",
    "    parameters:\n",
    "        n: number of recommended items\n",
    "        data: list of customer_ids\n",
    "    '''\n",
    "    recommendations = []\n",
    "    for cust in cust_id_list:\n",
    "        user_id = data[data['customer_id']==cust]['user_id'].array[0]\n",
    "        item_ids = model.recommend(userid=user_id, N=n, user_items=sparse_matrix[user_id])[0]\n",
    "        article_ids = []\n",
    "        for item in item_ids:\n",
    "            article_id = data[data['item_id']==item]['article_id'].array[0]\n",
    "            article_ids.append(article_id)\n",
    "        recommendations.append(article_ids)\n",
    "    return recommendations"
   ]
  },
  {
   "cell_type": "code",
   "execution_count": null,
   "metadata": {},
   "outputs": [],
   "source": []
  },
  {
   "cell_type": "markdown",
   "id": "58a3c3e5",
   "metadata": {},
   "source": [
    "### Defining MAP"
   ]
  },
  {
   "cell_type": "code",
   "execution_count": 100,
   "id": "70d3758e",
   "metadata": {},
   "outputs": [],
   "source": [
    "def apk(actual, predicted, k=10):\n",
    "    if len(predicted) > k:\n",
    "        predicted = predicted[:k]\n",
    "    score = 0.0\n",
    "    num_hits = 0.0\n",
    "    for i,p in enumerate(predicted):\n",
    "        if p in actual and p not in predicted[:i]:\n",
    "            num_hits += 1.0\n",
    "            score += num_hits / (i+1.0)\n",
    "    if not actual:\n",
    "        return 0.0\n",
    "    return score / min(len(actual), k)\n",
    "\n",
    "\n",
    "def mapk(actual, predicted, k=10):\n",
    "    return np.mean([apk(a,p,k) for a,p in zip(actual, predicted)])"
   ]
  },
  {
   "cell_type": "markdown",
   "id": "410d4c54",
   "metadata": {},
   "source": [
    "### Defining Average Precision"
   ]
  },
  {
   "cell_type": "code",
   "execution_count": 38,
   "id": "763e4910",
   "metadata": {},
   "outputs": [],
   "source": [
    "def avg_precision(actual, predicted):\n",
    "    precision=0\n",
    "    for act,pred in zip(actual, predicted):\n",
    "        sum = 0\n",
    "        for p in pred:\n",
    "            if p in act:\n",
    "                sum+=1.0\n",
    "        precision+=(sum/len(pred))\n",
    "        \n",
    "    return precision/len(actual)"
   ]
  },
  {
   "cell_type": "markdown",
   "id": "3aafbe1c",
   "metadata": {},
   "source": [
    "### Defining Average Recall"
   ]
  },
  {
   "cell_type": "code",
   "execution_count": 39,
   "id": "1c943fea",
   "metadata": {},
   "outputs": [],
   "source": [
    "def avg_recall(actual, predicted):\n",
    "    recall=0\n",
    "    for act,pred in zip(actual, predicted):\n",
    "        sum = 0\n",
    "        for p in pred:\n",
    "            if p in act:\n",
    "                sum+=1.0\n",
    "        recall+=(sum/len(act))\n",
    "        \n",
    "    return recall/len(actual)"
   ]
  },
  {
   "cell_type": "code",
   "execution_count": null,
   "id": "e3b2f6af",
   "metadata": {},
   "outputs": [],
   "source": []
  },
  {
   "cell_type": "code",
   "execution_count": null,
   "id": "8f6dca74",
   "metadata": {},
   "outputs": [],
   "source": []
  },
  {
   "cell_type": "markdown",
   "id": "b95c2fec",
   "metadata": {},
   "source": [
    "#### Evaluating Non-Personalised Recommendations"
   ]
  },
  {
   "cell_type": "markdown",
   "id": "37a33197",
   "metadata": {},
   "source": [
    "##### With new Customers"
   ]
  },
  {
   "cell_type": "markdown",
   "id": "9b5a76cf",
   "metadata": {},
   "source": [
    "k=20"
   ]
  },
  {
   "cell_type": "code",
   "execution_count": 73,
   "id": "edfedfab",
   "metadata": {},
   "outputs": [
    {
     "data": {
      "text/html": [
       "<div>\n",
       "<style scoped>\n",
       "    .dataframe tbody tr th:only-of-type {\n",
       "        vertical-align: middle;\n",
       "    }\n",
       "\n",
       "    .dataframe tbody tr th {\n",
       "        vertical-align: top;\n",
       "    }\n",
       "\n",
       "    .dataframe thead th {\n",
       "        text-align: right;\n",
       "    }\n",
       "</style>\n",
       "<table border=\"1\" class=\"dataframe\">\n",
       "  <thead>\n",
       "    <tr style=\"text-align: right;\">\n",
       "      <th></th>\n",
       "      <th>article_id</th>\n",
       "      <th>no_of_times_sold</th>\n",
       "    </tr>\n",
       "  </thead>\n",
       "  <tbody>\n",
       "    <tr>\n",
       "      <th>0</th>\n",
       "      <td>909370001</td>\n",
       "      <td>1283</td>\n",
       "    </tr>\n",
       "    <tr>\n",
       "      <th>1</th>\n",
       "      <td>865799006</td>\n",
       "      <td>768</td>\n",
       "    </tr>\n",
       "    <tr>\n",
       "      <th>2</th>\n",
       "      <td>918522001</td>\n",
       "      <td>729</td>\n",
       "    </tr>\n",
       "    <tr>\n",
       "      <th>3</th>\n",
       "      <td>924243001</td>\n",
       "      <td>704</td>\n",
       "    </tr>\n",
       "    <tr>\n",
       "      <th>4</th>\n",
       "      <td>448509014</td>\n",
       "      <td>609</td>\n",
       "    </tr>\n",
       "    <tr>\n",
       "      <th>5</th>\n",
       "      <td>751471001</td>\n",
       "      <td>607</td>\n",
       "    </tr>\n",
       "    <tr>\n",
       "      <th>6</th>\n",
       "      <td>809238001</td>\n",
       "      <td>563</td>\n",
       "    </tr>\n",
       "    <tr>\n",
       "      <th>7</th>\n",
       "      <td>918292001</td>\n",
       "      <td>546</td>\n",
       "    </tr>\n",
       "    <tr>\n",
       "      <th>8</th>\n",
       "      <td>762846027</td>\n",
       "      <td>539</td>\n",
       "    </tr>\n",
       "    <tr>\n",
       "      <th>9</th>\n",
       "      <td>809238005</td>\n",
       "      <td>503</td>\n",
       "    </tr>\n",
       "    <tr>\n",
       "      <th>10</th>\n",
       "      <td>673677002</td>\n",
       "      <td>463</td>\n",
       "    </tr>\n",
       "    <tr>\n",
       "      <th>11</th>\n",
       "      <td>923758001</td>\n",
       "      <td>457</td>\n",
       "    </tr>\n",
       "    <tr>\n",
       "      <th>12</th>\n",
       "      <td>706016001</td>\n",
       "      <td>453</td>\n",
       "    </tr>\n",
       "    <tr>\n",
       "      <th>13</th>\n",
       "      <td>915529003</td>\n",
       "      <td>450</td>\n",
       "    </tr>\n",
       "    <tr>\n",
       "      <th>14</th>\n",
       "      <td>863646001</td>\n",
       "      <td>446</td>\n",
       "    </tr>\n",
       "    <tr>\n",
       "      <th>15</th>\n",
       "      <td>805947001</td>\n",
       "      <td>445</td>\n",
       "    </tr>\n",
       "    <tr>\n",
       "      <th>16</th>\n",
       "      <td>915526001</td>\n",
       "      <td>443</td>\n",
       "    </tr>\n",
       "    <tr>\n",
       "      <th>17</th>\n",
       "      <td>751471043</td>\n",
       "      <td>435</td>\n",
       "    </tr>\n",
       "    <tr>\n",
       "      <th>18</th>\n",
       "      <td>850917001</td>\n",
       "      <td>434</td>\n",
       "    </tr>\n",
       "    <tr>\n",
       "      <th>19</th>\n",
       "      <td>929165002</td>\n",
       "      <td>433</td>\n",
       "    </tr>\n",
       "  </tbody>\n",
       "</table>\n",
       "</div>"
      ],
      "text/plain": [
       "    article_id  no_of_times_sold\n",
       "0    909370001              1283\n",
       "1    865799006               768\n",
       "2    918522001               729\n",
       "3    924243001               704\n",
       "4    448509014               609\n",
       "5    751471001               607\n",
       "6    809238001               563\n",
       "7    918292001               546\n",
       "8    762846027               539\n",
       "9    809238005               503\n",
       "10   673677002               463\n",
       "11   923758001               457\n",
       "12   706016001               453\n",
       "13   915529003               450\n",
       "14   863646001               446\n",
       "15   805947001               445\n",
       "16   915526001               443\n",
       "17   751471043               435\n",
       "18   850917001               434\n",
       "19   929165002               433"
      ]
     },
     "execution_count": 73,
     "metadata": {},
     "output_type": "execute_result"
    }
   ],
   "source": [
    "k=20\n",
    "df_topk = non_personalised(k, 7, train)\n",
    "df_topk"
   ]
  },
  {
   "cell_type": "code",
   "execution_count": 74,
   "id": "3e83cd0d",
   "metadata": {},
   "outputs": [],
   "source": [
    "np_recs = df_topk['article_id'].values\n",
    "recs = list(np_recs)\n",
    "p_list = []\n",
    "for i in range(len(test)):\n",
    "    p_list.append(recs)"
   ]
  },
  {
   "cell_type": "code",
   "execution_count": 75,
   "id": "3b08bf5c",
   "metadata": {
    "scrolled": false
   },
   "outputs": [],
   "source": [
    "articles_list = test_df['article_id'].to_list()\n",
    "a_list = []\n",
    "for a in articles_list:\n",
    "    arr=a[:-1].split(' ')\n",
    "    arr=[int(value) for value in arr]\n",
    "    a_list.append(arr)"
   ]
  },
  {
   "cell_type": "code",
   "execution_count": 76,
   "id": "7ed746e9",
   "metadata": {},
   "outputs": [
    {
     "data": {
      "text/plain": [
       "0.006613078996284719"
      ]
     },
     "execution_count": 76,
     "metadata": {},
     "output_type": "execute_result"
    }
   ],
   "source": [
    "map_np = mapk(a_list, p_list, 50)\n",
    "map_np"
   ]
  },
  {
   "cell_type": "code",
   "execution_count": 77,
   "id": "9a12b183",
   "metadata": {
    "scrolled": true
   },
   "outputs": [
    {
     "data": {
      "text/plain": [
       "0.004899999999999993"
      ]
     },
     "execution_count": 77,
     "metadata": {},
     "output_type": "execute_result"
    }
   ],
   "source": [
    "p_score = avg_precision(a_list, p_list)\n",
    "p_score"
   ]
  },
  {
   "cell_type": "code",
   "execution_count": 78,
   "id": "16f92e7a",
   "metadata": {},
   "outputs": [
    {
     "data": {
      "text/plain": [
       "0.03019733501792324"
      ]
     },
     "execution_count": 78,
     "metadata": {},
     "output_type": "execute_result"
    }
   ],
   "source": [
    "r_score = avg_recall(a_list, p_list)\n",
    "r_score"
   ]
  },
  {
   "cell_type": "markdown",
   "id": "e29513b8",
   "metadata": {},
   "source": [
    "k=10"
   ]
  },
  {
   "cell_type": "code",
   "execution_count": 62,
   "id": "31bcf1f8",
   "metadata": {},
   "outputs": [],
   "source": [
    "k=10\n",
    "df_topk = non_personalised(k, 7, train)"
   ]
  },
  {
   "cell_type": "code",
   "execution_count": 63,
   "id": "0930aed8",
   "metadata": {},
   "outputs": [],
   "source": [
    "np_recs = df_topk['article_id'].values\n",
    "recs = list(np_recs)\n",
    "p_list = []\n",
    "for i in range(len(test)):\n",
    "    p_list.append(recs)"
   ]
  },
  {
   "cell_type": "code",
   "execution_count": 64,
   "id": "5b08e1c8",
   "metadata": {},
   "outputs": [],
   "source": [
    "articles_list = test_df['article_id'].to_list()\n",
    "a_list = []\n",
    "for a in articles_list:\n",
    "    arr=a[:-1].split(' ')\n",
    "    arr=[int(value) for value in arr]\n",
    "    a_list.append(arr)"
   ]
  },
  {
   "cell_type": "code",
   "execution_count": 68,
   "id": "6383d8c3",
   "metadata": {},
   "outputs": [
    {
     "data": {
      "text/plain": [
       "0.010797738095238095"
      ]
     },
     "execution_count": 68,
     "metadata": {},
     "output_type": "execute_result"
    }
   ],
   "source": [
    "map_np = mapk(a_list, p_list, k)\n",
    "map_np"
   ]
  },
  {
   "cell_type": "code",
   "execution_count": 69,
   "id": "b2138b7b",
   "metadata": {},
   "outputs": [
    {
     "data": {
      "text/plain": [
       "0.006999999999999992"
      ]
     },
     "execution_count": 69,
     "metadata": {},
     "output_type": "execute_result"
    }
   ],
   "source": [
    "p_score = avg_precision(a_list, p_list)\n",
    "p_score"
   ]
  },
  {
   "cell_type": "code",
   "execution_count": 70,
   "id": "8feef6cb",
   "metadata": {},
   "outputs": [
    {
     "data": {
      "text/plain": [
       "0.02552289377289377"
      ]
     },
     "execution_count": 70,
     "metadata": {},
     "output_type": "execute_result"
    }
   ],
   "source": [
    "r_score = avg_recall(a_list, p_list)\n",
    "r_score"
   ]
  },
  {
   "cell_type": "code",
   "execution_count": null,
   "id": "0b4d18a4",
   "metadata": {},
   "outputs": [],
   "source": []
  },
  {
   "cell_type": "markdown",
   "id": "12f60d00",
   "metadata": {},
   "source": [
    "k=50"
   ]
  },
  {
   "cell_type": "code",
   "execution_count": 60,
   "id": "1c44ad32",
   "metadata": {},
   "outputs": [],
   "source": [
    "k=50\n",
    "df_topk = non_personalised(k, 7, train)"
   ]
  },
  {
   "cell_type": "code",
   "execution_count": 61,
   "id": "81cced26",
   "metadata": {},
   "outputs": [],
   "source": [
    "np_recs = df_topk['article_id'].values\n",
    "recs = list(np_recs)\n",
    "p_list = []\n",
    "for i in range(len(test)):\n",
    "    p_list.append(recs)"
   ]
  },
  {
   "cell_type": "code",
   "execution_count": 62,
   "id": "fbda667d",
   "metadata": {},
   "outputs": [],
   "source": [
    "articles_list = test_df['article_id'].to_list()\n",
    "a_list = []\n",
    "for a in articles_list:\n",
    "    arr=a[:-1].split(' ')\n",
    "    arr=[int(value) for value in arr]\n",
    "    a_list.append(arr)"
   ]
  },
  {
   "cell_type": "code",
   "execution_count": 63,
   "id": "8b1f1d57",
   "metadata": {},
   "outputs": [
    {
     "data": {
      "text/plain": [
       "0.01047914342319352"
      ]
     },
     "execution_count": 63,
     "metadata": {},
     "output_type": "execute_result"
    }
   ],
   "source": [
    "map_np = mapk(a_list, p_list, k)\n",
    "map_np"
   ]
  },
  {
   "cell_type": "code",
   "execution_count": 64,
   "id": "75fa3362",
   "metadata": {},
   "outputs": [
    {
     "data": {
      "text/plain": [
       "0.004259999999999999"
      ]
     },
     "execution_count": 64,
     "metadata": {},
     "output_type": "execute_result"
    }
   ],
   "source": [
    "p_score = avg_precision(a_list, p_list)\n",
    "p_score"
   ]
  },
  {
   "cell_type": "code",
   "execution_count": 65,
   "id": "db200ecd",
   "metadata": {},
   "outputs": [
    {
     "data": {
      "text/plain": [
       "0.07079763023526185"
      ]
     },
     "execution_count": 65,
     "metadata": {},
     "output_type": "execute_result"
    }
   ],
   "source": [
    "r_score = avg_recall(a_list, p_list)\n",
    "r_score"
   ]
  },
  {
   "cell_type": "code",
   "execution_count": null,
   "id": "becbe4ed",
   "metadata": {},
   "outputs": [],
   "source": []
  },
  {
   "cell_type": "markdown",
   "id": "117cc065",
   "metadata": {},
   "source": [
    "k=100"
   ]
  },
  {
   "cell_type": "code",
   "execution_count": 66,
   "id": "9451d5e5",
   "metadata": {},
   "outputs": [],
   "source": [
    "k=100\n",
    "df_topk = non_personalised(k, 7, train)"
   ]
  },
  {
   "cell_type": "code",
   "execution_count": 67,
   "id": "7c357e16",
   "metadata": {},
   "outputs": [],
   "source": [
    "np_recs = df_topk['article_id'].values\n",
    "recs = list(np_recs)\n",
    "p_list = []\n",
    "for i in range(len(test)):\n",
    "    p_list.append(recs)"
   ]
  },
  {
   "cell_type": "code",
   "execution_count": 68,
   "id": "fcf72ef3",
   "metadata": {},
   "outputs": [],
   "source": [
    "articles_list = test_df['article_id'].to_list()\n",
    "a_list = []\n",
    "for a in articles_list:\n",
    "    arr=a[:-1].split(' ')\n",
    "    arr=[int(value) for value in arr]\n",
    "    a_list.append(arr)"
   ]
  },
  {
   "cell_type": "code",
   "execution_count": 69,
   "id": "4d5327f5",
   "metadata": {},
   "outputs": [
    {
     "data": {
      "text/plain": [
       "0.011137694766803662"
      ]
     },
     "execution_count": 69,
     "metadata": {},
     "output_type": "execute_result"
    }
   ],
   "source": [
    "map_np = mapk(a_list, p_list, k)\n",
    "map_np"
   ]
  },
  {
   "cell_type": "code",
   "execution_count": 70,
   "id": "7af47f39",
   "metadata": {},
   "outputs": [
    {
     "data": {
      "text/plain": [
       "0.003389999999999983"
      ]
     },
     "execution_count": 70,
     "metadata": {},
     "output_type": "execute_result"
    }
   ],
   "source": [
    "p_score = avg_precision(a_list, p_list)\n",
    "p_score"
   ]
  },
  {
   "cell_type": "code",
   "execution_count": 71,
   "id": "c6908281",
   "metadata": {},
   "outputs": [
    {
     "data": {
      "text/plain": [
       "0.10785076652707457"
      ]
     },
     "execution_count": 71,
     "metadata": {},
     "output_type": "execute_result"
    }
   ],
   "source": [
    "r_score = avg_recall(a_list, p_list)\n",
    "r_score"
   ]
  },
  {
   "cell_type": "code",
   "execution_count": null,
   "id": "79b15803",
   "metadata": {},
   "outputs": [],
   "source": []
  },
  {
   "cell_type": "markdown",
   "id": "93c7fb91",
   "metadata": {},
   "source": [
    "#### Without new customers"
   ]
  },
  {
   "cell_type": "markdown",
   "id": "54c82da1",
   "metadata": {},
   "source": [
    "k=20"
   ]
  },
  {
   "cell_type": "code",
   "execution_count": null,
   "id": "d711a478",
   "metadata": {},
   "outputs": [],
   "source": [
    "k=20\n",
    "df_topk = non_personalised(k, 7, train)\n",
    "df_topk"
   ]
  },
  {
   "cell_type": "code",
   "execution_count": null,
   "id": "489d9498",
   "metadata": {},
   "outputs": [],
   "source": [
    "np_recs = df_topk['article_id'].values\n",
    "recs = list(np_recs)\n",
    "p_list = []\n",
    "for i in range(len(test)):\n",
    "    p_list.append(recs)"
   ]
  },
  {
   "cell_type": "code",
   "execution_count": 111,
   "id": "d98b315b",
   "metadata": {},
   "outputs": [],
   "source": [
    "articles_list = test_df_without_new_cust['article_id'].to_list()\n",
    "a_list = []\n",
    "for a in articles_list:\n",
    "    arr=a[:-1].split(' ')\n",
    "    arr=[int(value) for value in arr]\n",
    "    a_list.append(arr)"
   ]
  },
  {
   "cell_type": "code",
   "execution_count": 112,
   "id": "0da2e3ef",
   "metadata": {},
   "outputs": [
    {
     "data": {
      "text/plain": [
       "0.007886433296327048"
      ]
     },
     "execution_count": 112,
     "metadata": {},
     "output_type": "execute_result"
    }
   ],
   "source": [
    "map_np = mapk(a_list, p_list, k)\n",
    "map_np"
   ]
  },
  {
   "cell_type": "code",
   "execution_count": null,
   "id": "b03dec1d",
   "metadata": {},
   "outputs": [],
   "source": []
  },
  {
   "cell_type": "code",
   "execution_count": 113,
   "metadata": {},
   "outputs": [
    {
     "data": {
      "text/plain": [
       "0.005699999999999991"
      ]
     },
     "execution_count": 113,
     "metadata": {},
     "output_type": "execute_result"
    }
   ],
   "source": [
    "p_score = avg_precision(a_list, p_list)\n",
    "p_score"
   ]
  },
  {
   "cell_type": "code",
   "execution_count": 114,
   "id": "8cde5e42",
   "metadata": {},
   "outputs": [
    {
     "data": {
      "text/plain": [
       "0.03434878454878454"
      ]
     },
     "execution_count": 114,
     "metadata": {},
     "output_type": "execute_result"
    }
   ],
   "source": [
    "r_score = avg_recall(a_list, p_list)\n",
    "r_score"
   ]
  },
  {
   "cell_type": "markdown",
   "id": "7f076d06",
   "metadata": {},
   "source": [
    "k = 10"
   ]
  },
  {
   "cell_type": "code",
   "execution_count": null,
   "id": "57577ec2",
   "metadata": {},
   "outputs": [],
   "source": [
    "k=10\n",
    "df_topk = non_personalised(k, 7, train)\n",
    "df_topk"
   ]
  },
  {
   "cell_type": "code",
   "execution_count": null,
   "id": "e442203f",
   "metadata": {},
   "outputs": [],
   "source": [
    "np_recs = df_topk['article_id'].values\n",
    "recs = list(np_recs)\n",
    "p_list = []\n",
    "for i in range(len(test)):\n",
    "    p_list.append(recs)"
   ]
  },
  {
   "cell_type": "code",
   "execution_count": 71,
   "id": "5a7d7eda",
   "metadata": {},
   "outputs": [],
   "source": [
    "articles_list = test_df_without_new_cust['article_id'].to_list()\n",
    "a_list = []\n",
    "for a in articles_list:\n",
    "    arr=a[:-1].split(' ')\n",
    "    arr=[int(value) for value in arr]\n",
    "    a_list.append(arr)"
   ]
  },
  {
   "cell_type": "code",
   "execution_count": 72,
   "metadata": {},
   "outputs": [
    {
     "data": {
      "text/plain": [
       "0.006649743312243312"
      ]
     },
     "execution_count": 72,
     "metadata": {},
     "output_type": "execute_result"
    }
   ],
   "source": [
    "map_np = mapk(a_list, p_list, k)\n",
    "map_np"
   ]
  },
  {
   "cell_type": "code",
   "execution_count": 73,
   "id": "c02ff290",
   "metadata": {},
   "outputs": [
    {
     "data": {
      "text/plain": [
       "0.005699999999999997"
      ]
     },
     "execution_count": 73,
     "metadata": {},
     "output_type": "execute_result"
    }
   ],
   "source": [
    "p_score = avg_precision(a_list, p_list)\n",
    "p_score"
   ]
  },
  {
   "cell_type": "code",
   "execution_count": 74,
   "metadata": {},
   "outputs": [
    {
     "data": {
      "text/plain": [
       "0.01922934611684611"
      ]
     },
     "execution_count": 74,
     "metadata": {},
     "output_type": "execute_result"
    }
   ],
   "source": [
    "r_score = avg_recall(a_list, p_list)\n",
    "r_score"
   ]
  },
  {
   "cell_type": "code",
   "execution_count": null,
   "id": "98f92d7e",
   "metadata": {},
   "outputs": [],
   "source": []
  },
  {
   "cell_type": "markdown",
   "id": "2b373c4a",
   "metadata": {},
   "source": [
    "k=50"
   ]
  },
  {
   "cell_type": "code",
   "execution_count": 73,
   "id": "8632840b",
   "metadata": {},
   "outputs": [],
   "source": [
    "k=50\n",
    "df_topk = non_personalised(k, 7, train)\n"
   ]
  },
  {
   "cell_type": "code",
   "execution_count": 74,
   "id": "f25bbf21",
   "metadata": {},
   "outputs": [],
   "source": [
    "np_recs = df_topk['article_id'].values\n",
    "recs = list(np_recs)\n",
    "p_list = []\n",
    "for i in range(len(test)):\n",
    "    p_list.append(recs)"
   ]
  },
  {
   "cell_type": "code",
   "execution_count": 75,
   "id": "9ad71d7b",
   "metadata": {},
   "outputs": [],
   "source": [
    "articles_list = test_df_without_new_cust['article_id'].to_list()\n",
    "a_list = []\n",
    "for a in articles_list:\n",
    "    arr=a[:-1].split(' ')\n",
    "    arr=[int(value) for value in arr]\n",
    "    a_list.append(arr)"
   ]
  },
  {
   "cell_type": "code",
   "execution_count": 76,
   "id": "b4387988",
   "metadata": {},
   "outputs": [
    {
     "data": {
      "text/plain": [
       "0.007649259842014907"
      ]
     },
     "execution_count": 76,
     "metadata": {},
     "output_type": "execute_result"
    }
   ],
   "source": [
    "map_np = mapk(a_list, p_list, k)\n",
    "map_np"
   ]
  },
  {
   "cell_type": "code",
   "execution_count": 77,
   "id": "fb97eb38",
   "metadata": {},
   "outputs": [
    {
     "data": {
      "text/plain": [
       "0.003920000000000003"
      ]
     },
     "execution_count": 77,
     "metadata": {},
     "output_type": "execute_result"
    }
   ],
   "source": [
    "p_score = avg_precision(a_list, p_list)\n",
    "p_score"
   ]
  },
  {
   "cell_type": "code",
   "execution_count": 78,
   "id": "c5b3556d",
   "metadata": {},
   "outputs": [
    {
     "data": {
      "text/plain": [
       "0.057149654847068694"
      ]
     },
     "execution_count": 78,
     "metadata": {},
     "output_type": "execute_result"
    }
   ],
   "source": [
    "r_score = avg_recall(a_list, p_list)\n",
    "r_score"
   ]
  },
  {
   "cell_type": "code",
   "execution_count": null,
   "id": "e0d4b025",
   "metadata": {},
   "outputs": [],
   "source": []
  },
  {
   "cell_type": "markdown",
   "id": "bcaaa036",
   "metadata": {},
   "source": [
    "k=100"
   ]
  },
  {
   "cell_type": "code",
   "execution_count": 79,
   "id": "2ab1c78d",
   "metadata": {},
   "outputs": [],
   "source": [
    "k=100\n",
    "df_topk = non_personalised(k, 7, train)"
   ]
  },
  {
   "cell_type": "code",
   "execution_count": 80,
   "id": "6709aaf4",
   "metadata": {},
   "outputs": [],
   "source": [
    "np_recs = df_topk['article_id'].values\n",
    "recs = list(np_recs)\n",
    "p_list = []\n",
    "for i in range(len(test)):\n",
    "    p_list.append(recs)"
   ]
  },
  {
   "cell_type": "code",
   "execution_count": 81,
   "id": "40d04de3",
   "metadata": {},
   "outputs": [],
   "source": [
    "articles_list = test_df_without_new_cust['article_id'].to_list()\n",
    "a_list = []\n",
    "for a in articles_list:\n",
    "    arr=a[:-1].split(' ')\n",
    "    arr=[int(value) for value in arr]\n",
    "    a_list.append(arr)"
   ]
  },
  {
   "cell_type": "code",
   "execution_count": 82,
   "id": "3c1da76b",
   "metadata": {},
   "outputs": [
    {
     "data": {
      "text/plain": [
       "0.008454668272575834"
      ]
     },
     "execution_count": 82,
     "metadata": {},
     "output_type": "execute_result"
    }
   ],
   "source": [
    "map_np = mapk(a_list, p_list, k)\n",
    "map_np"
   ]
  },
  {
   "cell_type": "code",
   "execution_count": 83,
   "id": "0d3f7756",
   "metadata": {},
   "outputs": [
    {
     "data": {
      "text/plain": [
       "0.0034999999999999836"
      ]
     },
     "execution_count": 83,
     "metadata": {},
     "output_type": "execute_result"
    }
   ],
   "source": [
    "p_score = avg_precision(a_list, p_list)\n",
    "p_score"
   ]
  },
  {
   "cell_type": "code",
   "execution_count": 84,
   "id": "9593a3be",
   "metadata": {},
   "outputs": [
    {
     "data": {
      "text/plain": [
       "0.10758072655314037"
      ]
     },
     "execution_count": 84,
     "metadata": {},
     "output_type": "execute_result"
    }
   ],
   "source": [
    "r_score = avg_recall(a_list, p_list)\n",
    "r_score"
   ]
  },
  {
   "cell_type": "code",
   "execution_count": null,
   "id": "4e0fbf97",
   "metadata": {},
   "outputs": [],
   "source": []
  },
  {
   "cell_type": "markdown",
   "id": "b2b32249",
   "metadata": {},
   "source": [
    "#### Evaluating Non-Personalised function for Recommendations from 1 to 100"
   ]
  },
  {
   "cell_type": "code",
   "execution_count": 159,
   "id": "02215cab",
   "metadata": {},
   "outputs": [],
   "source": [
    "def non_personalised_multiple_recommendations(n, data, test_df):\n",
    "    mapk_list=[]\n",
    "    avg_precision_list=[]\n",
    "    avg_recall_list=[]\n",
    "    for k in range (1, 101):\n",
    "        df_k_recommendations = non_personalised(k, n, data)\n",
    "\n",
    "        #Creating list of predicted items\n",
    "        np_recs = df_k_recommendations['article_id'].values\n",
    "        recs = list(np_recs)\n",
    "        p_list = []\n",
    "        for i in range(len(test)):\n",
    "            p_list.append(recs)\n",
    "        \n",
    "        #Creating list of actual items bought by the user\n",
    "        articles_list = test_df['article_id'].to_list()\n",
    "        a_list = []\n",
    "        for a in articles_list:\n",
    "            arr=a[:-1].split(' ')\n",
    "            arr=[int(value) for value in arr]\n",
    "            a_list.append(arr)\n",
    "\n",
    "        \n",
    "        mapk_list.append(mapk(a_list, p_list, k))\n",
    "        avg_precision_list.append(avg_precision(a_list, p_list))\n",
    "        avg_recall_list.append(avg_recall(a_list, p_list))\n",
    "\n",
    "    return mapk_list, avg_precision_list, avg_recall_list\n",
    "        \n"
   ]
  },
  {
   "cell_type": "code",
   "execution_count": 162,
   "id": "d7f796a9",
   "metadata": {},
   "outputs": [
    {
     "data": {
      "text/html": [
       "<div>\n",
       "<style scoped>\n",
       "    .dataframe tbody tr th:only-of-type {\n",
       "        vertical-align: middle;\n",
       "    }\n",
       "\n",
       "    .dataframe tbody tr th {\n",
       "        vertical-align: top;\n",
       "    }\n",
       "\n",
       "    .dataframe thead th {\n",
       "        text-align: right;\n",
       "    }\n",
       "</style>\n",
       "<table border=\"1\" class=\"dataframe\">\n",
       "  <thead>\n",
       "    <tr style=\"text-align: right;\">\n",
       "      <th></th>\n",
       "      <th>customer_id</th>\n",
       "      <th>article_id</th>\n",
       "    </tr>\n",
       "  </thead>\n",
       "  <tbody>\n",
       "    <tr>\n",
       "      <th>0</th>\n",
       "      <td>00d50aaf75f46e2975bd23a9283d098b34a087e9281255...</td>\n",
       "      <td>754362020 572998013</td>\n",
       "    </tr>\n",
       "    <tr>\n",
       "      <th>1</th>\n",
       "      <td>00e80d504a6043b8b588f118b9bf97d73daeed6d3f68b1...</td>\n",
       "      <td>785018003 821152002</td>\n",
       "    </tr>\n",
       "    <tr>\n",
       "      <th>2</th>\n",
       "      <td>00f0157f63bfd27503a760c86b610d9e3ea63e67351aa0...</td>\n",
       "      <td>456163086 715624001 456163085</td>\n",
       "    </tr>\n",
       "    <tr>\n",
       "      <th>3</th>\n",
       "      <td>00fb1d75af5bdbea71936c004adaef008c5dd8820c8353...</td>\n",
       "      <td>909371001 877961005 877961006 807244017</td>\n",
       "    </tr>\n",
       "    <tr>\n",
       "      <th>4</th>\n",
       "      <td>012b7cc3c5080e46dac622a12e99d23510a4d67a4037d1...</td>\n",
       "      <td>923340001 923340001</td>\n",
       "    </tr>\n",
       "    <tr>\n",
       "      <th>...</th>\n",
       "      <td>...</td>\n",
       "      <td>...</td>\n",
       "    </tr>\n",
       "    <tr>\n",
       "      <th>995</th>\n",
       "      <td>fe8f97e64a752766fff7d9517e70c09d0e32a8a029ea5b...</td>\n",
       "      <td>935840001</td>\n",
       "    </tr>\n",
       "    <tr>\n",
       "      <th>996</th>\n",
       "      <td>fe9399f3273bc90d2f571b6a2e7f3b0f8876736a93c550...</td>\n",
       "      <td>874826001 738713029 783346016 865917002 716670...</td>\n",
       "    </tr>\n",
       "    <tr>\n",
       "      <th>997</th>\n",
       "      <td>ffa4cff2802e80ea99a47655ae784c93560f72ca16b6ac...</td>\n",
       "      <td>873679001</td>\n",
       "    </tr>\n",
       "    <tr>\n",
       "      <th>998</th>\n",
       "      <td>ffa5a7175bc5200c22de5080edc254c81729114e200dd4...</td>\n",
       "      <td>570003001</td>\n",
       "    </tr>\n",
       "    <tr>\n",
       "      <th>999</th>\n",
       "      <td>ffbb6732a42cfff781f8d519bb0b7f1f107ad1aad6c4fa...</td>\n",
       "      <td>810170016 810170018 754792004 826492001 717773...</td>\n",
       "    </tr>\n",
       "  </tbody>\n",
       "</table>\n",
       "<p>1000 rows × 2 columns</p>\n",
       "</div>"
      ],
      "text/plain": [
       "                                           customer_id  \\\n",
       "0    00d50aaf75f46e2975bd23a9283d098b34a087e9281255...   \n",
       "1    00e80d504a6043b8b588f118b9bf97d73daeed6d3f68b1...   \n",
       "2    00f0157f63bfd27503a760c86b610d9e3ea63e67351aa0...   \n",
       "3    00fb1d75af5bdbea71936c004adaef008c5dd8820c8353...   \n",
       "4    012b7cc3c5080e46dac622a12e99d23510a4d67a4037d1...   \n",
       "..                                                 ...   \n",
       "995  fe8f97e64a752766fff7d9517e70c09d0e32a8a029ea5b...   \n",
       "996  fe9399f3273bc90d2f571b6a2e7f3b0f8876736a93c550...   \n",
       "997  ffa4cff2802e80ea99a47655ae784c93560f72ca16b6ac...   \n",
       "998  ffa5a7175bc5200c22de5080edc254c81729114e200dd4...   \n",
       "999  ffbb6732a42cfff781f8d519bb0b7f1f107ad1aad6c4fa...   \n",
       "\n",
       "                                            article_id  \n",
       "0                                 754362020 572998013   \n",
       "1                                 785018003 821152002   \n",
       "2                       456163086 715624001 456163085   \n",
       "3             909371001 877961005 877961006 807244017   \n",
       "4                                 923340001 923340001   \n",
       "..                                                 ...  \n",
       "995                                         935840001   \n",
       "996  874826001 738713029 783346016 865917002 716670...  \n",
       "997                                         873679001   \n",
       "998                                         570003001   \n",
       "999  810170016 810170018 754792004 826492001 717773...  \n",
       "\n",
       "[1000 rows x 2 columns]"
      ]
     },
     "execution_count": 162,
     "metadata": {},
     "output_type": "execute_result"
    }
   ],
   "source": [
    "test_df"
   ]
  },
  {
   "cell_type": "code",
   "execution_count": 163,
   "metadata": {},
   "outputs": [],
   "source": [
    "mapk_vals_np, avg_precision_vals_np, avg_recall_vals_np = non_personalised_multiple_recommendations(7, train, test_df)"
   ]
  },
  {
   "cell_type": "code",
   "execution_count": 164,
   "metadata": {},
   "outputs": [
    {
     "data": {
      "image/png": "[encoded data removed]",
      "text/plain": [
       "<Figure size 432x288 with 1 Axes>"
      ]
     },
     "metadata": {
      "needs_background": "light"
     },
     "output_type": "display_data"
    }
   ],
   "source": [
    "x = [i for i in range(1, 101)]\n",
    "y1 = mapk_vals_np\n",
    "plt.plot(x,y1)\n",
    "plt.show()"
   ]
  },
  {
   "cell_type": "code",
   "execution_count": 165,
   "metadata": {},
   "outputs": [
    {
     "data": {
      "image/png": "[encoded data removed]",
      "text/plain": [
       "<Figure size 432x288 with 1 Axes>"
      ]
     },
     "metadata": {
      "needs_background": "light"
     },
     "output_type": "display_data"
    }
   ],
   "source": [
    "y2 = avg_precision_vals_np\n",
    "plt.plot(x,y2)\n",
    "plt.show()"
   ]
  },
  {
   "cell_type": "code",
   "execution_count": 166,
   "metadata": {},
   "outputs": [
    {
     "data": {
      "image/png": "[encoded data removed]",
      "text/plain": [
       "<Figure size 432x288 with 1 Axes>"
      ]
     },
     "metadata": {
      "needs_background": "light"
     },
     "output_type": "display_data"
    }
   ],
   "source": [
    "y3 = avg_recall_vals_np\n",
    "plt.plot(x,y3)\n",
    "plt.show()"
   ]
  },
  {
   "cell_type": "code",
   "execution_count": null,
   "id": "46abe349",
   "metadata": {},
   "outputs": [],
   "source": []
  },
  {
   "cell_type": "code",
   "execution_count": null,
   "id": "993fa900",
   "metadata": {},
   "outputs": [],
   "source": []
  },
  {
   "cell_type": "markdown",
   "id": "badcab97",
   "metadata": {},
   "source": [
    "#### Evaluating Content-Based Recommendations"
   ]
  },
  {
   "cell_type": "markdown",
   "id": "1189324f",
   "metadata": {},
   "source": [
    "#### WIth new Customers"
   ]
  },
  {
   "cell_type": "markdown",
   "id": "f205130f",
   "metadata": {},
   "source": [
    "k=20"
   ]
  },
  {
   "cell_type": "code",
   "execution_count": 81,
   "id": "9ee47b2b",
   "metadata": {},
   "outputs": [],
   "source": [
    "k=20\n",
    "cust_ids = list(test_df['customer_id'])\n",
    "content_based_recs = content_based(5, k, cust_ids, articles_product_code_df, articles_product_type_df)"
   ]
  },
  {
   "cell_type": "code",
   "execution_count": 82,
   "id": "bcdcd09e",
   "metadata": {},
   "outputs": [],
   "source": [
    "customer_ids = []\n",
    "recommended_article_ids = []\n",
    "for k in content_based_recs:\n",
    "    customer_ids.append(k)\n",
    "    recommended_article_ids.append(content_based_recs[k])\n",
    "content_based_recommendations = pd.DataFrame(zip(customer_ids, recommended_article_ids))\n",
    "content_based_recommendations.columns = ['customer_id', 'recommended_article_id']\n"
   ]
  },
  {
   "cell_type": "code",
   "execution_count": 83,
   "id": "76a22812",
   "metadata": {},
   "outputs": [
    {
     "data": {
      "text/html": [
       "<div>\n",
       "<style scoped>\n",
       "    .dataframe tbody tr th:only-of-type {\n",
       "        vertical-align: middle;\n",
       "    }\n",
       "\n",
       "    .dataframe tbody tr th {\n",
       "        vertical-align: top;\n",
       "    }\n",
       "\n",
       "    .dataframe thead th {\n",
       "        text-align: right;\n",
       "    }\n",
       "</style>\n",
       "<table border=\"1\" class=\"dataframe\">\n",
       "  <thead>\n",
       "    <tr style=\"text-align: right;\">\n",
       "      <th></th>\n",
       "      <th>customer_id</th>\n",
       "      <th>recommended_article_id</th>\n",
       "    </tr>\n",
       "  </thead>\n",
       "  <tbody>\n",
       "    <tr>\n",
       "      <th>0</th>\n",
       "      <td>009036de9af83a9007908591e2c6e551860e0474e5b823...</td>\n",
       "      <td>[0, 0, 0, 0, 0, 0, 0, 0, 0, 0, 0, 0, 0, 0, 0, ...</td>\n",
       "    </tr>\n",
       "    <tr>\n",
       "      <th>1</th>\n",
       "      <td>00ae9aa00317595e62a0f782228d3a98e017d071d03049...</td>\n",
       "      <td>[189626001, 189654001, 189654045, 189654046, 1...</td>\n",
       "    </tr>\n",
       "    <tr>\n",
       "      <th>2</th>\n",
       "      <td>00c7b0d0958cdaba2aa31ff2b02e4b7fff952e823fad23...</td>\n",
       "      <td>[0, 0, 0, 0, 0, 0, 0, 0, 0, 0, 0, 0, 0, 0, 0, ...</td>\n",
       "    </tr>\n",
       "    <tr>\n",
       "      <th>3</th>\n",
       "      <td>00d77f043a22a161d8e2f7f0b0e5684290948c76c34b27...</td>\n",
       "      <td>[118458003, 118458004, 118458028, 118458029, 6...</td>\n",
       "    </tr>\n",
       "    <tr>\n",
       "      <th>4</th>\n",
       "      <td>01509b6433e843523eaecd8edc6f41fa962b314b1bd291...</td>\n",
       "      <td>[695632001, 695632002, 695632003, 695632004, 5...</td>\n",
       "    </tr>\n",
       "    <tr>\n",
       "      <th>...</th>\n",
       "      <td>...</td>\n",
       "      <td>...</td>\n",
       "    </tr>\n",
       "    <tr>\n",
       "      <th>995</th>\n",
       "      <td>ff07b1bca62eedab9778fffd7494a6e17dff218425a65a...</td>\n",
       "      <td>[638899002, 111586001, 120129001, 120129014, 1...</td>\n",
       "    </tr>\n",
       "    <tr>\n",
       "      <th>996</th>\n",
       "      <td>ff0bc7d7b5b4434c3d1230709650aa67c64f4b3c161492...</td>\n",
       "      <td>[111586001, 120129001, 120129014, 120129018, 1...</td>\n",
       "    </tr>\n",
       "    <tr>\n",
       "      <th>997</th>\n",
       "      <td>ff7313f354e805f6ace690ddaa753d302341dd810a4a59...</td>\n",
       "      <td>[652731001, 652731003, 652731006, 652731007, 6...</td>\n",
       "    </tr>\n",
       "    <tr>\n",
       "      <th>998</th>\n",
       "      <td>ffc197751ef56add717e78d7611d409b94c37d1f7aa900...</td>\n",
       "      <td>[507909001, 507909002, 507909003, 507909006, 5...</td>\n",
       "    </tr>\n",
       "    <tr>\n",
       "      <th>999</th>\n",
       "      <td>ffced074f1f7ba6a0bc618f2936b7259ff7aef15493734...</td>\n",
       "      <td>[529008001, 529008003, 529008008, 529008009, 6...</td>\n",
       "    </tr>\n",
       "  </tbody>\n",
       "</table>\n",
       "<p>1000 rows × 2 columns</p>\n",
       "</div>"
      ],
      "text/plain": [
       "                                           customer_id  \\\n",
       "0    009036de9af83a9007908591e2c6e551860e0474e5b823...   \n",
       "1    00ae9aa00317595e62a0f782228d3a98e017d071d03049...   \n",
       "2    00c7b0d0958cdaba2aa31ff2b02e4b7fff952e823fad23...   \n",
       "3    00d77f043a22a161d8e2f7f0b0e5684290948c76c34b27...   \n",
       "4    01509b6433e843523eaecd8edc6f41fa962b314b1bd291...   \n",
       "..                                                 ...   \n",
       "995  ff07b1bca62eedab9778fffd7494a6e17dff218425a65a...   \n",
       "996  ff0bc7d7b5b4434c3d1230709650aa67c64f4b3c161492...   \n",
       "997  ff7313f354e805f6ace690ddaa753d302341dd810a4a59...   \n",
       "998  ffc197751ef56add717e78d7611d409b94c37d1f7aa900...   \n",
       "999  ffced074f1f7ba6a0bc618f2936b7259ff7aef15493734...   \n",
       "\n",
       "                                recommended_article_id  \n",
       "0    [0, 0, 0, 0, 0, 0, 0, 0, 0, 0, 0, 0, 0, 0, 0, ...  \n",
       "1    [189626001, 189654001, 189654045, 189654046, 1...  \n",
       "2    [0, 0, 0, 0, 0, 0, 0, 0, 0, 0, 0, 0, 0, 0, 0, ...  \n",
       "3    [118458003, 118458004, 118458028, 118458029, 6...  \n",
       "4    [695632001, 695632002, 695632003, 695632004, 5...  \n",
       "..                                                 ...  \n",
       "995  [638899002, 111586001, 120129001, 120129014, 1...  \n",
       "996  [111586001, 120129001, 120129014, 120129018, 1...  \n",
       "997  [652731001, 652731003, 652731006, 652731007, 6...  \n",
       "998  [507909001, 507909002, 507909003, 507909006, 5...  \n",
       "999  [529008001, 529008003, 529008008, 529008009, 6...  \n",
       "\n",
       "[1000 rows x 2 columns]"
      ]
     },
     "execution_count": 83,
     "metadata": {},
     "output_type": "execute_result"
    }
   ],
   "source": [
    "content_based_recommendations"
   ]
  },
  {
   "cell_type": "code",
   "execution_count": 80,
   "id": "e376ddce",
   "metadata": {},
   "outputs": [
    {
     "data": {
      "text/html": [
       "<div>\n",
       "<style scoped>\n",
       "    .dataframe tbody tr th:only-of-type {\n",
       "        vertical-align: middle;\n",
       "    }\n",
       "\n",
       "    .dataframe tbody tr th {\n",
       "        vertical-align: top;\n",
       "    }\n",
       "\n",
       "    .dataframe thead th {\n",
       "        text-align: right;\n",
       "    }\n",
       "</style>\n",
       "<table border=\"1\" class=\"dataframe\">\n",
       "  <thead>\n",
       "    <tr style=\"text-align: right;\">\n",
       "      <th></th>\n",
       "      <th>customer_id</th>\n",
       "      <th>article_id</th>\n",
       "    </tr>\n",
       "  </thead>\n",
       "  <tbody>\n",
       "    <tr>\n",
       "      <th>0</th>\n",
       "      <td>001ddeb8fb74fec5693116da83b488e05ee9a9e179f3fd...</td>\n",
       "      <td>706016002 876148002 843777005 812271001</td>\n",
       "    </tr>\n",
       "    <tr>\n",
       "      <th>1</th>\n",
       "      <td>00606f86a995447df68f65e3e05e97f63cb5d1a6d27daa...</td>\n",
       "      <td>908380001</td>\n",
       "    </tr>\n",
       "    <tr>\n",
       "      <th>2</th>\n",
       "      <td>00b338d3ce835eac6af72813ceb5523a76f770c7386746...</td>\n",
       "      <td>921380001 934727002 909588003 913033002 897189...</td>\n",
       "    </tr>\n",
       "    <tr>\n",
       "      <th>3</th>\n",
       "      <td>00b5b1e77a0af80ed6f8aa472b03125059ef0e9cf8920e...</td>\n",
       "      <td>863583001</td>\n",
       "    </tr>\n",
       "    <tr>\n",
       "      <th>4</th>\n",
       "      <td>00de181f0286552866ff63d431c244308f3484bad2f5be...</td>\n",
       "      <td>929511001</td>\n",
       "    </tr>\n",
       "    <tr>\n",
       "      <th>...</th>\n",
       "      <td>...</td>\n",
       "      <td>...</td>\n",
       "    </tr>\n",
       "    <tr>\n",
       "      <th>995</th>\n",
       "      <td>fe2b0c56194dd3d5b038a7672440c0f2787d167857c45c...</td>\n",
       "      <td>929275001 810557001 827500004 885951001 929275...</td>\n",
       "    </tr>\n",
       "    <tr>\n",
       "      <th>996</th>\n",
       "      <td>fe51d8f37b9010f5b29796f716963afeba1326f3c6bdc2...</td>\n",
       "      <td>923569002 934212003 905945002 906794004 902528...</td>\n",
       "    </tr>\n",
       "    <tr>\n",
       "      <th>997</th>\n",
       "      <td>ff82577e1128ac54c42fd33686e32cbf1907403d98cf2a...</td>\n",
       "      <td>916926005 573085028 573085057 573085057 863646...</td>\n",
       "    </tr>\n",
       "    <tr>\n",
       "      <th>998</th>\n",
       "      <td>ff92975688a62c6bead4091dc401b38ff9bb31889db34d...</td>\n",
       "      <td>874891002 874891002 874891003 874891003</td>\n",
       "    </tr>\n",
       "    <tr>\n",
       "      <th>999</th>\n",
       "      <td>ffc2e7c210e3ea602e6d229116773cc0588c929f8cc70b...</td>\n",
       "      <td>568601006 568601006 568601006 568601006 850917...</td>\n",
       "    </tr>\n",
       "  </tbody>\n",
       "</table>\n",
       "<p>1000 rows × 2 columns</p>\n",
       "</div>"
      ],
      "text/plain": [
       "                                           customer_id  \\\n",
       "0    001ddeb8fb74fec5693116da83b488e05ee9a9e179f3fd...   \n",
       "1    00606f86a995447df68f65e3e05e97f63cb5d1a6d27daa...   \n",
       "2    00b338d3ce835eac6af72813ceb5523a76f770c7386746...   \n",
       "3    00b5b1e77a0af80ed6f8aa472b03125059ef0e9cf8920e...   \n",
       "4    00de181f0286552866ff63d431c244308f3484bad2f5be...   \n",
       "..                                                 ...   \n",
       "995  fe2b0c56194dd3d5b038a7672440c0f2787d167857c45c...   \n",
       "996  fe51d8f37b9010f5b29796f716963afeba1326f3c6bdc2...   \n",
       "997  ff82577e1128ac54c42fd33686e32cbf1907403d98cf2a...   \n",
       "998  ff92975688a62c6bead4091dc401b38ff9bb31889db34d...   \n",
       "999  ffc2e7c210e3ea602e6d229116773cc0588c929f8cc70b...   \n",
       "\n",
       "                                            article_id  \n",
       "0             706016002 876148002 843777005 812271001   \n",
       "1                                           908380001   \n",
       "2    921380001 934727002 909588003 913033002 897189...  \n",
       "3                                           863583001   \n",
       "4                                           929511001   \n",
       "..                                                 ...  \n",
       "995  929275001 810557001 827500004 885951001 929275...  \n",
       "996  923569002 934212003 905945002 906794004 902528...  \n",
       "997  916926005 573085028 573085057 573085057 863646...  \n",
       "998           874891002 874891002 874891003 874891003   \n",
       "999  568601006 568601006 568601006 568601006 850917...  \n",
       "\n",
       "[1000 rows x 2 columns]"
      ]
     },
     "execution_count": 80,
     "metadata": {},
     "output_type": "execute_result"
    }
   ],
   "source": [
    "test_df"
   ]
  },
  {
   "cell_type": "code",
   "execution_count": 85,
   "id": "1f0181de",
   "metadata": {},
   "outputs": [
    {
     "data": {
      "text/html": [
       "<div>\n",
       "<style scoped>\n",
       "    .dataframe tbody tr th:only-of-type {\n",
       "        vertical-align: middle;\n",
       "    }\n",
       "\n",
       "    .dataframe tbody tr th {\n",
       "        vertical-align: top;\n",
       "    }\n",
       "\n",
       "    .dataframe thead th {\n",
       "        text-align: right;\n",
       "    }\n",
       "</style>\n",
       "<table border=\"1\" class=\"dataframe\">\n",
       "  <thead>\n",
       "    <tr style=\"text-align: right;\">\n",
       "      <th></th>\n",
       "      <th>customer_id</th>\n",
       "      <th>recommended_article_id</th>\n",
       "      <th>article_id</th>\n",
       "    </tr>\n",
       "  </thead>\n",
       "  <tbody>\n",
       "    <tr>\n",
       "      <th>0</th>\n",
       "      <td>009036de9af83a9007908591e2c6e551860e0474e5b823...</td>\n",
       "      <td>[0, 0, 0, 0, 0, 0, 0, 0, 0, 0, 0, 0, 0, 0, 0, ...</td>\n",
       "      <td>909914001 915529003 866731001 879291001</td>\n",
       "    </tr>\n",
       "    <tr>\n",
       "      <th>1</th>\n",
       "      <td>00ae9aa00317595e62a0f782228d3a98e017d071d03049...</td>\n",
       "      <td>[189626001, 189654001, 189654045, 189654046, 1...</td>\n",
       "      <td>808648001 808648001</td>\n",
       "    </tr>\n",
       "    <tr>\n",
       "      <th>2</th>\n",
       "      <td>00c7b0d0958cdaba2aa31ff2b02e4b7fff952e823fad23...</td>\n",
       "      <td>[0, 0, 0, 0, 0, 0, 0, 0, 0, 0, 0, 0, 0, 0, 0, ...</td>\n",
       "      <td>921671001</td>\n",
       "    </tr>\n",
       "    <tr>\n",
       "      <th>3</th>\n",
       "      <td>00d77f043a22a161d8e2f7f0b0e5684290948c76c34b27...</td>\n",
       "      <td>[118458003, 118458004, 118458028, 118458029, 6...</td>\n",
       "      <td>901433001</td>\n",
       "    </tr>\n",
       "    <tr>\n",
       "      <th>4</th>\n",
       "      <td>01509b6433e843523eaecd8edc6f41fa962b314b1bd291...</td>\n",
       "      <td>[695632001, 695632002, 695632003, 695632004, 5...</td>\n",
       "      <td>673677026</td>\n",
       "    </tr>\n",
       "    <tr>\n",
       "      <th>...</th>\n",
       "      <td>...</td>\n",
       "      <td>...</td>\n",
       "      <td>...</td>\n",
       "    </tr>\n",
       "    <tr>\n",
       "      <th>995</th>\n",
       "      <td>ff07b1bca62eedab9778fffd7494a6e17dff218425a65a...</td>\n",
       "      <td>[638899002, 111586001, 120129001, 120129014, 1...</td>\n",
       "      <td>806241009 762600009</td>\n",
       "    </tr>\n",
       "    <tr>\n",
       "      <th>996</th>\n",
       "      <td>ff0bc7d7b5b4434c3d1230709650aa67c64f4b3c161492...</td>\n",
       "      <td>[111586001, 120129001, 120129014, 120129018, 1...</td>\n",
       "      <td>766346003 915529003</td>\n",
       "    </tr>\n",
       "    <tr>\n",
       "      <th>997</th>\n",
       "      <td>ff7313f354e805f6ace690ddaa753d302341dd810a4a59...</td>\n",
       "      <td>[652731001, 652731003, 652731006, 652731007, 6...</td>\n",
       "      <td>904671001 903359001 886566001 914805002 857030...</td>\n",
       "    </tr>\n",
       "    <tr>\n",
       "      <th>998</th>\n",
       "      <td>ffc197751ef56add717e78d7611d409b94c37d1f7aa900...</td>\n",
       "      <td>[507909001, 507909002, 507909003, 507909006, 5...</td>\n",
       "      <td>700429002</td>\n",
       "    </tr>\n",
       "    <tr>\n",
       "      <th>999</th>\n",
       "      <td>ffced074f1f7ba6a0bc618f2936b7259ff7aef15493734...</td>\n",
       "      <td>[529008001, 529008003, 529008008, 529008009, 6...</td>\n",
       "      <td>723469002 929275001 929275001 911034001 911034...</td>\n",
       "    </tr>\n",
       "  </tbody>\n",
       "</table>\n",
       "<p>1000 rows × 3 columns</p>\n",
       "</div>"
      ],
      "text/plain": [
       "                                           customer_id  \\\n",
       "0    009036de9af83a9007908591e2c6e551860e0474e5b823...   \n",
       "1    00ae9aa00317595e62a0f782228d3a98e017d071d03049...   \n",
       "2    00c7b0d0958cdaba2aa31ff2b02e4b7fff952e823fad23...   \n",
       "3    00d77f043a22a161d8e2f7f0b0e5684290948c76c34b27...   \n",
       "4    01509b6433e843523eaecd8edc6f41fa962b314b1bd291...   \n",
       "..                                                 ...   \n",
       "995  ff07b1bca62eedab9778fffd7494a6e17dff218425a65a...   \n",
       "996  ff0bc7d7b5b4434c3d1230709650aa67c64f4b3c161492...   \n",
       "997  ff7313f354e805f6ace690ddaa753d302341dd810a4a59...   \n",
       "998  ffc197751ef56add717e78d7611d409b94c37d1f7aa900...   \n",
       "999  ffced074f1f7ba6a0bc618f2936b7259ff7aef15493734...   \n",
       "\n",
       "                                recommended_article_id  \\\n",
       "0    [0, 0, 0, 0, 0, 0, 0, 0, 0, 0, 0, 0, 0, 0, 0, ...   \n",
       "1    [189626001, 189654001, 189654045, 189654046, 1...   \n",
       "2    [0, 0, 0, 0, 0, 0, 0, 0, 0, 0, 0, 0, 0, 0, 0, ...   \n",
       "3    [118458003, 118458004, 118458028, 118458029, 6...   \n",
       "4    [695632001, 695632002, 695632003, 695632004, 5...   \n",
       "..                                                 ...   \n",
       "995  [638899002, 111586001, 120129001, 120129014, 1...   \n",
       "996  [111586001, 120129001, 120129014, 120129018, 1...   \n",
       "997  [652731001, 652731003, 652731006, 652731007, 6...   \n",
       "998  [507909001, 507909002, 507909003, 507909006, 5...   \n",
       "999  [529008001, 529008003, 529008008, 529008009, 6...   \n",
       "\n",
       "                                            article_id  \n",
       "0             909914001 915529003 866731001 879291001   \n",
       "1                                 808648001 808648001   \n",
       "2                                           921671001   \n",
       "3                                           901433001   \n",
       "4                                           673677026   \n",
       "..                                                 ...  \n",
       "995                               806241009 762600009   \n",
       "996                               766346003 915529003   \n",
       "997  904671001 903359001 886566001 914805002 857030...  \n",
       "998                                         700429002   \n",
       "999  723469002 929275001 929275001 911034001 911034...  \n",
       "\n",
       "[1000 rows x 3 columns]"
      ]
     },
     "execution_count": 85,
     "metadata": {},
     "output_type": "execute_result"
    }
   ],
   "source": [
    "actual_predicted_df = pd.merge(content_based_recommendations, test_df, on='customer_id')\n",
    "actual_predicted_df"
   ]
  },
  {
   "cell_type": "code",
   "execution_count": 86,
   "metadata": {},
   "outputs": [],
   "source": [
    "predicted_list = actual_predicted_df['recommended_article_id'].to_list()\n",
    "predicted = []\n",
    "for p in predicted_list:\n",
    "    p_int=[int(value) for value in p]\n",
    "    predicted.append(p_int)"
   ]
  },
  {
   "cell_type": "code",
   "execution_count": 87,
   "metadata": {},
   "outputs": [],
   "source": [
    "articles_list = actual_predicted_df['article_id'].to_list()\n",
    "actual = []\n",
    "for a in articles_list:\n",
    "    arr=a[:-1].split(' ')\n",
    "    arr=[int(value) for value in arr]\n",
    "    actual.append(arr)"
   ]
  },
  {
   "cell_type": "code",
   "execution_count": 88,
   "metadata": {},
   "outputs": [
    {
     "data": {
      "text/plain": [
       "0.002021908939014202"
      ]
     },
     "execution_count": 88,
     "metadata": {},
     "output_type": "execute_result"
    }
   ],
   "source": [
    "map_cb = mapk(actual, predicted, 50)\n",
    "map_cb"
   ]
  },
  {
   "cell_type": "code",
   "execution_count": 89,
   "id": "3986d268",
   "metadata": {},
   "outputs": [
    {
     "data": {
      "text/plain": [
       "0.0004999999999999999"
      ]
     },
     "execution_count": 89,
     "metadata": {},
     "output_type": "execute_result"
    }
   ],
   "source": [
    "p_score = avg_precision(actual, predicted)\n",
    "p_score"
   ]
  },
  {
   "cell_type": "code",
   "execution_count": 90,
   "id": "13a222e2",
   "metadata": {},
   "outputs": [
    {
     "data": {
      "text/plain": [
       "0.004416666666666667"
      ]
     },
     "execution_count": 90,
     "metadata": {},
     "output_type": "execute_result"
    }
   ],
   "source": [
    "r_score = avg_recall(actual, predicted)\n",
    "r_score"
   ]
  },
  {
   "cell_type": "markdown",
   "id": "89aa447e",
   "metadata": {},
   "source": [
    "k=10"
   ]
  },
  {
   "cell_type": "code",
   "execution_count": 81,
   "id": "e56ca7b8",
   "metadata": {},
   "outputs": [],
   "source": [
    "k=10\n",
    "cust_ids = list(test_df['customer_id'])\n",
    "content_based_recs = content_based(5, k, cust_ids, articles_product_code_df, articles_product_type_df)"
   ]
  },
  {
   "cell_type": "code",
   "execution_count": 82,
   "id": "20e8dcf5",
   "metadata": {},
   "outputs": [],
   "source": [
    "customer_ids = []\n",
    "recommended_article_ids = []\n",
    "for k in content_based_recs:\n",
    "    customer_ids.append(k)\n",
    "    recommended_article_ids.append(content_based_recs[k])\n",
    "content_based_recommendations = pd.DataFrame(zip(customer_ids, recommended_article_ids))\n",
    "content_based_recommendations.columns = ['customer_id', 'recommended_article_id']"
   ]
  },
  {
   "cell_type": "code",
   "execution_count": 83,
   "metadata": {},
   "outputs": [
    {
     "data": {
      "text/html": [
       "<div>\n",
       "<style scoped>\n",
       "    .dataframe tbody tr th:only-of-type {\n",
       "        vertical-align: middle;\n",
       "    }\n",
       "\n",
       "    .dataframe tbody tr th {\n",
       "        vertical-align: top;\n",
       "    }\n",
       "\n",
       "    .dataframe thead th {\n",
       "        text-align: right;\n",
       "    }\n",
       "</style>\n",
       "<table border=\"1\" class=\"dataframe\">\n",
       "  <thead>\n",
       "    <tr style=\"text-align: right;\">\n",
       "      <th></th>\n",
       "      <th>customer_id</th>\n",
       "      <th>recommended_article_id</th>\n",
       "      <th>article_id</th>\n",
       "    </tr>\n",
       "  </thead>\n",
       "  <tbody>\n",
       "    <tr>\n",
       "      <th>0</th>\n",
       "      <td>001ddeb8fb74fec5693116da83b488e05ee9a9e179f3fd...</td>\n",
       "      <td>[682965002, 110065001, 539197001, 539197012, 5...</td>\n",
       "      <td>706016002 876148002 843777005 812271001</td>\n",
       "    </tr>\n",
       "    <tr>\n",
       "      <th>1</th>\n",
       "      <td>00606f86a995447df68f65e3e05e97f63cb5d1a6d27daa...</td>\n",
       "      <td>[636587001, 636587003, 557248001, 557248002, 6...</td>\n",
       "      <td>908380001</td>\n",
       "    </tr>\n",
       "    <tr>\n",
       "      <th>2</th>\n",
       "      <td>00b338d3ce835eac6af72813ceb5523a76f770c7386746...</td>\n",
       "      <td>[675142001, 112679048, 108775015, 108775051, 6...</td>\n",
       "      <td>921380001 934727002 909588003 913033002 897189...</td>\n",
       "    </tr>\n",
       "    <tr>\n",
       "      <th>3</th>\n",
       "      <td>00b5b1e77a0af80ed6f8aa472b03125059ef0e9cf8920e...</td>\n",
       "      <td>[522346001, 522346006, 661162001, 661162002, 5...</td>\n",
       "      <td>863583001</td>\n",
       "    </tr>\n",
       "    <tr>\n",
       "      <th>4</th>\n",
       "      <td>00de181f0286552866ff63d431c244308f3484bad2f5be...</td>\n",
       "      <td>[465572001, 494935004, 614848001, 614848005, 4...</td>\n",
       "      <td>929511001</td>\n",
       "    </tr>\n",
       "    <tr>\n",
       "      <th>...</th>\n",
       "      <td>...</td>\n",
       "      <td>...</td>\n",
       "      <td>...</td>\n",
       "    </tr>\n",
       "    <tr>\n",
       "      <th>995</th>\n",
       "      <td>fe2b0c56194dd3d5b038a7672440c0f2787d167857c45c...</td>\n",
       "      <td>[282832001, 282832012, 241590001, 241602003, 3...</td>\n",
       "      <td>929275001 810557001 827500004 885951001 929275...</td>\n",
       "    </tr>\n",
       "    <tr>\n",
       "      <th>996</th>\n",
       "      <td>fe51d8f37b9010f5b29796f716963afeba1326f3c6bdc2...</td>\n",
       "      <td>[118458003, 118458004, 914966001, 404609007, 1...</td>\n",
       "      <td>923569002 934212003 905945002 906794004 902528...</td>\n",
       "    </tr>\n",
       "    <tr>\n",
       "      <th>997</th>\n",
       "      <td>ff82577e1128ac54c42fd33686e32cbf1907403d98cf2a...</td>\n",
       "      <td>[118458003, 118458004, 578433003, 578433006, 6...</td>\n",
       "      <td>916926005 573085028 573085057 573085057 863646...</td>\n",
       "    </tr>\n",
       "    <tr>\n",
       "      <th>998</th>\n",
       "      <td>ff92975688a62c6bead4091dc401b38ff9bb31889db34d...</td>\n",
       "      <td>[316441001, 316441006, 633377001, 633377002, 6...</td>\n",
       "      <td>874891002 874891002 874891003 874891003</td>\n",
       "    </tr>\n",
       "    <tr>\n",
       "      <th>999</th>\n",
       "      <td>ffc2e7c210e3ea602e6d229116773cc0588c929f8cc70b...</td>\n",
       "      <td>[634320003, 634320007, 625321003, 625321004, 6...</td>\n",
       "      <td>568601006 568601006 568601006 568601006 850917...</td>\n",
       "    </tr>\n",
       "  </tbody>\n",
       "</table>\n",
       "<p>1000 rows × 3 columns</p>\n",
       "</div>"
      ],
      "text/plain": [
       "                                           customer_id  \\\n",
       "0    001ddeb8fb74fec5693116da83b488e05ee9a9e179f3fd...   \n",
       "1    00606f86a995447df68f65e3e05e97f63cb5d1a6d27daa...   \n",
       "2    00b338d3ce835eac6af72813ceb5523a76f770c7386746...   \n",
       "3    00b5b1e77a0af80ed6f8aa472b03125059ef0e9cf8920e...   \n",
       "4    00de181f0286552866ff63d431c244308f3484bad2f5be...   \n",
       "..                                                 ...   \n",
       "995  fe2b0c56194dd3d5b038a7672440c0f2787d167857c45c...   \n",
       "996  fe51d8f37b9010f5b29796f716963afeba1326f3c6bdc2...   \n",
       "997  ff82577e1128ac54c42fd33686e32cbf1907403d98cf2a...   \n",
       "998  ff92975688a62c6bead4091dc401b38ff9bb31889db34d...   \n",
       "999  ffc2e7c210e3ea602e6d229116773cc0588c929f8cc70b...   \n",
       "\n",
       "                                recommended_article_id  \\\n",
       "0    [682965002, 110065001, 539197001, 539197012, 5...   \n",
       "1    [636587001, 636587003, 557248001, 557248002, 6...   \n",
       "2    [675142001, 112679048, 108775015, 108775051, 6...   \n",
       "3    [522346001, 522346006, 661162001, 661162002, 5...   \n",
       "4    [465572001, 494935004, 614848001, 614848005, 4...   \n",
       "..                                                 ...   \n",
       "995  [282832001, 282832012, 241590001, 241602003, 3...   \n",
       "996  [118458003, 118458004, 914966001, 404609007, 1...   \n",
       "997  [118458003, 118458004, 578433003, 578433006, 6...   \n",
       "998  [316441001, 316441006, 633377001, 633377002, 6...   \n",
       "999  [634320003, 634320007, 625321003, 625321004, 6...   \n",
       "\n",
       "                                            article_id  \n",
       "0             706016002 876148002 843777005 812271001   \n",
       "1                                           908380001   \n",
       "2    921380001 934727002 909588003 913033002 897189...  \n",
       "3                                           863583001   \n",
       "4                                           929511001   \n",
       "..                                                 ...  \n",
       "995  929275001 810557001 827500004 885951001 929275...  \n",
       "996  923569002 934212003 905945002 906794004 902528...  \n",
       "997  916926005 573085028 573085057 573085057 863646...  \n",
       "998           874891002 874891002 874891003 874891003   \n",
       "999  568601006 568601006 568601006 568601006 850917...  \n",
       "\n",
       "[1000 rows x 3 columns]"
      ]
     },
     "execution_count": 83,
     "metadata": {},
     "output_type": "execute_result"
    }
   ],
   "source": [
    "actual_predicted_df = pd.merge(content_based_recommendations, test_df, on='customer_id')\n",
    "actual_predicted_df"
   ]
  },
  {
   "cell_type": "code",
   "execution_count": 84,
   "id": "ac06c1f4",
   "metadata": {},
   "outputs": [],
   "source": [
    "predicted_list = actual_predicted_df['recommended_article_id'].to_list()\n",
    "predicted = []\n",
    "for p in predicted_list:\n",
    "    p_int=[int(value) for value in p]\n",
    "    predicted.append(p_int)"
   ]
  },
  {
   "cell_type": "code",
   "execution_count": 85,
   "id": "3c871e44",
   "metadata": {},
   "outputs": [],
   "source": [
    "articles_list = actual_predicted_df['article_id'].to_list()\n",
    "actual = []\n",
    "for a in articles_list:\n",
    "    arr=a[:-1].split(' ')\n",
    "    arr=[int(value) for value in arr]\n",
    "    actual.append(arr)"
   ]
  },
  {
   "cell_type": "code",
   "execution_count": 86,
   "id": "6880597f",
   "metadata": {},
   "outputs": [
    {
     "data": {
      "text/plain": [
       "0.0005714285714285714"
      ]
     },
     "execution_count": 86,
     "metadata": {},
     "output_type": "execute_result"
    }
   ],
   "source": [
    "map_cb = mapk(actual, predicted, k)\n",
    "map_cb"
   ]
  },
  {
   "cell_type": "code",
   "execution_count": 87,
   "id": "4f2fc940",
   "metadata": {},
   "outputs": [
    {
     "data": {
      "text/plain": [
       "0.00030000000000000003"
      ]
     },
     "execution_count": 87,
     "metadata": {},
     "output_type": "execute_result"
    }
   ],
   "source": [
    "p_score = avg_precision(actual, predicted)\n",
    "p_score"
   ]
  },
  {
   "cell_type": "code",
   "execution_count": 88,
   "id": "ab1de32b",
   "metadata": {},
   "outputs": [
    {
     "data": {
      "text/plain": [
       "0.0016111111111111111"
      ]
     },
     "execution_count": 88,
     "metadata": {},
     "output_type": "execute_result"
    }
   ],
   "source": [
    "r_score = avg_recall(actual, predicted)\n",
    "r_score"
   ]
  },
  {
   "cell_type": "code",
   "execution_count": null,
   "id": "df46ed9b",
   "metadata": {},
   "outputs": [],
   "source": []
  },
  {
   "cell_type": "markdown",
   "id": "26c98606",
   "metadata": {},
   "source": [
    "k=50"
   ]
  },
  {
   "cell_type": "code",
   "execution_count": 85,
   "id": "cee9c8a4",
   "metadata": {},
   "outputs": [],
   "source": [
    "k=50\n",
    "cust_ids = list(test_df['customer_id'])\n",
    "content_based_recs = content_based(5, k, cust_ids, articles_product_code_df, articles_product_type_df)"
   ]
  },
  {
   "cell_type": "code",
   "execution_count": 86,
   "id": "f800361f",
   "metadata": {},
   "outputs": [],
   "source": [
    "customer_ids = []\n",
    "recommended_article_ids = []\n",
    "for k in content_based_recs:\n",
    "    customer_ids.append(k)\n",
    "    recommended_article_ids.append(content_based_recs[k])\n",
    "content_based_recommendations = pd.DataFrame(zip(customer_ids, recommended_article_ids))\n",
    "content_based_recommendations.columns = ['customer_id', 'recommended_article_id']"
   ]
  },
  {
   "cell_type": "code",
   "execution_count": 87,
   "metadata": {},
   "outputs": [
    {
     "data": {
      "text/html": [
       "<div>\n",
       "<style scoped>\n",
       "    .dataframe tbody tr th:only-of-type {\n",
       "        vertical-align: middle;\n",
       "    }\n",
       "\n",
       "    .dataframe tbody tr th {\n",
       "        vertical-align: top;\n",
       "    }\n",
       "\n",
       "    .dataframe thead th {\n",
       "        text-align: right;\n",
       "    }\n",
       "</style>\n",
       "<table border=\"1\" class=\"dataframe\">\n",
       "  <thead>\n",
       "    <tr style=\"text-align: right;\">\n",
       "      <th></th>\n",
       "      <th>customer_id</th>\n",
       "      <th>recommended_article_id</th>\n",
       "      <th>article_id</th>\n",
       "    </tr>\n",
       "  </thead>\n",
       "  <tbody>\n",
       "    <tr>\n",
       "      <th>0</th>\n",
       "      <td>00d50aaf75f46e2975bd23a9283d098b34a087e9281255...</td>\n",
       "      <td>[708352001, 708352002, 708352003, 708352004, 1...</td>\n",
       "      <td>754362020 572998013</td>\n",
       "    </tr>\n",
       "    <tr>\n",
       "      <th>1</th>\n",
       "      <td>00e80d504a6043b8b588f118b9bf97d73daeed6d3f68b1...</td>\n",
       "      <td>[673677001, 673677002, 673677004, 673677005, 6...</td>\n",
       "      <td>785018003 821152002</td>\n",
       "    </tr>\n",
       "    <tr>\n",
       "      <th>2</th>\n",
       "      <td>00f0157f63bfd27503a760c86b610d9e3ea63e67351aa0...</td>\n",
       "      <td>[0, 0, 0, 0, 0, 0, 0, 0, 0, 0, 0, 0, 0, 0, 0, ...</td>\n",
       "      <td>456163086 715624001 456163085</td>\n",
       "    </tr>\n",
       "    <tr>\n",
       "      <th>3</th>\n",
       "      <td>00fb1d75af5bdbea71936c004adaef008c5dd8820c8353...</td>\n",
       "      <td>[803990002, 192460006, 202017055, 212629004, 2...</td>\n",
       "      <td>909371001 877961005 877961006 807244017</td>\n",
       "    </tr>\n",
       "    <tr>\n",
       "      <th>4</th>\n",
       "      <td>012b7cc3c5080e46dac622a12e99d23510a4d67a4037d1...</td>\n",
       "      <td>[282832001, 282832012, 282832014, 282832015, 2...</td>\n",
       "      <td>923340001 923340001</td>\n",
       "    </tr>\n",
       "    <tr>\n",
       "      <th>...</th>\n",
       "      <td>...</td>\n",
       "      <td>...</td>\n",
       "      <td>...</td>\n",
       "    </tr>\n",
       "    <tr>\n",
       "      <th>995</th>\n",
       "      <td>fe8f97e64a752766fff7d9517e70c09d0e32a8a029ea5b...</td>\n",
       "      <td>[549251003, 549251004, 549251005, 549251012, 5...</td>\n",
       "      <td>935840001</td>\n",
       "    </tr>\n",
       "    <tr>\n",
       "      <th>996</th>\n",
       "      <td>fe9399f3273bc90d2f571b6a2e7f3b0f8876736a93c550...</td>\n",
       "      <td>[399256002, 399256003, 399256005, 399256009, 3...</td>\n",
       "      <td>874826001 738713029 783346016 865917002 716670...</td>\n",
       "    </tr>\n",
       "    <tr>\n",
       "      <th>997</th>\n",
       "      <td>ffa4cff2802e80ea99a47655ae784c93560f72ca16b6ac...</td>\n",
       "      <td>[211143021, 211143022, 211143023, 211143036, 2...</td>\n",
       "      <td>873679001</td>\n",
       "    </tr>\n",
       "    <tr>\n",
       "      <th>998</th>\n",
       "      <td>ffa5a7175bc5200c22de5080edc254c81729114e200dd4...</td>\n",
       "      <td>[585503001, 585503002, 585503003, 585503005, 1...</td>\n",
       "      <td>570003001</td>\n",
       "    </tr>\n",
       "    <tr>\n",
       "      <th>999</th>\n",
       "      <td>ffbb6732a42cfff781f8d519bb0b7f1f107ad1aad6c4fa...</td>\n",
       "      <td>[111586001, 120129001, 120129014, 120129018, 1...</td>\n",
       "      <td>810170016 810170018 754792004 826492001 717773...</td>\n",
       "    </tr>\n",
       "  </tbody>\n",
       "</table>\n",
       "<p>1000 rows × 3 columns</p>\n",
       "</div>"
      ],
      "text/plain": [
       "                                           customer_id  \\\n",
       "0    00d50aaf75f46e2975bd23a9283d098b34a087e9281255...   \n",
       "1    00e80d504a6043b8b588f118b9bf97d73daeed6d3f68b1...   \n",
       "2    00f0157f63bfd27503a760c86b610d9e3ea63e67351aa0...   \n",
       "3    00fb1d75af5bdbea71936c004adaef008c5dd8820c8353...   \n",
       "4    012b7cc3c5080e46dac622a12e99d23510a4d67a4037d1...   \n",
       "..                                                 ...   \n",
       "995  fe8f97e64a752766fff7d9517e70c09d0e32a8a029ea5b...   \n",
       "996  fe9399f3273bc90d2f571b6a2e7f3b0f8876736a93c550...   \n",
       "997  ffa4cff2802e80ea99a47655ae784c93560f72ca16b6ac...   \n",
       "998  ffa5a7175bc5200c22de5080edc254c81729114e200dd4...   \n",
       "999  ffbb6732a42cfff781f8d519bb0b7f1f107ad1aad6c4fa...   \n",
       "\n",
       "                                recommended_article_id  \\\n",
       "0    [708352001, 708352002, 708352003, 708352004, 1...   \n",
       "1    [673677001, 673677002, 673677004, 673677005, 6...   \n",
       "2    [0, 0, 0, 0, 0, 0, 0, 0, 0, 0, 0, 0, 0, 0, 0, ...   \n",
       "3    [803990002, 192460006, 202017055, 212629004, 2...   \n",
       "4    [282832001, 282832012, 282832014, 282832015, 2...   \n",
       "..                                                 ...   \n",
       "995  [549251003, 549251004, 549251005, 549251012, 5...   \n",
       "996  [399256002, 399256003, 399256005, 399256009, 3...   \n",
       "997  [211143021, 211143022, 211143023, 211143036, 2...   \n",
       "998  [585503001, 585503002, 585503003, 585503005, 1...   \n",
       "999  [111586001, 120129001, 120129014, 120129018, 1...   \n",
       "\n",
       "                                            article_id  \n",
       "0                                 754362020 572998013   \n",
       "1                                 785018003 821152002   \n",
       "2                       456163086 715624001 456163085   \n",
       "3             909371001 877961005 877961006 807244017   \n",
       "4                                 923340001 923340001   \n",
       "..                                                 ...  \n",
       "995                                         935840001   \n",
       "996  874826001 738713029 783346016 865917002 716670...  \n",
       "997                                         873679001   \n",
       "998                                         570003001   \n",
       "999  810170016 810170018 754792004 826492001 717773...  \n",
       "\n",
       "[1000 rows x 3 columns]"
      ]
     },
     "execution_count": 87,
     "metadata": {},
     "output_type": "execute_result"
    }
   ],
   "source": [
    "actual_predicted_df = pd.merge(content_based_recommendations, test_df, on='customer_id')\n",
    "actual_predicted_df"
   ]
  },
  {
   "cell_type": "code",
   "execution_count": 88,
   "id": "5e71cbf3",
   "metadata": {},
   "outputs": [],
   "source": [
    "predicted_list = actual_predicted_df['recommended_article_id'].to_list()\n",
    "predicted = []\n",
    "for p in predicted_list:\n",
    "    p_int=[int(value) for value in p]\n",
    "    predicted.append(p_int)"
   ]
  },
  {
   "cell_type": "code",
   "execution_count": 89,
   "id": "a3082801",
   "metadata": {},
   "outputs": [],
   "source": [
    "articles_list = actual_predicted_df['article_id'].to_list()\n",
    "actual = []\n",
    "for a in articles_list:\n",
    "    arr=a[:-1].split(' ')\n",
    "    arr=[int(value) for value in arr]\n",
    "    actual.append(arr)"
   ]
  },
  {
   "cell_type": "code",
   "execution_count": 98,
   "id": "a9ca822d",
   "metadata": {},
   "outputs": [],
   "source": [
    "k=50"
   ]
  },
  {
   "cell_type": "code",
   "execution_count": 101,
   "id": "690e56fd",
   "metadata": {},
   "outputs": [
    {
     "data": {
      "text/plain": [
       "0.0007532737231394373"
      ]
     },
     "execution_count": 101,
     "metadata": {},
     "output_type": "execute_result"
    }
   ],
   "source": [
    "map_cb = mapk(actual, predicted, k)\n",
    "map_cb"
   ]
  },
  {
   "cell_type": "code",
   "execution_count": 102,
   "id": "95e97fba",
   "metadata": {},
   "outputs": [
    {
     "data": {
      "text/plain": [
       "0.00030000000000000003"
      ]
     },
     "execution_count": 102,
     "metadata": {},
     "output_type": "execute_result"
    }
   ],
   "source": [
    "p_score = avg_precision(actual, predicted)\n",
    "p_score"
   ]
  },
  {
   "cell_type": "code",
   "execution_count": 103,
   "id": "70807211",
   "metadata": {},
   "outputs": [
    {
     "data": {
      "text/plain": [
       "0.005059523809523811"
      ]
     },
     "execution_count": 103,
     "metadata": {},
     "output_type": "execute_result"
    }
   ],
   "source": [
    "r_score = avg_recall(actual, predicted)\n",
    "r_score"
   ]
  },
  {
   "cell_type": "markdown",
   "id": "261d79ae",
   "metadata": {},
   "source": [
    "k=100"
   ]
  },
  {
   "cell_type": "code",
   "execution_count": 104,
   "id": "0a4afcf5",
   "metadata": {},
   "outputs": [],
   "source": [
    "k=100\n",
    "cust_ids = list(test_df['customer_id'])\n",
    "content_based_recs = content_based(5, k, cust_ids, articles_product_code_df, articles_product_type_df)"
   ]
  },
  {
   "cell_type": "code",
   "execution_count": 105,
   "id": "fd379bd6",
   "metadata": {},
   "outputs": [],
   "source": [
    "customer_ids = []\n",
    "recommended_article_ids = []\n",
    "for k in content_based_recs:\n",
    "    customer_ids.append(k)\n",
    "    recommended_article_ids.append(content_based_recs[k])\n",
    "content_based_recommendations = pd.DataFrame(zip(customer_ids, recommended_article_ids))\n",
    "content_based_recommendations.columns = ['customer_id', 'recommended_article_id']"
   ]
  },
  {
   "cell_type": "code",
   "execution_count": 106,
   "id": "a8cdf1ba",
   "metadata": {},
   "outputs": [],
   "source": [
    "actual_predicted_df = pd.merge(content_based_recommendations, test_df, on='customer_id')"
   ]
  },
  {
   "cell_type": "code",
   "execution_count": 107,
   "id": "db2de1c0",
   "metadata": {},
   "outputs": [],
   "source": [
    "predicted_list = actual_predicted_df['recommended_article_id'].to_list()\n",
    "predicted = []\n",
    "for p in predicted_list:\n",
    "    p_int=[int(value) for value in p]\n",
    "    predicted.append(p_int)"
   ]
  },
  {
   "cell_type": "code",
   "execution_count": 108,
   "id": "93340d81",
   "metadata": {},
   "outputs": [],
   "source": [
    "articles_list = actual_predicted_df['article_id'].to_list()\n",
    "actual = []\n",
    "for a in articles_list:\n",
    "    arr=a[:-1].split(' ')\n",
    "    arr=[int(value) for value in arr]\n",
    "    actual.append(arr)"
   ]
  },
  {
   "cell_type": "code",
   "execution_count": 109,
   "id": "49a9461e",
   "metadata": {},
   "outputs": [
    {
     "data": {
      "text/plain": [
       "0.0011760568943664333"
      ]
     },
     "execution_count": 109,
     "metadata": {},
     "output_type": "execute_result"
    }
   ],
   "source": [
    "map_cb = mapk(actual, predicted, 100)\n",
    "map_cb"
   ]
  },
  {
   "cell_type": "code",
   "execution_count": 110,
   "id": "b57f484d",
   "metadata": {},
   "outputs": [
    {
     "data": {
      "text/plain": [
       "0.00030000000000000003"
      ]
     },
     "execution_count": 110,
     "metadata": {},
     "output_type": "execute_result"
    }
   ],
   "source": [
    "p_score = avg_precision(actual, predicted)\n",
    "p_score"
   ]
  },
  {
   "cell_type": "code",
   "execution_count": 111,
   "id": "96345058",
   "metadata": {},
   "outputs": [
    {
     "data": {
      "text/plain": [
       "0.008692099567099569"
      ]
     },
     "execution_count": 111,
     "metadata": {},
     "output_type": "execute_result"
    }
   ],
   "source": [
    "r_score = avg_recall(actual, predicted)\n",
    "r_score"
   ]
  },
  {
   "cell_type": "code",
   "execution_count": null,
   "id": "278cc243",
   "metadata": {},
   "outputs": [],
   "source": []
  },
  {
   "cell_type": "markdown",
   "id": "044d096f",
   "metadata": {},
   "source": [
    "#### Without new customers"
   ]
  },
  {
   "cell_type": "markdown",
   "id": "1772dabf",
   "metadata": {},
   "source": [
    "k=20"
   ]
  },
  {
   "cell_type": "code",
   "execution_count": 115,
   "id": "745af5ad",
   "metadata": {},
   "outputs": [],
   "source": [
    "k=20\n",
    "cust_ids = list(test_df_without_new_cust['customer_id'])\n",
    "content_based_recs = content_based(5, k, cust_ids, articles_product_code_df, articles_product_type_df)"
   ]
  },
  {
   "cell_type": "code",
   "execution_count": 116,
   "metadata": {},
   "outputs": [],
   "source": [
    "customer_ids = []\n",
    "recommended_article_ids = []\n",
    "for k in content_based_recs:\n",
    "    customer_ids.append(k)\n",
    "    recommended_article_ids.append(content_based_recs[k])\n",
    "content_based_recommendations = pd.DataFrame(zip(customer_ids, recommended_article_ids))\n",
    "content_based_recommendations.columns = ['customer_id', 'recommended_article_id']"
   ]
  },
  {
   "cell_type": "code",
   "execution_count": 117,
   "id": "85a31431",
   "metadata": {},
   "outputs": [
    {
     "data": {
      "text/html": [
       "<div>\n",
       "<style scoped>\n",
       "    .dataframe tbody tr th:only-of-type {\n",
       "        vertical-align: middle;\n",
       "    }\n",
       "\n",
       "    .dataframe tbody tr th {\n",
       "        vertical-align: top;\n",
       "    }\n",
       "\n",
       "    .dataframe thead th {\n",
       "        text-align: right;\n",
       "    }\n",
       "</style>\n",
       "<table border=\"1\" class=\"dataframe\">\n",
       "  <thead>\n",
       "    <tr style=\"text-align: right;\">\n",
       "      <th></th>\n",
       "      <th>customer_id</th>\n",
       "      <th>recommended_article_id</th>\n",
       "      <th>article_id</th>\n",
       "    </tr>\n",
       "  </thead>\n",
       "  <tbody>\n",
       "    <tr>\n",
       "      <th>0</th>\n",
       "      <td>0040e2fc2d1e7931a38355aca56b2c62b87e65051b7287...</td>\n",
       "      <td>[277738002, 277738011, 277738012, 319811019, 5...</td>\n",
       "      <td>799365001 799365028 863646004</td>\n",
       "    </tr>\n",
       "    <tr>\n",
       "      <th>1</th>\n",
       "      <td>004a44473a84b8809a136aac040eae2e567f85031949eb...</td>\n",
       "      <td>[235596002, 292453003, 292453009, 292453011, 6...</td>\n",
       "      <td>918292003 849487001</td>\n",
       "    </tr>\n",
       "    <tr>\n",
       "      <th>2</th>\n",
       "      <td>007ce0bc11eeab9b58cb2ab04715c6a5c478828aa3b7a7...</td>\n",
       "      <td>[743616002, 743616009, 118458003, 118458004, 1...</td>\n",
       "      <td>925666003 893133001 918894002 456163083 802023...</td>\n",
       "    </tr>\n",
       "    <tr>\n",
       "      <th>3</th>\n",
       "      <td>00c0875075599d2b44846b94f2368b174448dfd50fd178...</td>\n",
       "      <td>[632143002, 189626001, 189654001, 189654045, 6...</td>\n",
       "      <td>715624001 677930086</td>\n",
       "    </tr>\n",
       "    <tr>\n",
       "      <th>4</th>\n",
       "      <td>0114b9ec6bcf634a60b7c259101f706cc3c3ba8cd6891f...</td>\n",
       "      <td>[663007001, 663007004, 663007006, 663007007, 5...</td>\n",
       "      <td>916415002 897423002</td>\n",
       "    </tr>\n",
       "    <tr>\n",
       "      <th>...</th>\n",
       "      <td>...</td>\n",
       "      <td>...</td>\n",
       "      <td>...</td>\n",
       "    </tr>\n",
       "    <tr>\n",
       "      <th>995</th>\n",
       "      <td>fed66fd2a9c2f7af755813db23e7fdce433c9706960b2b...</td>\n",
       "      <td>[634744003, 634744005, 634744009, 634744010, 6...</td>\n",
       "      <td>870328002 759482001 873279005</td>\n",
       "    </tr>\n",
       "    <tr>\n",
       "      <th>996</th>\n",
       "      <td>fee8b241153e748c206d808f567d9fa9d31843f2d73db0...</td>\n",
       "      <td>[118458003, 118458004, 118458028, 118458029, 1...</td>\n",
       "      <td>673677024 673677004 673677002 906794003 906794...</td>\n",
       "    </tr>\n",
       "    <tr>\n",
       "      <th>997</th>\n",
       "      <td>ff59469d169167c83a5cb4643892c41351b8d181b33136...</td>\n",
       "      <td>[554598001, 554598002, 554598004, 554598007, 5...</td>\n",
       "      <td>889550001</td>\n",
       "    </tr>\n",
       "    <tr>\n",
       "      <th>998</th>\n",
       "      <td>ff92975688a62c6bead4091dc401b38ff9bb31889db34d...</td>\n",
       "      <td>[316441001, 316441006, 316441008, 316441011, 6...</td>\n",
       "      <td>874891002 874891002 874891003 874891003</td>\n",
       "    </tr>\n",
       "    <tr>\n",
       "      <th>999</th>\n",
       "      <td>ffc09051ee89dba9a08cdd1c1a47667511c1a9aafda214...</td>\n",
       "      <td>[0, 0, 0, 0, 0, 0, 0, 0, 0, 0, 0, 0, 0, 0, 0, ...</td>\n",
       "      <td>923569002</td>\n",
       "    </tr>\n",
       "  </tbody>\n",
       "</table>\n",
       "<p>1000 rows × 3 columns</p>\n",
       "</div>"
      ],
      "text/plain": [
       "                                           customer_id  \\\n",
       "0    0040e2fc2d1e7931a38355aca56b2c62b87e65051b7287...   \n",
       "1    004a44473a84b8809a136aac040eae2e567f85031949eb...   \n",
       "2    007ce0bc11eeab9b58cb2ab04715c6a5c478828aa3b7a7...   \n",
       "3    00c0875075599d2b44846b94f2368b174448dfd50fd178...   \n",
       "4    0114b9ec6bcf634a60b7c259101f706cc3c3ba8cd6891f...   \n",
       "..                                                 ...   \n",
       "995  fed66fd2a9c2f7af755813db23e7fdce433c9706960b2b...   \n",
       "996  fee8b241153e748c206d808f567d9fa9d31843f2d73db0...   \n",
       "997  ff59469d169167c83a5cb4643892c41351b8d181b33136...   \n",
       "998  ff92975688a62c6bead4091dc401b38ff9bb31889db34d...   \n",
       "999  ffc09051ee89dba9a08cdd1c1a47667511c1a9aafda214...   \n",
       "\n",
       "                                recommended_article_id  \\\n",
       "0    [277738002, 277738011, 277738012, 319811019, 5...   \n",
       "1    [235596002, 292453003, 292453009, 292453011, 6...   \n",
       "2    [743616002, 743616009, 118458003, 118458004, 1...   \n",
       "3    [632143002, 189626001, 189654001, 189654045, 6...   \n",
       "4    [663007001, 663007004, 663007006, 663007007, 5...   \n",
       "..                                                 ...   \n",
       "995  [634744003, 634744005, 634744009, 634744010, 6...   \n",
       "996  [118458003, 118458004, 118458028, 118458029, 1...   \n",
       "997  [554598001, 554598002, 554598004, 554598007, 5...   \n",
       "998  [316441001, 316441006, 316441008, 316441011, 6...   \n",
       "999  [0, 0, 0, 0, 0, 0, 0, 0, 0, 0, 0, 0, 0, 0, 0, ...   \n",
       "\n",
       "                                            article_id  \n",
       "0                       799365001 799365028 863646004   \n",
       "1                                 918292003 849487001   \n",
       "2    925666003 893133001 918894002 456163083 802023...  \n",
       "3                                 715624001 677930086   \n",
       "4                                 916415002 897423002   \n",
       "..                                                 ...  \n",
       "995                     870328002 759482001 873279005   \n",
       "996  673677024 673677004 673677002 906794003 906794...  \n",
       "997                                         889550001   \n",
       "998           874891002 874891002 874891003 874891003   \n",
       "999                                         923569002   \n",
       "\n",
       "[1000 rows x 3 columns]"
      ]
     },
     "execution_count": 117,
     "metadata": {},
     "output_type": "execute_result"
    }
   ],
   "source": [
    "actual_predicted_df = pd.merge(content_based_recommendations, test_df_without_new_cust, on='customer_id')\n",
    "actual_predicted_df"
   ]
  },
  {
   "cell_type": "code",
   "execution_count": 118,
   "id": "fadfd264",
   "metadata": {},
   "outputs": [],
   "source": [
    "predicted_list = actual_predicted_df['recommended_article_id'].to_list()\n",
    "predicted = []\n",
    "for p in predicted_list:\n",
    "    p_int=[int(value) for value in p]\n",
    "    predicted.append(p_int)"
   ]
  },
  {
   "cell_type": "code",
   "execution_count": 119,
   "id": "10b40528",
   "metadata": {},
   "outputs": [],
   "source": [
    "articles_list = actual_predicted_df['article_id'].to_list()\n",
    "actual = []\n",
    "for a in articles_list:\n",
    "    arr=a[:-1].split(' ')\n",
    "    arr=[int(value) for value in arr]\n",
    "    actual.append(arr)"
   ]
  },
  {
   "cell_type": "code",
   "execution_count": 120,
   "id": "6eccb923",
   "metadata": {},
   "outputs": [
    {
     "data": {
      "text/plain": [
       "0.0018345451418206836"
      ]
     },
     "execution_count": 120,
     "metadata": {},
     "output_type": "execute_result"
    }
   ],
   "source": [
    "map_cb = mapk(actual, predicted, 50)\n",
    "map_cb"
   ]
  },
  {
   "cell_type": "code",
   "execution_count": 121,
   "id": "c95101c0",
   "metadata": {},
   "outputs": [
    {
     "data": {
      "text/plain": [
       "0.0006"
      ]
     },
     "execution_count": 121,
     "metadata": {},
     "output_type": "execute_result"
    }
   ],
   "source": [
    "p_score = avg_precision(actual, predicted)\n",
    "p_score"
   ]
  },
  {
   "cell_type": "code",
   "execution_count": 122,
   "id": "7985d135",
   "metadata": {},
   "outputs": [
    {
     "data": {
      "text/plain": [
       "0.0057"
      ]
     },
     "execution_count": 122,
     "metadata": {},
     "output_type": "execute_result"
    }
   ],
   "source": [
    "r_score = avg_recall(actual, predicted)\n",
    "r_score"
   ]
  },
  {
   "cell_type": "code",
   "execution_count": null,
   "id": "8daf236f",
   "metadata": {},
   "outputs": [],
   "source": []
  },
  {
   "cell_type": "markdown",
   "id": "9bb5bc83",
   "metadata": {},
   "source": [
    "k=10"
   ]
  },
  {
   "cell_type": "code",
   "execution_count": 89,
   "metadata": {},
   "outputs": [],
   "source": [
    "k=10\n",
    "cust_ids = list(test_df_without_new_cust['customer_id'])\n",
    "content_based_recs = content_based(5, k, cust_ids, articles_product_code_df, articles_product_type_df)"
   ]
  },
  {
   "cell_type": "code",
   "execution_count": 90,
   "metadata": {},
   "outputs": [],
   "source": [
    "customer_ids = []\n",
    "recommended_article_ids = []\n",
    "for k in content_based_recs:\n",
    "    customer_ids.append(k)\n",
    "    recommended_article_ids.append(content_based_recs[k])\n",
    "content_based_recommendations = pd.DataFrame(zip(customer_ids, recommended_article_ids))\n",
    "content_based_recommendations.columns = ['customer_id', 'recommended_article_id']"
   ]
  },
  {
   "cell_type": "code",
   "execution_count": 91,
   "id": "12ba64b8",
   "metadata": {},
   "outputs": [
    {
     "data": {
      "text/html": [
       "<div>\n",
       "<style scoped>\n",
       "    .dataframe tbody tr th:only-of-type {\n",
       "        vertical-align: middle;\n",
       "    }\n",
       "\n",
       "    .dataframe tbody tr th {\n",
       "        vertical-align: top;\n",
       "    }\n",
       "\n",
       "    .dataframe thead th {\n",
       "        text-align: right;\n",
       "    }\n",
       "</style>\n",
       "<table border=\"1\" class=\"dataframe\">\n",
       "  <thead>\n",
       "    <tr style=\"text-align: right;\">\n",
       "      <th></th>\n",
       "      <th>customer_id</th>\n",
       "      <th>recommended_article_id</th>\n",
       "      <th>article_id</th>\n",
       "    </tr>\n",
       "  </thead>\n",
       "  <tbody>\n",
       "    <tr>\n",
       "      <th>0</th>\n",
       "      <td>00b2e2bdedcd55e1509bcd3bdd69b4167fabee49e6bb29...</td>\n",
       "      <td>[507910001, 507910002, 693387003, 404609007, 5...</td>\n",
       "      <td>706016015</td>\n",
       "    </tr>\n",
       "    <tr>\n",
       "      <th>1</th>\n",
       "      <td>00e45ba47fb90efa4728bcd4583ad03ae4a9fafdcc198f...</td>\n",
       "      <td>[589748004, 589748005, 630116002, 630116003, 6...</td>\n",
       "      <td>892309003 892309003 757971001 757971001 757971...</td>\n",
       "    </tr>\n",
       "    <tr>\n",
       "      <th>2</th>\n",
       "      <td>00e715cbf3cbc3ec5c2c6a2a6ba26bd4e6b4f6930208b3...</td>\n",
       "      <td>[241436001, 241436006, 118458003, 118458004, 6...</td>\n",
       "      <td>375917006</td>\n",
       "    </tr>\n",
       "    <tr>\n",
       "      <th>3</th>\n",
       "      <td>00fa33158eb59432984490a9c7bac5897496e841cca799...</td>\n",
       "      <td>[607154006, 607154007, 637268001, 637268006, 6...</td>\n",
       "      <td>932243001 914441005 882900004 732842014 749699...</td>\n",
       "    </tr>\n",
       "    <tr>\n",
       "      <th>4</th>\n",
       "      <td>0104bee289e6af328d9c2502f1808e230623c4587e0ddc...</td>\n",
       "      <td>[674606001, 674606002, 904424001, 176209023, 6...</td>\n",
       "      <td>893820001 923758001 946095001 834924005 865929...</td>\n",
       "    </tr>\n",
       "    <tr>\n",
       "      <th>...</th>\n",
       "      <td>...</td>\n",
       "      <td>...</td>\n",
       "      <td>...</td>\n",
       "    </tr>\n",
       "    <tr>\n",
       "      <th>995</th>\n",
       "      <td>ff0127319ea7e48c5f9d8afc0deb61395273d9f743db9e...</td>\n",
       "      <td>[494030010, 494030013, 118458003, 118458004, 1...</td>\n",
       "      <td>886390001 554598083</td>\n",
       "    </tr>\n",
       "    <tr>\n",
       "      <th>996</th>\n",
       "      <td>ff0cc5d86cd1c7751ae443e8357b9d23681d2c5f67919f...</td>\n",
       "      <td>[426019008, 445865001, 705799001, 705799003, 7...</td>\n",
       "      <td>879166004 879166004</td>\n",
       "    </tr>\n",
       "    <tr>\n",
       "      <th>997</th>\n",
       "      <td>ff335bffc52a0462f8ab27fb51fc11f27333a86a320b84...</td>\n",
       "      <td>[624562001, 624562002, 608007001, 608007002, 1...</td>\n",
       "      <td>764073002</td>\n",
       "    </tr>\n",
       "    <tr>\n",
       "      <th>998</th>\n",
       "      <td>ff49f903b3a7105d373c80b019a5dc169e37a16e55cbe1...</td>\n",
       "      <td>[235596002, 292453003, 692155001, 692155003, 5...</td>\n",
       "      <td>861565001 861565001 869706001 878183003 891591...</td>\n",
       "    </tr>\n",
       "    <tr>\n",
       "      <th>999</th>\n",
       "      <td>fffae8eb3a282d8c43c77dd2ca0621703b71e90904dfde...</td>\n",
       "      <td>[399223004, 399223015, 615726001, 615726002, 3...</td>\n",
       "      <td>396135007 817472007 715624050 817472003 894320...</td>\n",
       "    </tr>\n",
       "  </tbody>\n",
       "</table>\n",
       "<p>1000 rows × 3 columns</p>\n",
       "</div>"
      ],
      "text/plain": [
       "                                           customer_id  \\\n",
       "0    00b2e2bdedcd55e1509bcd3bdd69b4167fabee49e6bb29...   \n",
       "1    00e45ba47fb90efa4728bcd4583ad03ae4a9fafdcc198f...   \n",
       "2    00e715cbf3cbc3ec5c2c6a2a6ba26bd4e6b4f6930208b3...   \n",
       "3    00fa33158eb59432984490a9c7bac5897496e841cca799...   \n",
       "4    0104bee289e6af328d9c2502f1808e230623c4587e0ddc...   \n",
       "..                                                 ...   \n",
       "995  ff0127319ea7e48c5f9d8afc0deb61395273d9f743db9e...   \n",
       "996  ff0cc5d86cd1c7751ae443e8357b9d23681d2c5f67919f...   \n",
       "997  ff335bffc52a0462f8ab27fb51fc11f27333a86a320b84...   \n",
       "998  ff49f903b3a7105d373c80b019a5dc169e37a16e55cbe1...   \n",
       "999  fffae8eb3a282d8c43c77dd2ca0621703b71e90904dfde...   \n",
       "\n",
       "                                recommended_article_id  \\\n",
       "0    [507910001, 507910002, 693387003, 404609007, 5...   \n",
       "1    [589748004, 589748005, 630116002, 630116003, 6...   \n",
       "2    [241436001, 241436006, 118458003, 118458004, 6...   \n",
       "3    [607154006, 607154007, 637268001, 637268006, 6...   \n",
       "4    [674606001, 674606002, 904424001, 176209023, 6...   \n",
       "..                                                 ...   \n",
       "995  [494030010, 494030013, 118458003, 118458004, 1...   \n",
       "996  [426019008, 445865001, 705799001, 705799003, 7...   \n",
       "997  [624562001, 624562002, 608007001, 608007002, 1...   \n",
       "998  [235596002, 292453003, 692155001, 692155003, 5...   \n",
       "999  [399223004, 399223015, 615726001, 615726002, 3...   \n",
       "\n",
       "                                            article_id  \n",
       "0                                           706016015   \n",
       "1    892309003 892309003 757971001 757971001 757971...  \n",
       "2                                           375917006   \n",
       "3    932243001 914441005 882900004 732842014 749699...  \n",
       "4    893820001 923758001 946095001 834924005 865929...  \n",
       "..                                                 ...  \n",
       "995                               886390001 554598083   \n",
       "996                               879166004 879166004   \n",
       "997                                         764073002   \n",
       "998  861565001 861565001 869706001 878183003 891591...  \n",
       "999  396135007 817472007 715624050 817472003 894320...  \n",
       "\n",
       "[1000 rows x 3 columns]"
      ]
     },
     "execution_count": 91,
     "metadata": {},
     "output_type": "execute_result"
    }
   ],
   "source": [
    "actual_predicted_df = pd.merge(content_based_recommendations, test_df_without_new_cust, on='customer_id')\n",
    "actual_predicted_df"
   ]
  },
  {
   "cell_type": "code",
   "execution_count": 92,
   "id": "bbe0a0b4",
   "metadata": {},
   "outputs": [],
   "source": [
    "predicted_list = actual_predicted_df['recommended_article_id'].to_list()\n",
    "predicted = []\n",
    "for p in predicted_list:\n",
    "    p_int=[int(value) for value in p]\n",
    "    predicted.append(p_int)"
   ]
  },
  {
   "cell_type": "code",
   "execution_count": 93,
   "metadata": {},
   "outputs": [],
   "source": [
    "articles_list = actual_predicted_df['article_id'].to_list()\n",
    "actual = []\n",
    "for a in articles_list:\n",
    "    arr=a[:-1].split(' ')\n",
    "    arr=[int(value) for value in arr]\n",
    "    actual.append(arr)"
   ]
  },
  {
   "cell_type": "code",
   "execution_count": 94,
   "metadata": {},
   "outputs": [
    {
     "data": {
      "text/plain": [
       "0.00038452380952380954"
      ]
     },
     "execution_count": 94,
     "metadata": {},
     "output_type": "execute_result"
    }
   ],
   "source": [
    "map_cb = mapk(actual, predicted, 50)\n",
    "map_cb"
   ]
  },
  {
   "cell_type": "code",
   "execution_count": 95,
   "metadata": {},
   "outputs": [
    {
     "data": {
      "text/plain": [
       "0.0007"
      ]
     },
     "execution_count": 95,
     "metadata": {},
     "output_type": "execute_result"
    }
   ],
   "source": [
    "p_score = avg_precision(actual, predicted)\n",
    "p_score"
   ]
  },
  {
   "cell_type": "code",
   "execution_count": 98,
   "id": "7a98b925",
   "metadata": {},
   "outputs": [
    {
     "data": {
      "text/plain": [
       "0.002725"
      ]
     },
     "execution_count": 98,
     "metadata": {},
     "output_type": "execute_result"
    }
   ],
   "source": [
    "r_score = avg_recall(actual, predicted)\n",
    "r_score"
   ]
  },
  {
   "cell_type": "code",
   "execution_count": null,
   "id": "82c878a0",
   "metadata": {},
   "outputs": [],
   "source": []
  },
  {
   "cell_type": "markdown",
   "id": "858ce156",
   "metadata": {},
   "source": [
    "k=50"
   ]
  },
  {
   "cell_type": "code",
   "execution_count": 112,
   "id": "d3817e86",
   "metadata": {},
   "outputs": [],
   "source": [
    "k=50\n",
    "cust_ids = list(test_df_without_new_cust['customer_id'])\n",
    "content_based_recs = content_based(5, k, cust_ids, articles_product_code_df, articles_product_type_df)"
   ]
  },
  {
   "cell_type": "code",
   "execution_count": 113,
   "id": "4562938e",
   "metadata": {},
   "outputs": [],
   "source": [
    "customer_ids = []\n",
    "recommended_article_ids = []\n",
    "for k in content_based_recs:\n",
    "    customer_ids.append(k)\n",
    "    recommended_article_ids.append(content_based_recs[k])\n",
    "content_based_recommendations = pd.DataFrame(zip(customer_ids, recommended_article_ids))\n",
    "content_based_recommendations.columns = ['customer_id', 'recommended_article_id']"
   ]
  },
  {
   "cell_type": "code",
   "execution_count": 114,
   "metadata": {},
   "outputs": [],
   "source": [
    "actual_predicted_df = pd.merge(content_based_recommendations, test_df_without_new_cust, on='customer_id')"
   ]
  },
  {
   "cell_type": "code",
   "execution_count": 115,
   "metadata": {},
   "outputs": [],
   "source": [
    "predicted_list = actual_predicted_df['recommended_article_id'].to_list()\n",
    "predicted = []\n",
    "for p in predicted_list:\n",
    "    p_int=[int(value) for value in p]\n",
    "    predicted.append(p_int)"
   ]
  },
  {
   "cell_type": "code",
   "execution_count": 116,
   "id": "662ba6ac",
   "metadata": {},
   "outputs": [],
   "source": [
    "articles_list = actual_predicted_df['article_id'].to_list()\n",
    "actual = []\n",
    "for a in articles_list:\n",
    "    arr=a[:-1].split(' ')\n",
    "    arr=[int(value) for value in arr]\n",
    "    actual.append(arr)"
   ]
  },
  {
   "cell_type": "code",
   "execution_count": 117,
   "id": "641a9eba",
   "metadata": {},
   "outputs": [
    {
     "data": {
      "text/plain": [
       "0.00035100128173780294"
      ]
     },
     "execution_count": 117,
     "metadata": {},
     "output_type": "execute_result"
    }
   ],
   "source": [
    "map_cb = mapk(actual, predicted, 50)\n",
    "map_cb"
   ]
  },
  {
   "cell_type": "code",
   "execution_count": 118,
   "id": "616ceda2",
   "metadata": {},
   "outputs": [
    {
     "data": {
      "text/plain": [
       "0.00019999999999999998"
      ]
     },
     "execution_count": 118,
     "metadata": {},
     "output_type": "execute_result"
    }
   ],
   "source": [
    "p_score = avg_precision(actual, predicted)\n",
    "p_score"
   ]
  },
  {
   "cell_type": "code",
   "execution_count": 119,
   "id": "434373b8",
   "metadata": {},
   "outputs": [
    {
     "data": {
      "text/plain": [
       "0.0042833333333333334"
      ]
     },
     "execution_count": 119,
     "metadata": {},
     "output_type": "execute_result"
    }
   ],
   "source": [
    "r_score = avg_recall(actual, predicted)\n",
    "r_score"
   ]
  },
  {
   "cell_type": "code",
   "execution_count": null,
   "id": "65fbdaa1",
   "metadata": {},
   "outputs": [],
   "source": []
  },
  {
   "cell_type": "markdown",
   "id": "873aa560",
   "metadata": {},
   "source": [
    "k=100"
   ]
  },
  {
   "cell_type": "code",
   "execution_count": 167,
   "id": "78da07d8",
   "metadata": {},
   "outputs": [],
   "source": [
    "k=100\n",
    "cust_ids = list(test_df_without_new_cust['customer_id'])\n",
    "content_based_recs = content_based(5, k, cust_ids, articles_product_code_df, articles_product_type_df)"
   ]
  },
  {
   "cell_type": "code",
   "execution_count": 168,
   "id": "dd91af63",
   "metadata": {},
   "outputs": [],
   "source": [
    "customer_ids = []\n",
    "recommended_article_ids = []\n",
    "for k in content_based_recs:\n",
    "    customer_ids.append(k)\n",
    "    recommended_article_ids.append(content_based_recs[k])\n",
    "content_based_recommendations = pd.DataFrame(zip(customer_ids, recommended_article_ids))\n",
    "content_based_recommendations.columns = ['customer_id', 'recommended_article_id']"
   ]
  },
  {
   "cell_type": "code",
   "execution_count": 169,
   "metadata": {},
   "outputs": [],
   "source": [
    "actual_predicted_df = pd.merge(content_based_recommendations, test_df_without_new_cust, on='customer_id')"
   ]
  },
  {
   "cell_type": "code",
   "execution_count": 170,
   "id": "6381ec83",
   "metadata": {},
   "outputs": [],
   "source": [
    "predicted_list = actual_predicted_df['recommended_article_id'].to_list()\n",
    "predicted = []\n",
    "for p in predicted_list:\n",
    "    p_int=[int(value) for value in p]\n",
    "    predicted.append(p_int)"
   ]
  },
  {
   "cell_type": "code",
   "execution_count": 171,
   "id": "313589e4",
   "metadata": {},
   "outputs": [],
   "source": [
    "articles_list = actual_predicted_df['article_id'].to_list()\n",
    "actual = []\n",
    "for a in articles_list:\n",
    "    arr=a[:-1].split(' ')\n",
    "    arr=[int(value) for value in arr]\n",
    "    actual.append(arr)"
   ]
  },
  {
   "cell_type": "code",
   "execution_count": 172,
   "metadata": {},
   "outputs": [
    {
     "data": {
      "text/plain": [
       "0.001020272883573806"
      ]
     },
     "execution_count": 172,
     "metadata": {},
     "output_type": "execute_result"
    }
   ],
   "source": [
    "map_cb = mapk(actual, predicted, 100)\n",
    "map_cb"
   ]
  },
  {
   "cell_type": "code",
   "execution_count": 173,
   "id": "e81c4fea",
   "metadata": {},
   "outputs": [
    {
     "data": {
      "text/plain": [
       "0.00025"
      ]
     },
     "execution_count": 173,
     "metadata": {},
     "output_type": "execute_result"
    }
   ],
   "source": [
    "p_score = avg_precision(actual, predicted)\n",
    "p_score"
   ]
  },
  {
   "cell_type": "code",
   "execution_count": 174,
   "id": "c7563ba7",
   "metadata": {},
   "outputs": [
    {
     "data": {
      "text/plain": [
       "0.007908333333333333"
      ]
     },
     "execution_count": 174,
     "metadata": {},
     "output_type": "execute_result"
    }
   ],
   "source": [
    "r_score = avg_recall(actual, predicted)\n",
    "r_score"
   ]
  },
  {
   "cell_type": "code",
   "execution_count": null,
   "metadata": {},
   "outputs": [],
   "source": []
  },
  {
   "cell_type": "markdown",
   "id": "842970ab",
   "metadata": {},
   "source": [
    "#### Evaluating Content-based recommendations from k=1 to k=100"
   ]
  },
  {
   "cell_type": "code",
   "execution_count": 175,
   "id": "bb5b3c72",
   "metadata": {},
   "outputs": [],
   "source": [
    "def content_based_multiple_recommendations(n, data, test_df, articles_product_code_df, articles_product_type_df):\n",
    "    mapk_list=[]\n",
    "    avg_precision_list=[]\n",
    "    avg_recall_list=[]\n",
    "    for k in range (1, 101):\n",
    "        cust_ids = list(test_df['customer_id'])\n",
    "        content_based_recs = content_based(5, k, cust_ids, articles_product_code_df, articles_product_type_df)\n",
    "\n",
    "        customer_ids = []\n",
    "        recommended_article_ids = []\n",
    "        for rec in content_based_recs:\n",
    "            customer_ids.append(rec)\n",
    "            recommended_article_ids.append(content_based_recs[rec])\n",
    "        content_based_recommendations = pd.DataFrame(zip(customer_ids, recommended_article_ids))\n",
    "        content_based_recommendations.columns = ['customer_id', 'recommended_article_id']\n",
    "\n",
    "        actual_predicted_df = pd.merge(content_based_recommendations, test_df_without_new_cust, on='customer_id')\n",
    "\n",
    "        #Creating list of predicted items\n",
    "        predicted_list = actual_predicted_df['recommended_article_id'].to_list()\n",
    "        predicted = []\n",
    "        for p in predicted_list:\n",
    "            p_int=[int(value) for value in p]\n",
    "            predicted.append(p_int)\n",
    "        \n",
    "        #Creating list of actual items bought by the user\n",
    "        articles_list = test_df['article_id'].to_list()\n",
    "        actual = []\n",
    "        for a in articles_list:\n",
    "            arr=a[:-1].split(' ')\n",
    "            arr=[int(value) for value in arr]\n",
    "            actual.append(arr)\n",
    "\n",
    "        \n",
    "        mapk_list.append(mapk(a_list, p_list, k))\n",
    "        avg_precision_list.append(avg_precision(a_list, p_list))\n",
    "        avg_recall_list.append(avg_recall(a_list, p_list))\n",
    "\n",
    "    return mapk_list, avg_precision_list, avg_recall_list\n",
    "        \n"
   ]
  },
  {
   "cell_type": "code",
   "execution_count": 176,
   "id": "46fde418",
   "metadata": {},
   "outputs": [],
   "source": [
    "mapk_vals_cb, avg_precision_vals_cb, avg_recall_vals_cb = content_based_multiple_recommendations(7, train, test_df, articles_product_code_df, articles_product_type_df)"
   ]
  },
  {
   "cell_type": "code",
   "execution_count": null,
   "id": "80e1588c",
   "metadata": {},
   "outputs": [],
   "source": []
  },
  {
   "cell_type": "code",
   "execution_count": null,
   "id": "771ea8bb",
   "metadata": {},
   "outputs": [],
   "source": []
  },
  {
   "cell_type": "code",
   "execution_count": null,
   "id": "4357e186",
   "metadata": {},
   "outputs": [],
   "source": []
  },
  {
   "cell_type": "markdown",
   "id": "679a84d6",
   "metadata": {},
   "source": [
    "### Evaluating ALS"
   ]
  },
  {
   "cell_type": "markdown",
   "id": "cda70ea9",
   "metadata": {},
   "source": [
    "#### With new Customers"
   ]
  },
  {
   "cell_type": "markdown",
   "id": "39406c7e",
   "metadata": {},
   "source": [
    "k=20"
   ]
  },
  {
   "cell_type": "code",
   "execution_count": 92,
   "metadata": {},
   "outputs": [],
   "source": [
    "k=20\n",
    "cust_list = list(set(new_test_data['customer_id'].to_list()))\n",
    "als_recommendations = als_recommend(k, cust_list, trans_df, sparse_user_item_matrix)"
   ]
  },
  {
   "cell_type": "code",
   "execution_count": 95,
   "id": "b3b17914",
   "metadata": {},
   "outputs": [],
   "source": [
    "als_recommendations_df = pd.DataFrame(zip(cust_list, als_recommendations))\n",
    "als_recommendations_df.columns = ['customer_id', 'recommended_article_id']"
   ]
  },
  {
   "cell_type": "code",
   "execution_count": 47,
   "id": "2c57dc63",
   "metadata": {},
   "outputs": [
    {
     "data": {
      "text/html": [
       "<div>\n",
       "<style scoped>\n",
       "    .dataframe tbody tr th:only-of-type {\n",
       "        vertical-align: middle;\n",
       "    }\n",
       "\n",
       "    .dataframe tbody tr th {\n",
       "        vertical-align: top;\n",
       "    }\n",
       "\n",
       "    .dataframe thead th {\n",
       "        text-align: right;\n",
       "    }\n",
       "</style>\n",
       "<table border=\"1\" class=\"dataframe\">\n",
       "  <thead>\n",
       "    <tr style=\"text-align: right;\">\n",
       "      <th></th>\n",
       "      <th>t_dat</th>\n",
       "      <th>customer_id</th>\n",
       "      <th>article_id</th>\n",
       "      <th>price</th>\n",
       "      <th>sales_channel_id</th>\n",
       "    </tr>\n",
       "  </thead>\n",
       "  <tbody>\n",
       "    <tr>\n",
       "      <th>31548106</th>\n",
       "      <td>2020-09-16</td>\n",
       "      <td>00e45ba47fb90efa4728bcd4583ad03ae4a9fafdcc198f...</td>\n",
       "      <td>892309003</td>\n",
       "      <td>0.016932</td>\n",
       "      <td>2</td>\n",
       "    </tr>\n",
       "    <tr>\n",
       "      <th>31548107</th>\n",
       "      <td>2020-09-16</td>\n",
       "      <td>00e45ba47fb90efa4728bcd4583ad03ae4a9fafdcc198f...</td>\n",
       "      <td>892309003</td>\n",
       "      <td>0.016932</td>\n",
       "      <td>2</td>\n",
       "    </tr>\n",
       "    <tr>\n",
       "      <th>31548108</th>\n",
       "      <td>2020-09-16</td>\n",
       "      <td>00e45ba47fb90efa4728bcd4583ad03ae4a9fafdcc198f...</td>\n",
       "      <td>757971001</td>\n",
       "      <td>0.022017</td>\n",
       "      <td>2</td>\n",
       "    </tr>\n",
       "    <tr>\n",
       "      <th>31548109</th>\n",
       "      <td>2020-09-16</td>\n",
       "      <td>00e45ba47fb90efa4728bcd4583ad03ae4a9fafdcc198f...</td>\n",
       "      <td>757971001</td>\n",
       "      <td>0.022017</td>\n",
       "      <td>2</td>\n",
       "    </tr>\n",
       "    <tr>\n",
       "      <th>31548110</th>\n",
       "      <td>2020-09-16</td>\n",
       "      <td>00e45ba47fb90efa4728bcd4583ad03ae4a9fafdcc198f...</td>\n",
       "      <td>757971001</td>\n",
       "      <td>0.022017</td>\n",
       "      <td>2</td>\n",
       "    </tr>\n",
       "    <tr>\n",
       "      <th>...</th>\n",
       "      <td>...</td>\n",
       "      <td>...</td>\n",
       "      <td>...</td>\n",
       "      <td>...</td>\n",
       "      <td>...</td>\n",
       "    </tr>\n",
       "    <tr>\n",
       "      <th>31787865</th>\n",
       "      <td>2020-09-22</td>\n",
       "      <td>fc05d856455dfccf1e2ffb91fcef92b4c037a86d1a0f7a...</td>\n",
       "      <td>893432002</td>\n",
       "      <td>0.033881</td>\n",
       "      <td>2</td>\n",
       "    </tr>\n",
       "    <tr>\n",
       "      <th>31787879</th>\n",
       "      <td>2020-09-22</td>\n",
       "      <td>fc402eb5260f910db839608890dd7f2b56645e6d43f5a6...</td>\n",
       "      <td>936622001</td>\n",
       "      <td>0.025407</td>\n",
       "      <td>2</td>\n",
       "    </tr>\n",
       "    <tr>\n",
       "      <th>31787880</th>\n",
       "      <td>2020-09-22</td>\n",
       "      <td>fc402eb5260f910db839608890dd7f2b56645e6d43f5a6...</td>\n",
       "      <td>909869001</td>\n",
       "      <td>0.025407</td>\n",
       "      <td>2</td>\n",
       "    </tr>\n",
       "    <tr>\n",
       "      <th>31787982</th>\n",
       "      <td>2020-09-22</td>\n",
       "      <td>fd317c749b129fcdb482423c8269d19c161a719c8045e3...</td>\n",
       "      <td>828268003</td>\n",
       "      <td>0.040661</td>\n",
       "      <td>2</td>\n",
       "    </tr>\n",
       "    <tr>\n",
       "      <th>31788249</th>\n",
       "      <td>2020-09-22</td>\n",
       "      <td>ff335bffc52a0462f8ab27fb51fc11f27333a86a320b84...</td>\n",
       "      <td>764073002</td>\n",
       "      <td>0.042356</td>\n",
       "      <td>2</td>\n",
       "    </tr>\n",
       "  </tbody>\n",
       "</table>\n",
       "<p>3604 rows × 5 columns</p>\n",
       "</div>"
      ],
      "text/plain": [
       "              t_dat                                        customer_id  \\\n",
       "31548106 2020-09-16  00e45ba47fb90efa4728bcd4583ad03ae4a9fafdcc198f...   \n",
       "31548107 2020-09-16  00e45ba47fb90efa4728bcd4583ad03ae4a9fafdcc198f...   \n",
       "31548108 2020-09-16  00e45ba47fb90efa4728bcd4583ad03ae4a9fafdcc198f...   \n",
       "31548109 2020-09-16  00e45ba47fb90efa4728bcd4583ad03ae4a9fafdcc198f...   \n",
       "31548110 2020-09-16  00e45ba47fb90efa4728bcd4583ad03ae4a9fafdcc198f...   \n",
       "...             ...                                                ...   \n",
       "31787865 2020-09-22  fc05d856455dfccf1e2ffb91fcef92b4c037a86d1a0f7a...   \n",
       "31787879 2020-09-22  fc402eb5260f910db839608890dd7f2b56645e6d43f5a6...   \n",
       "31787880 2020-09-22  fc402eb5260f910db839608890dd7f2b56645e6d43f5a6...   \n",
       "31787982 2020-09-22  fd317c749b129fcdb482423c8269d19c161a719c8045e3...   \n",
       "31788249 2020-09-22  ff335bffc52a0462f8ab27fb51fc11f27333a86a320b84...   \n",
       "\n",
       "          article_id     price  sales_channel_id  \n",
       "31548106   892309003  0.016932                 2  \n",
       "31548107   892309003  0.016932                 2  \n",
       "31548108   757971001  0.022017                 2  \n",
       "31548109   757971001  0.022017                 2  \n",
       "31548110   757971001  0.022017                 2  \n",
       "...              ...       ...               ...  \n",
       "31787865   893432002  0.033881                 2  \n",
       "31787879   936622001  0.025407                 2  \n",
       "31787880   909869001  0.025407                 2  \n",
       "31787982   828268003  0.040661                 2  \n",
       "31788249   764073002  0.042356                 2  \n",
       "\n",
       "[3604 rows x 5 columns]"
      ]
     },
     "execution_count": 47,
     "metadata": {},
     "output_type": "execute_result"
    }
   ],
   "source": [
    "new_test_data_without_new_cust"
   ]
  },
  {
   "cell_type": "code",
   "execution_count": 97,
   "id": "d0a10194",
   "metadata": {},
   "outputs": [
    {
     "data": {
      "text/html": [
       "<div>\n",
       "<style scoped>\n",
       "    .dataframe tbody tr th:only-of-type {\n",
       "        vertical-align: middle;\n",
       "    }\n",
       "\n",
       "    .dataframe tbody tr th {\n",
       "        vertical-align: top;\n",
       "    }\n",
       "\n",
       "    .dataframe thead th {\n",
       "        text-align: right;\n",
       "    }\n",
       "</style>\n",
       "<table border=\"1\" class=\"dataframe\">\n",
       "  <thead>\n",
       "    <tr style=\"text-align: right;\">\n",
       "      <th></th>\n",
       "      <th>customer_id</th>\n",
       "      <th>recommended_article_id</th>\n",
       "      <th>article_id</th>\n",
       "    </tr>\n",
       "  </thead>\n",
       "  <tbody>\n",
       "    <tr>\n",
       "      <th>0</th>\n",
       "      <td>e9ed8cba67c9057f8ede3a0f71183583fa9ec6cb80a7be...</td>\n",
       "      <td>[678942001, 579541001, 664074001, 673396002, 3...</td>\n",
       "      <td>826508007 905660002</td>\n",
       "    </tr>\n",
       "    <tr>\n",
       "      <th>1</th>\n",
       "      <td>81b0b53022e029935313f340f78e85285b89b274d9ab05...</td>\n",
       "      <td>[759871003, 759871004, 733749001, 559630026, 5...</td>\n",
       "      <td>372860001 914441004</td>\n",
       "    </tr>\n",
       "    <tr>\n",
       "      <th>2</th>\n",
       "      <td>a1161a62a6e20360e48d109c52d08442218fdf13652527...</td>\n",
       "      <td>[685816001, 685816002, 685813001, 685814001, 7...</td>\n",
       "      <td>739590041</td>\n",
       "    </tr>\n",
       "    <tr>\n",
       "      <th>3</th>\n",
       "      <td>33b8a520ca3e9a9eda9f63155ee628ab71949f626bf0fe...</td>\n",
       "      <td>[741356002, 720125001, 717490008, 554479001, 8...</td>\n",
       "      <td>932243002 933989001 923134002 921671001 922048...</td>\n",
       "    </tr>\n",
       "    <tr>\n",
       "      <th>4</th>\n",
       "      <td>29d4db756dbe47d53cf3fb088dc09745d45333ca068ed3...</td>\n",
       "      <td>[507909001, 610776001, 695632002, 772005009, 5...</td>\n",
       "      <td>909912001 856270003 909911001 918292011</td>\n",
       "    </tr>\n",
       "    <tr>\n",
       "      <th>...</th>\n",
       "      <td>...</td>\n",
       "      <td>...</td>\n",
       "      <td>...</td>\n",
       "    </tr>\n",
       "    <tr>\n",
       "      <th>995</th>\n",
       "      <td>43830264a98188a81c5331186eb7e1bfbb56cc013be510...</td>\n",
       "      <td>[351484002, 723529001, 699080001, 599580038, 5...</td>\n",
       "      <td>918890002 907188003</td>\n",
       "    </tr>\n",
       "    <tr>\n",
       "      <th>996</th>\n",
       "      <td>c298e6213dfb1d74e74b917a184ccac4de7be9ba216172...</td>\n",
       "      <td>[749699002, 749699001, 716672001, 678942001, 6...</td>\n",
       "      <td>902802005 902802002</td>\n",
       "    </tr>\n",
       "    <tr>\n",
       "      <th>997</th>\n",
       "      <td>51b2f31743b8660474a1897ce89160eba3105db39d8f31...</td>\n",
       "      <td>[676827002, 680187001, 631848002, 671505001, 6...</td>\n",
       "      <td>895376004 906097002 918240001</td>\n",
       "    </tr>\n",
       "    <tr>\n",
       "      <th>998</th>\n",
       "      <td>dfda51d629ba862c61c3db2e60933790aad0112766bcaa...</td>\n",
       "      <td>[562245001, 706016015, 706016006, 562245018, 5...</td>\n",
       "      <td>819547001 846353001</td>\n",
       "    </tr>\n",
       "    <tr>\n",
       "      <th>999</th>\n",
       "      <td>a302c02397a19a96ab970e93b51d375e229b2f168c4f07...</td>\n",
       "      <td>[448509014, 749699002, 749699001, 448509001, 7...</td>\n",
       "      <td>888763001</td>\n",
       "    </tr>\n",
       "  </tbody>\n",
       "</table>\n",
       "<p>1000 rows × 3 columns</p>\n",
       "</div>"
      ],
      "text/plain": [
       "                                           customer_id  \\\n",
       "0    e9ed8cba67c9057f8ede3a0f71183583fa9ec6cb80a7be...   \n",
       "1    81b0b53022e029935313f340f78e85285b89b274d9ab05...   \n",
       "2    a1161a62a6e20360e48d109c52d08442218fdf13652527...   \n",
       "3    33b8a520ca3e9a9eda9f63155ee628ab71949f626bf0fe...   \n",
       "4    29d4db756dbe47d53cf3fb088dc09745d45333ca068ed3...   \n",
       "..                                                 ...   \n",
       "995  43830264a98188a81c5331186eb7e1bfbb56cc013be510...   \n",
       "996  c298e6213dfb1d74e74b917a184ccac4de7be9ba216172...   \n",
       "997  51b2f31743b8660474a1897ce89160eba3105db39d8f31...   \n",
       "998  dfda51d629ba862c61c3db2e60933790aad0112766bcaa...   \n",
       "999  a302c02397a19a96ab970e93b51d375e229b2f168c4f07...   \n",
       "\n",
       "                                recommended_article_id  \\\n",
       "0    [678942001, 579541001, 664074001, 673396002, 3...   \n",
       "1    [759871003, 759871004, 733749001, 559630026, 5...   \n",
       "2    [685816001, 685816002, 685813001, 685814001, 7...   \n",
       "3    [741356002, 720125001, 717490008, 554479001, 8...   \n",
       "4    [507909001, 610776001, 695632002, 772005009, 5...   \n",
       "..                                                 ...   \n",
       "995  [351484002, 723529001, 699080001, 599580038, 5...   \n",
       "996  [749699002, 749699001, 716672001, 678942001, 6...   \n",
       "997  [676827002, 680187001, 631848002, 671505001, 6...   \n",
       "998  [562245001, 706016015, 706016006, 562245018, 5...   \n",
       "999  [448509014, 749699002, 749699001, 448509001, 7...   \n",
       "\n",
       "                                            article_id  \n",
       "0                                 826508007 905660002   \n",
       "1                                 372860001 914441004   \n",
       "2                                           739590041   \n",
       "3    932243002 933989001 923134002 921671001 922048...  \n",
       "4             909912001 856270003 909911001 918292011   \n",
       "..                                                 ...  \n",
       "995                               918890002 907188003   \n",
       "996                               902802005 902802002   \n",
       "997                     895376004 906097002 918240001   \n",
       "998                               819547001 846353001   \n",
       "999                                         888763001   \n",
       "\n",
       "[1000 rows x 3 columns]"
      ]
     },
     "execution_count": 97,
     "metadata": {},
     "output_type": "execute_result"
    }
   ],
   "source": [
    "actual_predicted_df = pd.merge(als_recommendations_df, new_test_data, on='customer_id')\n",
    "actual_predicted_df"
   ]
  },
  {
   "cell_type": "code",
   "execution_count": 98,
   "id": "94c266ae",
   "metadata": {},
   "outputs": [],
   "source": [
    "predicted_list = actual_predicted_df['recommended_article_id'].to_list()\n",
    "predicted = []\n",
    "for p in predicted_list:\n",
    "    p_int=[int(value) for value in p]\n",
    "    predicted.append(p_int)"
   ]
  },
  {
   "cell_type": "code",
   "execution_count": 100,
   "id": "62254bad",
   "metadata": {},
   "outputs": [],
   "source": [
    "articles_list = actual_predicted_df['article_id'].to_list()\n",
    "actual = []\n",
    "for a in articles_list:\n",
    "    arr=a[:-1].split(' ')\n",
    "    arr=[int(value) for value in arr]\n",
    "    actual.append(arr)"
   ]
  },
  {
   "cell_type": "code",
   "execution_count": 101,
   "id": "953a21da",
   "metadata": {},
   "outputs": [
    {
     "data": {
      "text/plain": [
       "0.0031008126953803645"
      ]
     },
     "execution_count": 101,
     "metadata": {},
     "output_type": "execute_result"
    }
   ],
   "source": [
    "map_als = mapk(actual, predicted, 50)\n",
    "map_als"
   ]
  },
  {
   "cell_type": "code",
   "execution_count": 102,
   "id": "41d63f00",
   "metadata": {},
   "outputs": [
    {
     "data": {
      "text/plain": [
       "0.0018500000000000012"
      ]
     },
     "execution_count": 102,
     "metadata": {},
     "output_type": "execute_result"
    }
   ],
   "source": [
    "p_score = avg_precision(actual, predicted)\n",
    "p_score"
   ]
  },
  {
   "cell_type": "code",
   "execution_count": 103,
   "id": "d79459e0",
   "metadata": {},
   "outputs": [
    {
     "data": {
      "text/plain": [
       "0.012257685969001755"
      ]
     },
     "execution_count": 103,
     "metadata": {},
     "output_type": "execute_result"
    }
   ],
   "source": [
    "r_score = avg_recall(actual, predicted)\n",
    "r_score"
   ]
  },
  {
   "cell_type": "code",
   "execution_count": null,
   "id": "ac5484e5",
   "metadata": {},
   "outputs": [],
   "source": []
  },
  {
   "cell_type": "markdown",
   "id": "dcabfe89",
   "metadata": {},
   "source": [
    "k=10"
   ]
  },
  {
   "cell_type": "code",
   "execution_count": 42,
   "id": "a76318ce",
   "metadata": {},
   "outputs": [],
   "source": [
    "k=10\n",
    "cust_list = list(set(new_test_data['customer_id'].to_list()))\n",
    "als_recommendations = als_recommend(k, cust_list, trans_df, sparse_user_item_matrix)"
   ]
  },
  {
   "cell_type": "code",
   "execution_count": 43,
   "id": "d51f70b8",
   "metadata": {},
   "outputs": [],
   "source": [
    "als_recommendations_df = pd.DataFrame(zip(cust_list, als_recommendations))\n",
    "als_recommendations_df.columns = ['customer_id', 'recommended_article_id']"
   ]
  },
  {
   "cell_type": "code",
   "execution_count": 47,
   "id": "1b2e23c1",
   "metadata": {},
   "outputs": [
    {
     "data": {
      "text/html": [
       "<div>\n",
       "<style scoped>\n",
       "    .dataframe tbody tr th:only-of-type {\n",
       "        vertical-align: middle;\n",
       "    }\n",
       "\n",
       "    .dataframe tbody tr th {\n",
       "        vertical-align: top;\n",
       "    }\n",
       "\n",
       "    .dataframe thead th {\n",
       "        text-align: right;\n",
       "    }\n",
       "</style>\n",
       "<table border=\"1\" class=\"dataframe\">\n",
       "  <thead>\n",
       "    <tr style=\"text-align: right;\">\n",
       "      <th></th>\n",
       "      <th>customer_id</th>\n",
       "      <th>recommended_article_id</th>\n",
       "      <th>article_id</th>\n",
       "    </tr>\n",
       "  </thead>\n",
       "  <tbody>\n",
       "    <tr>\n",
       "      <th>0</th>\n",
       "      <td>4a2fa5b2795cc3f468c75d7e8e274ad11c1cdb442de7bc...</td>\n",
       "      <td>[565379001, 355072002, 565379002, 741356002, 7...</td>\n",
       "      <td>804992002 720125041 720125042</td>\n",
       "    </tr>\n",
       "    <tr>\n",
       "      <th>1</th>\n",
       "      <td>c6eaf4563990da7f6bd1d243f59188aa96f99b3d530f2e...</td>\n",
       "      <td>[684209013, 684209027, 688537021, 757896001, 6...</td>\n",
       "      <td>934835001 912574002 911034001 912574003</td>\n",
       "    </tr>\n",
       "    <tr>\n",
       "      <th>2</th>\n",
       "      <td>ffa5a7175bc5200c22de5080edc254c81729114e200dd4...</td>\n",
       "      <td>[484398001, 720125001, 573716012, 539723005, 3...</td>\n",
       "      <td>570003001</td>\n",
       "    </tr>\n",
       "    <tr>\n",
       "      <th>3</th>\n",
       "      <td>dc0b497b65633e1116b0e7bfc25de26d1e2df5cf59f44e...</td>\n",
       "      <td>[778064001, 673677002, 678942001, 579541001, 8...</td>\n",
       "      <td>774113006 903487001 903487001 266875006 918765...</td>\n",
       "    </tr>\n",
       "    <tr>\n",
       "      <th>4</th>\n",
       "      <td>b210f8ce12324d791cb10a1a824c44bc20969da1935eb9...</td>\n",
       "      <td>[759871001, 228257001, 706016015, 706016006, 4...</td>\n",
       "      <td>923758001 927865001</td>\n",
       "    </tr>\n",
       "    <tr>\n",
       "      <th>...</th>\n",
       "      <td>...</td>\n",
       "      <td>...</td>\n",
       "      <td>...</td>\n",
       "    </tr>\n",
       "    <tr>\n",
       "      <th>995</th>\n",
       "      <td>a8e060a55d2a63a0444659371b9d25094499dd13f64098...</td>\n",
       "      <td>[598859003, 501323011, 688873012, 505221001, 6...</td>\n",
       "      <td>903824006 456163060</td>\n",
       "    </tr>\n",
       "    <tr>\n",
       "      <th>996</th>\n",
       "      <td>bd3c3bdd30fb0104a926b675b5889d9e56a7de1d9b6953...</td>\n",
       "      <td>[598859003, 501323011, 688873012, 505221001, 6...</td>\n",
       "      <td>872387002 915529005 825585002 797988001 797988...</td>\n",
       "    </tr>\n",
       "    <tr>\n",
       "      <th>997</th>\n",
       "      <td>588b16f2d9b34b4787a5b8ace215d05264e784f6b01666...</td>\n",
       "      <td>[751471001, 673677002, 783346001, 573716012, 4...</td>\n",
       "      <td>716670009</td>\n",
       "    </tr>\n",
       "    <tr>\n",
       "      <th>998</th>\n",
       "      <td>9075576138d35973d3842d15b9a9383affd0661e9054b7...</td>\n",
       "      <td>[598859003, 501323011, 688873012, 505221001, 6...</td>\n",
       "      <td>805000001</td>\n",
       "    </tr>\n",
       "    <tr>\n",
       "      <th>999</th>\n",
       "      <td>4537e08d45b3c67df525f3f71d32d177a676f61406c38d...</td>\n",
       "      <td>[611415001, 689109001, 719655001, 156231001, 6...</td>\n",
       "      <td>873679001</td>\n",
       "    </tr>\n",
       "  </tbody>\n",
       "</table>\n",
       "<p>1000 rows × 3 columns</p>\n",
       "</div>"
      ],
      "text/plain": [
       "                                           customer_id  \\\n",
       "0    4a2fa5b2795cc3f468c75d7e8e274ad11c1cdb442de7bc...   \n",
       "1    c6eaf4563990da7f6bd1d243f59188aa96f99b3d530f2e...   \n",
       "2    ffa5a7175bc5200c22de5080edc254c81729114e200dd4...   \n",
       "3    dc0b497b65633e1116b0e7bfc25de26d1e2df5cf59f44e...   \n",
       "4    b210f8ce12324d791cb10a1a824c44bc20969da1935eb9...   \n",
       "..                                                 ...   \n",
       "995  a8e060a55d2a63a0444659371b9d25094499dd13f64098...   \n",
       "996  bd3c3bdd30fb0104a926b675b5889d9e56a7de1d9b6953...   \n",
       "997  588b16f2d9b34b4787a5b8ace215d05264e784f6b01666...   \n",
       "998  9075576138d35973d3842d15b9a9383affd0661e9054b7...   \n",
       "999  4537e08d45b3c67df525f3f71d32d177a676f61406c38d...   \n",
       "\n",
       "                                recommended_article_id  \\\n",
       "0    [565379001, 355072002, 565379002, 741356002, 7...   \n",
       "1    [684209013, 684209027, 688537021, 757896001, 6...   \n",
       "2    [484398001, 720125001, 573716012, 539723005, 3...   \n",
       "3    [778064001, 673677002, 678942001, 579541001, 8...   \n",
       "4    [759871001, 228257001, 706016015, 706016006, 4...   \n",
       "..                                                 ...   \n",
       "995  [598859003, 501323011, 688873012, 505221001, 6...   \n",
       "996  [598859003, 501323011, 688873012, 505221001, 6...   \n",
       "997  [751471001, 673677002, 783346001, 573716012, 4...   \n",
       "998  [598859003, 501323011, 688873012, 505221001, 6...   \n",
       "999  [611415001, 689109001, 719655001, 156231001, 6...   \n",
       "\n",
       "                                            article_id  \n",
       "0                       804992002 720125041 720125042   \n",
       "1             934835001 912574002 911034001 912574003   \n",
       "2                                           570003001   \n",
       "3    774113006 903487001 903487001 266875006 918765...  \n",
       "4                                 923758001 927865001   \n",
       "..                                                 ...  \n",
       "995                               903824006 456163060   \n",
       "996  872387002 915529005 825585002 797988001 797988...  \n",
       "997                                         716670009   \n",
       "998                                         805000001   \n",
       "999                                         873679001   \n",
       "\n",
       "[1000 rows x 3 columns]"
      ]
     },
     "execution_count": 47,
     "metadata": {},
     "output_type": "execute_result"
    }
   ],
   "source": [
    "actual_predicted_df = pd.merge(als_recommendations_df, test_df, on='customer_id')\n",
    "actual_predicted_df"
   ]
  },
  {
   "cell_type": "code",
   "execution_count": 45,
   "metadata": {},
   "outputs": [],
   "source": [
    "predicted_list = actual_predicted_df['recommended_article_id'].to_list()\n",
    "predicted = []\n",
    "for p in predicted_list:\n",
    "    p_int=[int(value) for value in p]\n",
    "    predicted.append(p_int)"
   ]
  },
  {
   "cell_type": "code",
   "execution_count": 48,
   "id": "fbc59777",
   "metadata": {},
   "outputs": [],
   "source": [
    "articles_list = actual_predicted_df['article_id'].to_list()\n",
    "actual = []\n",
    "for a in articles_list:\n",
    "    arr=a[:-1].split(' ')\n",
    "    arr=[int(value) for value in arr]\n",
    "    actual.append(arr)"
   ]
  },
  {
   "cell_type": "code",
   "execution_count": 49,
   "id": "4b1028ca",
   "metadata": {},
   "outputs": [
    {
     "data": {
      "text/plain": [
       "0.0007564529914529913"
      ]
     },
     "execution_count": 49,
     "metadata": {},
     "output_type": "execute_result"
    }
   ],
   "source": [
    "map_als = mapk(actual, predicted, 50)\n",
    "map_als"
   ]
  },
  {
   "cell_type": "code",
   "execution_count": 50,
   "id": "b69c2511",
   "metadata": {},
   "outputs": [
    {
     "data": {
      "text/plain": [
       "0.0012"
      ]
     },
     "execution_count": 50,
     "metadata": {},
     "output_type": "execute_result"
    }
   ],
   "source": [
    "p_score = avg_precision(actual, predicted)\n",
    "p_score"
   ]
  },
  {
   "cell_type": "code",
   "execution_count": 51,
   "id": "792fb239",
   "metadata": {},
   "outputs": [
    {
     "data": {
      "text/plain": [
       "0.0025769230769230765"
      ]
     },
     "execution_count": 51,
     "metadata": {},
     "output_type": "execute_result"
    }
   ],
   "source": [
    "r_score = avg_recall(actual, predicted)\n",
    "r_score"
   ]
  },
  {
   "cell_type": "code",
   "execution_count": null,
   "id": "827606ca",
   "metadata": {},
   "outputs": [],
   "source": []
  },
  {
   "cell_type": "markdown",
   "id": "a5dfe2a2",
   "metadata": {},
   "source": [
    "k=50"
   ]
  },
  {
   "cell_type": "code",
   "execution_count": 127,
   "id": "a3fcbd6e",
   "metadata": {},
   "outputs": [],
   "source": [
    "k=50\n",
    "cust_list = list(set(new_test_data['customer_id'].to_list()))\n",
    "als_recommendations = als_recommend(k, cust_list, trans_df, sparse_user_item_matrix)"
   ]
  },
  {
   "cell_type": "code",
   "execution_count": 128,
   "id": "ba906bd2",
   "metadata": {},
   "outputs": [],
   "source": [
    "als_recommendations_df = pd.DataFrame(zip(cust_list, als_recommendations))\n",
    "als_recommendations_df.columns = ['customer_id', 'recommended_article_id']"
   ]
  },
  {
   "cell_type": "code",
   "execution_count": 129,
   "id": "6d6d75c9",
   "metadata": {},
   "outputs": [
    {
     "data": {
      "text/html": [
       "<div>\n",
       "<style scoped>\n",
       "    .dataframe tbody tr th:only-of-type {\n",
       "        vertical-align: middle;\n",
       "    }\n",
       "\n",
       "    .dataframe tbody tr th {\n",
       "        vertical-align: top;\n",
       "    }\n",
       "\n",
       "    .dataframe thead th {\n",
       "        text-align: right;\n",
       "    }\n",
       "</style>\n",
       "<table border=\"1\" class=\"dataframe\">\n",
       "  <thead>\n",
       "    <tr style=\"text-align: right;\">\n",
       "      <th></th>\n",
       "      <th>customer_id</th>\n",
       "      <th>recommended_article_id</th>\n",
       "      <th>article_id</th>\n",
       "    </tr>\n",
       "  </thead>\n",
       "  <tbody>\n",
       "    <tr>\n",
       "      <th>0</th>\n",
       "      <td>4a2fa5b2795cc3f468c75d7e8e274ad11c1cdb442de7bc...</td>\n",
       "      <td>[565379001, 355072002, 565379002, 741356002, 7...</td>\n",
       "      <td>804992002 720125041 720125042</td>\n",
       "    </tr>\n",
       "    <tr>\n",
       "      <th>1</th>\n",
       "      <td>c6eaf4563990da7f6bd1d243f59188aa96f99b3d530f2e...</td>\n",
       "      <td>[684209013, 684209027, 688537021, 757896001, 6...</td>\n",
       "      <td>934835001 912574002 911034001 912574003</td>\n",
       "    </tr>\n",
       "    <tr>\n",
       "      <th>2</th>\n",
       "      <td>ffa5a7175bc5200c22de5080edc254c81729114e200dd4...</td>\n",
       "      <td>[484398001, 720125001, 573716012, 539723005, 3...</td>\n",
       "      <td>570003001</td>\n",
       "    </tr>\n",
       "    <tr>\n",
       "      <th>3</th>\n",
       "      <td>dc0b497b65633e1116b0e7bfc25de26d1e2df5cf59f44e...</td>\n",
       "      <td>[778064001, 673677002, 678942001, 579541001, 8...</td>\n",
       "      <td>774113006 903487001 903487001 266875006 918765...</td>\n",
       "    </tr>\n",
       "    <tr>\n",
       "      <th>4</th>\n",
       "      <td>b210f8ce12324d791cb10a1a824c44bc20969da1935eb9...</td>\n",
       "      <td>[759871001, 228257001, 706016015, 706016006, 4...</td>\n",
       "      <td>923758001 927865001</td>\n",
       "    </tr>\n",
       "    <tr>\n",
       "      <th>...</th>\n",
       "      <td>...</td>\n",
       "      <td>...</td>\n",
       "      <td>...</td>\n",
       "    </tr>\n",
       "    <tr>\n",
       "      <th>995</th>\n",
       "      <td>a8e060a55d2a63a0444659371b9d25094499dd13f64098...</td>\n",
       "      <td>[567594001, 567475001, 427114015, 648719001, 6...</td>\n",
       "      <td>903824006 456163060</td>\n",
       "    </tr>\n",
       "    <tr>\n",
       "      <th>996</th>\n",
       "      <td>bd3c3bdd30fb0104a926b675b5889d9e56a7de1d9b6953...</td>\n",
       "      <td>[567594001, 567475001, 427114015, 648719001, 6...</td>\n",
       "      <td>872387002 915529005 825585002 797988001 797988...</td>\n",
       "    </tr>\n",
       "    <tr>\n",
       "      <th>997</th>\n",
       "      <td>588b16f2d9b34b4787a5b8ace215d05264e784f6b01666...</td>\n",
       "      <td>[751471001, 673677002, 783346001, 573716012, 4...</td>\n",
       "      <td>716670009</td>\n",
       "    </tr>\n",
       "    <tr>\n",
       "      <th>998</th>\n",
       "      <td>9075576138d35973d3842d15b9a9383affd0661e9054b7...</td>\n",
       "      <td>[567594001, 567475001, 427114015, 648719001, 6...</td>\n",
       "      <td>805000001</td>\n",
       "    </tr>\n",
       "    <tr>\n",
       "      <th>999</th>\n",
       "      <td>4537e08d45b3c67df525f3f71d32d177a676f61406c38d...</td>\n",
       "      <td>[611415001, 689109001, 719655001, 156231001, 6...</td>\n",
       "      <td>873679001</td>\n",
       "    </tr>\n",
       "  </tbody>\n",
       "</table>\n",
       "<p>1000 rows × 3 columns</p>\n",
       "</div>"
      ],
      "text/plain": [
       "                                           customer_id  \\\n",
       "0    4a2fa5b2795cc3f468c75d7e8e274ad11c1cdb442de7bc...   \n",
       "1    c6eaf4563990da7f6bd1d243f59188aa96f99b3d530f2e...   \n",
       "2    ffa5a7175bc5200c22de5080edc254c81729114e200dd4...   \n",
       "3    dc0b497b65633e1116b0e7bfc25de26d1e2df5cf59f44e...   \n",
       "4    b210f8ce12324d791cb10a1a824c44bc20969da1935eb9...   \n",
       "..                                                 ...   \n",
       "995  a8e060a55d2a63a0444659371b9d25094499dd13f64098...   \n",
       "996  bd3c3bdd30fb0104a926b675b5889d9e56a7de1d9b6953...   \n",
       "997  588b16f2d9b34b4787a5b8ace215d05264e784f6b01666...   \n",
       "998  9075576138d35973d3842d15b9a9383affd0661e9054b7...   \n",
       "999  4537e08d45b3c67df525f3f71d32d177a676f61406c38d...   \n",
       "\n",
       "                                recommended_article_id  \\\n",
       "0    [565379001, 355072002, 565379002, 741356002, 7...   \n",
       "1    [684209013, 684209027, 688537021, 757896001, 6...   \n",
       "2    [484398001, 720125001, 573716012, 539723005, 3...   \n",
       "3    [778064001, 673677002, 678942001, 579541001, 8...   \n",
       "4    [759871001, 228257001, 706016015, 706016006, 4...   \n",
       "..                                                 ...   \n",
       "995  [567594001, 567475001, 427114015, 648719001, 6...   \n",
       "996  [567594001, 567475001, 427114015, 648719001, 6...   \n",
       "997  [751471001, 673677002, 783346001, 573716012, 4...   \n",
       "998  [567594001, 567475001, 427114015, 648719001, 6...   \n",
       "999  [611415001, 689109001, 719655001, 156231001, 6...   \n",
       "\n",
       "                                            article_id  \n",
       "0                       804992002 720125041 720125042   \n",
       "1             934835001 912574002 911034001 912574003   \n",
       "2                                           570003001   \n",
       "3    774113006 903487001 903487001 266875006 918765...  \n",
       "4                                 923758001 927865001   \n",
       "..                                                 ...  \n",
       "995                               903824006 456163060   \n",
       "996  872387002 915529005 825585002 797988001 797988...  \n",
       "997                                         716670009   \n",
       "998                                         805000001   \n",
       "999                                         873679001   \n",
       "\n",
       "[1000 rows x 3 columns]"
      ]
     },
     "execution_count": 129,
     "metadata": {},
     "output_type": "execute_result"
    }
   ],
   "source": [
    "actual_predicted_df = pd.merge(als_recommendations_df, test_df, on='customer_id')\n",
    "actual_predicted_df"
   ]
  },
  {
   "cell_type": "code",
   "execution_count": 130,
   "id": "16902cfd",
   "metadata": {},
   "outputs": [],
   "source": [
    "predicted_list = actual_predicted_df['recommended_article_id'].to_list()\n",
    "predicted = []\n",
    "for p in predicted_list:\n",
    "    p_int=[int(value) for value in p]\n",
    "    predicted.append(p_int)"
   ]
  },
  {
   "cell_type": "code",
   "execution_count": 131,
   "id": "cc1e675f",
   "metadata": {},
   "outputs": [],
   "source": [
    "articles_list = actual_predicted_df['article_id'].to_list()\n",
    "actual = []\n",
    "for a in articles_list:\n",
    "    arr=a[:-1].split(' ')\n",
    "    arr=[int(value) for value in arr]\n",
    "    actual.append(arr)"
   ]
  },
  {
   "cell_type": "code",
   "execution_count": 132,
   "id": "d8a1d52c",
   "metadata": {},
   "outputs": [
    {
     "data": {
      "text/plain": [
       "0.003901472333667193"
      ]
     },
     "execution_count": 132,
     "metadata": {},
     "output_type": "execute_result"
    }
   ],
   "source": [
    "map_als = mapk(actual, predicted, 50)\n",
    "map_als"
   ]
  },
  {
   "cell_type": "code",
   "execution_count": 133,
   "id": "580fd714",
   "metadata": {},
   "outputs": [
    {
     "data": {
      "text/plain": [
       "0.0013800000000000008"
      ]
     },
     "execution_count": 133,
     "metadata": {},
     "output_type": "execute_result"
    }
   ],
   "source": [
    "p_score = avg_precision(actual, predicted)\n",
    "p_score"
   ]
  },
  {
   "cell_type": "code",
   "execution_count": 134,
   "id": "383c9e38",
   "metadata": {},
   "outputs": [
    {
     "data": {
      "text/plain": [
       "0.020926554621848732"
      ]
     },
     "execution_count": 134,
     "metadata": {},
     "output_type": "execute_result"
    }
   ],
   "source": [
    "r_score = avg_recall(actual, predicted)\n",
    "r_score"
   ]
  },
  {
   "cell_type": "code",
   "execution_count": null,
   "id": "f51159ab",
   "metadata": {},
   "outputs": [],
   "source": []
  },
  {
   "cell_type": "markdown",
   "id": "5e508b1a",
   "metadata": {},
   "source": [
    "k=100"
   ]
  },
  {
   "cell_type": "code",
   "execution_count": 135,
   "id": "7cc1fc6a",
   "metadata": {},
   "outputs": [],
   "source": [
    "k=100\n",
    "cust_list = list(set(new_test_data['customer_id'].to_list()))\n",
    "als_recommendations = als_recommend(k, cust_list, trans_df, sparse_user_item_matrix)"
   ]
  },
  {
   "cell_type": "code",
   "execution_count": 136,
   "metadata": {},
   "outputs": [],
   "source": [
    "als_recommendations_df = pd.DataFrame(zip(cust_list, als_recommendations))\n",
    "als_recommendations_df.columns = ['customer_id', 'recommended_article_id']"
   ]
  },
  {
   "cell_type": "code",
   "execution_count": 137,
   "id": "7d391fed",
   "metadata": {},
   "outputs": [],
   "source": [
    "actual_predicted_df = pd.merge(als_recommendations_df, test_df, on='customer_id')"
   ]
  },
  {
   "cell_type": "code",
   "execution_count": 138,
   "id": "496cc297",
   "metadata": {},
   "outputs": [],
   "source": [
    "predicted_list = actual_predicted_df['recommended_article_id'].to_list()\n",
    "predicted = []\n",
    "for p in predicted_list:\n",
    "    p_int=[int(value) for value in p]\n",
    "    predicted.append(p_int)"
   ]
  },
  {
   "cell_type": "code",
   "execution_count": 139,
   "id": "28930290",
   "metadata": {},
   "outputs": [],
   "source": [
    "articles_list = actual_predicted_df['article_id'].to_list()\n",
    "actual = []\n",
    "for a in articles_list:\n",
    "    arr=a[:-1].split(' ')\n",
    "    arr=[int(value) for value in arr]\n",
    "    actual.append(arr)"
   ]
  },
  {
   "cell_type": "code",
   "execution_count": 140,
   "id": "223043a1",
   "metadata": {},
   "outputs": [
    {
     "data": {
      "text/plain": [
       "0.0039095368497962255"
      ]
     },
     "execution_count": 140,
     "metadata": {},
     "output_type": "execute_result"
    }
   ],
   "source": [
    "map_als = mapk(actual, predicted, 50)\n",
    "map_als"
   ]
  },
  {
   "cell_type": "code",
   "execution_count": 141,
   "id": "0c5fe54d",
   "metadata": {},
   "outputs": [
    {
     "data": {
      "text/plain": [
       "0.0010500000000000008"
      ]
     },
     "execution_count": 141,
     "metadata": {},
     "output_type": "execute_result"
    }
   ],
   "source": [
    "p_score = avg_precision(actual, predicted)\n",
    "p_score"
   ]
  },
  {
   "cell_type": "code",
   "execution_count": 142,
   "metadata": {},
   "outputs": [
    {
     "data": {
      "text/plain": [
       "0.03251287496816908"
      ]
     },
     "execution_count": 142,
     "metadata": {},
     "output_type": "execute_result"
    }
   ],
   "source": [
    "r_score = avg_recall(actual, predicted)\n",
    "r_score"
   ]
  },
  {
   "cell_type": "code",
   "execution_count": null,
   "id": "5445d579",
   "metadata": {},
   "outputs": [],
   "source": []
  },
  {
   "cell_type": "markdown",
   "id": "4a96b837",
   "metadata": {},
   "source": [
    "#### Without new customers"
   ]
  },
  {
   "cell_type": "markdown",
   "id": "a5285d85",
   "metadata": {},
   "source": [
    "k=20"
   ]
  },
  {
   "cell_type": "code",
   "execution_count": 33,
   "id": "50398e91",
   "metadata": {},
   "outputs": [],
   "source": [
    "k=20\n",
    "cust_list = list(set(test_df_without_new_cust['customer_id'].to_list()))\n",
    "als_recommendations = als_recommend(k, cust_list, trans_df, sparse_user_item_matrix)"
   ]
  },
  {
   "cell_type": "code",
   "execution_count": 34,
   "id": "21c9aa53",
   "metadata": {},
   "outputs": [],
   "source": [
    "als_recommendations_df = pd.DataFrame(zip(cust_list, als_recommendations))\n",
    "als_recommendations_df.columns = ['customer_id', 'recommended_article_id']"
   ]
  },
  {
   "cell_type": "code",
   "execution_count": 45,
   "id": "8a10dfc8",
   "metadata": {},
   "outputs": [
    {
     "data": {
      "text/html": [
       "<div>\n",
       "<style scoped>\n",
       "    .dataframe tbody tr th:only-of-type {\n",
       "        vertical-align: middle;\n",
       "    }\n",
       "\n",
       "    .dataframe tbody tr th {\n",
       "        vertical-align: top;\n",
       "    }\n",
       "\n",
       "    .dataframe thead th {\n",
       "        text-align: right;\n",
       "    }\n",
       "</style>\n",
       "<table border=\"1\" class=\"dataframe\">\n",
       "  <thead>\n",
       "    <tr style=\"text-align: right;\">\n",
       "      <th></th>\n",
       "      <th>customer_id</th>\n",
       "      <th>recommended_article_id</th>\n",
       "    </tr>\n",
       "  </thead>\n",
       "  <tbody>\n",
       "    <tr>\n",
       "      <th>0</th>\n",
       "      <td>792f8ce728f5bc4b69e726345cba6c3036ce88b9b497c2...</td>\n",
       "      <td>[711053003, 673677002, 579541001, 751471001, 8...</td>\n",
       "    </tr>\n",
       "    <tr>\n",
       "      <th>1</th>\n",
       "      <td>0d44117d5f5a3092245c1f740b1fa5601860a9ebb1d4fb...</td>\n",
       "      <td>[565379001, 689109003, 692930003, 684341002, 6...</td>\n",
       "    </tr>\n",
       "    <tr>\n",
       "      <th>2</th>\n",
       "      <td>1c9a126a58d3e8102cb1ca50ef51871a8cf4455df9a51a...</td>\n",
       "      <td>[372860002, 156231001, 572797002, 610776001, 8...</td>\n",
       "    </tr>\n",
       "    <tr>\n",
       "      <th>3</th>\n",
       "      <td>f39b6301807b7f8f486d96f6ef60614e8eecb139bdbbd4...</td>\n",
       "      <td>[749699002, 716672001, 706016003, 783346001, 7...</td>\n",
       "    </tr>\n",
       "    <tr>\n",
       "      <th>4</th>\n",
       "      <td>92c88879302d4f46cc0ec2c74b92741311e4f310c01d90...</td>\n",
       "      <td>[610776001, 562245018, 562245046, 565379001, 5...</td>\n",
       "    </tr>\n",
       "    <tr>\n",
       "      <th>...</th>\n",
       "      <td>...</td>\n",
       "      <td>...</td>\n",
       "    </tr>\n",
       "    <tr>\n",
       "      <th>995</th>\n",
       "      <td>51891a6359009a86681b132e72afa833be593b49220e31...</td>\n",
       "      <td>[507909001, 507910001, 568601006, 579541001, 6...</td>\n",
       "    </tr>\n",
       "    <tr>\n",
       "      <th>996</th>\n",
       "      <td>260f462941459804fce77ed764a4b50764c5463d4b4fe6...</td>\n",
       "      <td>[156231001, 759871002, 673677002, 685816002, 2...</td>\n",
       "    </tr>\n",
       "    <tr>\n",
       "      <th>997</th>\n",
       "      <td>f0a8d7f9e01f8ca3ee78e5e7cd3d164136455d096fe698...</td>\n",
       "      <td>[673396002, 749699002, 610776001, 762846001, 7...</td>\n",
       "    </tr>\n",
       "    <tr>\n",
       "      <th>998</th>\n",
       "      <td>07b00f3278dd6dffd6280dadd6372a478c6eb7fbec431b...</td>\n",
       "      <td>[806388001, 806388003, 372860002, 564786001, 7...</td>\n",
       "    </tr>\n",
       "    <tr>\n",
       "      <th>999</th>\n",
       "      <td>b56388d7aa387b45b9f397eb8fdc2d7abff62e7f1b3a50...</td>\n",
       "      <td>[610776001, 689109001, 758064001, 579541001, 6...</td>\n",
       "    </tr>\n",
       "  </tbody>\n",
       "</table>\n",
       "<p>1000 rows × 2 columns</p>\n",
       "</div>"
      ],
      "text/plain": [
       "                                           customer_id  \\\n",
       "0    792f8ce728f5bc4b69e726345cba6c3036ce88b9b497c2...   \n",
       "1    0d44117d5f5a3092245c1f740b1fa5601860a9ebb1d4fb...   \n",
       "2    1c9a126a58d3e8102cb1ca50ef51871a8cf4455df9a51a...   \n",
       "3    f39b6301807b7f8f486d96f6ef60614e8eecb139bdbbd4...   \n",
       "4    92c88879302d4f46cc0ec2c74b92741311e4f310c01d90...   \n",
       "..                                                 ...   \n",
       "995  51891a6359009a86681b132e72afa833be593b49220e31...   \n",
       "996  260f462941459804fce77ed764a4b50764c5463d4b4fe6...   \n",
       "997  f0a8d7f9e01f8ca3ee78e5e7cd3d164136455d096fe698...   \n",
       "998  07b00f3278dd6dffd6280dadd6372a478c6eb7fbec431b...   \n",
       "999  b56388d7aa387b45b9f397eb8fdc2d7abff62e7f1b3a50...   \n",
       "\n",
       "                                recommended_article_id  \n",
       "0    [711053003, 673677002, 579541001, 751471001, 8...  \n",
       "1    [565379001, 689109003, 692930003, 684341002, 6...  \n",
       "2    [372860002, 156231001, 572797002, 610776001, 8...  \n",
       "3    [749699002, 716672001, 706016003, 783346001, 7...  \n",
       "4    [610776001, 562245018, 562245046, 565379001, 5...  \n",
       "..                                                 ...  \n",
       "995  [507909001, 507910001, 568601006, 579541001, 6...  \n",
       "996  [156231001, 759871002, 673677002, 685816002, 2...  \n",
       "997  [673396002, 749699002, 610776001, 762846001, 7...  \n",
       "998  [806388001, 806388003, 372860002, 564786001, 7...  \n",
       "999  [610776001, 689109001, 758064001, 579541001, 6...  \n",
       "\n",
       "[1000 rows x 2 columns]"
      ]
     },
     "execution_count": 45,
     "metadata": {},
     "output_type": "execute_result"
    }
   ],
   "source": [
    "als_recommendations_df"
   ]
  },
  {
   "cell_type": "code",
   "execution_count": 48,
   "id": "9531c542",
   "metadata": {},
   "outputs": [
    {
     "data": {
      "text/html": [
       "<div>\n",
       "<style scoped>\n",
       "    .dataframe tbody tr th:only-of-type {\n",
       "        vertical-align: middle;\n",
       "    }\n",
       "\n",
       "    .dataframe tbody tr th {\n",
       "        vertical-align: top;\n",
       "    }\n",
       "\n",
       "    .dataframe thead th {\n",
       "        text-align: right;\n",
       "    }\n",
       "</style>\n",
       "<table border=\"1\" class=\"dataframe\">\n",
       "  <thead>\n",
       "    <tr style=\"text-align: right;\">\n",
       "      <th></th>\n",
       "      <th>customer_id</th>\n",
       "      <th>recommended_article_id</th>\n",
       "      <th>article_id</th>\n",
       "    </tr>\n",
       "  </thead>\n",
       "  <tbody>\n",
       "    <tr>\n",
       "      <th>0</th>\n",
       "      <td>792f8ce728f5bc4b69e726345cba6c3036ce88b9b497c2...</td>\n",
       "      <td>[711053003, 673677002, 579541001, 751471001, 8...</td>\n",
       "      <td>803757015 594987024</td>\n",
       "    </tr>\n",
       "    <tr>\n",
       "      <th>1</th>\n",
       "      <td>0d44117d5f5a3092245c1f740b1fa5601860a9ebb1d4fb...</td>\n",
       "      <td>[565379001, 689109003, 692930003, 684341002, 6...</td>\n",
       "      <td>711053003 598755001 598755002</td>\n",
       "    </tr>\n",
       "    <tr>\n",
       "      <th>2</th>\n",
       "      <td>1c9a126a58d3e8102cb1ca50ef51871a8cf4455df9a51a...</td>\n",
       "      <td>[372860002, 156231001, 572797002, 610776001, 8...</td>\n",
       "      <td>873279001 873279005</td>\n",
       "    </tr>\n",
       "    <tr>\n",
       "      <th>3</th>\n",
       "      <td>f39b6301807b7f8f486d96f6ef60614e8eecb139bdbbd4...</td>\n",
       "      <td>[749699002, 716672001, 706016003, 783346001, 7...</td>\n",
       "      <td>917919002 850917006</td>\n",
       "    </tr>\n",
       "    <tr>\n",
       "      <th>4</th>\n",
       "      <td>92c88879302d4f46cc0ec2c74b92741311e4f310c01d90...</td>\n",
       "      <td>[610776001, 562245018, 562245046, 565379001, 5...</td>\n",
       "      <td>936610001 919499010</td>\n",
       "    </tr>\n",
       "    <tr>\n",
       "      <th>...</th>\n",
       "      <td>...</td>\n",
       "      <td>...</td>\n",
       "      <td>...</td>\n",
       "    </tr>\n",
       "    <tr>\n",
       "      <th>995</th>\n",
       "      <td>51891a6359009a86681b132e72afa833be593b49220e31...</td>\n",
       "      <td>[507909001, 507910001, 568601006, 579541001, 6...</td>\n",
       "      <td>894768001 894768001</td>\n",
       "    </tr>\n",
       "    <tr>\n",
       "      <th>996</th>\n",
       "      <td>260f462941459804fce77ed764a4b50764c5463d4b4fe6...</td>\n",
       "      <td>[156231001, 759871002, 673677002, 685816002, 2...</td>\n",
       "      <td>825580001</td>\n",
       "    </tr>\n",
       "    <tr>\n",
       "      <th>997</th>\n",
       "      <td>f0a8d7f9e01f8ca3ee78e5e7cd3d164136455d096fe698...</td>\n",
       "      <td>[673396002, 749699002, 610776001, 762846001, 7...</td>\n",
       "      <td>851094008 892983001 868823008 804992016 851094...</td>\n",
       "    </tr>\n",
       "    <tr>\n",
       "      <th>998</th>\n",
       "      <td>07b00f3278dd6dffd6280dadd6372a478c6eb7fbec431b...</td>\n",
       "      <td>[806388001, 806388003, 372860002, 564786001, 7...</td>\n",
       "      <td>915526002</td>\n",
       "    </tr>\n",
       "    <tr>\n",
       "      <th>999</th>\n",
       "      <td>b56388d7aa387b45b9f397eb8fdc2d7abff62e7f1b3a50...</td>\n",
       "      <td>[610776001, 689109001, 758064001, 579541001, 6...</td>\n",
       "      <td>919365007 919365007</td>\n",
       "    </tr>\n",
       "  </tbody>\n",
       "</table>\n",
       "<p>1000 rows × 3 columns</p>\n",
       "</div>"
      ],
      "text/plain": [
       "                                           customer_id  \\\n",
       "0    792f8ce728f5bc4b69e726345cba6c3036ce88b9b497c2...   \n",
       "1    0d44117d5f5a3092245c1f740b1fa5601860a9ebb1d4fb...   \n",
       "2    1c9a126a58d3e8102cb1ca50ef51871a8cf4455df9a51a...   \n",
       "3    f39b6301807b7f8f486d96f6ef60614e8eecb139bdbbd4...   \n",
       "4    92c88879302d4f46cc0ec2c74b92741311e4f310c01d90...   \n",
       "..                                                 ...   \n",
       "995  51891a6359009a86681b132e72afa833be593b49220e31...   \n",
       "996  260f462941459804fce77ed764a4b50764c5463d4b4fe6...   \n",
       "997  f0a8d7f9e01f8ca3ee78e5e7cd3d164136455d096fe698...   \n",
       "998  07b00f3278dd6dffd6280dadd6372a478c6eb7fbec431b...   \n",
       "999  b56388d7aa387b45b9f397eb8fdc2d7abff62e7f1b3a50...   \n",
       "\n",
       "                                recommended_article_id  \\\n",
       "0    [711053003, 673677002, 579541001, 751471001, 8...   \n",
       "1    [565379001, 689109003, 692930003, 684341002, 6...   \n",
       "2    [372860002, 156231001, 572797002, 610776001, 8...   \n",
       "3    [749699002, 716672001, 706016003, 783346001, 7...   \n",
       "4    [610776001, 562245018, 562245046, 565379001, 5...   \n",
       "..                                                 ...   \n",
       "995  [507909001, 507910001, 568601006, 579541001, 6...   \n",
       "996  [156231001, 759871002, 673677002, 685816002, 2...   \n",
       "997  [673396002, 749699002, 610776001, 762846001, 7...   \n",
       "998  [806388001, 806388003, 372860002, 564786001, 7...   \n",
       "999  [610776001, 689109001, 758064001, 579541001, 6...   \n",
       "\n",
       "                                            article_id  \n",
       "0                                 803757015 594987024   \n",
       "1                       711053003 598755001 598755002   \n",
       "2                                 873279001 873279005   \n",
       "3                                 917919002 850917006   \n",
       "4                                 936610001 919499010   \n",
       "..                                                 ...  \n",
       "995                               894768001 894768001   \n",
       "996                                         825580001   \n",
       "997  851094008 892983001 868823008 804992016 851094...  \n",
       "998                                         915526002   \n",
       "999                               919365007 919365007   \n",
       "\n",
       "[1000 rows x 3 columns]"
      ]
     },
     "execution_count": 48,
     "metadata": {},
     "output_type": "execute_result"
    }
   ],
   "source": [
    "actual_predicted_df = pd.merge(als_recommendations_df, test_df_without_new_cust, on='customer_id')\n",
    "actual_predicted_df"
   ]
  },
  {
   "cell_type": "code",
   "execution_count": 49,
   "id": "e42c75e5",
   "metadata": {},
   "outputs": [],
   "source": [
    "predicted_list = actual_predicted_df['recommended_article_id'].to_list()\n",
    "predicted = []\n",
    "for p in predicted_list:\n",
    "    p_int=[int(value) for value in p]\n",
    "    predicted.append(p_int)"
   ]
  },
  {
   "cell_type": "code",
   "execution_count": 51,
   "id": "6741d3e4",
   "metadata": {},
   "outputs": [],
   "source": [
    "articles_list = actual_predicted_df['article_id'].to_list()\n",
    "actual = []\n",
    "for a in articles_list:\n",
    "    arr=a[:-1].split(' ')\n",
    "    arr=[int(value) for value in arr]\n",
    "    actual.append(arr)"
   ]
  },
  {
   "cell_type": "code",
   "execution_count": 52,
   "id": "72e8c698",
   "metadata": {},
   "outputs": [
    {
     "data": {
      "text/plain": [
       "0.0045476465749212484"
      ]
     },
     "execution_count": 52,
     "metadata": {},
     "output_type": "execute_result"
    }
   ],
   "source": [
    "map_als = mapk(actual, predicted, 50)\n",
    "map_als"
   ]
  },
  {
   "cell_type": "code",
   "execution_count": 53,
   "metadata": {},
   "outputs": [
    {
     "data": {
      "text/plain": [
       "0.0023500000000000005"
      ]
     },
     "execution_count": 53,
     "metadata": {},
     "output_type": "execute_result"
    }
   ],
   "source": [
    "p_score = avg_precision(actual, predicted)\n",
    "p_score"
   ]
  },
  {
   "cell_type": "code",
   "execution_count": 54,
   "id": "a30266c5",
   "metadata": {},
   "outputs": [
    {
     "data": {
      "text/plain": [
       "0.015030387317025244"
      ]
     },
     "execution_count": 54,
     "metadata": {},
     "output_type": "execute_result"
    }
   ],
   "source": [
    "r_score = avg_recall(actual, predicted)\n",
    "r_score"
   ]
  },
  {
   "cell_type": "code",
   "execution_count": null,
   "id": "5fbb9413",
   "metadata": {},
   "outputs": [],
   "source": []
  },
  {
   "cell_type": "markdown",
   "id": "fa1ff8c4",
   "metadata": {},
   "source": [
    "k=10"
   ]
  },
  {
   "cell_type": "code",
   "execution_count": 52,
   "id": "c21ed679",
   "metadata": {},
   "outputs": [],
   "source": [
    "k=10\n",
    "cust_list = list(set(test_df_without_new_cust['customer_id'].to_list()))\n",
    "als_recommendations = als_recommend(k, cust_list, trans_df, sparse_user_item_matrix)"
   ]
  },
  {
   "cell_type": "code",
   "execution_count": 53,
   "metadata": {},
   "outputs": [],
   "source": [
    "als_recommendations_df = pd.DataFrame(zip(cust_list, als_recommendations))\n",
    "als_recommendations_df.columns = ['customer_id', 'recommended_article_id']"
   ]
  },
  {
   "cell_type": "code",
   "execution_count": 54,
   "id": "d36a3630",
   "metadata": {},
   "outputs": [
    {
     "data": {
      "text/html": [
       "<div>\n",
       "<style scoped>\n",
       "    .dataframe tbody tr th:only-of-type {\n",
       "        vertical-align: middle;\n",
       "    }\n",
       "\n",
       "    .dataframe tbody tr th {\n",
       "        vertical-align: top;\n",
       "    }\n",
       "\n",
       "    .dataframe thead th {\n",
       "        text-align: right;\n",
       "    }\n",
       "</style>\n",
       "<table border=\"1\" class=\"dataframe\">\n",
       "  <thead>\n",
       "    <tr style=\"text-align: right;\">\n",
       "      <th></th>\n",
       "      <th>customer_id</th>\n",
       "      <th>recommended_article_id</th>\n",
       "      <th>article_id</th>\n",
       "    </tr>\n",
       "  </thead>\n",
       "  <tbody>\n",
       "    <tr>\n",
       "      <th>0</th>\n",
       "      <td>f18eb9c5ae3301e4baeac7d5df009711caeffef4a962a5...</td>\n",
       "      <td>[673396002, 806388002, 685816001, 156231001, 6...</td>\n",
       "      <td>896152001</td>\n",
       "    </tr>\n",
       "    <tr>\n",
       "      <th>1</th>\n",
       "      <td>4b71eab59fe2804f40207d9fa66ea903bc35ce4764f2ba...</td>\n",
       "      <td>[507909001, 568601006, 673396002, 695632002, 6...</td>\n",
       "      <td>888700002 785018003 785018003</td>\n",
       "    </tr>\n",
       "    <tr>\n",
       "      <th>2</th>\n",
       "      <td>376f69dfec0114d633cc22cff5a5d3be9e58fe7ddbc306...</td>\n",
       "      <td>[448509014, 758064001, 758060001, 160442007, 1...</td>\n",
       "      <td>851546003</td>\n",
       "    </tr>\n",
       "    <tr>\n",
       "      <th>3</th>\n",
       "      <td>2ae93e13f0e94a9e08d72abd365c49f8bd16f042a071b5...</td>\n",
       "      <td>[399223029, 399223033, 562245001, 160442007, 5...</td>\n",
       "      <td>806388018 865799006 706016001</td>\n",
       "    </tr>\n",
       "    <tr>\n",
       "      <th>4</th>\n",
       "      <td>48811e5a747119cff4e5f6ca8335381fce15a275152261...</td>\n",
       "      <td>[711053003, 720125001, 751471001, 590928001, 5...</td>\n",
       "      <td>915292001 866731001</td>\n",
       "    </tr>\n",
       "    <tr>\n",
       "      <th>...</th>\n",
       "      <td>...</td>\n",
       "      <td>...</td>\n",
       "      <td>...</td>\n",
       "    </tr>\n",
       "    <tr>\n",
       "      <th>995</th>\n",
       "      <td>fc1dc29d8662415a175c7ff0314529fb134d4f2a75a71c...</td>\n",
       "      <td>[600886001, 717490008, 554479001, 753737001, 6...</td>\n",
       "      <td>866528001 902400001 904230003</td>\n",
       "    </tr>\n",
       "    <tr>\n",
       "      <th>996</th>\n",
       "      <td>0e9b018448b2914d884e3ec4d4c099655da4de5c97c8a4...</td>\n",
       "      <td>[706016006, 706016015, 562245050, 610776001, 3...</td>\n",
       "      <td>885077001 914449001 916336001 893820001</td>\n",
       "    </tr>\n",
       "    <tr>\n",
       "      <th>997</th>\n",
       "      <td>3b5fdc79a973ad1de76675e2906d8943cfbc5db51e34fc...</td>\n",
       "      <td>[678942001, 673677004, 579541001, 591334003, 3...</td>\n",
       "      <td>910601001</td>\n",
       "    </tr>\n",
       "    <tr>\n",
       "      <th>998</th>\n",
       "      <td>67d8ed4c29e184d4ecec1223a53134881df5a0dfe23017...</td>\n",
       "      <td>[399087014, 399223029, 658030011, 658030001, 3...</td>\n",
       "      <td>916881001 810172018 939845001</td>\n",
       "    </tr>\n",
       "    <tr>\n",
       "      <th>999</th>\n",
       "      <td>8f018b04cd3205fcc6a16d8852c55edc63da650488181a...</td>\n",
       "      <td>[590928001, 866383001, 572797001, 600886001, 5...</td>\n",
       "      <td>861803009 866731001 915292001</td>\n",
       "    </tr>\n",
       "  </tbody>\n",
       "</table>\n",
       "<p>1000 rows × 3 columns</p>\n",
       "</div>"
      ],
      "text/plain": [
       "                                           customer_id  \\\n",
       "0    f18eb9c5ae3301e4baeac7d5df009711caeffef4a962a5...   \n",
       "1    4b71eab59fe2804f40207d9fa66ea903bc35ce4764f2ba...   \n",
       "2    376f69dfec0114d633cc22cff5a5d3be9e58fe7ddbc306...   \n",
       "3    2ae93e13f0e94a9e08d72abd365c49f8bd16f042a071b5...   \n",
       "4    48811e5a747119cff4e5f6ca8335381fce15a275152261...   \n",
       "..                                                 ...   \n",
       "995  fc1dc29d8662415a175c7ff0314529fb134d4f2a75a71c...   \n",
       "996  0e9b018448b2914d884e3ec4d4c099655da4de5c97c8a4...   \n",
       "997  3b5fdc79a973ad1de76675e2906d8943cfbc5db51e34fc...   \n",
       "998  67d8ed4c29e184d4ecec1223a53134881df5a0dfe23017...   \n",
       "999  8f018b04cd3205fcc6a16d8852c55edc63da650488181a...   \n",
       "\n",
       "                                recommended_article_id  \\\n",
       "0    [673396002, 806388002, 685816001, 156231001, 6...   \n",
       "1    [507909001, 568601006, 673396002, 695632002, 6...   \n",
       "2    [448509014, 758064001, 758060001, 160442007, 1...   \n",
       "3    [399223029, 399223033, 562245001, 160442007, 5...   \n",
       "4    [711053003, 720125001, 751471001, 590928001, 5...   \n",
       "..                                                 ...   \n",
       "995  [600886001, 717490008, 554479001, 753737001, 6...   \n",
       "996  [706016006, 706016015, 562245050, 610776001, 3...   \n",
       "997  [678942001, 673677004, 579541001, 591334003, 3...   \n",
       "998  [399087014, 399223029, 658030011, 658030001, 3...   \n",
       "999  [590928001, 866383001, 572797001, 600886001, 5...   \n",
       "\n",
       "                                   article_id  \n",
       "0                                  896152001   \n",
       "1              888700002 785018003 785018003   \n",
       "2                                  851546003   \n",
       "3              806388018 865799006 706016001   \n",
       "4                        915292001 866731001   \n",
       "..                                        ...  \n",
       "995            866528001 902400001 904230003   \n",
       "996  885077001 914449001 916336001 893820001   \n",
       "997                                910601001   \n",
       "998            916881001 810172018 939845001   \n",
       "999            861803009 866731001 915292001   \n",
       "\n",
       "[1000 rows x 3 columns]"
      ]
     },
     "execution_count": 54,
     "metadata": {},
     "output_type": "execute_result"
    }
   ],
   "source": [
    "actual_predicted_df = pd.merge(als_recommendations_df, test_df_without_new_cust, on='customer_id')\n",
    "actual_predicted_df"
   ]
  },
  {
   "cell_type": "code",
   "execution_count": 55,
   "id": "0129d2cd",
   "metadata": {},
   "outputs": [],
   "source": [
    "predicted_list = actual_predicted_df['recommended_article_id'].to_list()\n",
    "predicted = []\n",
    "for p in predicted_list:\n",
    "    p_int=[int(value) for value in p]\n",
    "    predicted.append(p_int)"
   ]
  },
  {
   "cell_type": "code",
   "execution_count": 56,
   "metadata": {},
   "outputs": [],
   "source": [
    "articles_list = actual_predicted_df['article_id'].to_list()\n",
    "actual = []\n",
    "for a in articles_list:\n",
    "    arr=a[:-1].split(' ')\n",
    "    arr=[int(value) for value in arr]\n",
    "    actual.append(arr)"
   ]
  },
  {
   "cell_type": "code",
   "execution_count": 57,
   "id": "8c065434",
   "metadata": {},
   "outputs": [
    {
     "data": {
      "text/plain": [
       "0.0032306305114638448"
      ]
     },
     "execution_count": 57,
     "metadata": {},
     "output_type": "execute_result"
    }
   ],
   "source": [
    "map_als = mapk(actual, predicted, 50)\n",
    "map_als"
   ]
  },
  {
   "cell_type": "code",
   "execution_count": 58,
   "metadata": {},
   "outputs": [
    {
     "data": {
      "text/plain": [
       "0.002600000000000001"
      ]
     },
     "execution_count": 58,
     "metadata": {},
     "output_type": "execute_result"
    }
   ],
   "source": [
    "p_score = avg_precision(actual, predicted)\n",
    "p_score"
   ]
  },
  {
   "cell_type": "code",
   "execution_count": 59,
   "metadata": {},
   "outputs": [
    {
     "data": {
      "text/plain": [
       "0.008509523809523809"
      ]
     },
     "execution_count": 59,
     "metadata": {},
     "output_type": "execute_result"
    }
   ],
   "source": [
    "r_score = avg_recall(actual, predicted)\n",
    "r_score"
   ]
  },
  {
   "cell_type": "code",
   "execution_count": null,
   "id": "926e3008",
   "metadata": {},
   "outputs": [],
   "source": []
  },
  {
   "cell_type": "markdown",
   "id": "cbda7c1f",
   "metadata": {},
   "source": [
    "k=50"
   ]
  },
  {
   "cell_type": "code",
   "execution_count": 143,
   "id": "96d31e34",
   "metadata": {},
   "outputs": [],
   "source": [
    "k=50\n",
    "cust_list = list(set(test_df_without_new_cust['customer_id'].to_list()))\n",
    "als_recommendations = als_recommend(k, cust_list, trans_df, sparse_user_item_matrix)"
   ]
  },
  {
   "cell_type": "code",
   "execution_count": 144,
   "id": "c64af202",
   "metadata": {},
   "outputs": [],
   "source": [
    "als_recommendations_df = pd.DataFrame(zip(cust_list, als_recommendations))\n",
    "als_recommendations_df.columns = ['customer_id', 'recommended_article_id']"
   ]
  },
  {
   "cell_type": "code",
   "execution_count": 145,
   "id": "ffbb8072",
   "metadata": {},
   "outputs": [],
   "source": [
    "actual_predicted_df = pd.merge(als_recommendations_df, test_df_without_new_cust, on='customer_id')"
   ]
  },
  {
   "cell_type": "code",
   "execution_count": 146,
   "id": "55fe2409",
   "metadata": {},
   "outputs": [],
   "source": [
    "predicted_list = actual_predicted_df['recommended_article_id'].to_list()\n",
    "predicted = []\n",
    "for p in predicted_list:\n",
    "    p_int=[int(value) for value in p]\n",
    "    predicted.append(p_int)"
   ]
  },
  {
   "cell_type": "code",
   "execution_count": 147,
   "id": "6d4697d4",
   "metadata": {},
   "outputs": [],
   "source": [
    "articles_list = actual_predicted_df['article_id'].to_list()\n",
    "actual = []\n",
    "for a in articles_list:\n",
    "    arr=a[:-1].split(' ')\n",
    "    arr=[int(value) for value in arr]\n",
    "    actual.append(arr)"
   ]
  },
  {
   "cell_type": "code",
   "execution_count": 148,
   "id": "5f3de009",
   "metadata": {},
   "outputs": [
    {
     "data": {
      "text/plain": [
       "0.0037481654168786396"
      ]
     },
     "execution_count": 148,
     "metadata": {},
     "output_type": "execute_result"
    }
   ],
   "source": [
    "map_als = mapk(actual, predicted, 50)\n",
    "map_als"
   ]
  },
  {
   "cell_type": "code",
   "execution_count": 149,
   "id": "e2202312",
   "metadata": {},
   "outputs": [
    {
     "data": {
      "text/plain": [
       "0.0012600000000000007"
      ]
     },
     "execution_count": 149,
     "metadata": {},
     "output_type": "execute_result"
    }
   ],
   "source": [
    "p_score = avg_precision(actual, predicted)\n",
    "p_score"
   ]
  },
  {
   "cell_type": "code",
   "execution_count": 150,
   "id": "37b6e0fa",
   "metadata": {},
   "outputs": [
    {
     "data": {
      "text/plain": [
       "0.018135090702947842"
      ]
     },
     "execution_count": 150,
     "metadata": {},
     "output_type": "execute_result"
    }
   ],
   "source": [
    "r_score = avg_recall(actual, predicted)\n",
    "r_score"
   ]
  },
  {
   "cell_type": "markdown",
   "id": "ae0c9b91",
   "metadata": {},
   "source": [
    "k=100"
   ]
  },
  {
   "cell_type": "code",
   "execution_count": 151,
   "id": "d46b4956",
   "metadata": {},
   "outputs": [],
   "source": [
    "k=100\n",
    "cust_list = list(set(test_df_without_new_cust['customer_id'].to_list()))\n",
    "als_recommendations = als_recommend(k, cust_list, trans_df, sparse_user_item_matrix)"
   ]
  },
  {
   "cell_type": "code",
   "execution_count": 152,
   "id": "1664ef7b",
   "metadata": {},
   "outputs": [],
   "source": [
    "als_recommendations_df = pd.DataFrame(zip(cust_list, als_recommendations))\n",
    "als_recommendations_df.columns = ['customer_id', 'recommended_article_id']"
   ]
  },
  {
   "cell_type": "code",
   "execution_count": 153,
   "metadata": {},
   "outputs": [],
   "source": [
    "actual_predicted_df = pd.merge(als_recommendations_df, test_df_without_new_cust, on='customer_id')"
   ]
  },
  {
   "cell_type": "code",
   "execution_count": 154,
   "id": "29d793d0",
   "metadata": {},
   "outputs": [],
   "source": [
    "predicted_list = actual_predicted_df['recommended_article_id'].to_list()\n",
    "predicted = []\n",
    "for p in predicted_list:\n",
    "    p_int=[int(value) for value in p]\n",
    "    predicted.append(p_int)"
   ]
  },
  {
   "cell_type": "code",
   "execution_count": 155,
   "id": "9ebc1250",
   "metadata": {},
   "outputs": [],
   "source": [
    "articles_list = actual_predicted_df['article_id'].to_list()\n",
    "actual = []\n",
    "for a in articles_list:\n",
    "    arr=a[:-1].split(' ')\n",
    "    arr=[int(value) for value in arr]\n",
    "    actual.append(arr)"
   ]
  },
  {
   "cell_type": "code",
   "execution_count": 156,
   "id": "922cd923",
   "metadata": {},
   "outputs": [
    {
     "data": {
      "text/plain": [
       "0.0037481654168786396"
      ]
     },
     "execution_count": 156,
     "metadata": {},
     "output_type": "execute_result"
    }
   ],
   "source": [
    "map_als = mapk(actual, predicted, 50)\n",
    "map_als"
   ]
  },
  {
   "cell_type": "code",
   "execution_count": 157,
   "id": "f7d55d81",
   "metadata": {},
   "outputs": [
    {
     "data": {
      "text/plain": [
       "0.0009600000000000007"
      ]
     },
     "execution_count": 157,
     "metadata": {},
     "output_type": "execute_result"
    }
   ],
   "source": [
    "p_score = avg_precision(actual, predicted)\n",
    "p_score"
   ]
  },
  {
   "cell_type": "code",
   "execution_count": 158,
   "id": "b6587d7b",
   "metadata": {},
   "outputs": [
    {
     "data": {
      "text/plain": [
       "0.02723149429935143"
      ]
     },
     "execution_count": 158,
     "metadata": {},
     "output_type": "execute_result"
    }
   ],
   "source": [
    "r_score = avg_recall(actual, predicted)\n",
    "r_score"
   ]
  },
  {
   "cell_type": "code",
   "execution_count": null,
   "id": "865e3f37",
   "metadata": {},
   "outputs": [],
   "source": []
  }
 ],
 "metadata": {
  "interpreter": {
   "hash": "c9a3209b8883289a5e3d9d7bae4c155e09ac59603a5ebd86c8fd85cbafbad6e2"
  },
  "kernelspec": {
   "display_name": "Python 3.9.7 ('base')",
   "language": "python",
   "name": "python3"
  },
  "language_info": {
   "codemirror_mode": {
    "name": "ipython",
    "version": 3
   },
   "file_extension": ".py",
   "mimetype": "text/x-python",
   "name": "python",
   "nbconvert_exporter": "python",
   "pygments_lexer": "ipython3",
   "version": "3.9.7"
  }
 },
 "nbformat": 4,
 "nbformat_minor": 5
}
