{
 "cells": [
  {
   "cell_type": "markdown",
   "metadata": {},
   "source": [
    "### Imports"
   ]
  },
  {
   "cell_type": "code",
   "execution_count": 1,
   "metadata": {},
   "outputs": [],
   "source": [
    "import pandas as pd\n",
    "import matplotlib.pyplot as plt\n",
    "import numpy as np\n",
    "from datetime import datetime\n",
    "import os\n",
    "from PIL import Image\n",
    "\n",
    "%matplotlib inline"
   ]
  },
  {
   "cell_type": "code",
   "execution_count": 2,
   "metadata": {},
   "outputs": [
    {
     "data": {
      "text/html": [
       "<div>\n",
       "<style scoped>\n",
       "    .dataframe tbody tr th:only-of-type {\n",
       "        vertical-align: middle;\n",
       "    }\n",
       "\n",
       "    .dataframe tbody tr th {\n",
       "        vertical-align: top;\n",
       "    }\n",
       "\n",
       "    .dataframe thead th {\n",
       "        text-align: right;\n",
       "    }\n",
       "</style>\n",
       "<table border=\"1\" class=\"dataframe\">\n",
       "  <thead>\n",
       "    <tr style=\"text-align: right;\">\n",
       "      <th></th>\n",
       "      <th>article_id</th>\n",
       "      <th>product_code</th>\n",
       "      <th>prod_name</th>\n",
       "      <th>product_type_no</th>\n",
       "      <th>product_type_name</th>\n",
       "      <th>product_group_name</th>\n",
       "      <th>graphical_appearance_no</th>\n",
       "      <th>graphical_appearance_name</th>\n",
       "      <th>colour_group_code</th>\n",
       "      <th>colour_group_name</th>\n",
       "      <th>...</th>\n",
       "      <th>department_name</th>\n",
       "      <th>index_code</th>\n",
       "      <th>index_name</th>\n",
       "      <th>index_group_no</th>\n",
       "      <th>index_group_name</th>\n",
       "      <th>section_no</th>\n",
       "      <th>section_name</th>\n",
       "      <th>garment_group_no</th>\n",
       "      <th>garment_group_name</th>\n",
       "      <th>detail_desc</th>\n",
       "    </tr>\n",
       "  </thead>\n",
       "  <tbody>\n",
       "    <tr>\n",
       "      <th>0</th>\n",
       "      <td>108775015</td>\n",
       "      <td>108775</td>\n",
       "      <td>Strap top</td>\n",
       "      <td>253</td>\n",
       "      <td>Vest top</td>\n",
       "      <td>Garment Upper body</td>\n",
       "      <td>1010016</td>\n",
       "      <td>Solid</td>\n",
       "      <td>9</td>\n",
       "      <td>Black</td>\n",
       "      <td>...</td>\n",
       "      <td>Jersey Basic</td>\n",
       "      <td>A</td>\n",
       "      <td>Ladieswear</td>\n",
       "      <td>1</td>\n",
       "      <td>Ladieswear</td>\n",
       "      <td>16</td>\n",
       "      <td>Womens Everyday Basics</td>\n",
       "      <td>1002</td>\n",
       "      <td>Jersey Basic</td>\n",
       "      <td>Jersey top with narrow shoulder straps.</td>\n",
       "    </tr>\n",
       "    <tr>\n",
       "      <th>1</th>\n",
       "      <td>108775044</td>\n",
       "      <td>108775</td>\n",
       "      <td>Strap top</td>\n",
       "      <td>253</td>\n",
       "      <td>Vest top</td>\n",
       "      <td>Garment Upper body</td>\n",
       "      <td>1010016</td>\n",
       "      <td>Solid</td>\n",
       "      <td>10</td>\n",
       "      <td>White</td>\n",
       "      <td>...</td>\n",
       "      <td>Jersey Basic</td>\n",
       "      <td>A</td>\n",
       "      <td>Ladieswear</td>\n",
       "      <td>1</td>\n",
       "      <td>Ladieswear</td>\n",
       "      <td>16</td>\n",
       "      <td>Womens Everyday Basics</td>\n",
       "      <td>1002</td>\n",
       "      <td>Jersey Basic</td>\n",
       "      <td>Jersey top with narrow shoulder straps.</td>\n",
       "    </tr>\n",
       "    <tr>\n",
       "      <th>2</th>\n",
       "      <td>108775051</td>\n",
       "      <td>108775</td>\n",
       "      <td>Strap top (1)</td>\n",
       "      <td>253</td>\n",
       "      <td>Vest top</td>\n",
       "      <td>Garment Upper body</td>\n",
       "      <td>1010017</td>\n",
       "      <td>Stripe</td>\n",
       "      <td>11</td>\n",
       "      <td>Off White</td>\n",
       "      <td>...</td>\n",
       "      <td>Jersey Basic</td>\n",
       "      <td>A</td>\n",
       "      <td>Ladieswear</td>\n",
       "      <td>1</td>\n",
       "      <td>Ladieswear</td>\n",
       "      <td>16</td>\n",
       "      <td>Womens Everyday Basics</td>\n",
       "      <td>1002</td>\n",
       "      <td>Jersey Basic</td>\n",
       "      <td>Jersey top with narrow shoulder straps.</td>\n",
       "    </tr>\n",
       "    <tr>\n",
       "      <th>3</th>\n",
       "      <td>110065001</td>\n",
       "      <td>110065</td>\n",
       "      <td>OP T-shirt (Idro)</td>\n",
       "      <td>306</td>\n",
       "      <td>Bra</td>\n",
       "      <td>Underwear</td>\n",
       "      <td>1010016</td>\n",
       "      <td>Solid</td>\n",
       "      <td>9</td>\n",
       "      <td>Black</td>\n",
       "      <td>...</td>\n",
       "      <td>Clean Lingerie</td>\n",
       "      <td>B</td>\n",
       "      <td>Lingeries/Tights</td>\n",
       "      <td>1</td>\n",
       "      <td>Ladieswear</td>\n",
       "      <td>61</td>\n",
       "      <td>Womens Lingerie</td>\n",
       "      <td>1017</td>\n",
       "      <td>Under-, Nightwear</td>\n",
       "      <td>Microfibre T-shirt bra with underwired, moulde...</td>\n",
       "    </tr>\n",
       "    <tr>\n",
       "      <th>4</th>\n",
       "      <td>110065002</td>\n",
       "      <td>110065</td>\n",
       "      <td>OP T-shirt (Idro)</td>\n",
       "      <td>306</td>\n",
       "      <td>Bra</td>\n",
       "      <td>Underwear</td>\n",
       "      <td>1010016</td>\n",
       "      <td>Solid</td>\n",
       "      <td>10</td>\n",
       "      <td>White</td>\n",
       "      <td>...</td>\n",
       "      <td>Clean Lingerie</td>\n",
       "      <td>B</td>\n",
       "      <td>Lingeries/Tights</td>\n",
       "      <td>1</td>\n",
       "      <td>Ladieswear</td>\n",
       "      <td>61</td>\n",
       "      <td>Womens Lingerie</td>\n",
       "      <td>1017</td>\n",
       "      <td>Under-, Nightwear</td>\n",
       "      <td>Microfibre T-shirt bra with underwired, moulde...</td>\n",
       "    </tr>\n",
       "  </tbody>\n",
       "</table>\n",
       "<p>5 rows × 25 columns</p>\n",
       "</div>"
      ],
      "text/plain": [
       "   article_id  product_code          prod_name  product_type_no  \\\n",
       "0   108775015        108775          Strap top              253   \n",
       "1   108775044        108775          Strap top              253   \n",
       "2   108775051        108775      Strap top (1)              253   \n",
       "3   110065001        110065  OP T-shirt (Idro)              306   \n",
       "4   110065002        110065  OP T-shirt (Idro)              306   \n",
       "\n",
       "  product_type_name  product_group_name  graphical_appearance_no  \\\n",
       "0          Vest top  Garment Upper body                  1010016   \n",
       "1          Vest top  Garment Upper body                  1010016   \n",
       "2          Vest top  Garment Upper body                  1010017   \n",
       "3               Bra           Underwear                  1010016   \n",
       "4               Bra           Underwear                  1010016   \n",
       "\n",
       "  graphical_appearance_name  colour_group_code colour_group_name  ...  \\\n",
       "0                     Solid                  9             Black  ...   \n",
       "1                     Solid                 10             White  ...   \n",
       "2                    Stripe                 11         Off White  ...   \n",
       "3                     Solid                  9             Black  ...   \n",
       "4                     Solid                 10             White  ...   \n",
       "\n",
       "   department_name index_code        index_name index_group_no  \\\n",
       "0     Jersey Basic          A        Ladieswear              1   \n",
       "1     Jersey Basic          A        Ladieswear              1   \n",
       "2     Jersey Basic          A        Ladieswear              1   \n",
       "3   Clean Lingerie          B  Lingeries/Tights              1   \n",
       "4   Clean Lingerie          B  Lingeries/Tights              1   \n",
       "\n",
       "   index_group_name section_no            section_name garment_group_no  \\\n",
       "0        Ladieswear         16  Womens Everyday Basics             1002   \n",
       "1        Ladieswear         16  Womens Everyday Basics             1002   \n",
       "2        Ladieswear         16  Womens Everyday Basics             1002   \n",
       "3        Ladieswear         61         Womens Lingerie             1017   \n",
       "4        Ladieswear         61         Womens Lingerie             1017   \n",
       "\n",
       "   garment_group_name                                        detail_desc  \n",
       "0        Jersey Basic            Jersey top with narrow shoulder straps.  \n",
       "1        Jersey Basic            Jersey top with narrow shoulder straps.  \n",
       "2        Jersey Basic            Jersey top with narrow shoulder straps.  \n",
       "3   Under-, Nightwear  Microfibre T-shirt bra with underwired, moulde...  \n",
       "4   Under-, Nightwear  Microfibre T-shirt bra with underwired, moulde...  \n",
       "\n",
       "[5 rows x 25 columns]"
      ]
     },
     "execution_count": 2,
     "metadata": {},
     "output_type": "execute_result"
    }
   ],
   "source": [
    "articles = pd.read_csv('articles.csv')\n",
    "articles.head()"
   ]
  },
  {
   "cell_type": "code",
   "execution_count": 3,
   "metadata": {},
   "outputs": [
    {
     "data": {
      "text/html": [
       "<div>\n",
       "<style scoped>\n",
       "    .dataframe tbody tr th:only-of-type {\n",
       "        vertical-align: middle;\n",
       "    }\n",
       "\n",
       "    .dataframe tbody tr th {\n",
       "        vertical-align: top;\n",
       "    }\n",
       "\n",
       "    .dataframe thead th {\n",
       "        text-align: right;\n",
       "    }\n",
       "</style>\n",
       "<table border=\"1\" class=\"dataframe\">\n",
       "  <thead>\n",
       "    <tr style=\"text-align: right;\">\n",
       "      <th></th>\n",
       "      <th>customer_id</th>\n",
       "      <th>FN</th>\n",
       "      <th>Active</th>\n",
       "      <th>club_member_status</th>\n",
       "      <th>fashion_news_frequency</th>\n",
       "      <th>age</th>\n",
       "      <th>postal_code</th>\n",
       "    </tr>\n",
       "  </thead>\n",
       "  <tbody>\n",
       "    <tr>\n",
       "      <th>0</th>\n",
       "      <td>00000dbacae5abe5e23885899a1fa44253a17956c6d1c3...</td>\n",
       "      <td>NaN</td>\n",
       "      <td>NaN</td>\n",
       "      <td>ACTIVE</td>\n",
       "      <td>NONE</td>\n",
       "      <td>49.0</td>\n",
       "      <td>52043ee2162cf5aa7ee79974281641c6f11a68d276429a...</td>\n",
       "    </tr>\n",
       "    <tr>\n",
       "      <th>1</th>\n",
       "      <td>0000423b00ade91418cceaf3b26c6af3dd342b51fd051e...</td>\n",
       "      <td>NaN</td>\n",
       "      <td>NaN</td>\n",
       "      <td>ACTIVE</td>\n",
       "      <td>NONE</td>\n",
       "      <td>25.0</td>\n",
       "      <td>2973abc54daa8a5f8ccfe9362140c63247c5eee03f1d93...</td>\n",
       "    </tr>\n",
       "    <tr>\n",
       "      <th>2</th>\n",
       "      <td>000058a12d5b43e67d225668fa1f8d618c13dc232df0ca...</td>\n",
       "      <td>NaN</td>\n",
       "      <td>NaN</td>\n",
       "      <td>ACTIVE</td>\n",
       "      <td>NONE</td>\n",
       "      <td>24.0</td>\n",
       "      <td>64f17e6a330a85798e4998f62d0930d14db8db1c054af6...</td>\n",
       "    </tr>\n",
       "    <tr>\n",
       "      <th>3</th>\n",
       "      <td>00005ca1c9ed5f5146b52ac8639a40ca9d57aeff4d1bd2...</td>\n",
       "      <td>NaN</td>\n",
       "      <td>NaN</td>\n",
       "      <td>ACTIVE</td>\n",
       "      <td>NONE</td>\n",
       "      <td>54.0</td>\n",
       "      <td>5d36574f52495e81f019b680c843c443bd343d5ca5b1c2...</td>\n",
       "    </tr>\n",
       "    <tr>\n",
       "      <th>4</th>\n",
       "      <td>00006413d8573cd20ed7128e53b7b13819fe5cfc2d801f...</td>\n",
       "      <td>1.0</td>\n",
       "      <td>1.0</td>\n",
       "      <td>ACTIVE</td>\n",
       "      <td>Regularly</td>\n",
       "      <td>52.0</td>\n",
       "      <td>25fa5ddee9aac01b35208d01736e57942317d756b32ddd...</td>\n",
       "    </tr>\n",
       "  </tbody>\n",
       "</table>\n",
       "</div>"
      ],
      "text/plain": [
       "                                         customer_id   FN  Active  \\\n",
       "0  00000dbacae5abe5e23885899a1fa44253a17956c6d1c3...  NaN     NaN   \n",
       "1  0000423b00ade91418cceaf3b26c6af3dd342b51fd051e...  NaN     NaN   \n",
       "2  000058a12d5b43e67d225668fa1f8d618c13dc232df0ca...  NaN     NaN   \n",
       "3  00005ca1c9ed5f5146b52ac8639a40ca9d57aeff4d1bd2...  NaN     NaN   \n",
       "4  00006413d8573cd20ed7128e53b7b13819fe5cfc2d801f...  1.0     1.0   \n",
       "\n",
       "  club_member_status fashion_news_frequency   age  \\\n",
       "0             ACTIVE                   NONE  49.0   \n",
       "1             ACTIVE                   NONE  25.0   \n",
       "2             ACTIVE                   NONE  24.0   \n",
       "3             ACTIVE                   NONE  54.0   \n",
       "4             ACTIVE              Regularly  52.0   \n",
       "\n",
       "                                         postal_code  \n",
       "0  52043ee2162cf5aa7ee79974281641c6f11a68d276429a...  \n",
       "1  2973abc54daa8a5f8ccfe9362140c63247c5eee03f1d93...  \n",
       "2  64f17e6a330a85798e4998f62d0930d14db8db1c054af6...  \n",
       "3  5d36574f52495e81f019b680c843c443bd343d5ca5b1c2...  \n",
       "4  25fa5ddee9aac01b35208d01736e57942317d756b32ddd...  "
      ]
     },
     "execution_count": 3,
     "metadata": {},
     "output_type": "execute_result"
    }
   ],
   "source": [
    "customers = pd.read_csv('customers.csv')\n",
    "customers.head()"
   ]
  },
  {
   "cell_type": "code",
   "execution_count": 4,
   "metadata": {},
   "outputs": [
    {
     "data": {
      "text/html": [
       "<div>\n",
       "<style scoped>\n",
       "    .dataframe tbody tr th:only-of-type {\n",
       "        vertical-align: middle;\n",
       "    }\n",
       "\n",
       "    .dataframe tbody tr th {\n",
       "        vertical-align: top;\n",
       "    }\n",
       "\n",
       "    .dataframe thead th {\n",
       "        text-align: right;\n",
       "    }\n",
       "</style>\n",
       "<table border=\"1\" class=\"dataframe\">\n",
       "  <thead>\n",
       "    <tr style=\"text-align: right;\">\n",
       "      <th></th>\n",
       "      <th>t_dat</th>\n",
       "      <th>customer_id</th>\n",
       "      <th>article_id</th>\n",
       "      <th>price</th>\n",
       "      <th>sales_channel_id</th>\n",
       "    </tr>\n",
       "  </thead>\n",
       "  <tbody>\n",
       "    <tr>\n",
       "      <th>0</th>\n",
       "      <td>2018-09-20</td>\n",
       "      <td>000058a12d5b43e67d225668fa1f8d618c13dc232df0ca...</td>\n",
       "      <td>663713001</td>\n",
       "      <td>0.050831</td>\n",
       "      <td>2</td>\n",
       "    </tr>\n",
       "    <tr>\n",
       "      <th>1</th>\n",
       "      <td>2018-09-20</td>\n",
       "      <td>000058a12d5b43e67d225668fa1f8d618c13dc232df0ca...</td>\n",
       "      <td>541518023</td>\n",
       "      <td>0.030492</td>\n",
       "      <td>2</td>\n",
       "    </tr>\n",
       "    <tr>\n",
       "      <th>2</th>\n",
       "      <td>2018-09-20</td>\n",
       "      <td>00007d2de826758b65a93dd24ce629ed66842531df6699...</td>\n",
       "      <td>505221004</td>\n",
       "      <td>0.015237</td>\n",
       "      <td>2</td>\n",
       "    </tr>\n",
       "    <tr>\n",
       "      <th>3</th>\n",
       "      <td>2018-09-20</td>\n",
       "      <td>00007d2de826758b65a93dd24ce629ed66842531df6699...</td>\n",
       "      <td>685687003</td>\n",
       "      <td>0.016932</td>\n",
       "      <td>2</td>\n",
       "    </tr>\n",
       "    <tr>\n",
       "      <th>4</th>\n",
       "      <td>2018-09-20</td>\n",
       "      <td>00007d2de826758b65a93dd24ce629ed66842531df6699...</td>\n",
       "      <td>685687004</td>\n",
       "      <td>0.016932</td>\n",
       "      <td>2</td>\n",
       "    </tr>\n",
       "  </tbody>\n",
       "</table>\n",
       "</div>"
      ],
      "text/plain": [
       "       t_dat                                        customer_id  article_id  \\\n",
       "0 2018-09-20  000058a12d5b43e67d225668fa1f8d618c13dc232df0ca...   663713001   \n",
       "1 2018-09-20  000058a12d5b43e67d225668fa1f8d618c13dc232df0ca...   541518023   \n",
       "2 2018-09-20  00007d2de826758b65a93dd24ce629ed66842531df6699...   505221004   \n",
       "3 2018-09-20  00007d2de826758b65a93dd24ce629ed66842531df6699...   685687003   \n",
       "4 2018-09-20  00007d2de826758b65a93dd24ce629ed66842531df6699...   685687004   \n",
       "\n",
       "      price  sales_channel_id  \n",
       "0  0.050831                 2  \n",
       "1  0.030492                 2  \n",
       "2  0.015237                 2  \n",
       "3  0.016932                 2  \n",
       "4  0.016932                 2  "
      ]
     },
     "execution_count": 4,
     "metadata": {},
     "output_type": "execute_result"
    }
   ],
   "source": [
    "transactions = pd.read_csv('transactions_train.csv', parse_dates=['t_dat'])\n",
    "transactions.head()"
   ]
  },
  {
   "cell_type": "markdown",
   "metadata": {},
   "source": [
    "### Non-personalised"
   ]
  },
  {
   "cell_type": "code",
   "execution_count": 5,
   "metadata": {},
   "outputs": [],
   "source": [
    "from datetime import timedelta"
   ]
  },
  {
   "cell_type": "code",
   "execution_count": 6,
   "metadata": {},
   "outputs": [],
   "source": [
    "def non_personalised(k, n, data):\n",
    "    transactions = data.copy()\n",
    "    df = transactions[transactions.t_dat > transactions.t_dat.max()-timedelta(days=n)]\n",
    "    df = df.groupby('article_id')['t_dat'].count().reset_index()\n",
    "    df.columns = ['article_id', 'no_of_times_sold']\n",
    "    df = df.sort_values('no_of_times_sold', ascending = False)\n",
    "    df_topk = df[:k].reset_index(drop = True)\n",
    "    \n",
    "    return df_topk"
   ]
  },
  {
   "cell_type": "markdown",
   "metadata": {},
   "source": [
    "### Data Preprocessing"
   ]
  },
  {
   "cell_type": "code",
   "execution_count": 7,
   "metadata": {},
   "outputs": [],
   "source": [
    "def split_train_test(n, data):\n",
    "    trans = data.copy()\n",
    "    transactions_ndays = data[data.t_dat > data.t_dat.max()-timedelta(days=n)]\n",
    "    test_data = transactions_ndays\n",
    "    trans.drop(trans.tail(len(transactions_ndays)).index, inplace = True)\n",
    "    train_data = trans\n",
    "    return train_data, test_data"
   ]
  },
  {
   "cell_type": "code",
   "execution_count": 8,
   "metadata": {},
   "outputs": [],
   "source": [
    "def remove_new_customers(data1, data2):\n",
    "    cust_list1 = list(data1['customer_id'].unique())\n",
    "    cust_list2 = list(data2['customer_id'].unique())\n",
    "    for customer in cust_list1:\n",
    "        if customer not in cust_list2:\n",
    "            data1 = data1.drop(labels=data1[data1['customer_id'] == customer].index)\n",
    "    return data1"
   ]
  },
  {
   "cell_type": "code",
   "execution_count": 9,
   "metadata": {},
   "outputs": [],
   "source": [
    "import random\n",
    "\n",
    "def downsize(data, n):\n",
    "    random.seed(42)\n",
    "    unique_cust_ids = list(data['customer_id'].unique())\n",
    "    sample_cust_ids = random.sample(unique_cust_ids, n)\n",
    "    downsized_data = data[data['customer_id'].isin(sample_cust_ids)]\n",
    "    return downsized_data"
   ]
  },
  {
   "cell_type": "code",
   "execution_count": 10,
   "metadata": {},
   "outputs": [],
   "source": [
    "def filter_training_data(n, data):\n",
    "    trans = data.copy()\n",
    "    transactions_nmonths = trans[trans.t_dat > trans.t_dat.max()-timedelta(days=n*30)]\n",
    "    return transactions_nmonths"
   ]
  },
  {
   "cell_type": "markdown",
   "metadata": {},
   "source": [
    "Splitting the data into Training and Testing data"
   ]
  },
  {
   "cell_type": "code",
   "execution_count": 11,
   "metadata": {},
   "outputs": [
    {
     "data": {
      "text/html": [
       "<div>\n",
       "<style scoped>\n",
       "    .dataframe tbody tr th:only-of-type {\n",
       "        vertical-align: middle;\n",
       "    }\n",
       "\n",
       "    .dataframe tbody tr th {\n",
       "        vertical-align: top;\n",
       "    }\n",
       "\n",
       "    .dataframe thead th {\n",
       "        text-align: right;\n",
       "    }\n",
       "</style>\n",
       "<table border=\"1\" class=\"dataframe\">\n",
       "  <thead>\n",
       "    <tr style=\"text-align: right;\">\n",
       "      <th></th>\n",
       "      <th>t_dat</th>\n",
       "      <th>customer_id</th>\n",
       "      <th>article_id</th>\n",
       "      <th>price</th>\n",
       "      <th>sales_channel_id</th>\n",
       "    </tr>\n",
       "  </thead>\n",
       "  <tbody>\n",
       "    <tr>\n",
       "      <th>23523980</th>\n",
       "      <td>2020-03-19</td>\n",
       "      <td>00009d946eec3ea54add5ba56d5210ea898def4b46c685...</td>\n",
       "      <td>554450042</td>\n",
       "      <td>0.033881</td>\n",
       "      <td>2</td>\n",
       "    </tr>\n",
       "    <tr>\n",
       "      <th>23523981</th>\n",
       "      <td>2020-03-19</td>\n",
       "      <td>00009d946eec3ea54add5ba56d5210ea898def4b46c685...</td>\n",
       "      <td>706016006</td>\n",
       "      <td>0.023712</td>\n",
       "      <td>2</td>\n",
       "    </tr>\n",
       "    <tr>\n",
       "      <th>23523982</th>\n",
       "      <td>2020-03-19</td>\n",
       "      <td>00009d946eec3ea54add5ba56d5210ea898def4b46c685...</td>\n",
       "      <td>706016019</td>\n",
       "      <td>0.033881</td>\n",
       "      <td>2</td>\n",
       "    </tr>\n",
       "    <tr>\n",
       "      <th>23523983</th>\n",
       "      <td>2020-03-19</td>\n",
       "      <td>00009d946eec3ea54add5ba56d5210ea898def4b46c685...</td>\n",
       "      <td>706016019</td>\n",
       "      <td>0.033881</td>\n",
       "      <td>2</td>\n",
       "    </tr>\n",
       "    <tr>\n",
       "      <th>23523984</th>\n",
       "      <td>2020-03-19</td>\n",
       "      <td>00075ef36696a7b4ed8c83e22a4bf7ea7c90ee110991ec...</td>\n",
       "      <td>856797002</td>\n",
       "      <td>0.059305</td>\n",
       "      <td>2</td>\n",
       "    </tr>\n",
       "    <tr>\n",
       "      <th>...</th>\n",
       "      <td>...</td>\n",
       "      <td>...</td>\n",
       "      <td>...</td>\n",
       "      <td>...</td>\n",
       "      <td>...</td>\n",
       "    </tr>\n",
       "    <tr>\n",
       "      <th>31788319</th>\n",
       "      <td>2020-09-22</td>\n",
       "      <td>fff2282977442e327b45d8c89afde25617d00124d0f999...</td>\n",
       "      <td>929511001</td>\n",
       "      <td>0.059305</td>\n",
       "      <td>2</td>\n",
       "    </tr>\n",
       "    <tr>\n",
       "      <th>31788320</th>\n",
       "      <td>2020-09-22</td>\n",
       "      <td>fff2282977442e327b45d8c89afde25617d00124d0f999...</td>\n",
       "      <td>891322004</td>\n",
       "      <td>0.042356</td>\n",
       "      <td>2</td>\n",
       "    </tr>\n",
       "    <tr>\n",
       "      <th>31788321</th>\n",
       "      <td>2020-09-22</td>\n",
       "      <td>fff380805474b287b05cb2a7507b9a013482f7dd0bce0e...</td>\n",
       "      <td>918325001</td>\n",
       "      <td>0.043203</td>\n",
       "      <td>1</td>\n",
       "    </tr>\n",
       "    <tr>\n",
       "      <th>31788322</th>\n",
       "      <td>2020-09-22</td>\n",
       "      <td>fff4d3a8b1f3b60af93e78c30a7cb4cf75edaf2590d3e5...</td>\n",
       "      <td>833459002</td>\n",
       "      <td>0.006763</td>\n",
       "      <td>1</td>\n",
       "    </tr>\n",
       "    <tr>\n",
       "      <th>31788323</th>\n",
       "      <td>2020-09-22</td>\n",
       "      <td>fffef3b6b73545df065b521e19f64bf6fe93bfd450ab20...</td>\n",
       "      <td>898573003</td>\n",
       "      <td>0.033881</td>\n",
       "      <td>2</td>\n",
       "    </tr>\n",
       "  </tbody>\n",
       "</table>\n",
       "<p>8264344 rows × 5 columns</p>\n",
       "</div>"
      ],
      "text/plain": [
       "              t_dat                                        customer_id  \\\n",
       "23523980 2020-03-19  00009d946eec3ea54add5ba56d5210ea898def4b46c685...   \n",
       "23523981 2020-03-19  00009d946eec3ea54add5ba56d5210ea898def4b46c685...   \n",
       "23523982 2020-03-19  00009d946eec3ea54add5ba56d5210ea898def4b46c685...   \n",
       "23523983 2020-03-19  00009d946eec3ea54add5ba56d5210ea898def4b46c685...   \n",
       "23523984 2020-03-19  00075ef36696a7b4ed8c83e22a4bf7ea7c90ee110991ec...   \n",
       "...             ...                                                ...   \n",
       "31788319 2020-09-22  fff2282977442e327b45d8c89afde25617d00124d0f999...   \n",
       "31788320 2020-09-22  fff2282977442e327b45d8c89afde25617d00124d0f999...   \n",
       "31788321 2020-09-22  fff380805474b287b05cb2a7507b9a013482f7dd0bce0e...   \n",
       "31788322 2020-09-22  fff4d3a8b1f3b60af93e78c30a7cb4cf75edaf2590d3e5...   \n",
       "31788323 2020-09-22  fffef3b6b73545df065b521e19f64bf6fe93bfd450ab20...   \n",
       "\n",
       "          article_id     price  sales_channel_id  \n",
       "23523980   554450042  0.033881                 2  \n",
       "23523981   706016006  0.023712                 2  \n",
       "23523982   706016019  0.033881                 2  \n",
       "23523983   706016019  0.033881                 2  \n",
       "23523984   856797002  0.059305                 2  \n",
       "...              ...       ...               ...  \n",
       "31788319   929511001  0.059305                 2  \n",
       "31788320   891322004  0.042356                 2  \n",
       "31788321   918325001  0.043203                 1  \n",
       "31788322   833459002  0.006763                 1  \n",
       "31788323   898573003  0.033881                 2  \n",
       "\n",
       "[8264344 rows x 5 columns]"
      ]
     },
     "execution_count": 11,
     "metadata": {},
     "output_type": "execute_result"
    }
   ],
   "source": [
    "filtered_train_data = filter_training_data(6.25, transactions)\n",
    "filtered_train_data"
   ]
  },
  {
   "cell_type": "code",
   "execution_count": 12,
   "metadata": {},
   "outputs": [],
   "source": [
    "train, test = split_train_test(7, filtered_train_data)"
   ]
  },
  {
   "cell_type": "code",
   "execution_count": 15,
   "metadata": {},
   "outputs": [],
   "source": [
    "no_cust = 30000\n",
    "percent_new_cust = 0.175"
   ]
  },
  {
   "cell_type": "code",
   "execution_count": 16,
   "metadata": {},
   "outputs": [],
   "source": [
    "test_cust = set(list(test.customer_id))\n",
    "train_cust = set(list(train.customer_id))\n",
    "test_cust_existing = []\n",
    "test_cust_new = []\n",
    "for cust in test_cust:\n",
    "    if cust in train_cust:\n",
    "        test_cust_existing.append(cust)\n",
    "    else:\n",
    "        test_cust_new.append(cust)"
   ]
  },
  {
   "cell_type": "code",
   "execution_count": 17,
   "metadata": {},
   "outputs": [
    {
     "data": {
      "text/html": [
       "<div>\n",
       "<style scoped>\n",
       "    .dataframe tbody tr th:only-of-type {\n",
       "        vertical-align: middle;\n",
       "    }\n",
       "\n",
       "    .dataframe tbody tr th {\n",
       "        vertical-align: top;\n",
       "    }\n",
       "\n",
       "    .dataframe thead th {\n",
       "        text-align: right;\n",
       "    }\n",
       "</style>\n",
       "<table border=\"1\" class=\"dataframe\">\n",
       "  <thead>\n",
       "    <tr style=\"text-align: right;\">\n",
       "      <th></th>\n",
       "      <th>customer_id</th>\n",
       "    </tr>\n",
       "  </thead>\n",
       "  <tbody>\n",
       "    <tr>\n",
       "      <th>0</th>\n",
       "      <td>eef2849744a79ed9c37878609a4c487d0d574a8fe6532b...</td>\n",
       "    </tr>\n",
       "    <tr>\n",
       "      <th>1</th>\n",
       "      <td>9455ce44f6c4852e6cf1468e3050d7697c07aeca8833ed...</td>\n",
       "    </tr>\n",
       "    <tr>\n",
       "      <th>2</th>\n",
       "      <td>c7cec9e942b1e1f90e67549fdb8d2067eed7ceb2badb99...</td>\n",
       "    </tr>\n",
       "    <tr>\n",
       "      <th>3</th>\n",
       "      <td>828a542728a8c1ed08b422a4914a0087719e5e9226d207...</td>\n",
       "    </tr>\n",
       "    <tr>\n",
       "      <th>4</th>\n",
       "      <td>92cd3d0d366342840921c73e2cb02e16add3329c94cd63...</td>\n",
       "    </tr>\n",
       "    <tr>\n",
       "      <th>...</th>\n",
       "      <td>...</td>\n",
       "    </tr>\n",
       "    <tr>\n",
       "      <th>12019</th>\n",
       "      <td>96aec068461f1a3a0d935fd5fda73baefec6f0f13974c0...</td>\n",
       "    </tr>\n",
       "    <tr>\n",
       "      <th>12020</th>\n",
       "      <td>8182f1a5e08a29668465eeac6dbac41a52eb459182d4e1...</td>\n",
       "    </tr>\n",
       "    <tr>\n",
       "      <th>12021</th>\n",
       "      <td>58ee59c7abc619085a09a34023120b40d05aed37967c39...</td>\n",
       "    </tr>\n",
       "    <tr>\n",
       "      <th>12022</th>\n",
       "      <td>61ad18879a2e2bacaddbf9b0665e9c13db63c64e1a35f6...</td>\n",
       "    </tr>\n",
       "    <tr>\n",
       "      <th>12023</th>\n",
       "      <td>26dc385633be77b531b614300a47da18a83ac65fa54fd6...</td>\n",
       "    </tr>\n",
       "  </tbody>\n",
       "</table>\n",
       "<p>12024 rows × 1 columns</p>\n",
       "</div>"
      ],
      "text/plain": [
       "                                             customer_id\n",
       "0      eef2849744a79ed9c37878609a4c487d0d574a8fe6532b...\n",
       "1      9455ce44f6c4852e6cf1468e3050d7697c07aeca8833ed...\n",
       "2      c7cec9e942b1e1f90e67549fdb8d2067eed7ceb2badb99...\n",
       "3      828a542728a8c1ed08b422a4914a0087719e5e9226d207...\n",
       "4      92cd3d0d366342840921c73e2cb02e16add3329c94cd63...\n",
       "...                                                  ...\n",
       "12019  96aec068461f1a3a0d935fd5fda73baefec6f0f13974c0...\n",
       "12020  8182f1a5e08a29668465eeac6dbac41a52eb459182d4e1...\n",
       "12021  58ee59c7abc619085a09a34023120b40d05aed37967c39...\n",
       "12022  61ad18879a2e2bacaddbf9b0665e9c13db63c64e1a35f6...\n",
       "12023  26dc385633be77b531b614300a47da18a83ac65fa54fd6...\n",
       "\n",
       "[12024 rows x 1 columns]"
      ]
     },
     "execution_count": 17,
     "metadata": {},
     "output_type": "execute_result"
    }
   ],
   "source": [
    "test_cust_new  = pd.DataFrame(test_cust_new)\n",
    "test_cust_new.columns = ['customer_id']\n",
    "test_cust_new"
   ]
  },
  {
   "cell_type": "code",
   "execution_count": 18,
   "metadata": {},
   "outputs": [
    {
     "data": {
      "text/html": [
       "<div>\n",
       "<style scoped>\n",
       "    .dataframe tbody tr th:only-of-type {\n",
       "        vertical-align: middle;\n",
       "    }\n",
       "\n",
       "    .dataframe tbody tr th {\n",
       "        vertical-align: top;\n",
       "    }\n",
       "\n",
       "    .dataframe thead th {\n",
       "        text-align: right;\n",
       "    }\n",
       "</style>\n",
       "<table border=\"1\" class=\"dataframe\">\n",
       "  <thead>\n",
       "    <tr style=\"text-align: right;\">\n",
       "      <th></th>\n",
       "      <th>customer_id</th>\n",
       "    </tr>\n",
       "  </thead>\n",
       "  <tbody>\n",
       "    <tr>\n",
       "      <th>0</th>\n",
       "      <td>82d31ff65377fce66057cce27b76db61cf52d7dec99f6d...</td>\n",
       "    </tr>\n",
       "    <tr>\n",
       "      <th>1</th>\n",
       "      <td>1930e831cb0eb5c84a2eb5ea39935c820262813e00907d...</td>\n",
       "    </tr>\n",
       "    <tr>\n",
       "      <th>2</th>\n",
       "      <td>fcf2f94a1dc37c1dfc2a142d9919fd26df040dc93e6d34...</td>\n",
       "    </tr>\n",
       "    <tr>\n",
       "      <th>3</th>\n",
       "      <td>1e2d676a62a40d8347521fc623b4baef09ddcefd2ead03...</td>\n",
       "    </tr>\n",
       "    <tr>\n",
       "      <th>4</th>\n",
       "      <td>a309313e4c6758efa2d2fd329c3222543da1cb22ed446a...</td>\n",
       "    </tr>\n",
       "    <tr>\n",
       "      <th>...</th>\n",
       "      <td>...</td>\n",
       "    </tr>\n",
       "    <tr>\n",
       "      <th>56955</th>\n",
       "      <td>8212cc9b279e9e98be0ce57b1bad28e80afcf4c230e19b...</td>\n",
       "    </tr>\n",
       "    <tr>\n",
       "      <th>56956</th>\n",
       "      <td>1a602309590af4edd0862bf4f6ddd9dfe216a446764f68...</td>\n",
       "    </tr>\n",
       "    <tr>\n",
       "      <th>56957</th>\n",
       "      <td>d96abf143f50ff4ed39f63d86b74ee8459512de5caa113...</td>\n",
       "    </tr>\n",
       "    <tr>\n",
       "      <th>56958</th>\n",
       "      <td>51b864386762f23ccc854f01fa676eea87ff38b757a8d7...</td>\n",
       "    </tr>\n",
       "    <tr>\n",
       "      <th>56959</th>\n",
       "      <td>4f7809f0ea19a95c1769ae05c80c919c5d1720993247af...</td>\n",
       "    </tr>\n",
       "  </tbody>\n",
       "</table>\n",
       "<p>56960 rows × 1 columns</p>\n",
       "</div>"
      ],
      "text/plain": [
       "                                             customer_id\n",
       "0      82d31ff65377fce66057cce27b76db61cf52d7dec99f6d...\n",
       "1      1930e831cb0eb5c84a2eb5ea39935c820262813e00907d...\n",
       "2      fcf2f94a1dc37c1dfc2a142d9919fd26df040dc93e6d34...\n",
       "3      1e2d676a62a40d8347521fc623b4baef09ddcefd2ead03...\n",
       "4      a309313e4c6758efa2d2fd329c3222543da1cb22ed446a...\n",
       "...                                                  ...\n",
       "56955  8212cc9b279e9e98be0ce57b1bad28e80afcf4c230e19b...\n",
       "56956  1a602309590af4edd0862bf4f6ddd9dfe216a446764f68...\n",
       "56957  d96abf143f50ff4ed39f63d86b74ee8459512de5caa113...\n",
       "56958  51b864386762f23ccc854f01fa676eea87ff38b757a8d7...\n",
       "56959  4f7809f0ea19a95c1769ae05c80c919c5d1720993247af...\n",
       "\n",
       "[56960 rows x 1 columns]"
      ]
     },
     "execution_count": 18,
     "metadata": {},
     "output_type": "execute_result"
    }
   ],
   "source": [
    "test_cust_existing  = pd.DataFrame(test_cust_existing)\n",
    "test_cust_existing.columns = ['customer_id']\n",
    "test_cust_existing"
   ]
  },
  {
   "cell_type": "code",
   "execution_count": 19,
   "metadata": {},
   "outputs": [
    {
     "data": {
      "text/html": [
       "<div>\n",
       "<style scoped>\n",
       "    .dataframe tbody tr th:only-of-type {\n",
       "        vertical-align: middle;\n",
       "    }\n",
       "\n",
       "    .dataframe tbody tr th {\n",
       "        vertical-align: top;\n",
       "    }\n",
       "\n",
       "    .dataframe thead th {\n",
       "        text-align: right;\n",
       "    }\n",
       "</style>\n",
       "<table border=\"1\" class=\"dataframe\">\n",
       "  <thead>\n",
       "    <tr style=\"text-align: right;\">\n",
       "      <th></th>\n",
       "      <th>customer_id</th>\n",
       "      <th>t_dat</th>\n",
       "      <th>article_id</th>\n",
       "      <th>price</th>\n",
       "      <th>sales_channel_id</th>\n",
       "    </tr>\n",
       "  </thead>\n",
       "  <tbody>\n",
       "    <tr>\n",
       "      <th>0</th>\n",
       "      <td>eef2849744a79ed9c37878609a4c487d0d574a8fe6532b...</td>\n",
       "      <td>2020-09-20</td>\n",
       "      <td>918522001</td>\n",
       "      <td>0.042356</td>\n",
       "      <td>2</td>\n",
       "    </tr>\n",
       "    <tr>\n",
       "      <th>1</th>\n",
       "      <td>eef2849744a79ed9c37878609a4c487d0d574a8fe6532b...</td>\n",
       "      <td>2020-09-22</td>\n",
       "      <td>911034002</td>\n",
       "      <td>0.033881</td>\n",
       "      <td>2</td>\n",
       "    </tr>\n",
       "    <tr>\n",
       "      <th>2</th>\n",
       "      <td>eef2849744a79ed9c37878609a4c487d0d574a8fe6532b...</td>\n",
       "      <td>2020-09-22</td>\n",
       "      <td>911034002</td>\n",
       "      <td>0.033881</td>\n",
       "      <td>2</td>\n",
       "    </tr>\n",
       "    <tr>\n",
       "      <th>3</th>\n",
       "      <td>eef2849744a79ed9c37878609a4c487d0d574a8fe6532b...</td>\n",
       "      <td>2020-09-22</td>\n",
       "      <td>904571001</td>\n",
       "      <td>0.042356</td>\n",
       "      <td>2</td>\n",
       "    </tr>\n",
       "    <tr>\n",
       "      <th>4</th>\n",
       "      <td>9455ce44f6c4852e6cf1468e3050d7697c07aeca8833ed...</td>\n",
       "      <td>2020-09-20</td>\n",
       "      <td>806388002</td>\n",
       "      <td>0.013542</td>\n",
       "      <td>2</td>\n",
       "    </tr>\n",
       "    <tr>\n",
       "      <th>...</th>\n",
       "      <td>...</td>\n",
       "      <td>...</td>\n",
       "      <td>...</td>\n",
       "      <td>...</td>\n",
       "      <td>...</td>\n",
       "    </tr>\n",
       "    <tr>\n",
       "      <th>40426</th>\n",
       "      <td>58ee59c7abc619085a09a34023120b40d05aed37967c39...</td>\n",
       "      <td>2020-09-16</td>\n",
       "      <td>851996001</td>\n",
       "      <td>0.015237</td>\n",
       "      <td>1</td>\n",
       "    </tr>\n",
       "    <tr>\n",
       "      <th>40427</th>\n",
       "      <td>58ee59c7abc619085a09a34023120b40d05aed37967c39...</td>\n",
       "      <td>2020-09-16</td>\n",
       "      <td>818030002</td>\n",
       "      <td>0.015237</td>\n",
       "      <td>1</td>\n",
       "    </tr>\n",
       "    <tr>\n",
       "      <th>40428</th>\n",
       "      <td>58ee59c7abc619085a09a34023120b40d05aed37967c39...</td>\n",
       "      <td>2020-09-16</td>\n",
       "      <td>903374001</td>\n",
       "      <td>0.015237</td>\n",
       "      <td>1</td>\n",
       "    </tr>\n",
       "    <tr>\n",
       "      <th>40429</th>\n",
       "      <td>61ad18879a2e2bacaddbf9b0665e9c13db63c64e1a35f6...</td>\n",
       "      <td>2020-09-17</td>\n",
       "      <td>855673001</td>\n",
       "      <td>0.022017</td>\n",
       "      <td>2</td>\n",
       "    </tr>\n",
       "    <tr>\n",
       "      <th>40430</th>\n",
       "      <td>26dc385633be77b531b614300a47da18a83ac65fa54fd6...</td>\n",
       "      <td>2020-09-20</td>\n",
       "      <td>918240003</td>\n",
       "      <td>0.101678</td>\n",
       "      <td>2</td>\n",
       "    </tr>\n",
       "  </tbody>\n",
       "</table>\n",
       "<p>40431 rows × 5 columns</p>\n",
       "</div>"
      ],
      "text/plain": [
       "                                             customer_id      t_dat  \\\n",
       "0      eef2849744a79ed9c37878609a4c487d0d574a8fe6532b... 2020-09-20   \n",
       "1      eef2849744a79ed9c37878609a4c487d0d574a8fe6532b... 2020-09-22   \n",
       "2      eef2849744a79ed9c37878609a4c487d0d574a8fe6532b... 2020-09-22   \n",
       "3      eef2849744a79ed9c37878609a4c487d0d574a8fe6532b... 2020-09-22   \n",
       "4      9455ce44f6c4852e6cf1468e3050d7697c07aeca8833ed... 2020-09-20   \n",
       "...                                                  ...        ...   \n",
       "40426  58ee59c7abc619085a09a34023120b40d05aed37967c39... 2020-09-16   \n",
       "40427  58ee59c7abc619085a09a34023120b40d05aed37967c39... 2020-09-16   \n",
       "40428  58ee59c7abc619085a09a34023120b40d05aed37967c39... 2020-09-16   \n",
       "40429  61ad18879a2e2bacaddbf9b0665e9c13db63c64e1a35f6... 2020-09-17   \n",
       "40430  26dc385633be77b531b614300a47da18a83ac65fa54fd6... 2020-09-20   \n",
       "\n",
       "       article_id     price  sales_channel_id  \n",
       "0       918522001  0.042356                 2  \n",
       "1       911034002  0.033881                 2  \n",
       "2       911034002  0.033881                 2  \n",
       "3       904571001  0.042356                 2  \n",
       "4       806388002  0.013542                 2  \n",
       "...           ...       ...               ...  \n",
       "40426   851996001  0.015237                 1  \n",
       "40427   818030002  0.015237                 1  \n",
       "40428   903374001  0.015237                 1  \n",
       "40429   855673001  0.022017                 2  \n",
       "40430   918240003  0.101678                 2  \n",
       "\n",
       "[40431 rows x 5 columns]"
      ]
     },
     "execution_count": 19,
     "metadata": {},
     "output_type": "execute_result"
    }
   ],
   "source": [
    "test_df_cust_new = pd.merge(test_cust_new, test, on='customer_id')\n",
    "test_df_cust_new"
   ]
  },
  {
   "cell_type": "code",
   "execution_count": 20,
   "metadata": {},
   "outputs": [
    {
     "data": {
      "text/html": [
       "<div>\n",
       "<style scoped>\n",
       "    .dataframe tbody tr th:only-of-type {\n",
       "        vertical-align: middle;\n",
       "    }\n",
       "\n",
       "    .dataframe tbody tr th {\n",
       "        vertical-align: top;\n",
       "    }\n",
       "\n",
       "    .dataframe thead th {\n",
       "        text-align: right;\n",
       "    }\n",
       "</style>\n",
       "<table border=\"1\" class=\"dataframe\">\n",
       "  <thead>\n",
       "    <tr style=\"text-align: right;\">\n",
       "      <th></th>\n",
       "      <th>customer_id</th>\n",
       "      <th>t_dat</th>\n",
       "      <th>article_id</th>\n",
       "      <th>price</th>\n",
       "      <th>sales_channel_id</th>\n",
       "    </tr>\n",
       "  </thead>\n",
       "  <tbody>\n",
       "    <tr>\n",
       "      <th>0</th>\n",
       "      <td>82d31ff65377fce66057cce27b76db61cf52d7dec99f6d...</td>\n",
       "      <td>2020-09-20</td>\n",
       "      <td>928898001</td>\n",
       "      <td>0.011847</td>\n",
       "      <td>1</td>\n",
       "    </tr>\n",
       "    <tr>\n",
       "      <th>1</th>\n",
       "      <td>1930e831cb0eb5c84a2eb5ea39935c820262813e00907d...</td>\n",
       "      <td>2020-09-20</td>\n",
       "      <td>824079001</td>\n",
       "      <td>0.016949</td>\n",
       "      <td>1</td>\n",
       "    </tr>\n",
       "    <tr>\n",
       "      <th>2</th>\n",
       "      <td>fcf2f94a1dc37c1dfc2a142d9919fd26df040dc93e6d34...</td>\n",
       "      <td>2020-09-20</td>\n",
       "      <td>881117006</td>\n",
       "      <td>0.084729</td>\n",
       "      <td>2</td>\n",
       "    </tr>\n",
       "    <tr>\n",
       "      <th>3</th>\n",
       "      <td>fcf2f94a1dc37c1dfc2a142d9919fd26df040dc93e6d34...</td>\n",
       "      <td>2020-09-20</td>\n",
       "      <td>909320002</td>\n",
       "      <td>0.059305</td>\n",
       "      <td>2</td>\n",
       "    </tr>\n",
       "    <tr>\n",
       "      <th>4</th>\n",
       "      <td>1e2d676a62a40d8347521fc623b4baef09ddcefd2ead03...</td>\n",
       "      <td>2020-09-20</td>\n",
       "      <td>547780001</td>\n",
       "      <td>0.025407</td>\n",
       "      <td>2</td>\n",
       "    </tr>\n",
       "    <tr>\n",
       "      <th>...</th>\n",
       "      <td>...</td>\n",
       "      <td>...</td>\n",
       "      <td>...</td>\n",
       "      <td>...</td>\n",
       "      <td>...</td>\n",
       "    </tr>\n",
       "    <tr>\n",
       "      <th>199875</th>\n",
       "      <td>4f7809f0ea19a95c1769ae05c80c919c5d1720993247af...</td>\n",
       "      <td>2020-09-17</td>\n",
       "      <td>879084001</td>\n",
       "      <td>0.033881</td>\n",
       "      <td>2</td>\n",
       "    </tr>\n",
       "    <tr>\n",
       "      <th>199876</th>\n",
       "      <td>4f7809f0ea19a95c1769ae05c80c919c5d1720993247af...</td>\n",
       "      <td>2020-09-17</td>\n",
       "      <td>859737001</td>\n",
       "      <td>0.025407</td>\n",
       "      <td>2</td>\n",
       "    </tr>\n",
       "    <tr>\n",
       "      <th>199877</th>\n",
       "      <td>4f7809f0ea19a95c1769ae05c80c919c5d1720993247af...</td>\n",
       "      <td>2020-09-17</td>\n",
       "      <td>859737001</td>\n",
       "      <td>0.025407</td>\n",
       "      <td>2</td>\n",
       "    </tr>\n",
       "    <tr>\n",
       "      <th>199878</th>\n",
       "      <td>4f7809f0ea19a95c1769ae05c80c919c5d1720993247af...</td>\n",
       "      <td>2020-09-17</td>\n",
       "      <td>715624001</td>\n",
       "      <td>0.025407</td>\n",
       "      <td>2</td>\n",
       "    </tr>\n",
       "    <tr>\n",
       "      <th>199879</th>\n",
       "      <td>4f7809f0ea19a95c1769ae05c80c919c5d1720993247af...</td>\n",
       "      <td>2020-09-17</td>\n",
       "      <td>906830001</td>\n",
       "      <td>0.033881</td>\n",
       "      <td>2</td>\n",
       "    </tr>\n",
       "  </tbody>\n",
       "</table>\n",
       "<p>199880 rows × 5 columns</p>\n",
       "</div>"
      ],
      "text/plain": [
       "                                              customer_id      t_dat  \\\n",
       "0       82d31ff65377fce66057cce27b76db61cf52d7dec99f6d... 2020-09-20   \n",
       "1       1930e831cb0eb5c84a2eb5ea39935c820262813e00907d... 2020-09-20   \n",
       "2       fcf2f94a1dc37c1dfc2a142d9919fd26df040dc93e6d34... 2020-09-20   \n",
       "3       fcf2f94a1dc37c1dfc2a142d9919fd26df040dc93e6d34... 2020-09-20   \n",
       "4       1e2d676a62a40d8347521fc623b4baef09ddcefd2ead03... 2020-09-20   \n",
       "...                                                   ...        ...   \n",
       "199875  4f7809f0ea19a95c1769ae05c80c919c5d1720993247af... 2020-09-17   \n",
       "199876  4f7809f0ea19a95c1769ae05c80c919c5d1720993247af... 2020-09-17   \n",
       "199877  4f7809f0ea19a95c1769ae05c80c919c5d1720993247af... 2020-09-17   \n",
       "199878  4f7809f0ea19a95c1769ae05c80c919c5d1720993247af... 2020-09-17   \n",
       "199879  4f7809f0ea19a95c1769ae05c80c919c5d1720993247af... 2020-09-17   \n",
       "\n",
       "        article_id     price  sales_channel_id  \n",
       "0        928898001  0.011847                 1  \n",
       "1        824079001  0.016949                 1  \n",
       "2        881117006  0.084729                 2  \n",
       "3        909320002  0.059305                 2  \n",
       "4        547780001  0.025407                 2  \n",
       "...            ...       ...               ...  \n",
       "199875   879084001  0.033881                 2  \n",
       "199876   859737001  0.025407                 2  \n",
       "199877   859737001  0.025407                 2  \n",
       "199878   715624001  0.025407                 2  \n",
       "199879   906830001  0.033881                 2  \n",
       "\n",
       "[199880 rows x 5 columns]"
      ]
     },
     "execution_count": 20,
     "metadata": {},
     "output_type": "execute_result"
    }
   ],
   "source": [
    "test_df_cust_existing = pd.merge(test_cust_existing, test, on='customer_id')\n",
    "test_df_cust_existing"
   ]
  },
  {
   "cell_type": "code",
   "execution_count": 21,
   "metadata": {},
   "outputs": [
    {
     "data": {
      "text/plain": [
       "24750"
      ]
     },
     "execution_count": 21,
     "metadata": {},
     "output_type": "execute_result"
    }
   ],
   "source": [
    "int(no_cust*(1-percent_new_cust))"
   ]
  },
  {
   "cell_type": "code",
   "execution_count": 22,
   "metadata": {},
   "outputs": [
    {
     "data": {
      "text/html": [
       "<div>\n",
       "<style scoped>\n",
       "    .dataframe tbody tr th:only-of-type {\n",
       "        vertical-align: middle;\n",
       "    }\n",
       "\n",
       "    .dataframe tbody tr th {\n",
       "        vertical-align: top;\n",
       "    }\n",
       "\n",
       "    .dataframe thead th {\n",
       "        text-align: right;\n",
       "    }\n",
       "</style>\n",
       "<table border=\"1\" class=\"dataframe\">\n",
       "  <thead>\n",
       "    <tr style=\"text-align: right;\">\n",
       "      <th></th>\n",
       "      <th>customer_id</th>\n",
       "      <th>t_dat</th>\n",
       "      <th>article_id</th>\n",
       "      <th>price</th>\n",
       "      <th>sales_channel_id</th>\n",
       "    </tr>\n",
       "  </thead>\n",
       "  <tbody>\n",
       "    <tr>\n",
       "      <th>0</th>\n",
       "      <td>82d31ff65377fce66057cce27b76db61cf52d7dec99f6d...</td>\n",
       "      <td>2020-09-20</td>\n",
       "      <td>928898001</td>\n",
       "      <td>0.011847</td>\n",
       "      <td>1</td>\n",
       "    </tr>\n",
       "    <tr>\n",
       "      <th>1</th>\n",
       "      <td>fcf2f94a1dc37c1dfc2a142d9919fd26df040dc93e6d34...</td>\n",
       "      <td>2020-09-20</td>\n",
       "      <td>881117006</td>\n",
       "      <td>0.084729</td>\n",
       "      <td>2</td>\n",
       "    </tr>\n",
       "    <tr>\n",
       "      <th>2</th>\n",
       "      <td>fcf2f94a1dc37c1dfc2a142d9919fd26df040dc93e6d34...</td>\n",
       "      <td>2020-09-20</td>\n",
       "      <td>909320002</td>\n",
       "      <td>0.059305</td>\n",
       "      <td>2</td>\n",
       "    </tr>\n",
       "    <tr>\n",
       "      <th>3</th>\n",
       "      <td>1e2d676a62a40d8347521fc623b4baef09ddcefd2ead03...</td>\n",
       "      <td>2020-09-20</td>\n",
       "      <td>547780001</td>\n",
       "      <td>0.025407</td>\n",
       "      <td>2</td>\n",
       "    </tr>\n",
       "    <tr>\n",
       "      <th>4</th>\n",
       "      <td>1e2d676a62a40d8347521fc623b4baef09ddcefd2ead03...</td>\n",
       "      <td>2020-09-20</td>\n",
       "      <td>547780003</td>\n",
       "      <td>0.025407</td>\n",
       "      <td>2</td>\n",
       "    </tr>\n",
       "    <tr>\n",
       "      <th>...</th>\n",
       "      <td>...</td>\n",
       "      <td>...</td>\n",
       "      <td>...</td>\n",
       "      <td>...</td>\n",
       "      <td>...</td>\n",
       "    </tr>\n",
       "    <tr>\n",
       "      <th>104923</th>\n",
       "      <td>96aec068461f1a3a0d935fd5fda73baefec6f0f13974c0...</td>\n",
       "      <td>2020-09-20</td>\n",
       "      <td>902811004</td>\n",
       "      <td>0.084729</td>\n",
       "      <td>2</td>\n",
       "    </tr>\n",
       "    <tr>\n",
       "      <th>104924</th>\n",
       "      <td>96aec068461f1a3a0d935fd5fda73baefec6f0f13974c0...</td>\n",
       "      <td>2020-09-20</td>\n",
       "      <td>751471043</td>\n",
       "      <td>0.033881</td>\n",
       "      <td>2</td>\n",
       "    </tr>\n",
       "    <tr>\n",
       "      <th>104925</th>\n",
       "      <td>8182f1a5e08a29668465eeac6dbac41a52eb459182d4e1...</td>\n",
       "      <td>2020-09-17</td>\n",
       "      <td>788575004</td>\n",
       "      <td>0.042356</td>\n",
       "      <td>2</td>\n",
       "    </tr>\n",
       "    <tr>\n",
       "      <th>104926</th>\n",
       "      <td>8182f1a5e08a29668465eeac6dbac41a52eb459182d4e1...</td>\n",
       "      <td>2020-09-17</td>\n",
       "      <td>788575004</td>\n",
       "      <td>0.042356</td>\n",
       "      <td>2</td>\n",
       "    </tr>\n",
       "    <tr>\n",
       "      <th>104927</th>\n",
       "      <td>61ad18879a2e2bacaddbf9b0665e9c13db63c64e1a35f6...</td>\n",
       "      <td>2020-09-17</td>\n",
       "      <td>855673001</td>\n",
       "      <td>0.022017</td>\n",
       "      <td>2</td>\n",
       "    </tr>\n",
       "  </tbody>\n",
       "</table>\n",
       "<p>104928 rows × 5 columns</p>\n",
       "</div>"
      ],
      "text/plain": [
       "                                              customer_id      t_dat  \\\n",
       "0       82d31ff65377fce66057cce27b76db61cf52d7dec99f6d... 2020-09-20   \n",
       "1       fcf2f94a1dc37c1dfc2a142d9919fd26df040dc93e6d34... 2020-09-20   \n",
       "2       fcf2f94a1dc37c1dfc2a142d9919fd26df040dc93e6d34... 2020-09-20   \n",
       "3       1e2d676a62a40d8347521fc623b4baef09ddcefd2ead03... 2020-09-20   \n",
       "4       1e2d676a62a40d8347521fc623b4baef09ddcefd2ead03... 2020-09-20   \n",
       "...                                                   ...        ...   \n",
       "104923  96aec068461f1a3a0d935fd5fda73baefec6f0f13974c0... 2020-09-20   \n",
       "104924  96aec068461f1a3a0d935fd5fda73baefec6f0f13974c0... 2020-09-20   \n",
       "104925  8182f1a5e08a29668465eeac6dbac41a52eb459182d4e1... 2020-09-17   \n",
       "104926  8182f1a5e08a29668465eeac6dbac41a52eb459182d4e1... 2020-09-17   \n",
       "104927  61ad18879a2e2bacaddbf9b0665e9c13db63c64e1a35f6... 2020-09-17   \n",
       "\n",
       "        article_id     price  sales_channel_id  \n",
       "0        928898001  0.011847                 1  \n",
       "1        881117006  0.084729                 2  \n",
       "2        909320002  0.059305                 2  \n",
       "3        547780001  0.025407                 2  \n",
       "4        547780003  0.025407                 2  \n",
       "...            ...       ...               ...  \n",
       "104923   902811004  0.084729                 2  \n",
       "104924   751471043  0.033881                 2  \n",
       "104925   788575004  0.042356                 2  \n",
       "104926   788575004  0.042356                 2  \n",
       "104927   855673001  0.022017                 2  \n",
       "\n",
       "[104928 rows x 5 columns]"
      ]
     },
     "execution_count": 22,
     "metadata": {},
     "output_type": "execute_result"
    }
   ],
   "source": [
    "test_data_825 = downsize(test_df_cust_existing, int(no_cust*(1-percent_new_cust)))\n",
    "test_data_175 = downsize(test_df_cust_new, int(no_cust*percent_new_cust))\n",
    "test_data_1000 = test_data_825.append(test_data_175, ignore_index=True)\n",
    "test_data_1000"
   ]
  },
  {
   "cell_type": "code",
   "execution_count": 25,
   "metadata": {},
   "outputs": [
    {
     "data": {
      "text/html": [
       "<div>\n",
       "<style scoped>\n",
       "    .dataframe tbody tr th:only-of-type {\n",
       "        vertical-align: middle;\n",
       "    }\n",
       "\n",
       "    .dataframe tbody tr th {\n",
       "        vertical-align: top;\n",
       "    }\n",
       "\n",
       "    .dataframe thead th {\n",
       "        text-align: right;\n",
       "    }\n",
       "</style>\n",
       "<table border=\"1\" class=\"dataframe\">\n",
       "  <thead>\n",
       "    <tr style=\"text-align: right;\">\n",
       "      <th></th>\n",
       "      <th>customer_id</th>\n",
       "      <th>t_dat</th>\n",
       "      <th>article_id</th>\n",
       "      <th>price</th>\n",
       "      <th>sales_channel_id</th>\n",
       "    </tr>\n",
       "  </thead>\n",
       "  <tbody>\n",
       "    <tr>\n",
       "      <th>0</th>\n",
       "      <td>82d31ff65377fce66057cce27b76db61cf52d7dec99f6d...</td>\n",
       "      <td>2020-09-20</td>\n",
       "      <td>928898001</td>\n",
       "      <td>0.011847</td>\n",
       "      <td>1</td>\n",
       "    </tr>\n",
       "    <tr>\n",
       "      <th>2</th>\n",
       "      <td>fcf2f94a1dc37c1dfc2a142d9919fd26df040dc93e6d34...</td>\n",
       "      <td>2020-09-20</td>\n",
       "      <td>881117006</td>\n",
       "      <td>0.084729</td>\n",
       "      <td>2</td>\n",
       "    </tr>\n",
       "    <tr>\n",
       "      <th>3</th>\n",
       "      <td>fcf2f94a1dc37c1dfc2a142d9919fd26df040dc93e6d34...</td>\n",
       "      <td>2020-09-20</td>\n",
       "      <td>909320002</td>\n",
       "      <td>0.059305</td>\n",
       "      <td>2</td>\n",
       "    </tr>\n",
       "    <tr>\n",
       "      <th>4</th>\n",
       "      <td>1e2d676a62a40d8347521fc623b4baef09ddcefd2ead03...</td>\n",
       "      <td>2020-09-20</td>\n",
       "      <td>547780001</td>\n",
       "      <td>0.025407</td>\n",
       "      <td>2</td>\n",
       "    </tr>\n",
       "    <tr>\n",
       "      <th>5</th>\n",
       "      <td>1e2d676a62a40d8347521fc623b4baef09ddcefd2ead03...</td>\n",
       "      <td>2020-09-20</td>\n",
       "      <td>547780003</td>\n",
       "      <td>0.025407</td>\n",
       "      <td>2</td>\n",
       "    </tr>\n",
       "    <tr>\n",
       "      <th>...</th>\n",
       "      <td>...</td>\n",
       "      <td>...</td>\n",
       "      <td>...</td>\n",
       "      <td>...</td>\n",
       "      <td>...</td>\n",
       "    </tr>\n",
       "    <tr>\n",
       "      <th>199869</th>\n",
       "      <td>d96abf143f50ff4ed39f63d86b74ee8459512de5caa113...</td>\n",
       "      <td>2020-09-18</td>\n",
       "      <td>934835001</td>\n",
       "      <td>0.025407</td>\n",
       "      <td>2</td>\n",
       "    </tr>\n",
       "    <tr>\n",
       "      <th>199870</th>\n",
       "      <td>d96abf143f50ff4ed39f63d86b74ee8459512de5caa113...</td>\n",
       "      <td>2020-09-18</td>\n",
       "      <td>865799006</td>\n",
       "      <td>0.033881</td>\n",
       "      <td>2</td>\n",
       "    </tr>\n",
       "    <tr>\n",
       "      <th>199871</th>\n",
       "      <td>d96abf143f50ff4ed39f63d86b74ee8459512de5caa113...</td>\n",
       "      <td>2020-09-18</td>\n",
       "      <td>918835001</td>\n",
       "      <td>0.025407</td>\n",
       "      <td>2</td>\n",
       "    </tr>\n",
       "    <tr>\n",
       "      <th>199872</th>\n",
       "      <td>d96abf143f50ff4ed39f63d86b74ee8459512de5caa113...</td>\n",
       "      <td>2020-09-18</td>\n",
       "      <td>935541001</td>\n",
       "      <td>0.025407</td>\n",
       "      <td>2</td>\n",
       "    </tr>\n",
       "    <tr>\n",
       "      <th>199873</th>\n",
       "      <td>d96abf143f50ff4ed39f63d86b74ee8459512de5caa113...</td>\n",
       "      <td>2020-09-18</td>\n",
       "      <td>935541001</td>\n",
       "      <td>0.025407</td>\n",
       "      <td>2</td>\n",
       "    </tr>\n",
       "  </tbody>\n",
       "</table>\n",
       "<p>105666 rows × 5 columns</p>\n",
       "</div>"
      ],
      "text/plain": [
       "                                              customer_id      t_dat  \\\n",
       "0       82d31ff65377fce66057cce27b76db61cf52d7dec99f6d... 2020-09-20   \n",
       "2       fcf2f94a1dc37c1dfc2a142d9919fd26df040dc93e6d34... 2020-09-20   \n",
       "3       fcf2f94a1dc37c1dfc2a142d9919fd26df040dc93e6d34... 2020-09-20   \n",
       "4       1e2d676a62a40d8347521fc623b4baef09ddcefd2ead03... 2020-09-20   \n",
       "5       1e2d676a62a40d8347521fc623b4baef09ddcefd2ead03... 2020-09-20   \n",
       "...                                                   ...        ...   \n",
       "199869  d96abf143f50ff4ed39f63d86b74ee8459512de5caa113... 2020-09-18   \n",
       "199870  d96abf143f50ff4ed39f63d86b74ee8459512de5caa113... 2020-09-18   \n",
       "199871  d96abf143f50ff4ed39f63d86b74ee8459512de5caa113... 2020-09-18   \n",
       "199872  d96abf143f50ff4ed39f63d86b74ee8459512de5caa113... 2020-09-18   \n",
       "199873  d96abf143f50ff4ed39f63d86b74ee8459512de5caa113... 2020-09-18   \n",
       "\n",
       "        article_id     price  sales_channel_id  \n",
       "0        928898001  0.011847                 1  \n",
       "2        881117006  0.084729                 2  \n",
       "3        909320002  0.059305                 2  \n",
       "4        547780001  0.025407                 2  \n",
       "5        547780003  0.025407                 2  \n",
       "...            ...       ...               ...  \n",
       "199869   934835001  0.025407                 2  \n",
       "199870   865799006  0.033881                 2  \n",
       "199871   918835001  0.025407                 2  \n",
       "199872   935541001  0.025407                 2  \n",
       "199873   935541001  0.025407                 2  \n",
       "\n",
       "[105666 rows x 5 columns]"
      ]
     },
     "execution_count": 25,
     "metadata": {},
     "output_type": "execute_result"
    }
   ],
   "source": [
    "test_data_without_new_cust_1000 = downsize(test_df_cust_existing, no_cust)\n",
    "test_data_without_new_cust_1000"
   ]
  },
  {
   "cell_type": "markdown",
   "metadata": {},
   "source": [
    "#### Converting test data into dictionary of customers and articles"
   ]
  },
  {
   "cell_type": "code",
   "execution_count": 26,
   "metadata": {},
   "outputs": [],
   "source": [
    "test_df = test_data_1000.copy()\n",
    "test_df['article_id'] = test_df['article_id'].astype(str) + ' '\n",
    "test_df = pd.DataFrame(test_df.groupby('customer_id').article_id.sum())"
   ]
  },
  {
   "cell_type": "code",
   "execution_count": 27,
   "metadata": {},
   "outputs": [],
   "source": [
    "test_df_idx = test_data_1000.copy()\n",
    "test_df_idx['article_id'] = test_df_idx['article_id'].astype(str) + ' '\n",
    "test_df_idx = pd.DataFrame(test_df_idx.groupby('customer_id').article_id.sum()).reset_index()"
   ]
  },
  {
   "cell_type": "code",
   "execution_count": 29,
   "metadata": {},
   "outputs": [],
   "source": [
    "test_dict = test_df.to_dict()\n",
    "test_dict = test_dict['article_id']\n",
    "test_dict\n",
    "for i in test_dict:\n",
    "    lst = test_dict[i][:-1].split(' ')\n",
    "    lst_n = [int(x) for x in lst]\n",
    "    test_dict[i] = lst_n"
   ]
  },
  {
   "cell_type": "code",
   "execution_count": 30,
   "metadata": {},
   "outputs": [],
   "source": [
    "test_df_without_new_cust = test_data_without_new_cust_1000.copy()\n",
    "test_df_without_new_cust['article_id'] = test_df_without_new_cust['article_id'].astype(str) + ' '\n",
    "test_df_without_new_cust = pd.DataFrame(test_df_without_new_cust.groupby('customer_id').article_id.sum())"
   ]
  },
  {
   "cell_type": "code",
   "execution_count": 31,
   "metadata": {},
   "outputs": [],
   "source": [
    "test_df_without_new_cust_idx = test_data_without_new_cust_1000.copy()\n",
    "test_df_without_new_cust_idx['article_id'] = test_df_without_new_cust_idx['article_id'].astype(str) + ' '\n",
    "test_df_without_new_cust_idx = pd.DataFrame(test_df_without_new_cust_idx.groupby('customer_id').article_id.sum()).reset_index()"
   ]
  },
  {
   "cell_type": "code",
   "execution_count": 32,
   "metadata": {},
   "outputs": [],
   "source": [
    "test_dict_without_new_cust = test_df_without_new_cust.to_dict()\n",
    "test_dict_without_new_cust = test_dict_without_new_cust['article_id']\n",
    "\n",
    "for i in test_dict_without_new_cust:\n",
    "    lst = test_dict_without_new_cust[i][:-1].split(' ')\n",
    "    lst_n = [int(x) for x in lst]\n",
    "    test_dict_without_new_cust[i] = lst_n"
   ]
  },
  {
   "cell_type": "markdown",
   "metadata": {},
   "source": [
    "#### Converting training data into dictionary of customers and articles"
   ]
  },
  {
   "cell_type": "code",
   "execution_count": 33,
   "metadata": {},
   "outputs": [],
   "source": [
    "train_df = filtered_train_data.copy()\n",
    "train_df['article_id'] = train_df['article_id'].astype(str) + ' '\n",
    "train_df = pd.DataFrame(train_df.groupby('customer_id').article_id.sum())"
   ]
  },
  {
   "cell_type": "code",
   "execution_count": 34,
   "metadata": {},
   "outputs": [
    {
     "data": {
      "text/html": [
       "<div>\n",
       "<style scoped>\n",
       "    .dataframe tbody tr th:only-of-type {\n",
       "        vertical-align: middle;\n",
       "    }\n",
       "\n",
       "    .dataframe tbody tr th {\n",
       "        vertical-align: top;\n",
       "    }\n",
       "\n",
       "    .dataframe thead th {\n",
       "        text-align: right;\n",
       "    }\n",
       "</style>\n",
       "<table border=\"1\" class=\"dataframe\">\n",
       "  <thead>\n",
       "    <tr style=\"text-align: right;\">\n",
       "      <th></th>\n",
       "      <th>article_id</th>\n",
       "    </tr>\n",
       "    <tr>\n",
       "      <th>customer_id</th>\n",
       "      <th></th>\n",
       "    </tr>\n",
       "  </thead>\n",
       "  <tbody>\n",
       "    <tr>\n",
       "      <th>00000dbacae5abe5e23885899a1fa44253a17956c6d1c3d25f88aa139fdfc657</th>\n",
       "      <td>841260003 887593002 890498002 795440001 859416...</td>\n",
       "    </tr>\n",
       "    <tr>\n",
       "      <th>0000423b00ade91418cceaf3b26c6af3dd342b51fd051eec9c12fb36984420fa</th>\n",
       "      <td>599580055 599580055 811835004 811835004 811835...</td>\n",
       "    </tr>\n",
       "    <tr>\n",
       "      <th>000058a12d5b43e67d225668fa1f8d618c13dc232df0cad8ffe7ad4a1091e318</th>\n",
       "      <td>727808001 727808007 858883002 851400006 750424...</td>\n",
       "    </tr>\n",
       "    <tr>\n",
       "      <th>00006413d8573cd20ed7128e53b7b13819fe5cfc2d801fe7fc0f26dd8d65a85a</th>\n",
       "      <td>589440005 827971001 818320001 896152002 730683...</td>\n",
       "    </tr>\n",
       "    <tr>\n",
       "      <th>0000757967448a6cb83efb3ea7a3fb9d418ac7adf2379d8cd0c725276a467a2a</th>\n",
       "      <td>719530003 448509014</td>\n",
       "    </tr>\n",
       "    <tr>\n",
       "      <th>...</th>\n",
       "      <td>...</td>\n",
       "    </tr>\n",
       "    <tr>\n",
       "      <th>ffff8f9ecdce722b5bab97fff68a6d1866492209bfe5242c50d2a10a652fb5ef</th>\n",
       "      <td>859845001 889679001 863001002</td>\n",
       "    </tr>\n",
       "    <tr>\n",
       "      <th>ffffbbf78b6eaac697a8a5dfbfd2bfa8113ee5b403e4747568cac33e8c541831</th>\n",
       "      <td>826955010 826955010 797565001 822344003 557599...</td>\n",
       "    </tr>\n",
       "    <tr>\n",
       "      <th>ffffcd5046a6143d29a04fb8c424ce494a76e5cdf4fab53481233731b5c4f8b7</th>\n",
       "      <td>687034024 739590040 879891001 739819009 816597...</td>\n",
       "    </tr>\n",
       "    <tr>\n",
       "      <th>ffffcf35913a0bee60e8741cb2b4e78b8a98ee5ff2e6a1778d0116cffd259264</th>\n",
       "      <td>816759002 570004009 570004009 636323002 835561...</td>\n",
       "    </tr>\n",
       "    <tr>\n",
       "      <th>ffffd7744cebcf3aca44ae7049d2a94b87074c3d4ffe38b2236865d949d4df6a</th>\n",
       "      <td>821395003 806241002 714790020 866755002 840360...</td>\n",
       "    </tr>\n",
       "  </tbody>\n",
       "</table>\n",
       "<p>751328 rows × 1 columns</p>\n",
       "</div>"
      ],
      "text/plain": [
       "                                                                                           article_id\n",
       "customer_id                                                                                          \n",
       "00000dbacae5abe5e23885899a1fa44253a17956c6d1c3d...  841260003 887593002 890498002 795440001 859416...\n",
       "0000423b00ade91418cceaf3b26c6af3dd342b51fd051ee...  599580055 599580055 811835004 811835004 811835...\n",
       "000058a12d5b43e67d225668fa1f8d618c13dc232df0cad...  727808001 727808007 858883002 851400006 750424...\n",
       "00006413d8573cd20ed7128e53b7b13819fe5cfc2d801fe...  589440005 827971001 818320001 896152002 730683...\n",
       "0000757967448a6cb83efb3ea7a3fb9d418ac7adf2379d8...                               719530003 448509014 \n",
       "...                                                                                               ...\n",
       "ffff8f9ecdce722b5bab97fff68a6d1866492209bfe5242...                     859845001 889679001 863001002 \n",
       "ffffbbf78b6eaac697a8a5dfbfd2bfa8113ee5b403e4747...  826955010 826955010 797565001 822344003 557599...\n",
       "ffffcd5046a6143d29a04fb8c424ce494a76e5cdf4fab53...  687034024 739590040 879891001 739819009 816597...\n",
       "ffffcf35913a0bee60e8741cb2b4e78b8a98ee5ff2e6a17...  816759002 570004009 570004009 636323002 835561...\n",
       "ffffd7744cebcf3aca44ae7049d2a94b87074c3d4ffe38b...  821395003 806241002 714790020 866755002 840360...\n",
       "\n",
       "[751328 rows x 1 columns]"
      ]
     },
     "execution_count": 34,
     "metadata": {},
     "output_type": "execute_result"
    }
   ],
   "source": [
    "train_df"
   ]
  },
  {
   "cell_type": "code",
   "execution_count": 35,
   "metadata": {},
   "outputs": [],
   "source": [
    "train_dict = train_df.to_dict()\n",
    "train_dict = train_dict['article_id']\n",
    "for i in train_dict:\n",
    "    lst = train_dict[i][:-1].split(' ')\n",
    "    lst_n = [int(x) for x in lst]\n",
    "    train_dict[i] = lst_n"
   ]
  },
  {
   "cell_type": "markdown",
   "metadata": {},
   "source": [
    "#### Creating dictionary of product codes and articles"
   ]
  },
  {
   "cell_type": "code",
   "execution_count": 36,
   "metadata": {},
   "outputs": [],
   "source": [
    "articles_product_code_df = articles.copy()\n",
    "articles_product_code_df['article_id'] = articles_product_code_df['article_id'].astype(str) + ' '\n",
    "articles_product_code_df = pd.DataFrame(articles_product_code_df.groupby(\n",
    "    'product_code').article_id.sum())\n"
   ]
  },
  {
   "cell_type": "code",
   "execution_count": 37,
   "metadata": {
    "scrolled": false
   },
   "outputs": [],
   "source": [
    "articles_product_code_dict = articles_product_code_df.to_dict()\n",
    "articles_product_code_dict = articles_product_code_dict['article_id']"
   ]
  },
  {
   "cell_type": "code",
   "execution_count": 38,
   "metadata": {},
   "outputs": [],
   "source": [
    "for i in articles_product_code_dict:\n",
    "    lst = articles_product_code_dict[i][:-1].split(' ')\n",
    "    lst_n = [int(x) for x in lst]\n",
    "    articles_product_code_dict[i] = lst_n\n",
    "#articles_product_code_dict"
   ]
  },
  {
   "cell_type": "code",
   "execution_count": 39,
   "metadata": {},
   "outputs": [
    {
     "data": {
      "text/html": [
       "<div>\n",
       "<style scoped>\n",
       "    .dataframe tbody tr th:only-of-type {\n",
       "        vertical-align: middle;\n",
       "    }\n",
       "\n",
       "    .dataframe tbody tr th {\n",
       "        vertical-align: top;\n",
       "    }\n",
       "\n",
       "    .dataframe thead th {\n",
       "        text-align: right;\n",
       "    }\n",
       "</style>\n",
       "<table border=\"1\" class=\"dataframe\">\n",
       "  <thead>\n",
       "    <tr style=\"text-align: right;\">\n",
       "      <th></th>\n",
       "      <th>article_id</th>\n",
       "      <th>product_code_articles</th>\n",
       "    </tr>\n",
       "  </thead>\n",
       "  <tbody>\n",
       "    <tr>\n",
       "      <th>0</th>\n",
       "      <td>108775015</td>\n",
       "      <td>108775015 108775044 108775051</td>\n",
       "    </tr>\n",
       "    <tr>\n",
       "      <th>1</th>\n",
       "      <td>108775044</td>\n",
       "      <td>108775015 108775044 108775051</td>\n",
       "    </tr>\n",
       "    <tr>\n",
       "      <th>2</th>\n",
       "      <td>108775051</td>\n",
       "      <td>108775015 108775044 108775051</td>\n",
       "    </tr>\n",
       "    <tr>\n",
       "      <th>3</th>\n",
       "      <td>110065001</td>\n",
       "      <td>110065001 110065002 110065011</td>\n",
       "    </tr>\n",
       "    <tr>\n",
       "      <th>4</th>\n",
       "      <td>110065002</td>\n",
       "      <td>110065001 110065002 110065011</td>\n",
       "    </tr>\n",
       "    <tr>\n",
       "      <th>...</th>\n",
       "      <td>...</td>\n",
       "      <td>...</td>\n",
       "    </tr>\n",
       "    <tr>\n",
       "      <th>105537</th>\n",
       "      <td>953450001</td>\n",
       "      <td>953450001</td>\n",
       "    </tr>\n",
       "    <tr>\n",
       "      <th>105538</th>\n",
       "      <td>953763001</td>\n",
       "      <td>953763001</td>\n",
       "    </tr>\n",
       "    <tr>\n",
       "      <th>105539</th>\n",
       "      <td>956217002</td>\n",
       "      <td>956217002</td>\n",
       "    </tr>\n",
       "    <tr>\n",
       "      <th>105540</th>\n",
       "      <td>957375001</td>\n",
       "      <td>957375001</td>\n",
       "    </tr>\n",
       "    <tr>\n",
       "      <th>105541</th>\n",
       "      <td>959461001</td>\n",
       "      <td>959461001</td>\n",
       "    </tr>\n",
       "  </tbody>\n",
       "</table>\n",
       "<p>105542 rows × 2 columns</p>\n",
       "</div>"
      ],
      "text/plain": [
       "        article_id           product_code_articles\n",
       "0        108775015  108775015 108775044 108775051 \n",
       "1        108775044  108775015 108775044 108775051 \n",
       "2        108775051  108775015 108775044 108775051 \n",
       "3        110065001  110065001 110065002 110065011 \n",
       "4        110065002  110065001 110065002 110065011 \n",
       "...            ...                             ...\n",
       "105537   953450001                      953450001 \n",
       "105538   953763001                      953763001 \n",
       "105539   956217002                      956217002 \n",
       "105540   957375001                      957375001 \n",
       "105541   959461001                      959461001 \n",
       "\n",
       "[105542 rows x 2 columns]"
      ]
     },
     "execution_count": 39,
     "metadata": {},
     "output_type": "execute_result"
    }
   ],
   "source": [
    "art_prod_code = articles[['article_id', 'product_code']].set_index('product_code')\n",
    "art_same_prod_code = pd.merge(art_prod_code, articles_product_code_df, left_index=True, right_index=True)\n",
    "art_same_prod_code = art_same_prod_code.reset_index(drop=True)\n",
    "art_same_prod_code.columns = ['article_id', 'product_code_articles']\n",
    "art_same_prod_code"
   ]
  },
  {
   "cell_type": "code",
   "execution_count": 40,
   "metadata": {},
   "outputs": [],
   "source": [
    "art_same_prod_code.product_code_articles = art_same_prod_code.product_code_articles.apply(lambda x: [int(i) for i in x[:-1].split(' ')])"
   ]
  },
  {
   "cell_type": "code",
   "execution_count": 41,
   "metadata": {},
   "outputs": [],
   "source": [
    "clean_articles_product_code = []\n",
    "for article_id, product_code_articles in zip(art_same_prod_code['article_id'].values, art_same_prod_code['product_code_articles'].values):\n",
    "    #print(article_id)\n",
    "    #print(product_code_articles)\n",
    "    if (article_id in product_code_articles):\n",
    "        #print(article_id)\n",
    "        product_code_articles.remove(article_id)\n",
    "    else:\n",
    "        product_code_articles = []\n",
    "    #print(product_code_articles)\n",
    "    clean_articles_product_code.append(product_code_articles)\n",
    "art_same_prod_code.product_code_articles = clean_articles_product_code"
   ]
  },
  {
   "cell_type": "code",
   "execution_count": 42,
   "metadata": {},
   "outputs": [],
   "source": [
    "art_same_prod_code = art_same_prod_code.set_index('article_id')"
   ]
  },
  {
   "cell_type": "code",
   "execution_count": 43,
   "metadata": {},
   "outputs": [],
   "source": [
    "art_same_prod_code_dict = art_same_prod_code.to_dict()\n",
    "art_same_prod_code_dict = art_same_prod_code_dict['product_code_articles']"
   ]
  },
  {
   "cell_type": "markdown",
   "metadata": {},
   "source": [
    "#### Creating dictionary of product types and articles"
   ]
  },
  {
   "cell_type": "code",
   "execution_count": 44,
   "metadata": {},
   "outputs": [],
   "source": [
    "articles_product_type_df = articles.copy()\n",
    "articles_product_type_df['article_id'] = articles_product_type_df['article_id'].astype(str) + ' '\n",
    "articles_product_type_df = pd.DataFrame(articles_product_type_df.groupby(\n",
    "    'product_type_no').article_id.sum())"
   ]
  },
  {
   "cell_type": "code",
   "execution_count": 45,
   "metadata": {},
   "outputs": [],
   "source": [
    "articles_product_type_dict = articles_product_type_df.to_dict()\n",
    "articles_product_type_dict = articles_product_type_dict['article_id']"
   ]
  },
  {
   "cell_type": "code",
   "execution_count": 46,
   "metadata": {},
   "outputs": [
    {
     "data": {
      "text/html": [
       "<div>\n",
       "<style scoped>\n",
       "    .dataframe tbody tr th:only-of-type {\n",
       "        vertical-align: middle;\n",
       "    }\n",
       "\n",
       "    .dataframe tbody tr th {\n",
       "        vertical-align: top;\n",
       "    }\n",
       "\n",
       "    .dataframe thead th {\n",
       "        text-align: right;\n",
       "    }\n",
       "</style>\n",
       "<table border=\"1\" class=\"dataframe\">\n",
       "  <thead>\n",
       "    <tr style=\"text-align: right;\">\n",
       "      <th></th>\n",
       "      <th>article_id</th>\n",
       "      <th>product_type_articles</th>\n",
       "    </tr>\n",
       "  </thead>\n",
       "  <tbody>\n",
       "    <tr>\n",
       "      <th>0</th>\n",
       "      <td>156224002</td>\n",
       "      <td>156224002 473954008 473954013 473954014 473954...</td>\n",
       "    </tr>\n",
       "    <tr>\n",
       "      <th>1</th>\n",
       "      <td>473954008</td>\n",
       "      <td>156224002 473954008 473954013 473954014 473954...</td>\n",
       "    </tr>\n",
       "    <tr>\n",
       "      <th>2</th>\n",
       "      <td>473954013</td>\n",
       "      <td>156224002 473954008 473954013 473954014 473954...</td>\n",
       "    </tr>\n",
       "    <tr>\n",
       "      <th>3</th>\n",
       "      <td>473954014</td>\n",
       "      <td>156224002 473954008 473954013 473954014 473954...</td>\n",
       "    </tr>\n",
       "    <tr>\n",
       "      <th>4</th>\n",
       "      <td>473954015</td>\n",
       "      <td>156224002 473954008 473954013 473954014 473954...</td>\n",
       "    </tr>\n",
       "    <tr>\n",
       "      <th>...</th>\n",
       "      <td>...</td>\n",
       "      <td>...</td>\n",
       "    </tr>\n",
       "    <tr>\n",
       "      <th>105537</th>\n",
       "      <td>874961004</td>\n",
       "      <td>874961001 874961002 874961003 874961004 874961...</td>\n",
       "    </tr>\n",
       "    <tr>\n",
       "      <th>105538</th>\n",
       "      <td>874961005</td>\n",
       "      <td>874961001 874961002 874961003 874961004 874961...</td>\n",
       "    </tr>\n",
       "    <tr>\n",
       "      <th>105539</th>\n",
       "      <td>852389001</td>\n",
       "      <td>852389001 852390001 852393001</td>\n",
       "    </tr>\n",
       "    <tr>\n",
       "      <th>105540</th>\n",
       "      <td>852390001</td>\n",
       "      <td>852389001 852390001 852393001</td>\n",
       "    </tr>\n",
       "    <tr>\n",
       "      <th>105541</th>\n",
       "      <td>852393001</td>\n",
       "      <td>852389001 852390001 852393001</td>\n",
       "    </tr>\n",
       "  </tbody>\n",
       "</table>\n",
       "<p>105542 rows × 2 columns</p>\n",
       "</div>"
      ],
      "text/plain": [
       "        article_id                              product_type_articles\n",
       "0        156224002  156224002 473954008 473954013 473954014 473954...\n",
       "1        473954008  156224002 473954008 473954013 473954014 473954...\n",
       "2        473954013  156224002 473954008 473954013 473954014 473954...\n",
       "3        473954014  156224002 473954008 473954013 473954014 473954...\n",
       "4        473954015  156224002 473954008 473954013 473954014 473954...\n",
       "...            ...                                                ...\n",
       "105537   874961004  874961001 874961002 874961003 874961004 874961...\n",
       "105538   874961005  874961001 874961002 874961003 874961004 874961...\n",
       "105539   852389001                     852389001 852390001 852393001 \n",
       "105540   852390001                     852389001 852390001 852393001 \n",
       "105541   852393001                     852389001 852390001 852393001 \n",
       "\n",
       "[105542 rows x 2 columns]"
      ]
     },
     "execution_count": 46,
     "metadata": {},
     "output_type": "execute_result"
    }
   ],
   "source": [
    "art_prod_type = articles[['article_id', 'product_type_no']].set_index('product_type_no')\n",
    "art_same_prod_type = pd.merge(art_prod_type, articles_product_type_df, left_index=True, right_index=True)\n",
    "art_same_prod_type = art_same_prod_type.reset_index(drop=True)\n",
    "art_same_prod_type.columns = ['article_id', 'product_type_articles']\n",
    "art_same_prod_type"
   ]
  },
  {
   "cell_type": "code",
   "execution_count": null,
   "metadata": {},
   "outputs": [],
   "source": [
    "art_same_prod_type.product_type_articles = art_same_prod_type.product_type_articles.apply(lambda x: [int(i) for i in x[:-1].split(' ')])"
   ]
  },
  {
   "cell_type": "code",
   "execution_count": 44,
   "metadata": {},
   "outputs": [],
   "source": [
    "clean_articles_product_type = []\n",
    "for article_id, product_type_articles in zip(art_same_prod_type['article_id'].values, art_same_prod_type['product_type_articles'].values):\n",
    "    if (article_id in product_type_articles):\n",
    "        product_type_articles.remove(article_id)\n",
    "    else:\n",
    "        product_type_articles = []\n",
    "\n",
    "    clean_articles_product_type.append(product_type_articles)\n",
    "art_same_prod_type.product_type_articles = clean_articles_product_type"
   ]
  },
  {
   "cell_type": "code",
   "execution_count": 45,
   "metadata": {},
   "outputs": [],
   "source": [
    "art_same_prod_type = art_same_prod_type.set_index('article_id')"
   ]
  },
  {
   "cell_type": "code",
   "execution_count": 46,
   "metadata": {},
   "outputs": [],
   "source": [
    "art_same_prod_type_dict = art_same_prod_type.to_dict()\n",
    "art_same_prod_type_dict = art_same_prod_type_dict['product_type_articles']"
   ]
  },
  {
   "cell_type": "code",
   "execution_count": null,
   "metadata": {},
   "outputs": [],
   "source": []
  },
  {
   "cell_type": "markdown",
   "metadata": {},
   "source": [
    "### Content-Based"
   ]
  },
  {
   "cell_type": "code",
   "execution_count": 47,
   "metadata": {},
   "outputs": [],
   "source": [
    "def content_based(n, k, train_df, data, art_same_prod_code, art_same_prod_type):\n",
    "    recommendations = {}\n",
    "    for cust in data:\n",
    "        if (cust in list(train_df.keys())):\n",
    "            article_ids = train_df[cust]\n",
    "\n",
    "            if len(article_ids) >= n:\n",
    "                article_ids = article_ids[-min(n,k):]\n",
    "            #print(article_ids)\n",
    "            \n",
    "            no_recs_each_item = k//len(article_ids)\n",
    "            no_extra_rec = k%len(article_ids)\n",
    "            rec_list = []\n",
    "\n",
    "            for a in article_ids:\n",
    "                rec_article_ids = art_same_prod_code[a]\n",
    "                if(len(rec_article_ids) < no_recs_each_item):\n",
    "                    more_rec_article_ids = art_same_prod_type[a]\n",
    "                \n",
    "                    for i in more_rec_article_ids:\n",
    "                        if i not in rec_article_ids:\n",
    "                            rec_article_ids.append(i)\n",
    "                \n",
    "                rec_list += rec_article_ids[:no_recs_each_item]\n",
    "                \n",
    "            if(no_extra_rec != 0):\n",
    "                extra_article_id = article_ids[-no_extra_rec:][0]\n",
    "                rec_extra_article_ids = art_same_prod_code[extra_article_id]\n",
    "                rec_extra_article_ids = rec_extra_article_ids[no_recs_each_item:no_recs_each_item+no_extra_rec]\n",
    "                for r in rec_extra_article_ids:\n",
    "                    rec_list.append(r)\n",
    "\n",
    "            if(len(rec_list) < k):\n",
    "                sub = k-len((rec_list))\n",
    "                for i in range(sub):\n",
    "                    rec_list.append(0)\n",
    "            recommendations[cust]=rec_list\n",
    "        else:\n",
    "            recommendations[cust]=[0]*k \n",
    "    \n",
    "    return recommendations"
   ]
  },
  {
   "cell_type": "markdown",
   "metadata": {},
   "source": [
    "### User-Item Matrix"
   ]
  },
  {
   "cell_type": "code",
   "execution_count": 48,
   "metadata": {},
   "outputs": [],
   "source": [
    "trans_df = filtered_train_data.copy()"
   ]
  },
  {
   "cell_type": "code",
   "execution_count": 49,
   "metadata": {},
   "outputs": [],
   "source": [
    "ALL_USERS = trans_df['customer_id'].unique().tolist()\n",
    "ALL_ITEMS = trans_df['article_id'].unique().tolist()\n",
    "user_ids = dict(list(enumerate(ALL_USERS)))\n",
    "item_ids = dict(list(enumerate(ALL_ITEMS)))\n",
    "user_map = {u: uidx for uidx, u in user_ids.items()}\n",
    "item_map = {i: iidx for iidx, i in item_ids.items()}\n",
    "trans_df['user_id'] = trans_df['customer_id'].map(user_map)\n",
    "trans_df['item_id'] = trans_df['article_id'].map(item_map)"
   ]
  },
  {
   "cell_type": "code",
   "execution_count": 50,
   "metadata": {},
   "outputs": [],
   "source": [
    "train, test = split_train_test(7, trans_df)"
   ]
  },
  {
   "cell_type": "code",
   "execution_count": 51,
   "metadata": {},
   "outputs": [],
   "source": [
    "user_item_df = train.groupby(['user_id', 'item_id'])['t_dat'].count().reset_index()\n",
    "user_item_df = user_item_df.rename(columns = {'t_dat': 'purchase_count'})"
   ]
  },
  {
   "cell_type": "code",
   "execution_count": 52,
   "metadata": {},
   "outputs": [],
   "source": [
    "values = user_item_df.purchase_count.values\n",
    "row = user_item_df.user_id.values\n",
    "column = user_item_df.item_id.values"
   ]
  },
  {
   "cell_type": "code",
   "execution_count": 53,
   "metadata": {},
   "outputs": [],
   "source": [
    "from scipy.sparse import csr_matrix"
   ]
  },
  {
   "cell_type": "code",
   "execution_count": 54,
   "metadata": {},
   "outputs": [],
   "source": [
    "sparse_user_item_matrix = csr_matrix((values, (row, column)), shape=(len(ALL_USERS), len(ALL_ITEMS)))"
   ]
  },
  {
   "cell_type": "markdown",
   "metadata": {},
   "source": [
    "#### Importing ALS from Implicit Library"
   ]
  },
  {
   "cell_type": "code",
   "execution_count": 55,
   "metadata": {},
   "outputs": [],
   "source": [
    "from implicit.als import AlternatingLeastSquares"
   ]
  },
  {
   "cell_type": "code",
   "execution_count": 56,
   "metadata": {},
   "outputs": [
    {
     "data": {
      "application/json": {
       "ascii": false,
       "bar_format": null,
       "colour": null,
       "elapsed": 0.01033782958984375,
       "initial": 0,
       "n": 0,
       "ncols": null,
       "nrows": 24,
       "postfix": null,
       "prefix": "",
       "rate": null,
       "total": 10,
       "unit": "it",
       "unit_divisor": 1000,
       "unit_scale": false
      },
      "application/vnd.jupyter.widget-view+json": {
       "model_id": "56341fbf9d764bc3932b62027feac07f",
       "version_major": 2,
       "version_minor": 0
      },
      "text/plain": [
       "  0%|          | 0/10 [00:00<?, ?it/s]"
      ]
     },
     "metadata": {},
     "output_type": "display_data"
    }
   ],
   "source": [
    "model = AlternatingLeastSquares(factors=40, iterations=10, random_state=42)\n",
    "model.fit(sparse_user_item_matrix)"
   ]
  },
  {
   "cell_type": "markdown",
   "metadata": {},
   "source": [
    "### ALS Recommendation"
   ]
  },
  {
   "cell_type": "code",
   "execution_count": 71,
   "metadata": {},
   "outputs": [],
   "source": [
    "def als_recommend(n: int, cust_id_list: list, data: pd.DataFrame, sparse_matrix: object)->list:\n",
    "    '''\n",
    "    Uses ALS to generate recommendations for customers\n",
    "    ---------------\n",
    "    parameters:\n",
    "        n: number of recommended items\n",
    "        data: list of customer_ids\n",
    "    '''\n",
    "    recommendations = []\n",
    "    for cust in cust_id_list:\n",
    "        user_id = data[data['customer_id']==cust]['user_id'].array[0]\n",
    "        item_ids = model.recommend(userid=user_id, N=n, user_items=sparse_matrix[user_id])[0]\n",
    "        article_ids = []\n",
    "        for item in item_ids:\n",
    "            article_id = data[data['item_id']==item]['article_id'].array[0]\n",
    "            article_ids.append(article_id)\n",
    "        recommendations.append(article_ids)\n",
    "    return recommendations"
   ]
  },
  {
   "cell_type": "markdown",
   "metadata": {},
   "source": [
    "### Hybrid Recommendation"
   ]
  },
  {
   "cell_type": "code",
   "execution_count": 83,
   "metadata": {},
   "outputs": [],
   "source": [
    "def hybrid_recommendation(k, cust_id_list, filtered_train_data, data, trans_df, art_same_prod_code_dict, \n",
    "                          art_same_prod_type_dict, sparse_matrix):\n",
    "    recommendations = []\n",
    "    k_each_model = k//3\n",
    "    extra = k%3\n",
    "    #print(k_each_model)\n",
    "    #print(extra)\n",
    "    np_recs_ids = []\n",
    "    if(k_each_model != 0):\n",
    "        np_recs = non_personalised(k_each_model, 7, filtered_train_data)\n",
    "        np_recs_ids = list(np_recs['article_id'])\n",
    "    #print(np_recs_ids)\n",
    "\n",
    "    for cust in cust_id_list:\n",
    "        np_recs_ids_ex=[]\n",
    "        cb_recs_id=[]\n",
    "        als_recs=[]\n",
    "        if(k_each_model != 0):\n",
    "            cb_recs = content_based(5, k_each_model, data, [cust], art_same_prod_code_dict, art_same_prod_type_dict)\n",
    "            cb_recs_ids = []\n",
    "            cb_recs_id = []\n",
    "            for rec in cb_recs:\n",
    "                cb_recs_ids.append(cb_recs[rec])\n",
    "            for ids in cb_recs_ids:\n",
    "                for i in ids:\n",
    "                    cb_recs_id.append(int(i))\n",
    "            cb_recs_id = cb_recs_id[:k_each_model]\n",
    "            #print(cb_recs_id)\n",
    "            \n",
    "            als_recs = als_recommend(k_each_model, [cust], trans_df, sparse_matrix)[0]\n",
    "            #print(als_recs)\n",
    "        if (cust in list(data.keys())):\n",
    "            als_recs.append(als_recommend(k_each_model+1, [cust], trans_df, sparse_matrix)[0][-1:][0])\n",
    "            if (extra == 2):\n",
    "                cb_recsx = content_based(5, k_each_model+1, data, [cust], art_same_prod_code_dict,\n",
    "                                         art_same_prod_type_dict)\n",
    "                new_cb_recs_ids = []\n",
    "                for rec in cb_recsx:\n",
    "                    new_cb_recs_ids.append(cb_recsx[rec])\n",
    "                #print(new_cb_recs_ids[0][-1])\n",
    "                cb_recs_id+=(new_cb_recs_ids[0][-1:])\n",
    "                cb_recs_id = [int(x) for x in cb_recs_id]\n",
    "                #print(cb_recs_id)\n",
    "        else:\n",
    "            np_recs = non_personalised(k_each_model+extra, 7, data)\n",
    "            np_recs_ids_ex.append(list(np_recs['article_id'])[-extra:])\n",
    "            \n",
    "        #print(als_recs)\n",
    "        #print(np_recs_ids)\n",
    "        recs = np_recs_ids +  cb_recs_id + als_recs + np_recs_ids_ex\n",
    "        #print(cust)\n",
    "        #print(recs)\n",
    "        recommendations.append(recs)\n",
    "    return recommendations"
   ]
  },
  {
   "cell_type": "code",
   "execution_count": 54,
   "metadata": {},
   "outputs": [],
   "source": [
    "cust_id_list = list(test_dict.keys())"
   ]
  },
  {
   "cell_type": "code",
   "execution_count": 69,
   "metadata": {},
   "outputs": [],
   "source": [
    "hybrid_recommendations = hybrid_recommendation(10, cust_id_list[:1], filtered_train_data, train_dict, trans_df, \n",
    "                                        art_same_prod_code_dict, art_same_prod_type_dict, sparse_user_item_matrix)"
   ]
  },
  {
   "cell_type": "code",
   "execution_count": 70,
   "metadata": {},
   "outputs": [
    {
     "data": {
      "text/plain": [
       "[[924243001,\n",
       "  924243002,\n",
       "  918522001,\n",
       "  811500001,\n",
       "  754362002,\n",
       "  572998001,\n",
       "  720125001,\n",
       "  852174001,\n",
       "  854043005,\n",
       "  730683050]]"
      ]
     },
     "execution_count": 70,
     "metadata": {},
     "output_type": "execute_result"
    }
   ],
   "source": [
    "hybrid_recommendations"
   ]
  },
  {
   "cell_type": "markdown",
   "metadata": {},
   "source": [
    "### Defining MAP"
   ]
  },
  {
   "cell_type": "code",
   "execution_count": 58,
   "metadata": {},
   "outputs": [],
   "source": [
    "def apk(actual, predicted, k=10):\n",
    "    if len(predicted) > k:\n",
    "        predicted = predicted[:k]\n",
    "    score = 0.0\n",
    "    num_hits = 0.0\n",
    "    for i,p in enumerate(predicted):\n",
    "        if p in actual and p not in predicted[:i]:\n",
    "            num_hits += 1.0\n",
    "            score += num_hits / (i+1.0)\n",
    "    if not actual:\n",
    "        return 0.0\n",
    "    return score / min(len(actual), k)\n",
    "\n",
    "\n",
    "def mapk(actual, predicted, k=10):\n",
    "    return np.mean([apk(a,p,k) for a,p in zip(actual, predicted)])\n",
    "\n",
    "#Referred from: https://github.com/benhamner/Metrics/blob/master/Python/ml_metrics/average_precision.py"
   ]
  },
  {
   "cell_type": "markdown",
   "metadata": {},
   "source": [
    "### Defining Average Precision"
   ]
  },
  {
   "cell_type": "code",
   "execution_count": 59,
   "metadata": {},
   "outputs": [],
   "source": [
    "def avg_precision(actual, predicted):\n",
    "    precision=0\n",
    "    for act,pred in zip(actual, predicted):\n",
    "        sum = 0\n",
    "        for p in pred:\n",
    "            if p in act:\n",
    "                sum+=1.0\n",
    "        precision+=(sum/len(pred))\n",
    "        \n",
    "    return precision/len(actual)"
   ]
  },
  {
   "cell_type": "markdown",
   "metadata": {},
   "source": [
    "### Defining Average Recall"
   ]
  },
  {
   "cell_type": "code",
   "execution_count": 60,
   "metadata": {},
   "outputs": [],
   "source": [
    "def avg_recall(actual, predicted):\n",
    "    recall=0\n",
    "    for act,pred in zip(actual, predicted):\n",
    "        sum = 0\n",
    "        for p in pred:\n",
    "            if p in act:\n",
    "                sum+=1.0\n",
    "        recall+=(sum/len(act))\n",
    "        \n",
    "    return recall/len(actual)"
   ]
  },
  {
   "cell_type": "markdown",
   "metadata": {},
   "source": [
    "### Evaluating Non-personalised recommendations"
   ]
  },
  {
   "cell_type": "code",
   "execution_count": 61,
   "metadata": {},
   "outputs": [],
   "source": [
    "def non_personalised_multiple_recommendations(n, data, test_df):\n",
    "    mapk_list=[]\n",
    "    avg_precision_list=[]\n",
    "    avg_recall_list=[]\n",
    "    for k in range (1, 101):\n",
    "        df_k_recommendations = non_personalised(k, n, data)\n",
    "\n",
    "        #Creating list of predicted items\n",
    "        np_recs = df_k_recommendations['article_id'].values\n",
    "        recs = list(np_recs)\n",
    "        p_list = []\n",
    "        for i in range(len(test)):\n",
    "            p_list.append(recs)\n",
    "        \n",
    "        #Creating list of actual items bought by the user\n",
    "        articles_list = test_df['article_id'].to_list()\n",
    "        a_list = []\n",
    "        for a in articles_list:\n",
    "            arr=a[:-1].split(' ')\n",
    "            arr=[int(value) for value in arr]\n",
    "            a_list.append(arr)\n",
    "\n",
    "        \n",
    "        mapk_list.append(mapk(a_list, p_list, k))\n",
    "        avg_precision_list.append(avg_precision(a_list, p_list))\n",
    "        avg_recall_list.append(avg_recall(a_list, p_list))\n",
    "\n",
    "    return mapk_list, avg_precision_list, avg_recall_list"
   ]
  },
  {
   "cell_type": "code",
   "execution_count": 62,
   "metadata": {},
   "outputs": [],
   "source": [
    "mapk_vals_np, avg_precision_vals_np, avg_recall_vals_np = non_personalised_multiple_recommendations(7, filtered_train_data, test_df)"
   ]
  },
  {
   "cell_type": "code",
   "execution_count": 63,
   "metadata": {},
   "outputs": [
    {
     "name": "stdout",
     "output_type": "stream",
     "text": [
      "MAP\n",
      "k=10: 0.007882662037037037\n",
      "k=50: 0.00977252428107237\n",
      "k=100: 0.010653170535515535\n",
      "Avg. Precision\n",
      "k=10: 0.007799999999999992\n",
      "k=50: 0.004599999999999995\n",
      "k=100: 0.003789999999999978\n",
      "Avg. Recall\n",
      "k=10: 0.02084132974868268\n",
      "k=50: 0.0696205579035688\n",
      "k=100: 0.12188481617281925\n"
     ]
    }
   ],
   "source": [
    "k_list = [10, 50, 100]\n",
    "print('MAP')\n",
    "for val in k_list:\n",
    "    print('k='+ str(val) +': '+str(mapk_vals_np[val-1]))\n",
    "print('Avg. Precision')\n",
    "for val in k_list:\n",
    "    print('k='+ str(val) +': '+str(avg_precision_vals_np[val-1]))\n",
    "print('Avg. Recall')\n",
    "for val in k_list:\n",
    "    print('k='+ str(val) +': '+str(avg_recall_vals_np[val-1]))"
   ]
  },
  {
   "cell_type": "code",
   "execution_count": 64,
   "metadata": {},
   "outputs": [],
   "source": [
    "mapk_vals_np_wnc, avg_precision_vals_np_wnc, avg_recall_vals_np_wnc = non_personalised_multiple_recommendations(7, filtered_train_data, test_df_without_new_cust)"
   ]
  },
  {
   "cell_type": "code",
   "execution_count": 65,
   "metadata": {},
   "outputs": [
    {
     "name": "stdout",
     "output_type": "stream",
     "text": [
      "MAP\n",
      "k=10: 0.007846577380952381\n",
      "k=50: 0.009761106770400962\n",
      "k=100: 0.010555392804547868\n",
      "Avg. Precision\n",
      "k=10: 0.007599999999999992\n",
      "k=50: 0.004779999999999991\n",
      "k=100: 0.0038799999999999772\n",
      "Avg. Recall\n",
      "k=10: 0.01940274431450902\n",
      "k=50: 0.07291816960559223\n",
      "k=100: 0.11877141388882871\n"
     ]
    }
   ],
   "source": [
    "k_list = [10, 50, 100]\n",
    "print('MAP')\n",
    "for val in k_list:\n",
    "    print('k='+ str(val) +': '+str(mapk_vals_np_wnc[val-1]))\n",
    "print('Avg. Precision')\n",
    "for val in k_list:\n",
    "    print('k='+ str(val) +': '+str(avg_precision_vals_np_wnc[val-1]))\n",
    "print('Avg. Recall')\n",
    "for val in k_list:\n",
    "    print('k='+ str(val) +': '+str(avg_recall_vals_np_wnc[val-1]))"
   ]
  },
  {
   "cell_type": "markdown",
   "metadata": {},
   "source": [
    "### Evaluating Content-Based Recommendations"
   ]
  },
  {
   "cell_type": "code",
   "execution_count": 66,
   "metadata": {},
   "outputs": [],
   "source": [
    "def content_based_multiple_recommendations(n, data, test_dict, test_df, articles_product_code_df, articles_product_type_df):\n",
    "    mapk_list=[]\n",
    "    avg_precision_list=[]\n",
    "    avg_recall_list=[]\n",
    "    for k in range (1, 101):\n",
    "        cust_ids = list(test_dict.keys())\n",
    "        content_based_recs = content_based(n, k, data, cust_ids, articles_product_code_df, articles_product_type_df)\n",
    "\n",
    "        customer_ids = []\n",
    "        recommended_article_ids = []\n",
    "        for rec in content_based_recs:\n",
    "            customer_ids.append(rec)\n",
    "            recommended_article_ids.append(content_based_recs[rec])\n",
    "        content_based_recommendations = pd.DataFrame(zip(customer_ids, recommended_article_ids))\n",
    "        content_based_recommendations.columns = ['customer_id', 'recommended_article_id']\n",
    "\n",
    "        actual_predicted_df = pd.merge(content_based_recommendations, test_df, on='customer_id')\n",
    "\n",
    "        #Creating list of predicted items\n",
    "        predicted_list = actual_predicted_df['recommended_article_id'].to_list()\n",
    "        predicted = []\n",
    "        for p in predicted_list:\n",
    "            p_int=[int(value) for value in p]\n",
    "            predicted.append(p_int)\n",
    "        \n",
    "        #Creating list of actual items bought by the user\n",
    "        articles_list = test_df['article_id'].to_list()\n",
    "        actual = []\n",
    "        for a in articles_list:\n",
    "            arr=a[:-1].split(' ')\n",
    "            arr=[int(value) for value in arr]\n",
    "            actual.append(arr)\n",
    "\n",
    "        \n",
    "        mapk_list.append(mapk(actual, predicted, k))\n",
    "        avg_precision_list.append(avg_precision(actual, predicted))\n",
    "        avg_recall_list.append(avg_recall(actual, predicted))\n",
    "\n",
    "    return mapk_list, avg_precision_list, avg_recall_list\n",
    "        \n"
   ]
  },
  {
   "cell_type": "code",
   "execution_count": 67,
   "metadata": {},
   "outputs": [],
   "source": [
    "mapk_vals_cb, avg_precision_vals_cb, avg_recall_vals_cb = content_based_multiple_recommendations(5, train_dict, test_dict, test_df, art_same_prod_code_dict, art_same_prod_type_dict)"
   ]
  },
  {
   "cell_type": "code",
   "execution_count": 68,
   "metadata": {},
   "outputs": [
    {
     "name": "stdout",
     "output_type": "stream",
     "text": [
      "MAP\n",
      "k=10: 0.017736406840513985\n",
      "k=50: 0.013252271006715041\n",
      "k=100: 0.011942800229707905\n",
      "Avg. Precision\n",
      "k=10: 0.022799999999999997\n",
      "k=50: 0.007179999999999988\n",
      "k=100: 0.00424999999999999\n",
      "Avg. Recall\n",
      "k=10: 0.05921918860293475\n",
      "k=50: 0.09415968283092904\n",
      "k=100: 0.10884242508867129\n"
     ]
    }
   ],
   "source": [
    "k_list = [10, 50, 100]\n",
    "print('MAP')\n",
    "for val in k_list:\n",
    "    print('k='+ str(val) +': '+str(mapk_vals_cb[val-1]))\n",
    "print('Avg. Precision')\n",
    "for val in k_list:\n",
    "    print('k='+ str(val) +': '+str(avg_precision_vals_cb[val-1]))\n",
    "print('Avg. Recall')\n",
    "for val in k_list:\n",
    "    print('k='+ str(val) +': '+str(avg_recall_vals_cb[val-1]))"
   ]
  },
  {
   "cell_type": "code",
   "execution_count": 69,
   "metadata": {},
   "outputs": [],
   "source": [
    "mapk_vals_cb_wnc, avg_precision_vals_cb_wnc, avg_recall_vals_cb_wnc = content_based_multiple_recommendations(5, train_dict, test_dict_without_new_cust, test_df_without_new_cust, art_same_prod_code_dict, art_same_prod_type_dict)"
   ]
  },
  {
   "cell_type": "code",
   "execution_count": 70,
   "metadata": {},
   "outputs": [
    {
     "name": "stdout",
     "output_type": "stream",
     "text": [
      "MAP\n",
      "k=10: 0.01699018424036281\n",
      "k=50: 0.011943443992824319\n",
      "k=100: 0.010514564529859206\n",
      "Avg. Precision\n",
      "k=10: 0.02380000000000001\n",
      "k=50: 0.007479999999999985\n",
      "k=100: 0.004429999999999987\n",
      "Avg. Recall\n",
      "k=10: 0.06101287547162162\n",
      "k=50: 0.0981876520838983\n",
      "k=100: 0.11416743618868244\n"
     ]
    }
   ],
   "source": [
    "k_list = [10, 50, 100]\n",
    "print('MAP')\n",
    "for val in k_list:\n",
    "    print('k='+ str(val) +': '+str(mapk_vals_cb_wnc[val-1]))\n",
    "print('Avg. Precision')\n",
    "for val in k_list:\n",
    "    print('k='+ str(val) +': '+str(avg_precision_vals_cb_wnc[val-1]))\n",
    "print('Avg. Recall')\n",
    "for val in k_list:\n",
    "    print('k='+ str(val) +': '+str(avg_recall_vals_cb_wnc[val-1]))"
   ]
  },
  {
   "cell_type": "markdown",
   "metadata": {},
   "source": [
    "### Evaluating ALS"
   ]
  },
  {
   "cell_type": "code",
   "execution_count": 73,
   "metadata": {},
   "outputs": [],
   "source": [
    "def als_multiple_recommendations(data, test_df, user_item_matrix):\n",
    "    mapk_list=[]\n",
    "    avg_precision_list=[]\n",
    "    avg_recall_list=[]\n",
    "    for k in range (1,101):\n",
    "        cust_list = list(set(test_df['customer_id'].to_list()))\n",
    "        als_recommendations = als_recommend(k, cust_list, data, user_item_matrix)\n",
    "\n",
    "        als_recommendations_df = pd.DataFrame(zip(cust_list, als_recommendations))\n",
    "        als_recommendations_df.columns = ['customer_id', 'recommended_article_id']\n",
    "\n",
    "        actual_predicted_df = pd.merge(als_recommendations_df, test_df, on='customer_id')\n",
    "\n",
    "        #Creating list of predicted items\n",
    "        predicted_list = actual_predicted_df['recommended_article_id'].to_list()\n",
    "        predicted = []\n",
    "        for p in predicted_list:\n",
    "            p_int=[int(value) for value in p]\n",
    "            predicted.append(p_int)\n",
    "        \n",
    "        #Creating list of actual items bought by the user\n",
    "        articles_list = test_df['article_id'].to_list()\n",
    "        actual = []\n",
    "        for a in articles_list:\n",
    "            arr=a[:-1].split(' ')\n",
    "            arr=[int(value) for value in arr]\n",
    "            actual.append(arr)\n",
    "\n",
    "        \n",
    "        mapk_list.append(mapk(actual, predicted, k))\n",
    "        avg_precision_list.append(avg_precision(actual, predicted))\n",
    "        avg_recall_list.append(avg_recall(actual, predicted))\n",
    "\n",
    "    return mapk_list, avg_precision_list, avg_recall_list\n",
    "        \n"
   ]
  },
  {
   "cell_type": "code",
   "execution_count": 74,
   "metadata": {},
   "outputs": [],
   "source": [
    "mapk_vals_als, avg_precision_vals_als, avg_recall_vals_als = als_multiple_recommendations(trans_df, test_df_idx, \n",
    "                                                                                          sparse_user_item_matrix)"
   ]
  },
  {
   "cell_type": "code",
   "execution_count": 75,
   "metadata": {},
   "outputs": [
    {
     "name": "stdout",
     "output_type": "stream",
     "text": [
      "MAP\n",
      "k=10: 0.001153373015873016\n",
      "k=50: 0.0011633719508039948\n",
      "k=100: 0.0013089169753213463\n",
      "Avg. Precision\n",
      "k=10: 0.0007999999999999999\n",
      "k=50: 0.0008000000000000003\n",
      "k=100: 0.0006700000000000003\n",
      "Avg. Recall\n",
      "k=10: 0.0020873015873015873\n",
      "k=50: 0.01055845265845266\n",
      "k=100: 0.019388838938838936\n"
     ]
    }
   ],
   "source": [
    "k_list = [10, 50, 100]\n",
    "print('MAP')\n",
    "for val in k_list:\n",
    "    print('k='+ str(val) +': '+str(mapk_vals_als[val-1]))\n",
    "print('Avg. Precision')\n",
    "for val in k_list:\n",
    "    print('k='+ str(val) +': '+str(avg_precision_vals_als[val-1]))\n",
    "print('Avg. Recall')\n",
    "for val in k_list:\n",
    "    print('k='+ str(val) +': '+str(avg_recall_vals_als[val-1]))"
   ]
  },
  {
   "cell_type": "code",
   "execution_count": 76,
   "metadata": {},
   "outputs": [],
   "source": [
    "mapk_vals_als_wnc, avg_precision_vals_als_wnc, avg_recall_vals_als_wnc = als_multiple_recommendations(trans_df, \n",
    "                                                        test_df_without_new_cust_idx, sparse_user_item_matrix)"
   ]
  },
  {
   "cell_type": "code",
   "execution_count": 77,
   "metadata": {},
   "outputs": [
    {
     "name": "stdout",
     "output_type": "stream",
     "text": [
      "MAP\n",
      "k=10: 0.002767202380952381\n",
      "k=50: 0.003097561468414481\n",
      "k=100: 0.0031633481296707055\n",
      "Avg. Precision\n",
      "k=10: 0.0015000000000000005\n",
      "k=50: 0.0008400000000000004\n",
      "k=100: 0.0006100000000000003\n",
      "Avg. Recall\n",
      "k=10: 0.004422023809523809\n",
      "k=50: 0.012307986866075099\n",
      "k=100: 0.016590742998831228\n"
     ]
    }
   ],
   "source": [
    "k_list = [10, 50, 100]\n",
    "print('MAP')\n",
    "for val in k_list:\n",
    "    print('k='+ str(val) +': '+str(mapk_vals_als_wnc[val-1]))\n",
    "print('Avg. Precision')\n",
    "for val in k_list:\n",
    "    print('k='+ str(val) +': '+str(avg_precision_vals_als_wnc[val-1]))\n",
    "print('Avg. Recall')\n",
    "for val in k_list:\n",
    "    print('k='+ str(val) +': '+str(avg_recall_vals_als_wnc[val-1]))"
   ]
  },
  {
   "cell_type": "markdown",
   "metadata": {},
   "source": [
    "### Evaluating Hybrid Recommendations"
   ]
  },
  {
   "cell_type": "code",
   "execution_count": 78,
   "metadata": {},
   "outputs": [],
   "source": [
    "def hybrid_multiple_recommendations(filtered_train_data, train_df, trans_df, test_df, articles_product_code_df, \n",
    "                                    articles_product_type_df, user_item_matrix):\n",
    "    mapk_list=[]\n",
    "    avg_precision_list=[]\n",
    "    avg_recall_list=[]\n",
    "    for k in range (1,101):\n",
    "        cust_list = list(set(test_df['customer_id'].to_list()))\n",
    "        hybrid_recommendations = hybrid_recommendation(k, cust_list, filtered_train_data, train_df, trans_df, \n",
    "                                                articles_product_code_df, articles_product_type_df, user_item_matrix)\n",
    "        \n",
    "        hybrid_recommendations_df = pd.DataFrame(zip(cust_list, hybrid_recommendations))\n",
    "        hybrid_recommendations_df.columns = ['customer_id', 'recommended_article_id']\n",
    "\n",
    "        actual_predicted_df = pd.merge(hybrid_recommendations_df, test_df, on='customer_id')\n",
    "\n",
    "        #Creating list of predicted items\n",
    "        predicted_list = actual_predicted_df['recommended_article_id'].to_list()\n",
    "        predicted = []\n",
    "        for p in predicted_list:\n",
    "            p_int=[int(value) for value in p]\n",
    "            predicted.append(p_int)\n",
    "        \n",
    "        #Creating list of actual items bought by the user\n",
    "        articles_list = test_df['article_id'].to_list()\n",
    "        actual = []\n",
    "        for a in articles_list:\n",
    "            arr=a[:-1].split(' ')\n",
    "            arr=[int(value) for value in arr]\n",
    "            actual.append(arr)\n",
    "\n",
    "        \n",
    "        mapk_list.append(mapk(actual, predicted, k))\n",
    "        avg_precision_list.append(avg_precision(actual, predicted))\n",
    "        avg_recall_list.append(avg_recall(actual, predicted))\n",
    "\n",
    "    return mapk_list, avg_precision_list, avg_recall_list"
   ]
  },
  {
   "cell_type": "code",
   "execution_count": 84,
   "metadata": {},
   "outputs": [],
   "source": [
    "mapk_vals_hyb, avg_precision_vals_hyb, avg_recall_vals_hyb = hybrid_multiple_recommendations(filtered_train_data, \n",
    "                                                        train_dict, trans_df, test_df_idx, art_same_prod_code_dict, \n",
    "                                                        art_same_prod_type_dict, sparse_user_item_matrix)"
   ]
  },
  {
   "cell_type": "code",
   "execution_count": 85,
   "metadata": {},
   "outputs": [
    {
     "name": "stdout",
     "output_type": "stream",
     "text": [
      "MAP\n",
      "k=10: 0.005742658730158731\n",
      "k=50: 0.008317375713191808\n",
      "k=100: 0.009301928486935646\n",
      "Avg. Precision\n",
      "k=10: 0.003600000000000002\n",
      "k=50: 0.002520000000000002\n",
      "k=100: 0.0021300000000000004\n",
      "Avg. Recall\n",
      "k=10: 0.010250490196078432\n",
      "k=50: 0.03305635916371208\n",
      "k=100: 0.059947487917998844\n"
     ]
    }
   ],
   "source": [
    "k_list = [10, 50, 100]\n",
    "print('MAP')\n",
    "for val in k_list:\n",
    "    print('k='+ str(val) +': '+str(mapk_vals_hyb[val-1]))\n",
    "print('Avg. Precision')\n",
    "for val in k_list:\n",
    "    print('k='+ str(val) +': '+str(avg_precision_vals_hyb[val-1]))\n",
    "print('Avg. Recall')\n",
    "for val in k_list:\n",
    "    print('k='+ str(val) +': '+str(avg_recall_vals_hyb[val-1]))"
   ]
  },
  {
   "cell_type": "code",
   "execution_count": 88,
   "metadata": {},
   "outputs": [],
   "source": [
    "mapk_vals_hyb_wnc, avg_precision_vals_hyb_wnc, avg_recall_vals_hyb_wnc=hybrid_multiple_recommendations(filtered_train_data,\n",
    "                                            train_dict, trans_df, test_df_without_new_cust_idx, art_same_prod_code_dict, \n",
    "                                                art_same_prod_type_dict, sparse_user_item_matrix)"
   ]
  },
  {
   "cell_type": "code",
   "execution_count": 89,
   "metadata": {},
   "outputs": [
    {
     "name": "stdout",
     "output_type": "stream",
     "text": [
      "MAP\n",
      "k=10: 0.006027054988662132\n",
      "k=50: 0.00821434265257551\n",
      "k=100: 0.009259014963488564\n",
      "Avg. Precision\n",
      "k=10: 0.0038000000000000013\n",
      "k=50: 0.002500000000000002\n",
      "k=100: 0.00215\n",
      "Avg. Recall\n",
      "k=10: 0.011469140989729227\n",
      "k=50: 0.034939364638629344\n",
      "k=100: 0.06330428071670337\n"
     ]
    }
   ],
   "source": [
    "k_list = [10, 50, 100]\n",
    "print('MAP')\n",
    "for val in k_list:\n",
    "    print('k='+ str(val) +': '+str(mapk_vals_hyb_wnc[val-1]))\n",
    "print('Avg. Precision')\n",
    "for val in k_list:\n",
    "    print('k='+ str(val) +': '+str(avg_precision_vals_hyb_wnc[val-1]))\n",
    "print('Avg. Recall')\n",
    "for val in k_list:\n",
    "    print('k='+ str(val) +': '+str(avg_recall_vals_hyb_wnc[val-1]))"
   ]
  },
  {
   "cell_type": "code",
   "execution_count": null,
   "metadata": {},
   "outputs": [],
   "source": []
  },
  {
   "cell_type": "code",
   "execution_count": 90,
   "metadata": {},
   "outputs": [
    {
     "data": {
      "image/png": "[encoded data removed]",
      "text/plain": [
       "<Figure size 1000x1000 with 1 Axes>"
      ]
     },
     "metadata": {},
     "output_type": "display_data"
    }
   ],
   "source": [
    "fig, ax1 = plt.subplots(figsize=(10,10))\n",
    "plt.plot(mapk_vals_np, 'deepskyblue', label = 'non-personalised')\n",
    "plt.plot(mapk_vals_cb, 'coral', label = 'content-based')\n",
    "plt.plot(mapk_vals_als, 'purple', label = 'als')\n",
    "plt.plot(mapk_vals_hyb, 'green', label = 'hybrid')\n",
    "plt.legend(loc = 'upper right')\n",
    "plt.xlabel('Number of recommendations generated')\n",
    "plt.ylabel('MAP')\n",
    "plt.title('MAP values for different number of recommendations generated')\n",
    "plt.show()"
   ]
  },
  {
   "cell_type": "code",
   "execution_count": 91,
   "metadata": {},
   "outputs": [
    {
     "data": {
      "image/png": "[encoded data removed]",
      "text/plain": [
       "<Figure size 1000x1000 with 1 Axes>"
      ]
     },
     "metadata": {},
     "output_type": "display_data"
    }
   ],
   "source": [
    "fig, ax1 = plt.subplots(figsize=(10,10))\n",
    "plt.plot(avg_precision_vals_np, 'deepskyblue', label = 'non-personalised')\n",
    "plt.plot(avg_precision_vals_cb, 'coral', label = 'content-based')\n",
    "plt.plot(avg_precision_vals_als, 'purple', label = 'als')\n",
    "plt.plot(avg_precision_vals_hyb, 'green', label = 'hybrid')\n",
    "plt.legend(loc = 'upper right')\n",
    "plt.xlabel('Number of recommendations generated')\n",
    "plt.ylabel('Average Precision')\n",
    "plt.title('Average Precision values for different number of recommendations generated')\n",
    "plt.show()"
   ]
  },
  {
   "cell_type": "code",
   "execution_count": 92,
   "metadata": {},
   "outputs": [
    {
     "data": {
      "image/png": "[encoded data removed]",
      "text/plain": [
       "<Figure size 1000x1000 with 1 Axes>"
      ]
     },
     "metadata": {},
     "output_type": "display_data"
    }
   ],
   "source": [
    "fig, ax1 = plt.subplots(figsize=(10,10))\n",
    "plt.plot(avg_recall_vals_np, 'deepskyblue', label = 'non-personalised')\n",
    "plt.plot(avg_recall_vals_cb, 'coral', label = 'content-based')\n",
    "plt.plot(avg_recall_vals_als, 'purple', label = 'als')\n",
    "plt.plot(avg_recall_vals_hyb, 'green', label = 'hybrid')\n",
    "plt.legend(loc = 'upper right')\n",
    "plt.xlabel('Number of recommendations generated')\n",
    "plt.ylabel('Average Recall')\n",
    "plt.title('Average Recall values for different number of recommendations generated')\n",
    "plt.show()"
   ]
  },
  {
   "cell_type": "code",
   "execution_count": 93,
   "metadata": {},
   "outputs": [
    {
     "data": {
      "image/png": "[encoded data removed]",
      "text/plain": [
       "<Figure size 1000x1000 with 1 Axes>"
      ]
     },
     "metadata": {},
     "output_type": "display_data"
    }
   ],
   "source": [
    "fig, ax1 = plt.subplots(figsize=(10,10))\n",
    "plt.plot(mapk_vals_np_wnc, 'deepskyblue', label = 'non-personalised')\n",
    "plt.plot(mapk_vals_cb_wnc, 'coral', label = 'content-based')\n",
    "plt.plot(mapk_vals_als_wnc, 'purple', label = 'als')\n",
    "plt.plot(mapk_vals_hyb_wnc, 'green', label = 'hybrid')\n",
    "plt.legend(loc = 'upper right')\n",
    "plt.xlabel('Number of recommendations generated')\n",
    "plt.ylabel('MAP')\n",
    "plt.title('MAP values for different number of recommendations generated')\n",
    "plt.show()"
   ]
  },
  {
   "cell_type": "code",
   "execution_count": 94,
   "metadata": {},
   "outputs": [
    {
     "data": {
      "image/png": "[encoded data removed]",
      "text/plain": [
       "<Figure size 1000x1000 with 1 Axes>"
      ]
     },
     "metadata": {},
     "output_type": "display_data"
    }
   ],
   "source": [
    "fig, ax1 = plt.subplots(figsize=(10,10))\n",
    "plt.plot(avg_precision_vals_np_wnc, 'deepskyblue', label = 'non-personalised')\n",
    "plt.plot(avg_precision_vals_cb_wnc, 'coral', label = 'content-based')\n",
    "plt.plot(avg_precision_vals_als_wnc, 'purple', label = 'als')\n",
    "plt.plot(avg_precision_vals_hyb_wnc, 'green', label = 'hybrid')\n",
    "plt.legend(loc = 'upper right')\n",
    "plt.xlabel('Number of recommendations generated')\n",
    "plt.ylabel('Average Precision')\n",
    "plt.title('Average Precision values for different number of recommendations generated')\n",
    "plt.show()"
   ]
  },
  {
   "cell_type": "code",
   "execution_count": 95,
   "metadata": {},
   "outputs": [
    {
     "data": {
      "image/png": "[encoded data removed]",
      "text/plain": [
       "<Figure size 1000x1000 with 1 Axes>"
      ]
     },
     "metadata": {},
     "output_type": "display_data"
    }
   ],
   "source": [
    "fig, ax1 = plt.subplots(figsize=(10,10))\n",
    "plt.plot(avg_recall_vals_np_wnc, 'deepskyblue', label = 'non-personalised')\n",
    "plt.plot(avg_recall_vals_cb_wnc, 'coral', label = 'content-based')\n",
    "plt.plot(avg_recall_vals_als_wnc, 'purple', label = 'als')\n",
    "plt.plot(avg_recall_vals_hyb_wnc, 'green', label = 'hybrid')\n",
    "plt.legend(loc = 'upper right')\n",
    "plt.xlabel('Number of recommendations generated')\n",
    "plt.ylabel('Average Recall')\n",
    "plt.title('Average Recall values for different number of recommendations generated')\n",
    "plt.show()"
   ]
  },
  {
   "cell_type": "code",
   "execution_count": null,
   "metadata": {},
   "outputs": [],
   "source": []
  },
  {
   "cell_type": "code",
   "execution_count": null,
   "metadata": {},
   "outputs": [],
   "source": []
  }
 ],
 "metadata": {
  "kernelspec": {
   "display_name": "Python 3 (ipykernel)",
   "language": "python",
   "name": "python3"
  },
  "language_info": {
   "codemirror_mode": {
    "name": "ipython",
    "version": 3
   },
   "file_extension": ".py",
   "mimetype": "text/x-python",
   "name": "python",
   "nbconvert_exporter": "python",
   "pygments_lexer": "ipython3",
   "version": "3.9.7"
  },
  "vscode": {
   "interpreter": {
    "hash": "c9a3209b8883289a5e3d9d7bae4c155e09ac59603a5ebd86c8fd85cbafbad6e2"
   }
  }
 },
 "nbformat": 4,
 "nbformat_minor": 2
}
